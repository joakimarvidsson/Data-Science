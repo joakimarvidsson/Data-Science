{
 "cells": [
  {
   "cell_type": "markdown",
   "id": "4ecf089a",
   "metadata": {
    "papermill": {
     "duration": 0.026303,
     "end_time": "2022-11-05T14:35:31.873507",
     "exception": false,
     "start_time": "2022-11-05T14:35:31.847204",
     "status": "completed"
    },
    "tags": []
   },
   "source": [
    "# Stack Overflow Annual Developer Survey 2020"
   ]
  },
  {
   "cell_type": "markdown",
   "id": "2aaa323c",
   "metadata": {
    "papermill": {
     "duration": 0.021447,
     "end_time": "2022-11-05T14:35:31.916913",
     "exception": false,
     "start_time": "2022-11-05T14:35:31.895466",
     "status": "completed"
    },
    "tags": []
   },
   "source": [
    "\n",
    "\n",
    "*Analyzing responses from the Stack Overflow Annual Developer Survey 2020*\n",
    "\n",
    "The following topics are covered in this tutorial:\n",
    "\n",
    "- Selecting and downloading a dataset\n",
    "- Data preparation and cleaning\n",
    "- Exploratory analysis and visualization\n",
    "- Asking and answering interesting questions\n",
    "- Summarizing inferences and drawing conclusions"
   ]
  },
  {
   "cell_type": "markdown",
   "id": "8748043e",
   "metadata": {
    "papermill": {
     "duration": 0.021405,
     "end_time": "2022-11-05T14:35:31.959955",
     "exception": false,
     "start_time": "2022-11-05T14:35:31.938550",
     "status": "completed"
    },
    "tags": []
   },
   "source": [
    "## Introduction\n",
    "\n",
    "In this tutorial, we'll analyze the StackOverflow developer survey dataset. The dataset contains responses to an annual survey conducted by StackOverflow. You can find the raw data & official analysis here: https://insights.stackoverflow.com/survey.\n",
    "\n",
    "There are several options for getting the dataset into Jupyter:\n",
    "\n",
    "- Download the CSV manually and upload it via Jupyter's GUI\n",
    "- Use the `urlretrieve` function from the `urllib.request` to download CSV files from a raw URL\n",
    "- Use a helper library, e.g., [`opendatasets`](https://github.com/JovianML/opendatasets), which contains a collection of curated datasets and provides a helper function for direct download.\n",
    "\n",
    "We'll use the `opendatasets` helper library to download the files."
   ]
  },
  {
   "cell_type": "code",
   "execution_count": 1,
   "id": "93900f0c",
   "metadata": {
    "execution": {
     "iopub.execute_input": "2022-11-05T14:35:32.005783Z",
     "iopub.status.busy": "2022-11-05T14:35:32.005127Z",
     "iopub.status.idle": "2022-11-05T14:35:45.016365Z",
     "shell.execute_reply": "2022-11-05T14:35:45.015102Z"
    },
    "papermill": {
     "duration": 13.038007,
     "end_time": "2022-11-05T14:35:45.019556",
     "exception": false,
     "start_time": "2022-11-05T14:35:31.981549",
     "status": "completed"
    },
    "tags": []
   },
   "outputs": [
    {
     "name": "stdout",
     "output_type": "stream",
     "text": [
      "Collecting opendatasets\r\n",
      "  Downloading opendatasets-0.1.22-py3-none-any.whl (15 kB)\r\n",
      "Requirement already satisfied: click in /opt/conda/lib/python3.7/site-packages (from opendatasets) (8.0.4)\r\n",
      "Requirement already satisfied: kaggle in /opt/conda/lib/python3.7/site-packages (from opendatasets) (1.5.12)\r\n",
      "Requirement already satisfied: tqdm in /opt/conda/lib/python3.7/site-packages (from opendatasets) (4.64.0)\r\n",
      "Requirement already satisfied: importlib-metadata in /opt/conda/lib/python3.7/site-packages (from click->opendatasets) (4.13.0)\r\n",
      "Requirement already satisfied: certifi in /opt/conda/lib/python3.7/site-packages (from kaggle->opendatasets) (2022.9.24)\r\n",
      "Requirement already satisfied: requests in /opt/conda/lib/python3.7/site-packages (from kaggle->opendatasets) (2.28.1)\r\n",
      "Requirement already satisfied: six>=1.10 in /opt/conda/lib/python3.7/site-packages (from kaggle->opendatasets) (1.15.0)\r\n",
      "Requirement already satisfied: python-dateutil in /opt/conda/lib/python3.7/site-packages (from kaggle->opendatasets) (2.8.2)\r\n",
      "Requirement already satisfied: python-slugify in /opt/conda/lib/python3.7/site-packages (from kaggle->opendatasets) (6.1.2)\r\n",
      "Requirement already satisfied: urllib3 in /opt/conda/lib/python3.7/site-packages (from kaggle->opendatasets) (1.26.12)\r\n",
      "Requirement already satisfied: zipp>=0.5 in /opt/conda/lib/python3.7/site-packages (from importlib-metadata->click->opendatasets) (3.8.0)\r\n",
      "Requirement already satisfied: typing-extensions>=3.6.4 in /opt/conda/lib/python3.7/site-packages (from importlib-metadata->click->opendatasets) (4.4.0)\r\n",
      "Requirement already satisfied: text-unidecode>=1.3 in /opt/conda/lib/python3.7/site-packages (from python-slugify->kaggle->opendatasets) (1.3)\r\n",
      "Requirement already satisfied: charset-normalizer<3,>=2 in /opt/conda/lib/python3.7/site-packages (from requests->kaggle->opendatasets) (2.1.0)\r\n",
      "Requirement already satisfied: idna<4,>=2.5 in /opt/conda/lib/python3.7/site-packages (from requests->kaggle->opendatasets) (3.3)\r\n",
      "Installing collected packages: opendatasets\r\n",
      "Successfully installed opendatasets-0.1.22\r\n",
      "\u001b[33mWARNING: Running pip as the 'root' user can result in broken permissions and conflicting behaviour with the system package manager. It is recommended to use a virtual environment instead: https://pip.pypa.io/warnings/venv\u001b[0m\u001b[33m\r\n",
      "\u001b[0m"
     ]
    }
   ],
   "source": [
    "!pip install opendatasets"
   ]
  },
  {
   "cell_type": "code",
   "execution_count": 2,
   "id": "f8322569",
   "metadata": {
    "execution": {
     "iopub.execute_input": "2022-11-05T14:35:45.066703Z",
     "iopub.status.busy": "2022-11-05T14:35:45.066272Z",
     "iopub.status.idle": "2022-11-05T14:35:45.098354Z",
     "shell.execute_reply": "2022-11-05T14:35:45.097366Z"
    },
    "papermill": {
     "duration": 0.058932,
     "end_time": "2022-11-05T14:35:45.101027",
     "exception": false,
     "start_time": "2022-11-05T14:35:45.042095",
     "status": "completed"
    },
    "tags": []
   },
   "outputs": [],
   "source": [
    "import opendatasets as od"
   ]
  },
  {
   "cell_type": "code",
   "execution_count": 3,
   "id": "0168ea2c",
   "metadata": {
    "execution": {
     "iopub.execute_input": "2022-11-05T14:35:45.147899Z",
     "iopub.status.busy": "2022-11-05T14:35:45.147517Z",
     "iopub.status.idle": "2022-11-05T14:35:46.414837Z",
     "shell.execute_reply": "2022-11-05T14:35:46.413396Z"
    },
    "papermill": {
     "duration": 1.293319,
     "end_time": "2022-11-05T14:35:46.417135",
     "exception": false,
     "start_time": "2022-11-05T14:35:45.123816",
     "status": "completed"
    },
    "tags": []
   },
   "outputs": [
    {
     "name": "stdout",
     "output_type": "stream",
     "text": [
      "Downloading https://raw.githubusercontent.com/JovianML/opendatasets/master/data/stackoverflow-developer-survey-2020/survey_results_public.csv to ./stackoverflow-developer-survey-2020/survey_results_public.csv\n"
     ]
    },
    {
     "name": "stderr",
     "output_type": "stream",
     "text": [
      "94609408it [00:00, 128611748.63it/s]                              \n"
     ]
    },
    {
     "name": "stdout",
     "output_type": "stream",
     "text": [
      "Downloading https://raw.githubusercontent.com/JovianML/opendatasets/master/data/stackoverflow-developer-survey-2020/survey_results_schema.csv to ./stackoverflow-developer-survey-2020/survey_results_schema.csv\n"
     ]
    },
    {
     "name": "stderr",
     "output_type": "stream",
     "text": [
      "16384it [00:00, 61396.20it/s]           \n"
     ]
    },
    {
     "name": "stdout",
     "output_type": "stream",
     "text": [
      "Downloading https://raw.githubusercontent.com/JovianML/opendatasets/master/data/stackoverflow-developer-survey-2020/README.txt to ./stackoverflow-developer-survey-2020/README.txt\n"
     ]
    },
    {
     "name": "stderr",
     "output_type": "stream",
     "text": [
      "8192it [00:00, 34422.42it/s]            \n"
     ]
    }
   ],
   "source": [
    "od.download('stackoverflow-developer-survey-2020')"
   ]
  },
  {
   "cell_type": "markdown",
   "id": "48f4785d",
   "metadata": {
    "papermill": {
     "duration": 0.023044,
     "end_time": "2022-11-05T14:35:46.463947",
     "exception": false,
     "start_time": "2022-11-05T14:35:46.440903",
     "status": "completed"
    },
    "tags": []
   },
   "source": [
    "Let's verify that the dataset was downloaded into the directory `stackoverflow-developer-survey-2020` and retrieve the list of files in the dataset."
   ]
  },
  {
   "cell_type": "code",
   "execution_count": 4,
   "id": "98630cde",
   "metadata": {
    "execution": {
     "iopub.execute_input": "2022-11-05T14:35:46.512633Z",
     "iopub.status.busy": "2022-11-05T14:35:46.512224Z",
     "iopub.status.idle": "2022-11-05T14:35:46.516164Z",
     "shell.execute_reply": "2022-11-05T14:35:46.515389Z"
    },
    "papermill": {
     "duration": 0.030849,
     "end_time": "2022-11-05T14:35:46.518183",
     "exception": false,
     "start_time": "2022-11-05T14:35:46.487334",
     "status": "completed"
    },
    "tags": []
   },
   "outputs": [],
   "source": [
    "import os"
   ]
  },
  {
   "cell_type": "code",
   "execution_count": 5,
   "id": "9ce181a3",
   "metadata": {
    "execution": {
     "iopub.execute_input": "2022-11-05T14:35:46.567266Z",
     "iopub.status.busy": "2022-11-05T14:35:46.566462Z",
     "iopub.status.idle": "2022-11-05T14:35:46.576615Z",
     "shell.execute_reply": "2022-11-05T14:35:46.575559Z"
    },
    "papermill": {
     "duration": 0.037455,
     "end_time": "2022-11-05T14:35:46.579237",
     "exception": false,
     "start_time": "2022-11-05T14:35:46.541782",
     "status": "completed"
    },
    "scrolled": true,
    "tags": []
   },
   "outputs": [
    {
     "data": {
      "text/plain": [
       "['survey_results_schema.csv', 'README.txt', 'survey_results_public.csv']"
      ]
     },
     "execution_count": 5,
     "metadata": {},
     "output_type": "execute_result"
    }
   ],
   "source": [
    "os.listdir('stackoverflow-developer-survey-2020')"
   ]
  },
  {
   "cell_type": "markdown",
   "id": "5586ff27",
   "metadata": {
    "papermill": {
     "duration": 0.023788,
     "end_time": "2022-11-05T14:35:46.627006",
     "exception": false,
     "start_time": "2022-11-05T14:35:46.603218",
     "status": "completed"
    },
    "tags": []
   },
   "source": [
    "You can through the downloaded files using the \"File\" > \"Open\" menu option in Jupyter. It seems like the dataset contains three files:\n",
    "\n",
    "- `README.txt` - Information about the dataset\n",
    "- `survey_results_schema.csv` - The list of questions, and shortcodes for each question\n",
    "- `survey_results_public.csv` - The full list of responses to the questions \n",
    "\n",
    "Let's load the CSV files using the Pandas library. We'll use the name `survey_raw_df` for the data frame to indicate this is unprocessed data that we might clean, filter, and modify to prepare a data frame ready for analysis."
   ]
  },
  {
   "cell_type": "code",
   "execution_count": 6,
   "id": "c4f125d4",
   "metadata": {
    "execution": {
     "iopub.execute_input": "2022-11-05T14:35:46.676302Z",
     "iopub.status.busy": "2022-11-05T14:35:46.675904Z",
     "iopub.status.idle": "2022-11-05T14:35:46.681231Z",
     "shell.execute_reply": "2022-11-05T14:35:46.680126Z"
    },
    "papermill": {
     "duration": 0.032739,
     "end_time": "2022-11-05T14:35:46.683471",
     "exception": false,
     "start_time": "2022-11-05T14:35:46.650732",
     "status": "completed"
    },
    "tags": []
   },
   "outputs": [],
   "source": [
    "import pandas as pd"
   ]
  },
  {
   "cell_type": "code",
   "execution_count": 7,
   "id": "f7032aa7",
   "metadata": {
    "execution": {
     "iopub.execute_input": "2022-11-05T14:35:46.733348Z",
     "iopub.status.busy": "2022-11-05T14:35:46.732583Z",
     "iopub.status.idle": "2022-11-05T14:35:48.238720Z",
     "shell.execute_reply": "2022-11-05T14:35:48.237662Z"
    },
    "papermill": {
     "duration": 1.533714,
     "end_time": "2022-11-05T14:35:48.241473",
     "exception": false,
     "start_time": "2022-11-05T14:35:46.707759",
     "status": "completed"
    },
    "tags": []
   },
   "outputs": [],
   "source": [
    "survey_raw_df = pd.read_csv('stackoverflow-developer-survey-2020/survey_results_public.csv')"
   ]
  },
  {
   "cell_type": "code",
   "execution_count": 8,
   "id": "b99c1662",
   "metadata": {
    "execution": {
     "iopub.execute_input": "2022-11-05T14:35:48.290962Z",
     "iopub.status.busy": "2022-11-05T14:35:48.290537Z",
     "iopub.status.idle": "2022-11-05T14:35:48.387905Z",
     "shell.execute_reply": "2022-11-05T14:35:48.386788Z"
    },
    "papermill": {
     "duration": 0.125368,
     "end_time": "2022-11-05T14:35:48.390568",
     "exception": false,
     "start_time": "2022-11-05T14:35:48.265200",
     "status": "completed"
    },
    "tags": []
   },
   "outputs": [
    {
     "data": {
      "text/html": [
       "<div>\n",
       "<style scoped>\n",
       "    .dataframe tbody tr th:only-of-type {\n",
       "        vertical-align: middle;\n",
       "    }\n",
       "\n",
       "    .dataframe tbody tr th {\n",
       "        vertical-align: top;\n",
       "    }\n",
       "\n",
       "    .dataframe thead th {\n",
       "        text-align: right;\n",
       "    }\n",
       "</style>\n",
       "<table border=\"1\" class=\"dataframe\">\n",
       "  <thead>\n",
       "    <tr style=\"text-align: right;\">\n",
       "      <th></th>\n",
       "      <th>Respondent</th>\n",
       "      <th>MainBranch</th>\n",
       "      <th>Hobbyist</th>\n",
       "      <th>Age</th>\n",
       "      <th>Age1stCode</th>\n",
       "      <th>CompFreq</th>\n",
       "      <th>CompTotal</th>\n",
       "      <th>ConvertedComp</th>\n",
       "      <th>Country</th>\n",
       "      <th>CurrencyDesc</th>\n",
       "      <th>...</th>\n",
       "      <th>SurveyEase</th>\n",
       "      <th>SurveyLength</th>\n",
       "      <th>Trans</th>\n",
       "      <th>UndergradMajor</th>\n",
       "      <th>WebframeDesireNextYear</th>\n",
       "      <th>WebframeWorkedWith</th>\n",
       "      <th>WelcomeChange</th>\n",
       "      <th>WorkWeekHrs</th>\n",
       "      <th>YearsCode</th>\n",
       "      <th>YearsCodePro</th>\n",
       "    </tr>\n",
       "  </thead>\n",
       "  <tbody>\n",
       "    <tr>\n",
       "      <th>0</th>\n",
       "      <td>1</td>\n",
       "      <td>I am a developer by profession</td>\n",
       "      <td>Yes</td>\n",
       "      <td>NaN</td>\n",
       "      <td>13</td>\n",
       "      <td>Monthly</td>\n",
       "      <td>NaN</td>\n",
       "      <td>NaN</td>\n",
       "      <td>Germany</td>\n",
       "      <td>European Euro</td>\n",
       "      <td>...</td>\n",
       "      <td>Neither easy nor difficult</td>\n",
       "      <td>Appropriate in length</td>\n",
       "      <td>No</td>\n",
       "      <td>Computer science, computer engineering, or sof...</td>\n",
       "      <td>ASP.NET Core</td>\n",
       "      <td>ASP.NET;ASP.NET Core</td>\n",
       "      <td>Just as welcome now as I felt last year</td>\n",
       "      <td>50.0</td>\n",
       "      <td>36</td>\n",
       "      <td>27</td>\n",
       "    </tr>\n",
       "    <tr>\n",
       "      <th>1</th>\n",
       "      <td>2</td>\n",
       "      <td>I am a developer by profession</td>\n",
       "      <td>No</td>\n",
       "      <td>NaN</td>\n",
       "      <td>19</td>\n",
       "      <td>NaN</td>\n",
       "      <td>NaN</td>\n",
       "      <td>NaN</td>\n",
       "      <td>United Kingdom</td>\n",
       "      <td>Pound sterling</td>\n",
       "      <td>...</td>\n",
       "      <td>NaN</td>\n",
       "      <td>NaN</td>\n",
       "      <td>NaN</td>\n",
       "      <td>Computer science, computer engineering, or sof...</td>\n",
       "      <td>NaN</td>\n",
       "      <td>NaN</td>\n",
       "      <td>Somewhat more welcome now than last year</td>\n",
       "      <td>NaN</td>\n",
       "      <td>7</td>\n",
       "      <td>4</td>\n",
       "    </tr>\n",
       "    <tr>\n",
       "      <th>2</th>\n",
       "      <td>3</td>\n",
       "      <td>I code primarily as a hobby</td>\n",
       "      <td>Yes</td>\n",
       "      <td>NaN</td>\n",
       "      <td>15</td>\n",
       "      <td>NaN</td>\n",
       "      <td>NaN</td>\n",
       "      <td>NaN</td>\n",
       "      <td>Russian Federation</td>\n",
       "      <td>NaN</td>\n",
       "      <td>...</td>\n",
       "      <td>Neither easy nor difficult</td>\n",
       "      <td>Appropriate in length</td>\n",
       "      <td>NaN</td>\n",
       "      <td>NaN</td>\n",
       "      <td>NaN</td>\n",
       "      <td>NaN</td>\n",
       "      <td>Somewhat more welcome now than last year</td>\n",
       "      <td>NaN</td>\n",
       "      <td>4</td>\n",
       "      <td>NaN</td>\n",
       "    </tr>\n",
       "    <tr>\n",
       "      <th>3</th>\n",
       "      <td>4</td>\n",
       "      <td>I am a developer by profession</td>\n",
       "      <td>Yes</td>\n",
       "      <td>25.0</td>\n",
       "      <td>18</td>\n",
       "      <td>NaN</td>\n",
       "      <td>NaN</td>\n",
       "      <td>NaN</td>\n",
       "      <td>Albania</td>\n",
       "      <td>Albanian lek</td>\n",
       "      <td>...</td>\n",
       "      <td>NaN</td>\n",
       "      <td>NaN</td>\n",
       "      <td>No</td>\n",
       "      <td>Computer science, computer engineering, or sof...</td>\n",
       "      <td>NaN</td>\n",
       "      <td>NaN</td>\n",
       "      <td>Somewhat less welcome now than last year</td>\n",
       "      <td>40.0</td>\n",
       "      <td>7</td>\n",
       "      <td>4</td>\n",
       "    </tr>\n",
       "    <tr>\n",
       "      <th>4</th>\n",
       "      <td>5</td>\n",
       "      <td>I used to be a developer by profession, but no...</td>\n",
       "      <td>Yes</td>\n",
       "      <td>31.0</td>\n",
       "      <td>16</td>\n",
       "      <td>NaN</td>\n",
       "      <td>NaN</td>\n",
       "      <td>NaN</td>\n",
       "      <td>United States</td>\n",
       "      <td>NaN</td>\n",
       "      <td>...</td>\n",
       "      <td>Easy</td>\n",
       "      <td>Too short</td>\n",
       "      <td>No</td>\n",
       "      <td>Computer science, computer engineering, or sof...</td>\n",
       "      <td>Django;Ruby on Rails</td>\n",
       "      <td>Ruby on Rails</td>\n",
       "      <td>Just as welcome now as I felt last year</td>\n",
       "      <td>NaN</td>\n",
       "      <td>15</td>\n",
       "      <td>8</td>\n",
       "    </tr>\n",
       "    <tr>\n",
       "      <th>...</th>\n",
       "      <td>...</td>\n",
       "      <td>...</td>\n",
       "      <td>...</td>\n",
       "      <td>...</td>\n",
       "      <td>...</td>\n",
       "      <td>...</td>\n",
       "      <td>...</td>\n",
       "      <td>...</td>\n",
       "      <td>...</td>\n",
       "      <td>...</td>\n",
       "      <td>...</td>\n",
       "      <td>...</td>\n",
       "      <td>...</td>\n",
       "      <td>...</td>\n",
       "      <td>...</td>\n",
       "      <td>...</td>\n",
       "      <td>...</td>\n",
       "      <td>...</td>\n",
       "      <td>...</td>\n",
       "      <td>...</td>\n",
       "      <td>...</td>\n",
       "    </tr>\n",
       "    <tr>\n",
       "      <th>64456</th>\n",
       "      <td>64858</td>\n",
       "      <td>NaN</td>\n",
       "      <td>Yes</td>\n",
       "      <td>NaN</td>\n",
       "      <td>16</td>\n",
       "      <td>NaN</td>\n",
       "      <td>NaN</td>\n",
       "      <td>NaN</td>\n",
       "      <td>United States</td>\n",
       "      <td>NaN</td>\n",
       "      <td>...</td>\n",
       "      <td>NaN</td>\n",
       "      <td>NaN</td>\n",
       "      <td>NaN</td>\n",
       "      <td>Computer science, computer engineering, or sof...</td>\n",
       "      <td>NaN</td>\n",
       "      <td>NaN</td>\n",
       "      <td>NaN</td>\n",
       "      <td>NaN</td>\n",
       "      <td>10</td>\n",
       "      <td>Less than 1 year</td>\n",
       "    </tr>\n",
       "    <tr>\n",
       "      <th>64457</th>\n",
       "      <td>64867</td>\n",
       "      <td>NaN</td>\n",
       "      <td>Yes</td>\n",
       "      <td>NaN</td>\n",
       "      <td>NaN</td>\n",
       "      <td>NaN</td>\n",
       "      <td>NaN</td>\n",
       "      <td>NaN</td>\n",
       "      <td>Morocco</td>\n",
       "      <td>NaN</td>\n",
       "      <td>...</td>\n",
       "      <td>NaN</td>\n",
       "      <td>NaN</td>\n",
       "      <td>NaN</td>\n",
       "      <td>NaN</td>\n",
       "      <td>NaN</td>\n",
       "      <td>NaN</td>\n",
       "      <td>NaN</td>\n",
       "      <td>NaN</td>\n",
       "      <td>NaN</td>\n",
       "      <td>NaN</td>\n",
       "    </tr>\n",
       "    <tr>\n",
       "      <th>64458</th>\n",
       "      <td>64898</td>\n",
       "      <td>NaN</td>\n",
       "      <td>Yes</td>\n",
       "      <td>NaN</td>\n",
       "      <td>NaN</td>\n",
       "      <td>NaN</td>\n",
       "      <td>NaN</td>\n",
       "      <td>NaN</td>\n",
       "      <td>Viet Nam</td>\n",
       "      <td>NaN</td>\n",
       "      <td>...</td>\n",
       "      <td>NaN</td>\n",
       "      <td>NaN</td>\n",
       "      <td>NaN</td>\n",
       "      <td>NaN</td>\n",
       "      <td>NaN</td>\n",
       "      <td>NaN</td>\n",
       "      <td>NaN</td>\n",
       "      <td>NaN</td>\n",
       "      <td>NaN</td>\n",
       "      <td>NaN</td>\n",
       "    </tr>\n",
       "    <tr>\n",
       "      <th>64459</th>\n",
       "      <td>64925</td>\n",
       "      <td>NaN</td>\n",
       "      <td>Yes</td>\n",
       "      <td>NaN</td>\n",
       "      <td>NaN</td>\n",
       "      <td>NaN</td>\n",
       "      <td>NaN</td>\n",
       "      <td>NaN</td>\n",
       "      <td>Poland</td>\n",
       "      <td>NaN</td>\n",
       "      <td>...</td>\n",
       "      <td>NaN</td>\n",
       "      <td>NaN</td>\n",
       "      <td>NaN</td>\n",
       "      <td>NaN</td>\n",
       "      <td>Angular;Angular.js;React.js</td>\n",
       "      <td>NaN</td>\n",
       "      <td>NaN</td>\n",
       "      <td>NaN</td>\n",
       "      <td>NaN</td>\n",
       "      <td>NaN</td>\n",
       "    </tr>\n",
       "    <tr>\n",
       "      <th>64460</th>\n",
       "      <td>65112</td>\n",
       "      <td>NaN</td>\n",
       "      <td>Yes</td>\n",
       "      <td>NaN</td>\n",
       "      <td>NaN</td>\n",
       "      <td>NaN</td>\n",
       "      <td>NaN</td>\n",
       "      <td>NaN</td>\n",
       "      <td>Spain</td>\n",
       "      <td>NaN</td>\n",
       "      <td>...</td>\n",
       "      <td>NaN</td>\n",
       "      <td>NaN</td>\n",
       "      <td>NaN</td>\n",
       "      <td>Computer science, computer engineering, or sof...</td>\n",
       "      <td>ASP.NET Core;jQuery</td>\n",
       "      <td>Angular;Angular.js;ASP.NET Core;jQuery</td>\n",
       "      <td>NaN</td>\n",
       "      <td>NaN</td>\n",
       "      <td>NaN</td>\n",
       "      <td>NaN</td>\n",
       "    </tr>\n",
       "  </tbody>\n",
       "</table>\n",
       "<p>64461 rows × 61 columns</p>\n",
       "</div>"
      ],
      "text/plain": [
       "       Respondent                                         MainBranch Hobbyist  \\\n",
       "0               1                     I am a developer by profession      Yes   \n",
       "1               2                     I am a developer by profession       No   \n",
       "2               3                        I code primarily as a hobby      Yes   \n",
       "3               4                     I am a developer by profession      Yes   \n",
       "4               5  I used to be a developer by profession, but no...      Yes   \n",
       "...           ...                                                ...      ...   \n",
       "64456       64858                                                NaN      Yes   \n",
       "64457       64867                                                NaN      Yes   \n",
       "64458       64898                                                NaN      Yes   \n",
       "64459       64925                                                NaN      Yes   \n",
       "64460       65112                                                NaN      Yes   \n",
       "\n",
       "        Age Age1stCode CompFreq  CompTotal  ConvertedComp             Country  \\\n",
       "0       NaN         13  Monthly        NaN            NaN             Germany   \n",
       "1       NaN         19      NaN        NaN            NaN      United Kingdom   \n",
       "2       NaN         15      NaN        NaN            NaN  Russian Federation   \n",
       "3      25.0         18      NaN        NaN            NaN             Albania   \n",
       "4      31.0         16      NaN        NaN            NaN       United States   \n",
       "...     ...        ...      ...        ...            ...                 ...   \n",
       "64456   NaN         16      NaN        NaN            NaN       United States   \n",
       "64457   NaN        NaN      NaN        NaN            NaN             Morocco   \n",
       "64458   NaN        NaN      NaN        NaN            NaN            Viet Nam   \n",
       "64459   NaN        NaN      NaN        NaN            NaN              Poland   \n",
       "64460   NaN        NaN      NaN        NaN            NaN               Spain   \n",
       "\n",
       "         CurrencyDesc  ...                  SurveyEase           SurveyLength  \\\n",
       "0       European Euro  ...  Neither easy nor difficult  Appropriate in length   \n",
       "1      Pound sterling  ...                         NaN                    NaN   \n",
       "2                 NaN  ...  Neither easy nor difficult  Appropriate in length   \n",
       "3        Albanian lek  ...                         NaN                    NaN   \n",
       "4                 NaN  ...                        Easy              Too short   \n",
       "...               ...  ...                         ...                    ...   \n",
       "64456             NaN  ...                         NaN                    NaN   \n",
       "64457             NaN  ...                         NaN                    NaN   \n",
       "64458             NaN  ...                         NaN                    NaN   \n",
       "64459             NaN  ...                         NaN                    NaN   \n",
       "64460             NaN  ...                         NaN                    NaN   \n",
       "\n",
       "      Trans                                     UndergradMajor  \\\n",
       "0        No  Computer science, computer engineering, or sof...   \n",
       "1       NaN  Computer science, computer engineering, or sof...   \n",
       "2       NaN                                                NaN   \n",
       "3        No  Computer science, computer engineering, or sof...   \n",
       "4        No  Computer science, computer engineering, or sof...   \n",
       "...     ...                                                ...   \n",
       "64456   NaN  Computer science, computer engineering, or sof...   \n",
       "64457   NaN                                                NaN   \n",
       "64458   NaN                                                NaN   \n",
       "64459   NaN                                                NaN   \n",
       "64460   NaN  Computer science, computer engineering, or sof...   \n",
       "\n",
       "            WebframeDesireNextYear                      WebframeWorkedWith  \\\n",
       "0                     ASP.NET Core                    ASP.NET;ASP.NET Core   \n",
       "1                              NaN                                     NaN   \n",
       "2                              NaN                                     NaN   \n",
       "3                              NaN                                     NaN   \n",
       "4             Django;Ruby on Rails                           Ruby on Rails   \n",
       "...                            ...                                     ...   \n",
       "64456                          NaN                                     NaN   \n",
       "64457                          NaN                                     NaN   \n",
       "64458                          NaN                                     NaN   \n",
       "64459  Angular;Angular.js;React.js                                     NaN   \n",
       "64460          ASP.NET Core;jQuery  Angular;Angular.js;ASP.NET Core;jQuery   \n",
       "\n",
       "                                  WelcomeChange WorkWeekHrs YearsCode  \\\n",
       "0       Just as welcome now as I felt last year        50.0        36   \n",
       "1      Somewhat more welcome now than last year         NaN         7   \n",
       "2      Somewhat more welcome now than last year         NaN         4   \n",
       "3      Somewhat less welcome now than last year        40.0         7   \n",
       "4       Just as welcome now as I felt last year         NaN        15   \n",
       "...                                         ...         ...       ...   \n",
       "64456                                       NaN         NaN        10   \n",
       "64457                                       NaN         NaN       NaN   \n",
       "64458                                       NaN         NaN       NaN   \n",
       "64459                                       NaN         NaN       NaN   \n",
       "64460                                       NaN         NaN       NaN   \n",
       "\n",
       "           YearsCodePro  \n",
       "0                    27  \n",
       "1                     4  \n",
       "2                   NaN  \n",
       "3                     4  \n",
       "4                     8  \n",
       "...                 ...  \n",
       "64456  Less than 1 year  \n",
       "64457               NaN  \n",
       "64458               NaN  \n",
       "64459               NaN  \n",
       "64460               NaN  \n",
       "\n",
       "[64461 rows x 61 columns]"
      ]
     },
     "execution_count": 8,
     "metadata": {},
     "output_type": "execute_result"
    }
   ],
   "source": [
    "survey_raw_df"
   ]
  },
  {
   "cell_type": "markdown",
   "id": "49be419e",
   "metadata": {
    "papermill": {
     "duration": 0.023727,
     "end_time": "2022-11-05T14:35:48.438363",
     "exception": false,
     "start_time": "2022-11-05T14:35:48.414636",
     "status": "completed"
    },
    "tags": []
   },
   "source": [
    "The dataset contains over 64,000 responses to 60 questions (although many questions are optional). The responses have been anonymized to remove personally identifiable information, and each respondent has been assigned a randomized respondent ID.\n",
    "\n",
    "Let's view the list of columns in the data frame. "
   ]
  },
  {
   "cell_type": "code",
   "execution_count": 9,
   "id": "fbf6bf73",
   "metadata": {
    "execution": {
     "iopub.execute_input": "2022-11-05T14:35:48.488247Z",
     "iopub.status.busy": "2022-11-05T14:35:48.487865Z",
     "iopub.status.idle": "2022-11-05T14:35:48.495203Z",
     "shell.execute_reply": "2022-11-05T14:35:48.494144Z"
    },
    "papermill": {
     "duration": 0.035015,
     "end_time": "2022-11-05T14:35:48.497614",
     "exception": false,
     "start_time": "2022-11-05T14:35:48.462599",
     "status": "completed"
    },
    "tags": []
   },
   "outputs": [
    {
     "data": {
      "text/plain": [
       "Index(['Respondent', 'MainBranch', 'Hobbyist', 'Age', 'Age1stCode', 'CompFreq',\n",
       "       'CompTotal', 'ConvertedComp', 'Country', 'CurrencyDesc',\n",
       "       'CurrencySymbol', 'DatabaseDesireNextYear', 'DatabaseWorkedWith',\n",
       "       'DevType', 'EdLevel', 'Employment', 'Ethnicity', 'Gender', 'JobFactors',\n",
       "       'JobSat', 'JobSeek', 'LanguageDesireNextYear', 'LanguageWorkedWith',\n",
       "       'MiscTechDesireNextYear', 'MiscTechWorkedWith',\n",
       "       'NEWCollabToolsDesireNextYear', 'NEWCollabToolsWorkedWith', 'NEWDevOps',\n",
       "       'NEWDevOpsImpt', 'NEWEdImpt', 'NEWJobHunt', 'NEWJobHuntResearch',\n",
       "       'NEWLearn', 'NEWOffTopic', 'NEWOnboardGood', 'NEWOtherComms',\n",
       "       'NEWOvertime', 'NEWPurchaseResearch', 'NEWPurpleLink', 'NEWSOSites',\n",
       "       'NEWStuck', 'OpSys', 'OrgSize', 'PlatformDesireNextYear',\n",
       "       'PlatformWorkedWith', 'PurchaseWhat', 'Sexuality', 'SOAccount',\n",
       "       'SOComm', 'SOPartFreq', 'SOVisitFreq', 'SurveyEase', 'SurveyLength',\n",
       "       'Trans', 'UndergradMajor', 'WebframeDesireNextYear',\n",
       "       'WebframeWorkedWith', 'WelcomeChange', 'WorkWeekHrs', 'YearsCode',\n",
       "       'YearsCodePro'],\n",
       "      dtype='object')"
      ]
     },
     "execution_count": 9,
     "metadata": {},
     "output_type": "execute_result"
    }
   ],
   "source": [
    "survey_raw_df.columns"
   ]
  },
  {
   "cell_type": "markdown",
   "id": "46a82a15",
   "metadata": {
    "papermill": {
     "duration": 0.023854,
     "end_time": "2022-11-05T14:35:48.545588",
     "exception": false,
     "start_time": "2022-11-05T14:35:48.521734",
     "status": "completed"
    },
    "tags": []
   },
   "source": [
    "It appears that shortcodes for questions have been used as column names. \n",
    "\n",
    "We can refer to the schema file to see the full text of each question. The schema file contains only two columns: `Column` and `QuestionText`. We can load it as Pandas Series with `Column` as the index and the  `QuestionText` as the value."
   ]
  },
  {
   "cell_type": "code",
   "execution_count": 10,
   "id": "09baecd3",
   "metadata": {
    "execution": {
     "iopub.execute_input": "2022-11-05T14:35:48.596957Z",
     "iopub.status.busy": "2022-11-05T14:35:48.595767Z",
     "iopub.status.idle": "2022-11-05T14:35:48.609776Z",
     "shell.execute_reply": "2022-11-05T14:35:48.608552Z"
    },
    "papermill": {
     "duration": 0.042607,
     "end_time": "2022-11-05T14:35:48.612509",
     "exception": false,
     "start_time": "2022-11-05T14:35:48.569902",
     "status": "completed"
    },
    "tags": []
   },
   "outputs": [],
   "source": [
    "schema_fname = 'stackoverflow-developer-survey-2020/survey_results_schema.csv'\n",
    "schema_raw = pd.read_csv(schema_fname, index_col='Column').QuestionText"
   ]
  },
  {
   "cell_type": "code",
   "execution_count": 11,
   "id": "6dd9a099",
   "metadata": {
    "execution": {
     "iopub.execute_input": "2022-11-05T14:35:48.662770Z",
     "iopub.status.busy": "2022-11-05T14:35:48.662343Z",
     "iopub.status.idle": "2022-11-05T14:35:48.669994Z",
     "shell.execute_reply": "2022-11-05T14:35:48.669215Z"
    },
    "papermill": {
     "duration": 0.035259,
     "end_time": "2022-11-05T14:35:48.672195",
     "exception": false,
     "start_time": "2022-11-05T14:35:48.636936",
     "status": "completed"
    },
    "tags": []
   },
   "outputs": [
    {
     "data": {
      "text/plain": [
       "Column\n",
       "Respondent            Randomized respondent ID number (not in order ...\n",
       "MainBranch            Which of the following options best describes ...\n",
       "Hobbyist                                        Do you code as a hobby?\n",
       "Age                   What is your age (in years)? If you prefer not...\n",
       "Age1stCode            At what age did you write your first line of c...\n",
       "                                            ...                        \n",
       "WebframeWorkedWith    Which web frameworks have you done extensive d...\n",
       "WelcomeChange         Compared to last year, how welcome do you feel...\n",
       "WorkWeekHrs           On average, how many hours per week do you wor...\n",
       "YearsCode             Including any education, how many years have y...\n",
       "YearsCodePro          NOT including education, how many years have y...\n",
       "Name: QuestionText, Length: 61, dtype: object"
      ]
     },
     "execution_count": 11,
     "metadata": {},
     "output_type": "execute_result"
    }
   ],
   "source": [
    "schema_raw"
   ]
  },
  {
   "cell_type": "markdown",
   "id": "abaf2640",
   "metadata": {
    "papermill": {
     "duration": 0.025019,
     "end_time": "2022-11-05T14:35:48.721648",
     "exception": false,
     "start_time": "2022-11-05T14:35:48.696629",
     "status": "completed"
    },
    "tags": []
   },
   "source": [
    "We can now use `schema_raw` to retrieve the full question text for any column in `survey_raw_df`."
   ]
  },
  {
   "cell_type": "code",
   "execution_count": 12,
   "id": "e0e94b3b",
   "metadata": {
    "execution": {
     "iopub.execute_input": "2022-11-05T14:35:48.772169Z",
     "iopub.status.busy": "2022-11-05T14:35:48.771787Z",
     "iopub.status.idle": "2022-11-05T14:35:48.777897Z",
     "shell.execute_reply": "2022-11-05T14:35:48.776857Z"
    },
    "papermill": {
     "duration": 0.033773,
     "end_time": "2022-11-05T14:35:48.779950",
     "exception": false,
     "start_time": "2022-11-05T14:35:48.746177",
     "status": "completed"
    },
    "tags": []
   },
   "outputs": [
    {
     "data": {
      "text/plain": [
       "'NOT including education, how many years have you coded professionally (as a part of your work)?'"
      ]
     },
     "execution_count": 12,
     "metadata": {},
     "output_type": "execute_result"
    }
   ],
   "source": [
    "schema_raw['YearsCodePro']"
   ]
  },
  {
   "cell_type": "markdown",
   "id": "5639b154",
   "metadata": {
    "papermill": {
     "duration": 0.024082,
     "end_time": "2022-11-05T14:35:48.828585",
     "exception": false,
     "start_time": "2022-11-05T14:35:48.804503",
     "status": "completed"
    },
    "tags": []
   },
   "source": [
    "We've now loaded the dataset. We're ready to move on to the next step of preprocessing & cleaning the data for our analysis."
   ]
  },
  {
   "cell_type": "markdown",
   "id": "413067b2",
   "metadata": {
    "papermill": {
     "duration": 0.024026,
     "end_time": "2022-11-05T14:35:48.877428",
     "exception": false,
     "start_time": "2022-11-05T14:35:48.853402",
     "status": "completed"
    },
    "tags": []
   },
   "source": [
    "## Data Preparation & Cleaning\n",
    "\n",
    "While the survey responses contain a wealth of information, we'll limit our analysis to the following areas:\n",
    "\n",
    "- Demographics of the survey respondents and the global programming community\n",
    "- Distribution of programming skills, experience, and preferences\n",
    "- Employment-related information, preferences, and opinions\n",
    "\n",
    "Let's select a subset of columns with the relevant data for our analysis."
   ]
  },
  {
   "cell_type": "code",
   "execution_count": 13,
   "id": "9a3b7b13",
   "metadata": {
    "execution": {
     "iopub.execute_input": "2022-11-05T14:35:48.928911Z",
     "iopub.status.busy": "2022-11-05T14:35:48.928173Z",
     "iopub.status.idle": "2022-11-05T14:35:48.934628Z",
     "shell.execute_reply": "2022-11-05T14:35:48.933086Z"
    },
    "papermill": {
     "duration": 0.035286,
     "end_time": "2022-11-05T14:35:48.937126",
     "exception": false,
     "start_time": "2022-11-05T14:35:48.901840",
     "status": "completed"
    },
    "tags": []
   },
   "outputs": [],
   "source": [
    "selected_columns = [\n",
    "    # Demographics\n",
    "    'Country',\n",
    "    'Age',\n",
    "    'Gender',\n",
    "    'EdLevel',\n",
    "    'UndergradMajor',\n",
    "    # Programming experience\n",
    "    'Hobbyist',\n",
    "    'Age1stCode',\n",
    "    'YearsCode',\n",
    "    'YearsCodePro',\n",
    "    'LanguageWorkedWith',\n",
    "    'LanguageDesireNextYear',\n",
    "    'NEWLearn',\n",
    "    'NEWStuck',\n",
    "    # Employment\n",
    "    'Employment',\n",
    "    'DevType',\n",
    "    'WorkWeekHrs',\n",
    "    'JobSat',\n",
    "    'JobFactors',\n",
    "    'NEWOvertime',\n",
    "    'NEWEdImpt'\n",
    "]"
   ]
  },
  {
   "cell_type": "code",
   "execution_count": 14,
   "id": "9a7abec2",
   "metadata": {
    "execution": {
     "iopub.execute_input": "2022-11-05T14:35:48.989848Z",
     "iopub.status.busy": "2022-11-05T14:35:48.988975Z",
     "iopub.status.idle": "2022-11-05T14:35:48.995886Z",
     "shell.execute_reply": "2022-11-05T14:35:48.994821Z"
    },
    "papermill": {
     "duration": 0.036039,
     "end_time": "2022-11-05T14:35:48.998140",
     "exception": false,
     "start_time": "2022-11-05T14:35:48.962101",
     "status": "completed"
    },
    "tags": []
   },
   "outputs": [
    {
     "data": {
      "text/plain": [
       "20"
      ]
     },
     "execution_count": 14,
     "metadata": {},
     "output_type": "execute_result"
    }
   ],
   "source": [
    "len(selected_columns)"
   ]
  },
  {
   "cell_type": "markdown",
   "id": "6ad4a7d3",
   "metadata": {
    "papermill": {
     "duration": 0.024433,
     "end_time": "2022-11-05T14:35:49.047367",
     "exception": false,
     "start_time": "2022-11-05T14:35:49.022934",
     "status": "completed"
    },
    "tags": []
   },
   "source": [
    "Let's extract a copy of the data from these columns into a new data frame `survey_df`. We can continue to modify further without affecting the original data frame."
   ]
  },
  {
   "cell_type": "code",
   "execution_count": 15,
   "id": "20ac8e78",
   "metadata": {
    "execution": {
     "iopub.execute_input": "2022-11-05T14:35:49.098472Z",
     "iopub.status.busy": "2022-11-05T14:35:49.097969Z",
     "iopub.status.idle": "2022-11-05T14:35:49.136162Z",
     "shell.execute_reply": "2022-11-05T14:35:49.135155Z"
    },
    "papermill": {
     "duration": 0.067006,
     "end_time": "2022-11-05T14:35:49.138887",
     "exception": false,
     "start_time": "2022-11-05T14:35:49.071881",
     "status": "completed"
    },
    "tags": []
   },
   "outputs": [],
   "source": [
    "survey_df = survey_raw_df[selected_columns].copy()"
   ]
  },
  {
   "cell_type": "code",
   "execution_count": 16,
   "id": "57ca3181",
   "metadata": {
    "execution": {
     "iopub.execute_input": "2022-11-05T14:35:49.190114Z",
     "iopub.status.busy": "2022-11-05T14:35:49.189708Z",
     "iopub.status.idle": "2022-11-05T14:35:49.195475Z",
     "shell.execute_reply": "2022-11-05T14:35:49.194237Z"
    },
    "papermill": {
     "duration": 0.033981,
     "end_time": "2022-11-05T14:35:49.197624",
     "exception": false,
     "start_time": "2022-11-05T14:35:49.163643",
     "status": "completed"
    },
    "tags": []
   },
   "outputs": [],
   "source": [
    "schema = schema_raw[selected_columns]"
   ]
  },
  {
   "cell_type": "markdown",
   "id": "c7a6a114",
   "metadata": {
    "papermill": {
     "duration": 0.024709,
     "end_time": "2022-11-05T14:35:49.247017",
     "exception": false,
     "start_time": "2022-11-05T14:35:49.222308",
     "status": "completed"
    },
    "tags": []
   },
   "source": [
    "Let's view some basic information about the data frame."
   ]
  },
  {
   "cell_type": "code",
   "execution_count": 17,
   "id": "c90c53e5",
   "metadata": {
    "execution": {
     "iopub.execute_input": "2022-11-05T14:35:49.297876Z",
     "iopub.status.busy": "2022-11-05T14:35:49.297469Z",
     "iopub.status.idle": "2022-11-05T14:35:49.304698Z",
     "shell.execute_reply": "2022-11-05T14:35:49.303694Z"
    },
    "papermill": {
     "duration": 0.035132,
     "end_time": "2022-11-05T14:35:49.306831",
     "exception": false,
     "start_time": "2022-11-05T14:35:49.271699",
     "status": "completed"
    },
    "tags": []
   },
   "outputs": [
    {
     "data": {
      "text/plain": [
       "(64461, 20)"
      ]
     },
     "execution_count": 17,
     "metadata": {},
     "output_type": "execute_result"
    }
   ],
   "source": [
    "survey_df.shape"
   ]
  },
  {
   "cell_type": "code",
   "execution_count": 18,
   "id": "9e18ea09",
   "metadata": {
    "execution": {
     "iopub.execute_input": "2022-11-05T14:35:49.359399Z",
     "iopub.status.busy": "2022-11-05T14:35:49.358960Z",
     "iopub.status.idle": "2022-11-05T14:35:49.431132Z",
     "shell.execute_reply": "2022-11-05T14:35:49.429559Z"
    },
    "papermill": {
     "duration": 0.101593,
     "end_time": "2022-11-05T14:35:49.433824",
     "exception": false,
     "start_time": "2022-11-05T14:35:49.332231",
     "status": "completed"
    },
    "tags": []
   },
   "outputs": [
    {
     "name": "stdout",
     "output_type": "stream",
     "text": [
      "<class 'pandas.core.frame.DataFrame'>\n",
      "RangeIndex: 64461 entries, 0 to 64460\n",
      "Data columns (total 20 columns):\n",
      " #   Column                  Non-Null Count  Dtype  \n",
      "---  ------                  --------------  -----  \n",
      " 0   Country                 64072 non-null  object \n",
      " 1   Age                     45446 non-null  float64\n",
      " 2   Gender                  50557 non-null  object \n",
      " 3   EdLevel                 57431 non-null  object \n",
      " 4   UndergradMajor          50995 non-null  object \n",
      " 5   Hobbyist                64416 non-null  object \n",
      " 6   Age1stCode              57900 non-null  object \n",
      " 7   YearsCode               57684 non-null  object \n",
      " 8   YearsCodePro            46349 non-null  object \n",
      " 9   LanguageWorkedWith      57378 non-null  object \n",
      " 10  LanguageDesireNextYear  54113 non-null  object \n",
      " 11  NEWLearn                56156 non-null  object \n",
      " 12  NEWStuck                54983 non-null  object \n",
      " 13  Employment              63854 non-null  object \n",
      " 14  DevType                 49370 non-null  object \n",
      " 15  WorkWeekHrs             41151 non-null  float64\n",
      " 16  JobSat                  45194 non-null  object \n",
      " 17  JobFactors              49349 non-null  object \n",
      " 18  NEWOvertime             43231 non-null  object \n",
      " 19  NEWEdImpt               48465 non-null  object \n",
      "dtypes: float64(2), object(18)\n",
      "memory usage: 9.8+ MB\n"
     ]
    }
   ],
   "source": [
    "survey_df.info()"
   ]
  },
  {
   "cell_type": "markdown",
   "id": "09f5912f",
   "metadata": {
    "papermill": {
     "duration": 0.025369,
     "end_time": "2022-11-05T14:35:49.484660",
     "exception": false,
     "start_time": "2022-11-05T14:35:49.459291",
     "status": "completed"
    },
    "tags": []
   },
   "source": [
    "Most columns have the data type `object`, either because they contain values of different types or contain empty values (`NaN`). It appears that every column contains some empty values since the Non-Null count for every column is lower than the total number of rows (64461). We'll need to deal with empty values and manually adjust the data type for each column on a case-by-case basis. \n",
    "\n",
    "Only two of the columns were detected as numeric columns (`Age` and `WorkWeekHrs`), even though a few other columns have mostly numeric values. To make our analysis easier, let's convert some other columns into numeric data types while ignoring any non-numeric value. The non-numeric are converted to `NaN`."
   ]
  },
  {
   "cell_type": "code",
   "execution_count": 19,
   "id": "ba0cf1e2",
   "metadata": {
    "execution": {
     "iopub.execute_input": "2022-11-05T14:35:49.536515Z",
     "iopub.status.busy": "2022-11-05T14:35:49.536111Z",
     "iopub.status.idle": "2022-11-05T14:35:49.653654Z",
     "shell.execute_reply": "2022-11-05T14:35:49.652603Z"
    },
    "papermill": {
     "duration": 0.146242,
     "end_time": "2022-11-05T14:35:49.656218",
     "exception": false,
     "start_time": "2022-11-05T14:35:49.509976",
     "status": "completed"
    },
    "tags": []
   },
   "outputs": [],
   "source": [
    "survey_df['Age1stCode'] = pd.to_numeric(survey_df.Age1stCode, errors='coerce')\n",
    "survey_df['YearsCode'] = pd.to_numeric(survey_df.YearsCode, errors='coerce')\n",
    "survey_df['YearsCodePro'] = pd.to_numeric(survey_df.YearsCodePro, errors='coerce')"
   ]
  },
  {
   "cell_type": "markdown",
   "id": "d99882a0",
   "metadata": {
    "papermill": {
     "duration": 0.024488,
     "end_time": "2022-11-05T14:35:49.705913",
     "exception": false,
     "start_time": "2022-11-05T14:35:49.681425",
     "status": "completed"
    },
    "tags": []
   },
   "source": [
    "Let's now view some basic statistics about numeric columns."
   ]
  },
  {
   "cell_type": "code",
   "execution_count": 20,
   "id": "532561f8",
   "metadata": {
    "execution": {
     "iopub.execute_input": "2022-11-05T14:35:49.757590Z",
     "iopub.status.busy": "2022-11-05T14:35:49.756937Z",
     "iopub.status.idle": "2022-11-05T14:35:49.805692Z",
     "shell.execute_reply": "2022-11-05T14:35:49.804748Z"
    },
    "papermill": {
     "duration": 0.07715,
     "end_time": "2022-11-05T14:35:49.808179",
     "exception": false,
     "start_time": "2022-11-05T14:35:49.731029",
     "status": "completed"
    },
    "tags": []
   },
   "outputs": [
    {
     "data": {
      "text/html": [
       "<div>\n",
       "<style scoped>\n",
       "    .dataframe tbody tr th:only-of-type {\n",
       "        vertical-align: middle;\n",
       "    }\n",
       "\n",
       "    .dataframe tbody tr th {\n",
       "        vertical-align: top;\n",
       "    }\n",
       "\n",
       "    .dataframe thead th {\n",
       "        text-align: right;\n",
       "    }\n",
       "</style>\n",
       "<table border=\"1\" class=\"dataframe\">\n",
       "  <thead>\n",
       "    <tr style=\"text-align: right;\">\n",
       "      <th></th>\n",
       "      <th>Age</th>\n",
       "      <th>Age1stCode</th>\n",
       "      <th>YearsCode</th>\n",
       "      <th>YearsCodePro</th>\n",
       "      <th>WorkWeekHrs</th>\n",
       "    </tr>\n",
       "  </thead>\n",
       "  <tbody>\n",
       "    <tr>\n",
       "      <th>count</th>\n",
       "      <td>45446.000000</td>\n",
       "      <td>57473.000000</td>\n",
       "      <td>56784.000000</td>\n",
       "      <td>44133.000000</td>\n",
       "      <td>41151.000000</td>\n",
       "    </tr>\n",
       "    <tr>\n",
       "      <th>mean</th>\n",
       "      <td>30.834111</td>\n",
       "      <td>15.476572</td>\n",
       "      <td>12.782051</td>\n",
       "      <td>8.869667</td>\n",
       "      <td>40.782174</td>\n",
       "    </tr>\n",
       "    <tr>\n",
       "      <th>std</th>\n",
       "      <td>9.585392</td>\n",
       "      <td>5.114081</td>\n",
       "      <td>9.490657</td>\n",
       "      <td>7.759961</td>\n",
       "      <td>17.816383</td>\n",
       "    </tr>\n",
       "    <tr>\n",
       "      <th>min</th>\n",
       "      <td>1.000000</td>\n",
       "      <td>5.000000</td>\n",
       "      <td>1.000000</td>\n",
       "      <td>1.000000</td>\n",
       "      <td>1.000000</td>\n",
       "    </tr>\n",
       "    <tr>\n",
       "      <th>25%</th>\n",
       "      <td>24.000000</td>\n",
       "      <td>12.000000</td>\n",
       "      <td>6.000000</td>\n",
       "      <td>3.000000</td>\n",
       "      <td>40.000000</td>\n",
       "    </tr>\n",
       "    <tr>\n",
       "      <th>50%</th>\n",
       "      <td>29.000000</td>\n",
       "      <td>15.000000</td>\n",
       "      <td>10.000000</td>\n",
       "      <td>6.000000</td>\n",
       "      <td>40.000000</td>\n",
       "    </tr>\n",
       "    <tr>\n",
       "      <th>75%</th>\n",
       "      <td>35.000000</td>\n",
       "      <td>18.000000</td>\n",
       "      <td>17.000000</td>\n",
       "      <td>12.000000</td>\n",
       "      <td>44.000000</td>\n",
       "    </tr>\n",
       "    <tr>\n",
       "      <th>max</th>\n",
       "      <td>279.000000</td>\n",
       "      <td>85.000000</td>\n",
       "      <td>50.000000</td>\n",
       "      <td>50.000000</td>\n",
       "      <td>475.000000</td>\n",
       "    </tr>\n",
       "  </tbody>\n",
       "</table>\n",
       "</div>"
      ],
      "text/plain": [
       "                Age    Age1stCode     YearsCode  YearsCodePro   WorkWeekHrs\n",
       "count  45446.000000  57473.000000  56784.000000  44133.000000  41151.000000\n",
       "mean      30.834111     15.476572     12.782051      8.869667     40.782174\n",
       "std        9.585392      5.114081      9.490657      7.759961     17.816383\n",
       "min        1.000000      5.000000      1.000000      1.000000      1.000000\n",
       "25%       24.000000     12.000000      6.000000      3.000000     40.000000\n",
       "50%       29.000000     15.000000     10.000000      6.000000     40.000000\n",
       "75%       35.000000     18.000000     17.000000     12.000000     44.000000\n",
       "max      279.000000     85.000000     50.000000     50.000000    475.000000"
      ]
     },
     "execution_count": 20,
     "metadata": {},
     "output_type": "execute_result"
    }
   ],
   "source": [
    "survey_df.describe()"
   ]
  },
  {
   "cell_type": "markdown",
   "id": "8dde2c72",
   "metadata": {
    "papermill": {
     "duration": 0.03262,
     "end_time": "2022-11-05T14:35:49.866531",
     "exception": false,
     "start_time": "2022-11-05T14:35:49.833911",
     "status": "completed"
    },
    "tags": []
   },
   "source": [
    "There seems to be a problem with the age column, as the minimum value is 1 and the maximum is 279. This is a common issue with surveys: responses may contain invalid values due to accidental or intentional errors while responding. A simple fix would be to ignore the rows where the age is higher than 100 years or lower than 10 years as invalid survey responses. We can do this using the `.drop` method, [as explained here](https://www.geeksforgeeks.org/drop-rows-from-the-dataframe-based-on-certain-condition-applied-on-a-column/)."
   ]
  },
  {
   "cell_type": "code",
   "execution_count": 21,
   "id": "ed7dfb38",
   "metadata": {
    "execution": {
     "iopub.execute_input": "2022-11-05T14:35:49.935188Z",
     "iopub.status.busy": "2022-11-05T14:35:49.934161Z",
     "iopub.status.idle": "2022-11-05T14:35:49.985933Z",
     "shell.execute_reply": "2022-11-05T14:35:49.984755Z"
    },
    "papermill": {
     "duration": 0.084198,
     "end_time": "2022-11-05T14:35:49.988705",
     "exception": false,
     "start_time": "2022-11-05T14:35:49.904507",
     "status": "completed"
    },
    "tags": []
   },
   "outputs": [],
   "source": [
    "survey_df.drop(survey_df[survey_df.Age < 10].index, inplace=True)\n",
    "survey_df.drop(survey_df[survey_df.Age > 100].index, inplace=True)"
   ]
  },
  {
   "cell_type": "markdown",
   "id": "3f9c8719",
   "metadata": {
    "papermill": {
     "duration": 0.026213,
     "end_time": "2022-11-05T14:35:50.040858",
     "exception": false,
     "start_time": "2022-11-05T14:35:50.014645",
     "status": "completed"
    },
    "tags": []
   },
   "source": [
    "The same holds for `WorkWeekHrs`. Let's ignore entries where the value for the column is higher than 140 hours. (~20 hours per day)."
   ]
  },
  {
   "cell_type": "code",
   "execution_count": 22,
   "id": "86843caa",
   "metadata": {
    "execution": {
     "iopub.execute_input": "2022-11-05T14:35:50.102093Z",
     "iopub.status.busy": "2022-11-05T14:35:50.101544Z",
     "iopub.status.idle": "2022-11-05T14:35:50.127986Z",
     "shell.execute_reply": "2022-11-05T14:35:50.127149Z"
    },
    "papermill": {
     "duration": 0.057725,
     "end_time": "2022-11-05T14:35:50.130524",
     "exception": false,
     "start_time": "2022-11-05T14:35:50.072799",
     "status": "completed"
    },
    "tags": []
   },
   "outputs": [],
   "source": [
    "survey_df.drop(survey_df[survey_df.WorkWeekHrs > 140].index, inplace=True)"
   ]
  },
  {
   "cell_type": "markdown",
   "id": "1c647185",
   "metadata": {
    "papermill": {
     "duration": 0.026769,
     "end_time": "2022-11-05T14:35:50.182887",
     "exception": false,
     "start_time": "2022-11-05T14:35:50.156118",
     "status": "completed"
    },
    "tags": []
   },
   "source": [
    "The gender column also allows for picking multiple options. We'll remove values containing more than one option to simplify our analysis."
   ]
  },
  {
   "cell_type": "code",
   "execution_count": 23,
   "id": "f129624f",
   "metadata": {
    "execution": {
     "iopub.execute_input": "2022-11-05T14:35:50.254452Z",
     "iopub.status.busy": "2022-11-05T14:35:50.253728Z",
     "iopub.status.idle": "2022-11-05T14:35:50.265665Z",
     "shell.execute_reply": "2022-11-05T14:35:50.264552Z"
    },
    "papermill": {
     "duration": 0.052829,
     "end_time": "2022-11-05T14:35:50.268423",
     "exception": false,
     "start_time": "2022-11-05T14:35:50.215594",
     "status": "completed"
    },
    "tags": []
   },
   "outputs": [
    {
     "data": {
      "text/plain": [
       "Man                                                            45895\n",
       "Woman                                                           3835\n",
       "Non-binary, genderqueer, or gender non-conforming                385\n",
       "Man;Non-binary, genderqueer, or gender non-conforming            121\n",
       "Woman;Non-binary, genderqueer, or gender non-conforming           92\n",
       "Woman;Man                                                         73\n",
       "Woman;Man;Non-binary, genderqueer, or gender non-conforming       25\n",
       "Name: Gender, dtype: int64"
      ]
     },
     "execution_count": 23,
     "metadata": {},
     "output_type": "execute_result"
    }
   ],
   "source": [
    "survey_df['Gender'].value_counts()"
   ]
  },
  {
   "cell_type": "code",
   "execution_count": 24,
   "id": "d97025fc",
   "metadata": {
    "execution": {
     "iopub.execute_input": "2022-11-05T14:35:50.326884Z",
     "iopub.status.busy": "2022-11-05T14:35:50.325957Z",
     "iopub.status.idle": "2022-11-05T14:35:50.331073Z",
     "shell.execute_reply": "2022-11-05T14:35:50.330100Z"
    },
    "papermill": {
     "duration": 0.034452,
     "end_time": "2022-11-05T14:35:50.333182",
     "exception": false,
     "start_time": "2022-11-05T14:35:50.298730",
     "status": "completed"
    },
    "tags": []
   },
   "outputs": [],
   "source": [
    "import numpy as np"
   ]
  },
  {
   "cell_type": "code",
   "execution_count": 25,
   "id": "e95aebec",
   "metadata": {
    "execution": {
     "iopub.execute_input": "2022-11-05T14:35:50.386628Z",
     "iopub.status.busy": "2022-11-05T14:35:50.385709Z",
     "iopub.status.idle": "2022-11-05T14:35:50.479459Z",
     "shell.execute_reply": "2022-11-05T14:35:50.478368Z"
    },
    "papermill": {
     "duration": 0.123383,
     "end_time": "2022-11-05T14:35:50.482043",
     "exception": false,
     "start_time": "2022-11-05T14:35:50.358660",
     "status": "completed"
    },
    "tags": []
   },
   "outputs": [],
   "source": [
    "survey_df.where(~(survey_df.Gender.str.contains(';', na=False)), np.nan, inplace=True)"
   ]
  },
  {
   "cell_type": "markdown",
   "id": "70ba70ed",
   "metadata": {
    "papermill": {
     "duration": 0.02493,
     "end_time": "2022-11-05T14:35:50.532912",
     "exception": false,
     "start_time": "2022-11-05T14:35:50.507982",
     "status": "completed"
    },
    "tags": []
   },
   "source": [
    "We've now cleaned up and prepared the dataset for analysis. Let's take a look at a sample of rows from the data frame."
   ]
  },
  {
   "cell_type": "code",
   "execution_count": 26,
   "id": "5b85fc34",
   "metadata": {
    "execution": {
     "iopub.execute_input": "2022-11-05T14:35:50.586181Z",
     "iopub.status.busy": "2022-11-05T14:35:50.585278Z",
     "iopub.status.idle": "2022-11-05T14:35:50.623249Z",
     "shell.execute_reply": "2022-11-05T14:35:50.622058Z"
    },
    "papermill": {
     "duration": 0.067289,
     "end_time": "2022-11-05T14:35:50.626055",
     "exception": false,
     "start_time": "2022-11-05T14:35:50.558766",
     "status": "completed"
    },
    "tags": []
   },
   "outputs": [
    {
     "data": {
      "text/html": [
       "<div>\n",
       "<style scoped>\n",
       "    .dataframe tbody tr th:only-of-type {\n",
       "        vertical-align: middle;\n",
       "    }\n",
       "\n",
       "    .dataframe tbody tr th {\n",
       "        vertical-align: top;\n",
       "    }\n",
       "\n",
       "    .dataframe thead th {\n",
       "        text-align: right;\n",
       "    }\n",
       "</style>\n",
       "<table border=\"1\" class=\"dataframe\">\n",
       "  <thead>\n",
       "    <tr style=\"text-align: right;\">\n",
       "      <th></th>\n",
       "      <th>Country</th>\n",
       "      <th>Age</th>\n",
       "      <th>Gender</th>\n",
       "      <th>EdLevel</th>\n",
       "      <th>UndergradMajor</th>\n",
       "      <th>Hobbyist</th>\n",
       "      <th>Age1stCode</th>\n",
       "      <th>YearsCode</th>\n",
       "      <th>YearsCodePro</th>\n",
       "      <th>LanguageWorkedWith</th>\n",
       "      <th>LanguageDesireNextYear</th>\n",
       "      <th>NEWLearn</th>\n",
       "      <th>NEWStuck</th>\n",
       "      <th>Employment</th>\n",
       "      <th>DevType</th>\n",
       "      <th>WorkWeekHrs</th>\n",
       "      <th>JobSat</th>\n",
       "      <th>JobFactors</th>\n",
       "      <th>NEWOvertime</th>\n",
       "      <th>NEWEdImpt</th>\n",
       "    </tr>\n",
       "  </thead>\n",
       "  <tbody>\n",
       "    <tr>\n",
       "      <th>22182</th>\n",
       "      <td>Greece</td>\n",
       "      <td>50.0</td>\n",
       "      <td>Man</td>\n",
       "      <td>Bachelor’s degree (B.A., B.S., B.Eng., etc.)</td>\n",
       "      <td>Another engineering discipline (such as civil,...</td>\n",
       "      <td>No</td>\n",
       "      <td>17.0</td>\n",
       "      <td>7.0</td>\n",
       "      <td>NaN</td>\n",
       "      <td>HTML/CSS;JavaScript;Ruby;SQL</td>\n",
       "      <td>HTML/CSS;JavaScript;Ruby;SQL;Swift</td>\n",
       "      <td>Every few months</td>\n",
       "      <td>Visit Stack Overflow;Watch help / tutorial vid...</td>\n",
       "      <td>Not employed, but looking for work</td>\n",
       "      <td>Developer, full-stack;Developer, game or graph...</td>\n",
       "      <td>NaN</td>\n",
       "      <td>NaN</td>\n",
       "      <td>Industry that I’d be working in;Remote work op...</td>\n",
       "      <td>NaN</td>\n",
       "      <td>Somewhat important</td>\n",
       "    </tr>\n",
       "    <tr>\n",
       "      <th>60785</th>\n",
       "      <td>Germany</td>\n",
       "      <td>26.0</td>\n",
       "      <td>Man</td>\n",
       "      <td>Bachelor’s degree (B.A., B.S., B.Eng., etc.)</td>\n",
       "      <td>Computer science, computer engineering, or sof...</td>\n",
       "      <td>Yes</td>\n",
       "      <td>16.0</td>\n",
       "      <td>8.0</td>\n",
       "      <td>NaN</td>\n",
       "      <td>Bash/Shell/PowerShell;C#;Java;Python;Swift</td>\n",
       "      <td>Rust</td>\n",
       "      <td>Every few months</td>\n",
       "      <td>Call a coworker or friend;Visit Stack Overflow...</td>\n",
       "      <td>Student</td>\n",
       "      <td>NaN</td>\n",
       "      <td>NaN</td>\n",
       "      <td>NaN</td>\n",
       "      <td>Industry that I’d be working in;Languages, fra...</td>\n",
       "      <td>NaN</td>\n",
       "      <td>NaN</td>\n",
       "    </tr>\n",
       "    <tr>\n",
       "      <th>42775</th>\n",
       "      <td>New Zealand</td>\n",
       "      <td>30.0</td>\n",
       "      <td>Man</td>\n",
       "      <td>Bachelor’s degree (B.A., B.S., B.Eng., etc.)</td>\n",
       "      <td>Computer science, computer engineering, or sof...</td>\n",
       "      <td>Yes</td>\n",
       "      <td>20.0</td>\n",
       "      <td>10.0</td>\n",
       "      <td>6.0</td>\n",
       "      <td>Dart;Go;HTML/CSS;JavaScript;PHP</td>\n",
       "      <td>Go;HTML/CSS;JavaScript</td>\n",
       "      <td>Once a year</td>\n",
       "      <td>Call a coworker or friend;Visit Stack Overflow...</td>\n",
       "      <td>Employed full-time</td>\n",
       "      <td>Developer, full-stack;Engineering manager</td>\n",
       "      <td>70.0</td>\n",
       "      <td>Slightly dissatisfied</td>\n",
       "      <td>Industry that I’d be working in;Flex time or a...</td>\n",
       "      <td>Rarely: 1-2 days per year or less</td>\n",
       "      <td>Somewhat important</td>\n",
       "    </tr>\n",
       "    <tr>\n",
       "      <th>20024</th>\n",
       "      <td>Cambodia</td>\n",
       "      <td>25.0</td>\n",
       "      <td>Man</td>\n",
       "      <td>Bachelor’s degree (B.A., B.S., B.Eng., etc.)</td>\n",
       "      <td>Computer science, computer engineering, or sof...</td>\n",
       "      <td>No</td>\n",
       "      <td>16.0</td>\n",
       "      <td>5.0</td>\n",
       "      <td>3.0</td>\n",
       "      <td>JavaScript;Python;TypeScript</td>\n",
       "      <td>Rust;SQL;Swift</td>\n",
       "      <td>Every few months</td>\n",
       "      <td>Visit Stack Overflow;Go for a walk or other ph...</td>\n",
       "      <td>Employed full-time</td>\n",
       "      <td>Developer, mobile</td>\n",
       "      <td>35.0</td>\n",
       "      <td>Neither satisfied nor dissatisfied</td>\n",
       "      <td>Flex time or a flexible schedule;Languages, fr...</td>\n",
       "      <td>Rarely: 1-2 days per year or less</td>\n",
       "      <td>Somewhat important</td>\n",
       "    </tr>\n",
       "    <tr>\n",
       "      <th>59329</th>\n",
       "      <td>Afghanistan</td>\n",
       "      <td>NaN</td>\n",
       "      <td>Man</td>\n",
       "      <td>Bachelor’s degree (B.A., B.S., B.Eng., etc.)</td>\n",
       "      <td>Computer science, computer engineering, or sof...</td>\n",
       "      <td>Yes</td>\n",
       "      <td>18.0</td>\n",
       "      <td>NaN</td>\n",
       "      <td>NaN</td>\n",
       "      <td>HTML/CSS;Java;JavaScript;PHP;SQL</td>\n",
       "      <td>HTML/CSS;Java;JavaScript;PHP;SQL</td>\n",
       "      <td>Once a year</td>\n",
       "      <td>Visit Stack Overflow;Watch help / tutorial videos</td>\n",
       "      <td>Not employed, but looking for work</td>\n",
       "      <td>Developer, back-end;Developer, front-end;Devel...</td>\n",
       "      <td>NaN</td>\n",
       "      <td>NaN</td>\n",
       "      <td>NaN</td>\n",
       "      <td>NaN</td>\n",
       "      <td>NaN</td>\n",
       "    </tr>\n",
       "    <tr>\n",
       "      <th>24348</th>\n",
       "      <td>Slovenia</td>\n",
       "      <td>24.0</td>\n",
       "      <td>Man</td>\n",
       "      <td>Bachelor’s degree (B.A., B.S., B.Eng., etc.)</td>\n",
       "      <td>Computer science, computer engineering, or sof...</td>\n",
       "      <td>Yes</td>\n",
       "      <td>16.0</td>\n",
       "      <td>6.0</td>\n",
       "      <td>NaN</td>\n",
       "      <td>Go;HTML/CSS;Java;JavaScript;Kotlin;PHP;Python;...</td>\n",
       "      <td>Java;JavaScript;Kotlin;TypeScript</td>\n",
       "      <td>Once every few years</td>\n",
       "      <td>Visit Stack Overflow;Watch help / tutorial vid...</td>\n",
       "      <td>Student</td>\n",
       "      <td>NaN</td>\n",
       "      <td>NaN</td>\n",
       "      <td>NaN</td>\n",
       "      <td>Languages, frameworks, and other technologies ...</td>\n",
       "      <td>NaN</td>\n",
       "      <td>NaN</td>\n",
       "    </tr>\n",
       "    <tr>\n",
       "      <th>47491</th>\n",
       "      <td>United States</td>\n",
       "      <td>NaN</td>\n",
       "      <td>NaN</td>\n",
       "      <td>Bachelor’s degree (B.A., B.S., B.Eng., etc.)</td>\n",
       "      <td>Mathematics or statistics</td>\n",
       "      <td>No</td>\n",
       "      <td>26.0</td>\n",
       "      <td>20.0</td>\n",
       "      <td>NaN</td>\n",
       "      <td>Assembly</td>\n",
       "      <td>NaN</td>\n",
       "      <td>Once every few years</td>\n",
       "      <td>NaN</td>\n",
       "      <td>Retired</td>\n",
       "      <td>NaN</td>\n",
       "      <td>NaN</td>\n",
       "      <td>NaN</td>\n",
       "      <td>NaN</td>\n",
       "      <td>NaN</td>\n",
       "      <td>Critically important</td>\n",
       "    </tr>\n",
       "    <tr>\n",
       "      <th>24809</th>\n",
       "      <td>United Kingdom</td>\n",
       "      <td>16.0</td>\n",
       "      <td>Man</td>\n",
       "      <td>NaN</td>\n",
       "      <td>Computer science, computer engineering, or sof...</td>\n",
       "      <td>Yes</td>\n",
       "      <td>6.0</td>\n",
       "      <td>10.0</td>\n",
       "      <td>NaN</td>\n",
       "      <td>Assembly;C;C#;Java;JavaScript;Python</td>\n",
       "      <td>C#</td>\n",
       "      <td>Once every few years</td>\n",
       "      <td>Visit Stack Overflow;Visit another developer c...</td>\n",
       "      <td>Student</td>\n",
       "      <td>NaN</td>\n",
       "      <td>NaN</td>\n",
       "      <td>NaN</td>\n",
       "      <td>NaN</td>\n",
       "      <td>NaN</td>\n",
       "      <td>NaN</td>\n",
       "    </tr>\n",
       "    <tr>\n",
       "      <th>20301</th>\n",
       "      <td>NaN</td>\n",
       "      <td>NaN</td>\n",
       "      <td>NaN</td>\n",
       "      <td>NaN</td>\n",
       "      <td>NaN</td>\n",
       "      <td>NaN</td>\n",
       "      <td>NaN</td>\n",
       "      <td>NaN</td>\n",
       "      <td>NaN</td>\n",
       "      <td>NaN</td>\n",
       "      <td>NaN</td>\n",
       "      <td>NaN</td>\n",
       "      <td>NaN</td>\n",
       "      <td>NaN</td>\n",
       "      <td>NaN</td>\n",
       "      <td>NaN</td>\n",
       "      <td>NaN</td>\n",
       "      <td>NaN</td>\n",
       "      <td>NaN</td>\n",
       "      <td>NaN</td>\n",
       "    </tr>\n",
       "    <tr>\n",
       "      <th>44255</th>\n",
       "      <td>Germany</td>\n",
       "      <td>34.0</td>\n",
       "      <td>Man</td>\n",
       "      <td>Master’s degree (M.A., M.S., M.Eng., MBA, etc.)</td>\n",
       "      <td>Computer science, computer engineering, or sof...</td>\n",
       "      <td>Yes</td>\n",
       "      <td>10.0</td>\n",
       "      <td>19.0</td>\n",
       "      <td>15.0</td>\n",
       "      <td>Bash/Shell/PowerShell;Java;JavaScript;Kotlin;S...</td>\n",
       "      <td>Java;JavaScript;Kotlin;Rust;Swift</td>\n",
       "      <td>Once every few years</td>\n",
       "      <td>Visit Stack Overflow;Do other work and come ba...</td>\n",
       "      <td>Employed full-time</td>\n",
       "      <td>Developer, back-end;Developer, full-stack;Syst...</td>\n",
       "      <td>38.0</td>\n",
       "      <td>Very satisfied</td>\n",
       "      <td>Languages, frameworks, and other technologies ...</td>\n",
       "      <td>Rarely: 1-2 days per year or less</td>\n",
       "      <td>Very important</td>\n",
       "    </tr>\n",
       "  </tbody>\n",
       "</table>\n",
       "</div>"
      ],
      "text/plain": [
       "              Country   Age Gender  \\\n",
       "22182          Greece  50.0    Man   \n",
       "60785         Germany  26.0    Man   \n",
       "42775     New Zealand  30.0    Man   \n",
       "20024        Cambodia  25.0    Man   \n",
       "59329     Afghanistan   NaN    Man   \n",
       "24348        Slovenia  24.0    Man   \n",
       "47491   United States   NaN    NaN   \n",
       "24809  United Kingdom  16.0    Man   \n",
       "20301             NaN   NaN    NaN   \n",
       "44255         Germany  34.0    Man   \n",
       "\n",
       "                                               EdLevel  \\\n",
       "22182     Bachelor’s degree (B.A., B.S., B.Eng., etc.)   \n",
       "60785     Bachelor’s degree (B.A., B.S., B.Eng., etc.)   \n",
       "42775     Bachelor’s degree (B.A., B.S., B.Eng., etc.)   \n",
       "20024     Bachelor’s degree (B.A., B.S., B.Eng., etc.)   \n",
       "59329     Bachelor’s degree (B.A., B.S., B.Eng., etc.)   \n",
       "24348     Bachelor’s degree (B.A., B.S., B.Eng., etc.)   \n",
       "47491     Bachelor’s degree (B.A., B.S., B.Eng., etc.)   \n",
       "24809                                              NaN   \n",
       "20301                                              NaN   \n",
       "44255  Master’s degree (M.A., M.S., M.Eng., MBA, etc.)   \n",
       "\n",
       "                                          UndergradMajor Hobbyist  Age1stCode  \\\n",
       "22182  Another engineering discipline (such as civil,...       No        17.0   \n",
       "60785  Computer science, computer engineering, or sof...      Yes        16.0   \n",
       "42775  Computer science, computer engineering, or sof...      Yes        20.0   \n",
       "20024  Computer science, computer engineering, or sof...       No        16.0   \n",
       "59329  Computer science, computer engineering, or sof...      Yes        18.0   \n",
       "24348  Computer science, computer engineering, or sof...      Yes        16.0   \n",
       "47491                          Mathematics or statistics       No        26.0   \n",
       "24809  Computer science, computer engineering, or sof...      Yes         6.0   \n",
       "20301                                                NaN      NaN         NaN   \n",
       "44255  Computer science, computer engineering, or sof...      Yes        10.0   \n",
       "\n",
       "       YearsCode  YearsCodePro  \\\n",
       "22182        7.0           NaN   \n",
       "60785        8.0           NaN   \n",
       "42775       10.0           6.0   \n",
       "20024        5.0           3.0   \n",
       "59329        NaN           NaN   \n",
       "24348        6.0           NaN   \n",
       "47491       20.0           NaN   \n",
       "24809       10.0           NaN   \n",
       "20301        NaN           NaN   \n",
       "44255       19.0          15.0   \n",
       "\n",
       "                                      LanguageWorkedWith  \\\n",
       "22182                       HTML/CSS;JavaScript;Ruby;SQL   \n",
       "60785         Bash/Shell/PowerShell;C#;Java;Python;Swift   \n",
       "42775                    Dart;Go;HTML/CSS;JavaScript;PHP   \n",
       "20024                       JavaScript;Python;TypeScript   \n",
       "59329                   HTML/CSS;Java;JavaScript;PHP;SQL   \n",
       "24348  Go;HTML/CSS;Java;JavaScript;Kotlin;PHP;Python;...   \n",
       "47491                                           Assembly   \n",
       "24809               Assembly;C;C#;Java;JavaScript;Python   \n",
       "20301                                                NaN   \n",
       "44255  Bash/Shell/PowerShell;Java;JavaScript;Kotlin;S...   \n",
       "\n",
       "                   LanguageDesireNextYear              NEWLearn  \\\n",
       "22182  HTML/CSS;JavaScript;Ruby;SQL;Swift      Every few months   \n",
       "60785                                Rust      Every few months   \n",
       "42775              Go;HTML/CSS;JavaScript           Once a year   \n",
       "20024                      Rust;SQL;Swift      Every few months   \n",
       "59329    HTML/CSS;Java;JavaScript;PHP;SQL           Once a year   \n",
       "24348   Java;JavaScript;Kotlin;TypeScript  Once every few years   \n",
       "47491                                 NaN  Once every few years   \n",
       "24809                                  C#  Once every few years   \n",
       "20301                                 NaN                   NaN   \n",
       "44255   Java;JavaScript;Kotlin;Rust;Swift  Once every few years   \n",
       "\n",
       "                                                NEWStuck  \\\n",
       "22182  Visit Stack Overflow;Watch help / tutorial vid...   \n",
       "60785  Call a coworker or friend;Visit Stack Overflow...   \n",
       "42775  Call a coworker or friend;Visit Stack Overflow...   \n",
       "20024  Visit Stack Overflow;Go for a walk or other ph...   \n",
       "59329  Visit Stack Overflow;Watch help / tutorial videos   \n",
       "24348  Visit Stack Overflow;Watch help / tutorial vid...   \n",
       "47491                                                NaN   \n",
       "24809  Visit Stack Overflow;Visit another developer c...   \n",
       "20301                                                NaN   \n",
       "44255  Visit Stack Overflow;Do other work and come ba...   \n",
       "\n",
       "                               Employment  \\\n",
       "22182  Not employed, but looking for work   \n",
       "60785                             Student   \n",
       "42775                  Employed full-time   \n",
       "20024                  Employed full-time   \n",
       "59329  Not employed, but looking for work   \n",
       "24348                             Student   \n",
       "47491                             Retired   \n",
       "24809                             Student   \n",
       "20301                                 NaN   \n",
       "44255                  Employed full-time   \n",
       "\n",
       "                                                 DevType  WorkWeekHrs  \\\n",
       "22182  Developer, full-stack;Developer, game or graph...          NaN   \n",
       "60785                                                NaN          NaN   \n",
       "42775          Developer, full-stack;Engineering manager         70.0   \n",
       "20024                                  Developer, mobile         35.0   \n",
       "59329  Developer, back-end;Developer, front-end;Devel...          NaN   \n",
       "24348                                                NaN          NaN   \n",
       "47491                                                NaN          NaN   \n",
       "24809                                                NaN          NaN   \n",
       "20301                                                NaN          NaN   \n",
       "44255  Developer, back-end;Developer, full-stack;Syst...         38.0   \n",
       "\n",
       "                                   JobSat  \\\n",
       "22182                                 NaN   \n",
       "60785                                 NaN   \n",
       "42775               Slightly dissatisfied   \n",
       "20024  Neither satisfied nor dissatisfied   \n",
       "59329                                 NaN   \n",
       "24348                                 NaN   \n",
       "47491                                 NaN   \n",
       "24809                                 NaN   \n",
       "20301                                 NaN   \n",
       "44255                      Very satisfied   \n",
       "\n",
       "                                              JobFactors  \\\n",
       "22182  Industry that I’d be working in;Remote work op...   \n",
       "60785  Industry that I’d be working in;Languages, fra...   \n",
       "42775  Industry that I’d be working in;Flex time or a...   \n",
       "20024  Flex time or a flexible schedule;Languages, fr...   \n",
       "59329                                                NaN   \n",
       "24348  Languages, frameworks, and other technologies ...   \n",
       "47491                                                NaN   \n",
       "24809                                                NaN   \n",
       "20301                                                NaN   \n",
       "44255  Languages, frameworks, and other technologies ...   \n",
       "\n",
       "                             NEWOvertime             NEWEdImpt  \n",
       "22182                                NaN    Somewhat important  \n",
       "60785                                NaN                   NaN  \n",
       "42775  Rarely: 1-2 days per year or less    Somewhat important  \n",
       "20024  Rarely: 1-2 days per year or less    Somewhat important  \n",
       "59329                                NaN                   NaN  \n",
       "24348                                NaN                   NaN  \n",
       "47491                                NaN  Critically important  \n",
       "24809                                NaN                   NaN  \n",
       "20301                                NaN                   NaN  \n",
       "44255  Rarely: 1-2 days per year or less        Very important  "
      ]
     },
     "execution_count": 26,
     "metadata": {},
     "output_type": "execute_result"
    }
   ],
   "source": [
    "survey_df.sample(10)"
   ]
  },
  {
   "cell_type": "markdown",
   "id": "16bc8505",
   "metadata": {
    "papermill": {
     "duration": 0.02622,
     "end_time": "2022-11-05T14:35:50.678662",
     "exception": false,
     "start_time": "2022-11-05T14:35:50.652442",
     "status": "completed"
    },
    "tags": []
   },
   "source": [
    "Let's save and commit our work before continuing."
   ]
  },
  {
   "cell_type": "markdown",
   "id": "97ddaef6",
   "metadata": {
    "papermill": {
     "duration": 0.025935,
     "end_time": "2022-11-05T14:35:50.730715",
     "exception": false,
     "start_time": "2022-11-05T14:35:50.704780",
     "status": "completed"
    },
    "tags": []
   },
   "source": [
    "## Exploratory Analysis and Visualization\n",
    "\n",
    "Before we ask questions about the survey responses, it would help to understand the respondents' demographics, i.e., country, age, gender, education level, employment level, etc. It's essential to explore these variables to understand how representative the survey is of the worldwide programming community. A survey of this scale generally tends to have some [selection bias](https://en.wikipedia.org/wiki/Selection_bias).\n",
    "\n",
    "Let's begin by importing `matplotlib.pyplot` and `seaborn`."
   ]
  },
  {
   "cell_type": "code",
   "execution_count": 27,
   "id": "3340dd5e",
   "metadata": {
    "execution": {
     "iopub.execute_input": "2022-11-05T14:35:50.792403Z",
     "iopub.status.busy": "2022-11-05T14:35:50.791998Z",
     "iopub.status.idle": "2022-11-05T14:35:51.739296Z",
     "shell.execute_reply": "2022-11-05T14:35:51.738151Z"
    },
    "papermill": {
     "duration": 0.979386,
     "end_time": "2022-11-05T14:35:51.742157",
     "exception": false,
     "start_time": "2022-11-05T14:35:50.762771",
     "status": "completed"
    },
    "tags": []
   },
   "outputs": [],
   "source": [
    "import seaborn as sns\n",
    "import matplotlib\n",
    "import matplotlib.pyplot as plt\n",
    "%matplotlib inline\n",
    "\n",
    "sns.set_style('darkgrid')\n",
    "matplotlib.rcParams['font.size'] = 14\n",
    "matplotlib.rcParams['figure.figsize'] = (9, 5)\n",
    "matplotlib.rcParams['figure.facecolor'] = '#00000000'"
   ]
  },
  {
   "cell_type": "markdown",
   "id": "bd337dbb",
   "metadata": {
    "papermill": {
     "duration": 0.025741,
     "end_time": "2022-11-05T14:35:51.795135",
     "exception": false,
     "start_time": "2022-11-05T14:35:51.769394",
     "status": "completed"
    },
    "tags": []
   },
   "source": [
    "### Country\n",
    "\n",
    "Let's look at the number of countries from which there are responses in the survey and plot the ten countries with the highest number of responses."
   ]
  },
  {
   "cell_type": "code",
   "execution_count": 28,
   "id": "4446e26f",
   "metadata": {
    "execution": {
     "iopub.execute_input": "2022-11-05T14:35:51.849264Z",
     "iopub.status.busy": "2022-11-05T14:35:51.848862Z",
     "iopub.status.idle": "2022-11-05T14:35:51.855434Z",
     "shell.execute_reply": "2022-11-05T14:35:51.854569Z"
    },
    "papermill": {
     "duration": 0.035927,
     "end_time": "2022-11-05T14:35:51.857404",
     "exception": false,
     "start_time": "2022-11-05T14:35:51.821477",
     "status": "completed"
    },
    "tags": []
   },
   "outputs": [
    {
     "data": {
      "text/plain": [
       "'Where do you live?'"
      ]
     },
     "execution_count": 28,
     "metadata": {},
     "output_type": "execute_result"
    }
   ],
   "source": [
    "schema.Country"
   ]
  },
  {
   "cell_type": "code",
   "execution_count": 29,
   "id": "f2677dab",
   "metadata": {
    "execution": {
     "iopub.execute_input": "2022-11-05T14:35:51.911830Z",
     "iopub.status.busy": "2022-11-05T14:35:51.911239Z",
     "iopub.status.idle": "2022-11-05T14:35:51.921705Z",
     "shell.execute_reply": "2022-11-05T14:35:51.920628Z"
    },
    "papermill": {
     "duration": 0.040328,
     "end_time": "2022-11-05T14:35:51.924023",
     "exception": false,
     "start_time": "2022-11-05T14:35:51.883695",
     "status": "completed"
    },
    "tags": []
   },
   "outputs": [
    {
     "data": {
      "text/plain": [
       "183"
      ]
     },
     "execution_count": 29,
     "metadata": {},
     "output_type": "execute_result"
    }
   ],
   "source": [
    "survey_df.Country.nunique()"
   ]
  },
  {
   "cell_type": "markdown",
   "id": "aca1e05e",
   "metadata": {
    "papermill": {
     "duration": 0.025905,
     "end_time": "2022-11-05T14:35:51.976193",
     "exception": false,
     "start_time": "2022-11-05T14:35:51.950288",
     "status": "completed"
    },
    "tags": []
   },
   "source": [
    "We can identify the countries with the highest number of respondents using the `value_counts` method."
   ]
  },
  {
   "cell_type": "code",
   "execution_count": 30,
   "id": "d5d3a039",
   "metadata": {
    "execution": {
     "iopub.execute_input": "2022-11-05T14:35:52.030816Z",
     "iopub.status.busy": "2022-11-05T14:35:52.029746Z",
     "iopub.status.idle": "2022-11-05T14:35:52.042858Z",
     "shell.execute_reply": "2022-11-05T14:35:52.041804Z"
    },
    "papermill": {
     "duration": 0.042501,
     "end_time": "2022-11-05T14:35:52.045051",
     "exception": false,
     "start_time": "2022-11-05T14:35:52.002550",
     "status": "completed"
    },
    "tags": []
   },
   "outputs": [
    {
     "data": {
      "text/plain": [
       "United States         12371\n",
       "India                  8364\n",
       "United Kingdom         3881\n",
       "Germany                3864\n",
       "Canada                 2175\n",
       "France                 1884\n",
       "Brazil                 1804\n",
       "Netherlands            1332\n",
       "Poland                 1259\n",
       "Australia              1199\n",
       "Spain                  1157\n",
       "Italy                  1115\n",
       "Russian Federation     1085\n",
       "Sweden                  879\n",
       "Pakistan                802\n",
       "Name: Country, dtype: int64"
      ]
     },
     "execution_count": 30,
     "metadata": {},
     "output_type": "execute_result"
    }
   ],
   "source": [
    "top_countries = survey_df.Country.value_counts().head(15)\n",
    "top_countries"
   ]
  },
  {
   "cell_type": "markdown",
   "id": "bfe345a3",
   "metadata": {
    "papermill": {
     "duration": 0.025894,
     "end_time": "2022-11-05T14:35:52.097200",
     "exception": false,
     "start_time": "2022-11-05T14:35:52.071306",
     "status": "completed"
    },
    "tags": []
   },
   "source": [
    "We can visualize this information using a bar chart."
   ]
  },
  {
   "cell_type": "code",
   "execution_count": 31,
   "id": "57696538",
   "metadata": {
    "execution": {
     "iopub.execute_input": "2022-11-05T14:35:52.151521Z",
     "iopub.status.busy": "2022-11-05T14:35:52.151086Z",
     "iopub.status.idle": "2022-11-05T14:35:52.564556Z",
     "shell.execute_reply": "2022-11-05T14:35:52.563440Z"
    },
    "papermill": {
     "duration": 0.443656,
     "end_time": "2022-11-05T14:35:52.567097",
     "exception": false,
     "start_time": "2022-11-05T14:35:52.123441",
     "status": "completed"
    },
    "tags": []
   },
   "outputs": [
    {
     "data": {
      "image/png": "[encoded data removed]",
      "text/plain": [
       "<Figure size 864x432 with 1 Axes>"
      ]
     },
     "metadata": {
      "needs_background": "light"
     },
     "output_type": "display_data"
    }
   ],
   "source": [
    "plt.figure(figsize=(12,6))\n",
    "plt.xticks(rotation=75)\n",
    "plt.title(schema.Country)\n",
    "sns.barplot(x=top_countries.index, y=top_countries);"
   ]
  },
  {
   "cell_type": "markdown",
   "id": "a96e06b4",
   "metadata": {
    "papermill": {
     "duration": 0.026607,
     "end_time": "2022-11-05T14:35:52.620832",
     "exception": false,
     "start_time": "2022-11-05T14:35:52.594225",
     "status": "completed"
    },
    "tags": []
   },
   "source": [
    "It appears that a disproportionately high number of respondents are from the US and India, probably because the survey is in English, and these countries have the highest English-speaking populations. We can already see that the survey may not be representative of the global programming community - especially from non-English speaking countries. Programmers from non-English speaking countries are almost certainly underrepresented.\n",
    "\n",
    "**Exercise**:\n",
    "Try finding the percentage of responses from English-speaking vs. non-English speaking countries. You can use [this list of languages spoken in different countries](https://github.com/JovianML/opendatasets/blob/master/data/countries-languages-spoken/countries-languages.csv)."
   ]
  },
  {
   "cell_type": "markdown",
   "id": "afa1c915",
   "metadata": {
    "papermill": {
     "duration": 0.0306,
     "end_time": "2022-11-05T14:35:52.680149",
     "exception": false,
     "start_time": "2022-11-05T14:35:52.649549",
     "status": "completed"
    },
    "tags": []
   },
   "source": [
    "### Age\n",
    "\n",
    "The distribution of respondents' age is another crucial factor to look at. We can use a histogram to visualize it. "
   ]
  },
  {
   "cell_type": "code",
   "execution_count": 32,
   "id": "a8c17fd7",
   "metadata": {
    "execution": {
     "iopub.execute_input": "2022-11-05T14:35:52.736529Z",
     "iopub.status.busy": "2022-11-05T14:35:52.735487Z",
     "iopub.status.idle": "2022-11-05T14:35:53.076278Z",
     "shell.execute_reply": "2022-11-05T14:35:53.075028Z"
    },
    "papermill": {
     "duration": 0.371385,
     "end_time": "2022-11-05T14:35:53.078527",
     "exception": false,
     "start_time": "2022-11-05T14:35:52.707142",
     "status": "completed"
    },
    "tags": []
   },
   "outputs": [
    {
     "data": {
      "image/png": "[encoded data removed]",
      "text/plain": [
       "<Figure size 864x432 with 1 Axes>"
      ]
     },
     "metadata": {
      "needs_background": "light"
     },
     "output_type": "display_data"
    }
   ],
   "source": [
    "plt.figure(figsize=(12, 6))\n",
    "plt.title(schema.Age)\n",
    "plt.xlabel('Age')\n",
    "plt.ylabel('Number of respondents')\n",
    "\n",
    "plt.hist(survey_df.Age, bins=np.arange(10,80,5), color='purple');"
   ]
  },
  {
   "cell_type": "markdown",
   "id": "31e32a9d",
   "metadata": {
    "papermill": {
     "duration": 0.027147,
     "end_time": "2022-11-05T14:35:53.133127",
     "exception": false,
     "start_time": "2022-11-05T14:35:53.105980",
     "status": "completed"
    },
    "tags": []
   },
   "source": [
    "It appears that a large percentage of respondents are 20-45 years old. It's somewhat representative of the programming community in general. Many young people have taken up computer science as their field of study or profession in the last 20 years.\n",
    "\n",
    "**Exercise**: You may want to filter out responses by age (or age group) if you'd like to analyze and compare the survey results for different age groups. Create a new column called AgeGroup containing values like `Less than 10 years`, `10-18 years`, `18-30 years`, `30-45 years`, `45-60 years` and `Older than 60 years`. Then, repeat the analysis in the rest of this notebook for each age group.\n"
   ]
  },
  {
   "cell_type": "markdown",
   "id": "469b9448",
   "metadata": {
    "papermill": {
     "duration": 0.02769,
     "end_time": "2022-11-05T14:35:53.187990",
     "exception": false,
     "start_time": "2022-11-05T14:35:53.160300",
     "status": "completed"
    },
    "tags": []
   },
   "source": [
    "### Gender\n",
    "\n",
    "Let's look at the distribution of responses for the Gender. It's a well-known fact that women and non-binary genders are underrepresented in the programming community, so we might expect to see a skewed distribution here."
   ]
  },
  {
   "cell_type": "code",
   "execution_count": 33,
   "id": "d02fa281",
   "metadata": {
    "execution": {
     "iopub.execute_input": "2022-11-05T14:35:53.244972Z",
     "iopub.status.busy": "2022-11-05T14:35:53.244024Z",
     "iopub.status.idle": "2022-11-05T14:35:53.249681Z",
     "shell.execute_reply": "2022-11-05T14:35:53.248922Z"
    },
    "papermill": {
     "duration": 0.036272,
     "end_time": "2022-11-05T14:35:53.251617",
     "exception": false,
     "start_time": "2022-11-05T14:35:53.215345",
     "status": "completed"
    },
    "tags": []
   },
   "outputs": [
    {
     "data": {
      "text/plain": [
       "'Which of the following describe you, if any? Please check all that apply. If you prefer not to answer, you may leave this question blank.'"
      ]
     },
     "execution_count": 33,
     "metadata": {},
     "output_type": "execute_result"
    }
   ],
   "source": [
    "schema.Gender"
   ]
  },
  {
   "cell_type": "code",
   "execution_count": 34,
   "id": "36a158cf",
   "metadata": {
    "execution": {
     "iopub.execute_input": "2022-11-05T14:35:53.311621Z",
     "iopub.status.busy": "2022-11-05T14:35:53.310908Z",
     "iopub.status.idle": "2022-11-05T14:35:53.323278Z",
     "shell.execute_reply": "2022-11-05T14:35:53.322073Z"
    },
    "papermill": {
     "duration": 0.04578,
     "end_time": "2022-11-05T14:35:53.325481",
     "exception": false,
     "start_time": "2022-11-05T14:35:53.279701",
     "status": "completed"
    },
    "tags": []
   },
   "outputs": [
    {
     "data": {
      "text/plain": [
       "Man                                                  45895\n",
       "Woman                                                 3835\n",
       "Non-binary, genderqueer, or gender non-conforming      385\n",
       "Name: Gender, dtype: int64"
      ]
     },
     "execution_count": 34,
     "metadata": {},
     "output_type": "execute_result"
    }
   ],
   "source": [
    "gender_counts = survey_df.Gender.value_counts()\n",
    "gender_counts"
   ]
  },
  {
   "cell_type": "markdown",
   "id": "067e5de6",
   "metadata": {
    "papermill": {
     "duration": 0.02751,
     "end_time": "2022-11-05T14:35:53.380888",
     "exception": false,
     "start_time": "2022-11-05T14:35:53.353378",
     "status": "completed"
    },
    "tags": []
   },
   "source": [
    "A pie chart would be a great way to visualize the distribution."
   ]
  },
  {
   "cell_type": "code",
   "execution_count": 35,
   "id": "620e9eb4",
   "metadata": {
    "execution": {
     "iopub.execute_input": "2022-11-05T14:35:53.438185Z",
     "iopub.status.busy": "2022-11-05T14:35:53.437799Z",
     "iopub.status.idle": "2022-11-05T14:35:53.654612Z",
     "shell.execute_reply": "2022-11-05T14:35:53.653558Z"
    },
    "papermill": {
     "duration": 0.248659,
     "end_time": "2022-11-05T14:35:53.657300",
     "exception": false,
     "start_time": "2022-11-05T14:35:53.408641",
     "status": "completed"
    },
    "tags": []
   },
   "outputs": [
    {
     "data": {
      "image/png": "[encoded data removed]",
      "text/plain": [
       "<Figure size 864x432 with 1 Axes>"
      ]
     },
     "metadata": {},
     "output_type": "display_data"
    }
   ],
   "source": [
    "plt.figure(figsize=(12,6))\n",
    "plt.title(schema.Gender)\n",
    "plt.pie(gender_counts, labels=gender_counts.index, autopct='%1.1f%%', startangle=180);"
   ]
  },
  {
   "cell_type": "markdown",
   "id": "8d7e04ca",
   "metadata": {
    "papermill": {
     "duration": 0.028093,
     "end_time": "2022-11-05T14:35:53.713644",
     "exception": false,
     "start_time": "2022-11-05T14:35:53.685551",
     "status": "completed"
    },
    "tags": []
   },
   "source": [
    "Only about 8% of survey respondents who have answered the question identify as women or non-binary. This number is lower than the overall percentage of women & non-binary genders in the programming community - which is estimated to be around 12%. \n",
    "\n",
    "**Exercise**: It would be interesting to compare the survey responses & preferences across genders. Repeat this analysis with these breakdowns. How do the relative education levels differ across genders? How do the salaries vary? You may find this analysis on the [Gender Divide in Data Science](https://medium.com/datadriveninvestor/exploratory-data-analysis-eda-understanding-the-gender-divide-in-data-science-roles-9faa5da44f5b) useful."
   ]
  },
  {
   "cell_type": "markdown",
   "id": "86771e7b",
   "metadata": {
    "papermill": {
     "duration": 0.028312,
     "end_time": "2022-11-05T14:35:53.770099",
     "exception": false,
     "start_time": "2022-11-05T14:35:53.741787",
     "status": "completed"
    },
    "tags": []
   },
   "source": [
    "### Education Level\n",
    "\n",
    "Formal education in computer science is often considered an essential requirement for becoming a programmer. However, there are many free resources & tutorials available online to learn programming. Let's compare the education levels of respondents to gain some insight into this. We'll use a horizontal bar plot here."
   ]
  },
  {
   "cell_type": "code",
   "execution_count": 36,
   "id": "e5c7bc8d",
   "metadata": {
    "execution": {
     "iopub.execute_input": "2022-11-05T14:35:53.827701Z",
     "iopub.status.busy": "2022-11-05T14:35:53.827281Z",
     "iopub.status.idle": "2022-11-05T14:35:54.236829Z",
     "shell.execute_reply": "2022-11-05T14:35:54.235982Z"
    },
    "papermill": {
     "duration": 0.441259,
     "end_time": "2022-11-05T14:35:54.239003",
     "exception": false,
     "start_time": "2022-11-05T14:35:53.797744",
     "status": "completed"
    },
    "tags": []
   },
   "outputs": [
    {
     "data": {
      "image/png": "[encoded data removed]",
      "text/plain": [
       "<Figure size 648x360 with 1 Axes>"
      ]
     },
     "metadata": {
      "needs_background": "light"
     },
     "output_type": "display_data"
    }
   ],
   "source": [
    "sns.countplot(y=survey_df.EdLevel)\n",
    "plt.xticks(rotation=75);\n",
    "plt.title(schema['EdLevel'])\n",
    "plt.ylabel(None);"
   ]
  },
  {
   "cell_type": "markdown",
   "id": "34ef7492",
   "metadata": {
    "papermill": {
     "duration": 0.028944,
     "end_time": "2022-11-05T14:35:54.297423",
     "exception": false,
     "start_time": "2022-11-05T14:35:54.268479",
     "status": "completed"
    },
    "tags": []
   },
   "source": [
    "It appears that well over half of the respondents hold a bachelor's or master's degree, so most programmers seem to have some college education. However, it's not clear from this graph alone if they hold a degree in computer science.\n",
    "\n",
    "**Exercises**: The graph currently shows the number of respondents for each option. Can you modify it to show the percentage instead? Further, try comparing the percentages for each degree for men vs. women. "
   ]
  },
  {
   "cell_type": "markdown",
   "id": "7f8e13bd",
   "metadata": {
    "papermill": {
     "duration": 0.029214,
     "end_time": "2022-11-05T14:35:54.355906",
     "exception": false,
     "start_time": "2022-11-05T14:35:54.326692",
     "status": "completed"
    },
    "tags": []
   },
   "source": [
    "Let's also plot undergraduate majors, but this time we'll convert the numbers into percentages and sort the values to make it easier to visualize the order."
   ]
  },
  {
   "cell_type": "code",
   "execution_count": 37,
   "id": "1ee17f1f",
   "metadata": {
    "execution": {
     "iopub.execute_input": "2022-11-05T14:35:54.416858Z",
     "iopub.status.busy": "2022-11-05T14:35:54.415776Z",
     "iopub.status.idle": "2022-11-05T14:35:54.422178Z",
     "shell.execute_reply": "2022-11-05T14:35:54.421424Z"
    },
    "papermill": {
     "duration": 0.038644,
     "end_time": "2022-11-05T14:35:54.424083",
     "exception": false,
     "start_time": "2022-11-05T14:35:54.385439",
     "status": "completed"
    },
    "tags": []
   },
   "outputs": [
    {
     "data": {
      "text/plain": [
       "'What was your primary field of study?'"
      ]
     },
     "execution_count": 37,
     "metadata": {},
     "output_type": "execute_result"
    }
   ],
   "source": [
    "schema.UndergradMajor"
   ]
  },
  {
   "cell_type": "code",
   "execution_count": 38,
   "id": "e6bafa96",
   "metadata": {
    "execution": {
     "iopub.execute_input": "2022-11-05T14:35:54.485216Z",
     "iopub.status.busy": "2022-11-05T14:35:54.484461Z",
     "iopub.status.idle": "2022-11-05T14:35:54.924255Z",
     "shell.execute_reply": "2022-11-05T14:35:54.923038Z"
    },
    "papermill": {
     "duration": 0.473357,
     "end_time": "2022-11-05T14:35:54.926917",
     "exception": false,
     "start_time": "2022-11-05T14:35:54.453560",
     "status": "completed"
    },
    "tags": []
   },
   "outputs": [
    {
     "data": {
      "image/png": "[encoded data removed]",
      "text/plain": [
       "<Figure size 648x360 with 1 Axes>"
      ]
     },
     "metadata": {
      "needs_background": "light"
     },
     "output_type": "display_data"
    }
   ],
   "source": [
    "undergrad_pct = survey_df.UndergradMajor.value_counts() * 100 / survey_df.UndergradMajor.count()\n",
    "\n",
    "sns.barplot(x=undergrad_pct, y=undergrad_pct.index)\n",
    "\n",
    "plt.title(schema.UndergradMajor)\n",
    "plt.ylabel(None);\n",
    "plt.xlabel('Percentage');"
   ]
  },
  {
   "cell_type": "markdown",
   "id": "76399814",
   "metadata": {
    "papermill": {
     "duration": 0.030726,
     "end_time": "2022-11-05T14:35:54.988477",
     "exception": false,
     "start_time": "2022-11-05T14:35:54.957751",
     "status": "completed"
    },
    "tags": []
   },
   "source": [
    "It turns out that 40% of programmers holding a college degree have a field of study other than computer science - which is very encouraging. It seems to suggest that while a college education is helpful in general, you do not need to pursue a major in computer science to become a successful programmer.\n",
    "\n",
    "**Exercises**: Analyze the `NEWEdImpt` column for respondents who hold some college degree vs. those who don't. Do you notice any difference in opinion?\n"
   ]
  },
  {
   "cell_type": "markdown",
   "id": "5304278e",
   "metadata": {
    "papermill": {
     "duration": 0.030381,
     "end_time": "2022-11-05T14:35:55.050122",
     "exception": false,
     "start_time": "2022-11-05T14:35:55.019741",
     "status": "completed"
    },
    "tags": []
   },
   "source": [
    "### Employment\n",
    "\n",
    "Freelancing or contract work is a common choice among programmers, so it would be interesting to compare the breakdown between full-time, part-time, and freelance work. Let's visualize the data from the `Employment` column."
   ]
  },
  {
   "cell_type": "code",
   "execution_count": 39,
   "id": "2a36c495",
   "metadata": {
    "execution": {
     "iopub.execute_input": "2022-11-05T14:35:55.117287Z",
     "iopub.status.busy": "2022-11-05T14:35:55.116871Z",
     "iopub.status.idle": "2022-11-05T14:35:55.123434Z",
     "shell.execute_reply": "2022-11-05T14:35:55.122537Z"
    },
    "papermill": {
     "duration": 0.044171,
     "end_time": "2022-11-05T14:35:55.125435",
     "exception": false,
     "start_time": "2022-11-05T14:35:55.081264",
     "status": "completed"
    },
    "tags": []
   },
   "outputs": [
    {
     "data": {
      "text/plain": [
       "'Which of the following best describes your current employment status?'"
      ]
     },
     "execution_count": 39,
     "metadata": {},
     "output_type": "execute_result"
    }
   ],
   "source": [
    "schema.Employment"
   ]
  },
  {
   "cell_type": "code",
   "execution_count": 40,
   "id": "ba0f776e",
   "metadata": {
    "execution": {
     "iopub.execute_input": "2022-11-05T14:35:55.189502Z",
     "iopub.status.busy": "2022-11-05T14:35:55.188793Z",
     "iopub.status.idle": "2022-11-05T14:35:55.542453Z",
     "shell.execute_reply": "2022-11-05T14:35:55.541367Z"
    },
    "papermill": {
     "duration": 0.388776,
     "end_time": "2022-11-05T14:35:55.545149",
     "exception": false,
     "start_time": "2022-11-05T14:35:55.156373",
     "status": "completed"
    },
    "tags": []
   },
   "outputs": [
    {
     "data": {
      "image/png": "[encoded data removed]",
      "text/plain": [
       "<Figure size 648x360 with 1 Axes>"
      ]
     },
     "metadata": {
      "needs_background": "light"
     },
     "output_type": "display_data"
    }
   ],
   "source": [
    "(survey_df.Employment.value_counts(normalize=True, ascending=True)*100).plot(kind='barh', color='g')\n",
    "plt.title(schema.Employment)\n",
    "plt.xlabel('Percentage');"
   ]
  },
  {
   "cell_type": "markdown",
   "id": "f7407009",
   "metadata": {
    "papermill": {
     "duration": 0.031824,
     "end_time": "2022-11-05T14:35:55.609808",
     "exception": false,
     "start_time": "2022-11-05T14:35:55.577984",
     "status": "completed"
    },
    "tags": []
   },
   "source": [
    "It appears that close to 10% of respondents are employed part time or as freelancers.\n",
    "\n",
    "**Exercise**: Add a new column `EmploymentType` containing the values `Enthusiast` (student or not employed but looking for work), `Professional` (employed full-time, part-time or freelancing), and `Other` (not employed or retired). For each of the graphs that follow, show a comparison between `Enthusiast` and `Professional`.\n",
    "\n"
   ]
  },
  {
   "cell_type": "markdown",
   "id": "a4d74deb",
   "metadata": {
    "papermill": {
     "duration": 0.031748,
     "end_time": "2022-11-05T14:35:55.673587",
     "exception": false,
     "start_time": "2022-11-05T14:35:55.641839",
     "status": "completed"
    },
    "tags": []
   },
   "source": [
    "The `DevType` field contains information about the roles held by respondents. Since the question allows multiple answers, the column contains lists of values separated by a semi-colon `;`, making it a bit harder to analyze directly."
   ]
  },
  {
   "cell_type": "code",
   "execution_count": 41,
   "id": "6b2ef05e",
   "metadata": {
    "execution": {
     "iopub.execute_input": "2022-11-05T14:35:55.739560Z",
     "iopub.status.busy": "2022-11-05T14:35:55.738757Z",
     "iopub.status.idle": "2022-11-05T14:35:55.744886Z",
     "shell.execute_reply": "2022-11-05T14:35:55.744105Z"
    },
    "papermill": {
     "duration": 0.041987,
     "end_time": "2022-11-05T14:35:55.747041",
     "exception": false,
     "start_time": "2022-11-05T14:35:55.705054",
     "status": "completed"
    },
    "tags": []
   },
   "outputs": [
    {
     "data": {
      "text/plain": [
       "'Which of the following describe you? Please select all that apply.'"
      ]
     },
     "execution_count": 41,
     "metadata": {},
     "output_type": "execute_result"
    }
   ],
   "source": [
    "schema.DevType"
   ]
  },
  {
   "cell_type": "code",
   "execution_count": 42,
   "id": "d01aef7a",
   "metadata": {
    "execution": {
     "iopub.execute_input": "2022-11-05T14:35:55.812719Z",
     "iopub.status.busy": "2022-11-05T14:35:55.812293Z",
     "iopub.status.idle": "2022-11-05T14:35:55.829723Z",
     "shell.execute_reply": "2022-11-05T14:35:55.828960Z"
    },
    "papermill": {
     "duration": 0.05242,
     "end_time": "2022-11-05T14:35:55.831685",
     "exception": false,
     "start_time": "2022-11-05T14:35:55.779265",
     "status": "completed"
    },
    "tags": []
   },
   "outputs": [
    {
     "data": {
      "text/plain": [
       "Developer, full-stack                                                                                                                                                           4396\n",
       "Developer, back-end                                                                                                                                                             3056\n",
       "Developer, back-end;Developer, front-end;Developer, full-stack                                                                                                                  2214\n",
       "Developer, back-end;Developer, full-stack                                                                                                                                       1465\n",
       "Developer, front-end                                                                                                                                                            1390\n",
       "                                                                                                                                                                                ... \n",
       "Database administrator;Developer, back-end;Developer, front-end;Developer, full-stack;Developer, QA or test;Senior executive/VP                                                    1\n",
       "Database administrator;Developer, back-end;Developer, front-end;Developer, full-stack;Product manager;Senior executive/VP                                                          1\n",
       "Developer, back-end;Developer, full-stack;Developer, mobile;DevOps specialist;Educator;System administrator                                                                        1\n",
       "Data or business analyst;Database administrator;Developer, back-end;Developer, desktop or enterprise applications;Developer, front-end;Developer, mobile;Engineering manager       1\n",
       "Data or business analyst;Developer, mobile;Senior executive/VP;System administrator                                                                                                1\n",
       "Name: DevType, Length: 8213, dtype: int64"
      ]
     },
     "execution_count": 42,
     "metadata": {},
     "output_type": "execute_result"
    }
   ],
   "source": [
    "survey_df.DevType.value_counts()"
   ]
  },
  {
   "cell_type": "markdown",
   "id": "03e12860",
   "metadata": {
    "papermill": {
     "duration": 0.031375,
     "end_time": "2022-11-05T14:35:55.894565",
     "exception": false,
     "start_time": "2022-11-05T14:35:55.863190",
     "status": "completed"
    },
    "tags": []
   },
   "source": [
    "Let's define a helper function that turns a column containing lists of values (like `survey_df.DevType`) into a data frame with one column for each possible option."
   ]
  },
  {
   "cell_type": "code",
   "execution_count": 43,
   "id": "a5cfbedb",
   "metadata": {
    "execution": {
     "iopub.execute_input": "2022-11-05T14:35:55.960123Z",
     "iopub.status.busy": "2022-11-05T14:35:55.959442Z",
     "iopub.status.idle": "2022-11-05T14:35:55.965856Z",
     "shell.execute_reply": "2022-11-05T14:35:55.964819Z"
    },
    "papermill": {
     "duration": 0.042184,
     "end_time": "2022-11-05T14:35:55.968271",
     "exception": false,
     "start_time": "2022-11-05T14:35:55.926087",
     "status": "completed"
    },
    "tags": []
   },
   "outputs": [],
   "source": [
    "def split_multicolumn(col_series):\n",
    "    result_df = col_series.to_frame()\n",
    "    options = []\n",
    "    # Iterate over the column\n",
    "    for idx, value  in col_series[col_series.notnull()].iteritems():\n",
    "        # Break each value into list of options\n",
    "        for option in value.split(';'):\n",
    "            # Add the option as a column to result\n",
    "            if not option in result_df.columns:\n",
    "                options.append(option)\n",
    "                result_df[option] = False\n",
    "            # Mark the value in the option column as True\n",
    "            result_df.at[idx, option] = True\n",
    "    return result_df[options]"
   ]
  },
  {
   "cell_type": "code",
   "execution_count": 44,
   "id": "63ffd452",
   "metadata": {
    "execution": {
     "iopub.execute_input": "2022-11-05T14:35:56.034270Z",
     "iopub.status.busy": "2022-11-05T14:35:56.033829Z",
     "iopub.status.idle": "2022-11-05T14:35:57.705548Z",
     "shell.execute_reply": "2022-11-05T14:35:57.704668Z"
    },
    "papermill": {
     "duration": 1.707858,
     "end_time": "2022-11-05T14:35:57.708144",
     "exception": false,
     "start_time": "2022-11-05T14:35:56.000286",
     "status": "completed"
    },
    "tags": []
   },
   "outputs": [],
   "source": [
    "dev_type_df = split_multicolumn(survey_df.DevType)"
   ]
  },
  {
   "cell_type": "code",
   "execution_count": 45,
   "id": "a837b9d4",
   "metadata": {
    "execution": {
     "iopub.execute_input": "2022-11-05T14:35:57.774231Z",
     "iopub.status.busy": "2022-11-05T14:35:57.773206Z",
     "iopub.status.idle": "2022-11-05T14:35:57.803099Z",
     "shell.execute_reply": "2022-11-05T14:35:57.801774Z"
    },
    "papermill": {
     "duration": 0.065599,
     "end_time": "2022-11-05T14:35:57.805679",
     "exception": false,
     "start_time": "2022-11-05T14:35:57.740080",
     "status": "completed"
    },
    "tags": []
   },
   "outputs": [
    {
     "data": {
      "text/html": [
       "<div>\n",
       "<style scoped>\n",
       "    .dataframe tbody tr th:only-of-type {\n",
       "        vertical-align: middle;\n",
       "    }\n",
       "\n",
       "    .dataframe tbody tr th {\n",
       "        vertical-align: top;\n",
       "    }\n",
       "\n",
       "    .dataframe thead th {\n",
       "        text-align: right;\n",
       "    }\n",
       "</style>\n",
       "<table border=\"1\" class=\"dataframe\">\n",
       "  <thead>\n",
       "    <tr style=\"text-align: right;\">\n",
       "      <th></th>\n",
       "      <th>Developer, desktop or enterprise applications</th>\n",
       "      <th>Developer, full-stack</th>\n",
       "      <th>Developer, mobile</th>\n",
       "      <th>Designer</th>\n",
       "      <th>Developer, front-end</th>\n",
       "      <th>Developer, back-end</th>\n",
       "      <th>Developer, QA or test</th>\n",
       "      <th>DevOps specialist</th>\n",
       "      <th>Developer, game or graphics</th>\n",
       "      <th>Database administrator</th>\n",
       "      <th>...</th>\n",
       "      <th>System administrator</th>\n",
       "      <th>Engineering manager</th>\n",
       "      <th>Product manager</th>\n",
       "      <th>Data or business analyst</th>\n",
       "      <th>Academic researcher</th>\n",
       "      <th>Data scientist or machine learning specialist</th>\n",
       "      <th>Scientist</th>\n",
       "      <th>Senior executive/VP</th>\n",
       "      <th>Engineer, site reliability</th>\n",
       "      <th>Marketing or sales professional</th>\n",
       "    </tr>\n",
       "  </thead>\n",
       "  <tbody>\n",
       "    <tr>\n",
       "      <th>0</th>\n",
       "      <td>True</td>\n",
       "      <td>True</td>\n",
       "      <td>False</td>\n",
       "      <td>False</td>\n",
       "      <td>False</td>\n",
       "      <td>False</td>\n",
       "      <td>False</td>\n",
       "      <td>False</td>\n",
       "      <td>False</td>\n",
       "      <td>False</td>\n",
       "      <td>...</td>\n",
       "      <td>False</td>\n",
       "      <td>False</td>\n",
       "      <td>False</td>\n",
       "      <td>False</td>\n",
       "      <td>False</td>\n",
       "      <td>False</td>\n",
       "      <td>False</td>\n",
       "      <td>False</td>\n",
       "      <td>False</td>\n",
       "      <td>False</td>\n",
       "    </tr>\n",
       "    <tr>\n",
       "      <th>1</th>\n",
       "      <td>False</td>\n",
       "      <td>True</td>\n",
       "      <td>True</td>\n",
       "      <td>False</td>\n",
       "      <td>False</td>\n",
       "      <td>False</td>\n",
       "      <td>False</td>\n",
       "      <td>False</td>\n",
       "      <td>False</td>\n",
       "      <td>False</td>\n",
       "      <td>...</td>\n",
       "      <td>False</td>\n",
       "      <td>False</td>\n",
       "      <td>False</td>\n",
       "      <td>False</td>\n",
       "      <td>False</td>\n",
       "      <td>False</td>\n",
       "      <td>False</td>\n",
       "      <td>False</td>\n",
       "      <td>False</td>\n",
       "      <td>False</td>\n",
       "    </tr>\n",
       "    <tr>\n",
       "      <th>2</th>\n",
       "      <td>False</td>\n",
       "      <td>False</td>\n",
       "      <td>False</td>\n",
       "      <td>False</td>\n",
       "      <td>False</td>\n",
       "      <td>False</td>\n",
       "      <td>False</td>\n",
       "      <td>False</td>\n",
       "      <td>False</td>\n",
       "      <td>False</td>\n",
       "      <td>...</td>\n",
       "      <td>False</td>\n",
       "      <td>False</td>\n",
       "      <td>False</td>\n",
       "      <td>False</td>\n",
       "      <td>False</td>\n",
       "      <td>False</td>\n",
       "      <td>False</td>\n",
       "      <td>False</td>\n",
       "      <td>False</td>\n",
       "      <td>False</td>\n",
       "    </tr>\n",
       "    <tr>\n",
       "      <th>3</th>\n",
       "      <td>False</td>\n",
       "      <td>False</td>\n",
       "      <td>False</td>\n",
       "      <td>False</td>\n",
       "      <td>False</td>\n",
       "      <td>False</td>\n",
       "      <td>False</td>\n",
       "      <td>False</td>\n",
       "      <td>False</td>\n",
       "      <td>False</td>\n",
       "      <td>...</td>\n",
       "      <td>False</td>\n",
       "      <td>False</td>\n",
       "      <td>False</td>\n",
       "      <td>False</td>\n",
       "      <td>False</td>\n",
       "      <td>False</td>\n",
       "      <td>False</td>\n",
       "      <td>False</td>\n",
       "      <td>False</td>\n",
       "      <td>False</td>\n",
       "    </tr>\n",
       "    <tr>\n",
       "      <th>4</th>\n",
       "      <td>False</td>\n",
       "      <td>False</td>\n",
       "      <td>False</td>\n",
       "      <td>False</td>\n",
       "      <td>False</td>\n",
       "      <td>False</td>\n",
       "      <td>False</td>\n",
       "      <td>False</td>\n",
       "      <td>False</td>\n",
       "      <td>False</td>\n",
       "      <td>...</td>\n",
       "      <td>False</td>\n",
       "      <td>False</td>\n",
       "      <td>False</td>\n",
       "      <td>False</td>\n",
       "      <td>False</td>\n",
       "      <td>False</td>\n",
       "      <td>False</td>\n",
       "      <td>False</td>\n",
       "      <td>False</td>\n",
       "      <td>False</td>\n",
       "    </tr>\n",
       "    <tr>\n",
       "      <th>...</th>\n",
       "      <td>...</td>\n",
       "      <td>...</td>\n",
       "      <td>...</td>\n",
       "      <td>...</td>\n",
       "      <td>...</td>\n",
       "      <td>...</td>\n",
       "      <td>...</td>\n",
       "      <td>...</td>\n",
       "      <td>...</td>\n",
       "      <td>...</td>\n",
       "      <td>...</td>\n",
       "      <td>...</td>\n",
       "      <td>...</td>\n",
       "      <td>...</td>\n",
       "      <td>...</td>\n",
       "      <td>...</td>\n",
       "      <td>...</td>\n",
       "      <td>...</td>\n",
       "      <td>...</td>\n",
       "      <td>...</td>\n",
       "      <td>...</td>\n",
       "    </tr>\n",
       "    <tr>\n",
       "      <th>64456</th>\n",
       "      <td>False</td>\n",
       "      <td>False</td>\n",
       "      <td>False</td>\n",
       "      <td>False</td>\n",
       "      <td>False</td>\n",
       "      <td>False</td>\n",
       "      <td>False</td>\n",
       "      <td>False</td>\n",
       "      <td>False</td>\n",
       "      <td>False</td>\n",
       "      <td>...</td>\n",
       "      <td>False</td>\n",
       "      <td>False</td>\n",
       "      <td>False</td>\n",
       "      <td>False</td>\n",
       "      <td>False</td>\n",
       "      <td>False</td>\n",
       "      <td>False</td>\n",
       "      <td>True</td>\n",
       "      <td>False</td>\n",
       "      <td>False</td>\n",
       "    </tr>\n",
       "    <tr>\n",
       "      <th>64457</th>\n",
       "      <td>False</td>\n",
       "      <td>False</td>\n",
       "      <td>False</td>\n",
       "      <td>False</td>\n",
       "      <td>False</td>\n",
       "      <td>False</td>\n",
       "      <td>False</td>\n",
       "      <td>False</td>\n",
       "      <td>False</td>\n",
       "      <td>False</td>\n",
       "      <td>...</td>\n",
       "      <td>False</td>\n",
       "      <td>False</td>\n",
       "      <td>False</td>\n",
       "      <td>False</td>\n",
       "      <td>False</td>\n",
       "      <td>False</td>\n",
       "      <td>False</td>\n",
       "      <td>False</td>\n",
       "      <td>False</td>\n",
       "      <td>False</td>\n",
       "    </tr>\n",
       "    <tr>\n",
       "      <th>64458</th>\n",
       "      <td>False</td>\n",
       "      <td>False</td>\n",
       "      <td>False</td>\n",
       "      <td>False</td>\n",
       "      <td>False</td>\n",
       "      <td>False</td>\n",
       "      <td>False</td>\n",
       "      <td>False</td>\n",
       "      <td>False</td>\n",
       "      <td>False</td>\n",
       "      <td>...</td>\n",
       "      <td>False</td>\n",
       "      <td>False</td>\n",
       "      <td>False</td>\n",
       "      <td>False</td>\n",
       "      <td>False</td>\n",
       "      <td>False</td>\n",
       "      <td>False</td>\n",
       "      <td>False</td>\n",
       "      <td>False</td>\n",
       "      <td>False</td>\n",
       "    </tr>\n",
       "    <tr>\n",
       "      <th>64459</th>\n",
       "      <td>False</td>\n",
       "      <td>False</td>\n",
       "      <td>False</td>\n",
       "      <td>False</td>\n",
       "      <td>False</td>\n",
       "      <td>False</td>\n",
       "      <td>False</td>\n",
       "      <td>False</td>\n",
       "      <td>False</td>\n",
       "      <td>False</td>\n",
       "      <td>...</td>\n",
       "      <td>False</td>\n",
       "      <td>False</td>\n",
       "      <td>False</td>\n",
       "      <td>False</td>\n",
       "      <td>False</td>\n",
       "      <td>False</td>\n",
       "      <td>False</td>\n",
       "      <td>False</td>\n",
       "      <td>False</td>\n",
       "      <td>False</td>\n",
       "    </tr>\n",
       "    <tr>\n",
       "      <th>64460</th>\n",
       "      <td>False</td>\n",
       "      <td>False</td>\n",
       "      <td>False</td>\n",
       "      <td>False</td>\n",
       "      <td>False</td>\n",
       "      <td>False</td>\n",
       "      <td>False</td>\n",
       "      <td>False</td>\n",
       "      <td>False</td>\n",
       "      <td>False</td>\n",
       "      <td>...</td>\n",
       "      <td>False</td>\n",
       "      <td>False</td>\n",
       "      <td>False</td>\n",
       "      <td>False</td>\n",
       "      <td>False</td>\n",
       "      <td>False</td>\n",
       "      <td>False</td>\n",
       "      <td>False</td>\n",
       "      <td>False</td>\n",
       "      <td>False</td>\n",
       "    </tr>\n",
       "  </tbody>\n",
       "</table>\n",
       "<p>64306 rows × 23 columns</p>\n",
       "</div>"
      ],
      "text/plain": [
       "       Developer, desktop or enterprise applications  Developer, full-stack  \\\n",
       "0                                               True                   True   \n",
       "1                                              False                   True   \n",
       "2                                              False                  False   \n",
       "3                                              False                  False   \n",
       "4                                              False                  False   \n",
       "...                                              ...                    ...   \n",
       "64456                                          False                  False   \n",
       "64457                                          False                  False   \n",
       "64458                                          False                  False   \n",
       "64459                                          False                  False   \n",
       "64460                                          False                  False   \n",
       "\n",
       "       Developer, mobile  Designer  Developer, front-end  Developer, back-end  \\\n",
       "0                  False     False                 False                False   \n",
       "1                   True     False                 False                False   \n",
       "2                  False     False                 False                False   \n",
       "3                  False     False                 False                False   \n",
       "4                  False     False                 False                False   \n",
       "...                  ...       ...                   ...                  ...   \n",
       "64456              False     False                 False                False   \n",
       "64457              False     False                 False                False   \n",
       "64458              False     False                 False                False   \n",
       "64459              False     False                 False                False   \n",
       "64460              False     False                 False                False   \n",
       "\n",
       "       Developer, QA or test  DevOps specialist  Developer, game or graphics  \\\n",
       "0                      False              False                        False   \n",
       "1                      False              False                        False   \n",
       "2                      False              False                        False   \n",
       "3                      False              False                        False   \n",
       "4                      False              False                        False   \n",
       "...                      ...                ...                          ...   \n",
       "64456                  False              False                        False   \n",
       "64457                  False              False                        False   \n",
       "64458                  False              False                        False   \n",
       "64459                  False              False                        False   \n",
       "64460                  False              False                        False   \n",
       "\n",
       "       Database administrator  ...  System administrator  Engineering manager  \\\n",
       "0                       False  ...                 False                False   \n",
       "1                       False  ...                 False                False   \n",
       "2                       False  ...                 False                False   \n",
       "3                       False  ...                 False                False   \n",
       "4                       False  ...                 False                False   \n",
       "...                       ...  ...                   ...                  ...   \n",
       "64456                   False  ...                 False                False   \n",
       "64457                   False  ...                 False                False   \n",
       "64458                   False  ...                 False                False   \n",
       "64459                   False  ...                 False                False   \n",
       "64460                   False  ...                 False                False   \n",
       "\n",
       "       Product manager  Data or business analyst  Academic researcher  \\\n",
       "0                False                     False                False   \n",
       "1                False                     False                False   \n",
       "2                False                     False                False   \n",
       "3                False                     False                False   \n",
       "4                False                     False                False   \n",
       "...                ...                       ...                  ...   \n",
       "64456            False                     False                False   \n",
       "64457            False                     False                False   \n",
       "64458            False                     False                False   \n",
       "64459            False                     False                False   \n",
       "64460            False                     False                False   \n",
       "\n",
       "       Data scientist or machine learning specialist  Scientist  \\\n",
       "0                                              False      False   \n",
       "1                                              False      False   \n",
       "2                                              False      False   \n",
       "3                                              False      False   \n",
       "4                                              False      False   \n",
       "...                                              ...        ...   \n",
       "64456                                          False      False   \n",
       "64457                                          False      False   \n",
       "64458                                          False      False   \n",
       "64459                                          False      False   \n",
       "64460                                          False      False   \n",
       "\n",
       "       Senior executive/VP  Engineer, site reliability  \\\n",
       "0                    False                       False   \n",
       "1                    False                       False   \n",
       "2                    False                       False   \n",
       "3                    False                       False   \n",
       "4                    False                       False   \n",
       "...                    ...                         ...   \n",
       "64456                 True                       False   \n",
       "64457                False                       False   \n",
       "64458                False                       False   \n",
       "64459                False                       False   \n",
       "64460                False                       False   \n",
       "\n",
       "       Marketing or sales professional  \n",
       "0                                False  \n",
       "1                                False  \n",
       "2                                False  \n",
       "3                                False  \n",
       "4                                False  \n",
       "...                                ...  \n",
       "64456                            False  \n",
       "64457                            False  \n",
       "64458                            False  \n",
       "64459                            False  \n",
       "64460                            False  \n",
       "\n",
       "[64306 rows x 23 columns]"
      ]
     },
     "execution_count": 45,
     "metadata": {},
     "output_type": "execute_result"
    }
   ],
   "source": [
    "dev_type_df"
   ]
  },
  {
   "cell_type": "markdown",
   "id": "fa9dd382",
   "metadata": {
    "papermill": {
     "duration": 0.031696,
     "end_time": "2022-11-05T14:35:57.869610",
     "exception": false,
     "start_time": "2022-11-05T14:35:57.837914",
     "status": "completed"
    },
    "tags": []
   },
   "source": [
    "The `dev_type_df` has one column for each option that can be selected as a response. If a respondent has chosen an option, the corresponding column's value is `True`. Otherwise, it is `False`.\n",
    "\n",
    "We can now use the column-wise totals to identify the most common roles.\n"
   ]
  },
  {
   "cell_type": "code",
   "execution_count": 46,
   "id": "406b4450",
   "metadata": {
    "execution": {
     "iopub.execute_input": "2022-11-05T14:35:57.936174Z",
     "iopub.status.busy": "2022-11-05T14:35:57.935344Z",
     "iopub.status.idle": "2022-11-05T14:35:57.945842Z",
     "shell.execute_reply": "2022-11-05T14:35:57.945011Z"
    },
    "papermill": {
     "duration": 0.046263,
     "end_time": "2022-11-05T14:35:57.947924",
     "exception": false,
     "start_time": "2022-11-05T14:35:57.901661",
     "status": "completed"
    },
    "tags": []
   },
   "outputs": [
    {
     "data": {
      "text/plain": [
       "Developer, back-end                              26996\n",
       "Developer, full-stack                            26915\n",
       "Developer, front-end                             18128\n",
       "Developer, desktop or enterprise applications    11687\n",
       "Developer, mobile                                 9406\n",
       "DevOps specialist                                 5915\n",
       "Database administrator                            5658\n",
       "Designer                                          5262\n",
       "System administrator                              5185\n",
       "Developer, embedded applications or devices       4701\n",
       "Data or business analyst                          3970\n",
       "Data scientist or machine learning specialist     3939\n",
       "Developer, QA or test                             3893\n",
       "Engineer, data                                    3700\n",
       "Academic researcher                               3502\n",
       "Educator                                          2895\n",
       "Developer, game or graphics                       2751\n",
       "Engineering manager                               2699\n",
       "Product manager                                   2471\n",
       "Scientist                                         2060\n",
       "Engineer, site reliability                        1921\n",
       "Senior executive/VP                               1292\n",
       "Marketing or sales professional                    625\n",
       "dtype: int64"
      ]
     },
     "execution_count": 46,
     "metadata": {},
     "output_type": "execute_result"
    }
   ],
   "source": [
    "dev_type_totals = dev_type_df.sum().sort_values(ascending=False)\n",
    "dev_type_totals"
   ]
  },
  {
   "cell_type": "markdown",
   "id": "5b16af83",
   "metadata": {
    "papermill": {
     "duration": 0.032551,
     "end_time": "2022-11-05T14:35:58.012773",
     "exception": false,
     "start_time": "2022-11-05T14:35:57.980222",
     "status": "completed"
    },
    "tags": []
   },
   "source": [
    "As one might expect, the most common roles include \"Developer\" in the name. \n",
    "\n",
    "**Exercises**: \n",
    "\n",
    "* Can you figure out what percentage of respondents work in roles related to data science? \n",
    "* Which positions have the highest percentage of women?"
   ]
  },
  {
   "cell_type": "markdown",
   "id": "0889f24d",
   "metadata": {
    "papermill": {
     "duration": 0.032259,
     "end_time": "2022-11-05T14:35:58.077914",
     "exception": false,
     "start_time": "2022-11-05T14:35:58.045655",
     "status": "completed"
    },
    "tags": []
   },
   "source": [
    "We've only explored a handful of columns from the 20 columns that we selected. Explore and visualize the remaining columns using the empty cells below."
   ]
  },
  {
   "cell_type": "markdown",
   "id": "cab045d5",
   "metadata": {
    "papermill": {
     "duration": 0.031913,
     "end_time": "2022-11-05T14:35:58.142529",
     "exception": false,
     "start_time": "2022-11-05T14:35:58.110616",
     "status": "completed"
    },
    "tags": []
   },
   "source": [
    "Let's save and upload our work before continuing."
   ]
  },
  {
   "cell_type": "markdown",
   "id": "5bcf20ad",
   "metadata": {
    "papermill": {
     "duration": 0.03364,
     "end_time": "2022-11-05T14:35:58.209061",
     "exception": false,
     "start_time": "2022-11-05T14:35:58.175421",
     "status": "completed"
    },
    "tags": []
   },
   "source": [
    "## Asking and Answering Questions\n",
    "\n",
    "We've already gained several insights about the respondents and the programming community by exploring individual columns of the dataset. Let's ask some specific questions and try to answer them using data frame operations and visualizations."
   ]
  },
  {
   "cell_type": "markdown",
   "id": "c60c9449",
   "metadata": {
    "papermill": {
     "duration": 0.03239,
     "end_time": "2022-11-05T14:35:58.273926",
     "exception": false,
     "start_time": "2022-11-05T14:35:58.241536",
     "status": "completed"
    },
    "tags": []
   },
   "source": [
    "#### Q: What are the most popular programming languages in 2020? \n",
    "\n",
    "To answer, this we can use the `LanguageWorkedWith` column. Similar to `DevType`, respondents were allowed to choose multiple options here."
   ]
  },
  {
   "cell_type": "code",
   "execution_count": 47,
   "id": "1370d5e2",
   "metadata": {
    "execution": {
     "iopub.execute_input": "2022-11-05T14:35:58.342616Z",
     "iopub.status.busy": "2022-11-05T14:35:58.341821Z",
     "iopub.status.idle": "2022-11-05T14:35:58.350327Z",
     "shell.execute_reply": "2022-11-05T14:35:58.349400Z"
    },
    "papermill": {
     "duration": 0.044325,
     "end_time": "2022-11-05T14:35:58.352507",
     "exception": false,
     "start_time": "2022-11-05T14:35:58.308182",
     "status": "completed"
    },
    "tags": []
   },
   "outputs": [
    {
     "data": {
      "text/plain": [
       "0                                   C#;HTML/CSS;JavaScript\n",
       "1                                         JavaScript;Swift\n",
       "2                                 Objective-C;Python;Swift\n",
       "3                                                      NaN\n",
       "4                                        HTML/CSS;Ruby;SQL\n",
       "                               ...                        \n",
       "64456                                                  NaN\n",
       "64457    Assembly;Bash/Shell/PowerShell;C;C#;C++;Dart;G...\n",
       "64458                                                  NaN\n",
       "64459                                             HTML/CSS\n",
       "64460                      C#;HTML/CSS;Java;JavaScript;SQL\n",
       "Name: LanguageWorkedWith, Length: 64306, dtype: object"
      ]
     },
     "execution_count": 47,
     "metadata": {},
     "output_type": "execute_result"
    }
   ],
   "source": [
    "survey_df.LanguageWorkedWith"
   ]
  },
  {
   "cell_type": "markdown",
   "id": "1b86530e",
   "metadata": {
    "papermill": {
     "duration": 0.031894,
     "end_time": "2022-11-05T14:35:58.416693",
     "exception": false,
     "start_time": "2022-11-05T14:35:58.384799",
     "status": "completed"
    },
    "tags": []
   },
   "source": [
    "First, we'll split this column into a data frame containing a column of each language listed in the options."
   ]
  },
  {
   "cell_type": "code",
   "execution_count": 48,
   "id": "18890417",
   "metadata": {
    "execution": {
     "iopub.execute_input": "2022-11-05T14:35:58.484018Z",
     "iopub.status.busy": "2022-11-05T14:35:58.483214Z",
     "iopub.status.idle": "2022-11-05T14:36:01.404766Z",
     "shell.execute_reply": "2022-11-05T14:36:01.403645Z"
    },
    "papermill": {
     "duration": 2.958249,
     "end_time": "2022-11-05T14:36:01.407554",
     "exception": false,
     "start_time": "2022-11-05T14:35:58.449305",
     "status": "completed"
    },
    "tags": []
   },
   "outputs": [],
   "source": [
    "languages_worked_df = split_multicolumn(survey_df.LanguageWorkedWith)"
   ]
  },
  {
   "cell_type": "code",
   "execution_count": 49,
   "id": "d61d143a",
   "metadata": {
    "execution": {
     "iopub.execute_input": "2022-11-05T14:36:01.475892Z",
     "iopub.status.busy": "2022-11-05T14:36:01.475504Z",
     "iopub.status.idle": "2022-11-05T14:36:01.503744Z",
     "shell.execute_reply": "2022-11-05T14:36:01.502455Z"
    },
    "papermill": {
     "duration": 0.065062,
     "end_time": "2022-11-05T14:36:01.506085",
     "exception": false,
     "start_time": "2022-11-05T14:36:01.441023",
     "status": "completed"
    },
    "tags": []
   },
   "outputs": [
    {
     "data": {
      "text/html": [
       "<div>\n",
       "<style scoped>\n",
       "    .dataframe tbody tr th:only-of-type {\n",
       "        vertical-align: middle;\n",
       "    }\n",
       "\n",
       "    .dataframe tbody tr th {\n",
       "        vertical-align: top;\n",
       "    }\n",
       "\n",
       "    .dataframe thead th {\n",
       "        text-align: right;\n",
       "    }\n",
       "</style>\n",
       "<table border=\"1\" class=\"dataframe\">\n",
       "  <thead>\n",
       "    <tr style=\"text-align: right;\">\n",
       "      <th></th>\n",
       "      <th>C#</th>\n",
       "      <th>HTML/CSS</th>\n",
       "      <th>JavaScript</th>\n",
       "      <th>Swift</th>\n",
       "      <th>Objective-C</th>\n",
       "      <th>Python</th>\n",
       "      <th>Ruby</th>\n",
       "      <th>SQL</th>\n",
       "      <th>Java</th>\n",
       "      <th>PHP</th>\n",
       "      <th>...</th>\n",
       "      <th>VBA</th>\n",
       "      <th>Perl</th>\n",
       "      <th>Scala</th>\n",
       "      <th>C++</th>\n",
       "      <th>Go</th>\n",
       "      <th>Haskell</th>\n",
       "      <th>Rust</th>\n",
       "      <th>Dart</th>\n",
       "      <th>Julia</th>\n",
       "      <th>Assembly</th>\n",
       "    </tr>\n",
       "  </thead>\n",
       "  <tbody>\n",
       "    <tr>\n",
       "      <th>0</th>\n",
       "      <td>True</td>\n",
       "      <td>True</td>\n",
       "      <td>True</td>\n",
       "      <td>False</td>\n",
       "      <td>False</td>\n",
       "      <td>False</td>\n",
       "      <td>False</td>\n",
       "      <td>False</td>\n",
       "      <td>False</td>\n",
       "      <td>False</td>\n",
       "      <td>...</td>\n",
       "      <td>False</td>\n",
       "      <td>False</td>\n",
       "      <td>False</td>\n",
       "      <td>False</td>\n",
       "      <td>False</td>\n",
       "      <td>False</td>\n",
       "      <td>False</td>\n",
       "      <td>False</td>\n",
       "      <td>False</td>\n",
       "      <td>False</td>\n",
       "    </tr>\n",
       "    <tr>\n",
       "      <th>1</th>\n",
       "      <td>False</td>\n",
       "      <td>False</td>\n",
       "      <td>True</td>\n",
       "      <td>True</td>\n",
       "      <td>False</td>\n",
       "      <td>False</td>\n",
       "      <td>False</td>\n",
       "      <td>False</td>\n",
       "      <td>False</td>\n",
       "      <td>False</td>\n",
       "      <td>...</td>\n",
       "      <td>False</td>\n",
       "      <td>False</td>\n",
       "      <td>False</td>\n",
       "      <td>False</td>\n",
       "      <td>False</td>\n",
       "      <td>False</td>\n",
       "      <td>False</td>\n",
       "      <td>False</td>\n",
       "      <td>False</td>\n",
       "      <td>False</td>\n",
       "    </tr>\n",
       "    <tr>\n",
       "      <th>2</th>\n",
       "      <td>False</td>\n",
       "      <td>False</td>\n",
       "      <td>False</td>\n",
       "      <td>True</td>\n",
       "      <td>True</td>\n",
       "      <td>True</td>\n",
       "      <td>False</td>\n",
       "      <td>False</td>\n",
       "      <td>False</td>\n",
       "      <td>False</td>\n",
       "      <td>...</td>\n",
       "      <td>False</td>\n",
       "      <td>False</td>\n",
       "      <td>False</td>\n",
       "      <td>False</td>\n",
       "      <td>False</td>\n",
       "      <td>False</td>\n",
       "      <td>False</td>\n",
       "      <td>False</td>\n",
       "      <td>False</td>\n",
       "      <td>False</td>\n",
       "    </tr>\n",
       "    <tr>\n",
       "      <th>3</th>\n",
       "      <td>False</td>\n",
       "      <td>False</td>\n",
       "      <td>False</td>\n",
       "      <td>False</td>\n",
       "      <td>False</td>\n",
       "      <td>False</td>\n",
       "      <td>False</td>\n",
       "      <td>False</td>\n",
       "      <td>False</td>\n",
       "      <td>False</td>\n",
       "      <td>...</td>\n",
       "      <td>False</td>\n",
       "      <td>False</td>\n",
       "      <td>False</td>\n",
       "      <td>False</td>\n",
       "      <td>False</td>\n",
       "      <td>False</td>\n",
       "      <td>False</td>\n",
       "      <td>False</td>\n",
       "      <td>False</td>\n",
       "      <td>False</td>\n",
       "    </tr>\n",
       "    <tr>\n",
       "      <th>4</th>\n",
       "      <td>False</td>\n",
       "      <td>True</td>\n",
       "      <td>False</td>\n",
       "      <td>False</td>\n",
       "      <td>False</td>\n",
       "      <td>False</td>\n",
       "      <td>True</td>\n",
       "      <td>True</td>\n",
       "      <td>False</td>\n",
       "      <td>False</td>\n",
       "      <td>...</td>\n",
       "      <td>False</td>\n",
       "      <td>False</td>\n",
       "      <td>False</td>\n",
       "      <td>False</td>\n",
       "      <td>False</td>\n",
       "      <td>False</td>\n",
       "      <td>False</td>\n",
       "      <td>False</td>\n",
       "      <td>False</td>\n",
       "      <td>False</td>\n",
       "    </tr>\n",
       "    <tr>\n",
       "      <th>...</th>\n",
       "      <td>...</td>\n",
       "      <td>...</td>\n",
       "      <td>...</td>\n",
       "      <td>...</td>\n",
       "      <td>...</td>\n",
       "      <td>...</td>\n",
       "      <td>...</td>\n",
       "      <td>...</td>\n",
       "      <td>...</td>\n",
       "      <td>...</td>\n",
       "      <td>...</td>\n",
       "      <td>...</td>\n",
       "      <td>...</td>\n",
       "      <td>...</td>\n",
       "      <td>...</td>\n",
       "      <td>...</td>\n",
       "      <td>...</td>\n",
       "      <td>...</td>\n",
       "      <td>...</td>\n",
       "      <td>...</td>\n",
       "      <td>...</td>\n",
       "    </tr>\n",
       "    <tr>\n",
       "      <th>64456</th>\n",
       "      <td>False</td>\n",
       "      <td>False</td>\n",
       "      <td>False</td>\n",
       "      <td>False</td>\n",
       "      <td>False</td>\n",
       "      <td>False</td>\n",
       "      <td>False</td>\n",
       "      <td>False</td>\n",
       "      <td>False</td>\n",
       "      <td>False</td>\n",
       "      <td>...</td>\n",
       "      <td>False</td>\n",
       "      <td>False</td>\n",
       "      <td>False</td>\n",
       "      <td>False</td>\n",
       "      <td>False</td>\n",
       "      <td>False</td>\n",
       "      <td>False</td>\n",
       "      <td>False</td>\n",
       "      <td>False</td>\n",
       "      <td>False</td>\n",
       "    </tr>\n",
       "    <tr>\n",
       "      <th>64457</th>\n",
       "      <td>True</td>\n",
       "      <td>True</td>\n",
       "      <td>True</td>\n",
       "      <td>True</td>\n",
       "      <td>True</td>\n",
       "      <td>True</td>\n",
       "      <td>True</td>\n",
       "      <td>True</td>\n",
       "      <td>True</td>\n",
       "      <td>True</td>\n",
       "      <td>...</td>\n",
       "      <td>True</td>\n",
       "      <td>True</td>\n",
       "      <td>True</td>\n",
       "      <td>True</td>\n",
       "      <td>True</td>\n",
       "      <td>True</td>\n",
       "      <td>True</td>\n",
       "      <td>True</td>\n",
       "      <td>True</td>\n",
       "      <td>True</td>\n",
       "    </tr>\n",
       "    <tr>\n",
       "      <th>64458</th>\n",
       "      <td>False</td>\n",
       "      <td>False</td>\n",
       "      <td>False</td>\n",
       "      <td>False</td>\n",
       "      <td>False</td>\n",
       "      <td>False</td>\n",
       "      <td>False</td>\n",
       "      <td>False</td>\n",
       "      <td>False</td>\n",
       "      <td>False</td>\n",
       "      <td>...</td>\n",
       "      <td>False</td>\n",
       "      <td>False</td>\n",
       "      <td>False</td>\n",
       "      <td>False</td>\n",
       "      <td>False</td>\n",
       "      <td>False</td>\n",
       "      <td>False</td>\n",
       "      <td>False</td>\n",
       "      <td>False</td>\n",
       "      <td>False</td>\n",
       "    </tr>\n",
       "    <tr>\n",
       "      <th>64459</th>\n",
       "      <td>False</td>\n",
       "      <td>True</td>\n",
       "      <td>False</td>\n",
       "      <td>False</td>\n",
       "      <td>False</td>\n",
       "      <td>False</td>\n",
       "      <td>False</td>\n",
       "      <td>False</td>\n",
       "      <td>False</td>\n",
       "      <td>False</td>\n",
       "      <td>...</td>\n",
       "      <td>False</td>\n",
       "      <td>False</td>\n",
       "      <td>False</td>\n",
       "      <td>False</td>\n",
       "      <td>False</td>\n",
       "      <td>False</td>\n",
       "      <td>False</td>\n",
       "      <td>False</td>\n",
       "      <td>False</td>\n",
       "      <td>False</td>\n",
       "    </tr>\n",
       "    <tr>\n",
       "      <th>64460</th>\n",
       "      <td>True</td>\n",
       "      <td>True</td>\n",
       "      <td>True</td>\n",
       "      <td>False</td>\n",
       "      <td>False</td>\n",
       "      <td>False</td>\n",
       "      <td>False</td>\n",
       "      <td>True</td>\n",
       "      <td>True</td>\n",
       "      <td>False</td>\n",
       "      <td>...</td>\n",
       "      <td>False</td>\n",
       "      <td>False</td>\n",
       "      <td>False</td>\n",
       "      <td>False</td>\n",
       "      <td>False</td>\n",
       "      <td>False</td>\n",
       "      <td>False</td>\n",
       "      <td>False</td>\n",
       "      <td>False</td>\n",
       "      <td>False</td>\n",
       "    </tr>\n",
       "  </tbody>\n",
       "</table>\n",
       "<p>64306 rows × 25 columns</p>\n",
       "</div>"
      ],
      "text/plain": [
       "          C#  HTML/CSS  JavaScript  Swift  Objective-C  Python   Ruby    SQL  \\\n",
       "0       True      True        True  False        False   False  False  False   \n",
       "1      False     False        True   True        False   False  False  False   \n",
       "2      False     False       False   True         True    True  False  False   \n",
       "3      False     False       False  False        False   False  False  False   \n",
       "4      False      True       False  False        False   False   True   True   \n",
       "...      ...       ...         ...    ...          ...     ...    ...    ...   \n",
       "64456  False     False       False  False        False   False  False  False   \n",
       "64457   True      True        True   True         True    True   True   True   \n",
       "64458  False     False       False  False        False   False  False  False   \n",
       "64459  False      True       False  False        False   False  False  False   \n",
       "64460   True      True        True  False        False   False  False   True   \n",
       "\n",
       "        Java    PHP  ...    VBA   Perl  Scala    C++     Go  Haskell   Rust  \\\n",
       "0      False  False  ...  False  False  False  False  False    False  False   \n",
       "1      False  False  ...  False  False  False  False  False    False  False   \n",
       "2      False  False  ...  False  False  False  False  False    False  False   \n",
       "3      False  False  ...  False  False  False  False  False    False  False   \n",
       "4      False  False  ...  False  False  False  False  False    False  False   \n",
       "...      ...    ...  ...    ...    ...    ...    ...    ...      ...    ...   \n",
       "64456  False  False  ...  False  False  False  False  False    False  False   \n",
       "64457   True   True  ...   True   True   True   True   True     True   True   \n",
       "64458  False  False  ...  False  False  False  False  False    False  False   \n",
       "64459  False  False  ...  False  False  False  False  False    False  False   \n",
       "64460   True  False  ...  False  False  False  False  False    False  False   \n",
       "\n",
       "        Dart  Julia  Assembly  \n",
       "0      False  False     False  \n",
       "1      False  False     False  \n",
       "2      False  False     False  \n",
       "3      False  False     False  \n",
       "4      False  False     False  \n",
       "...      ...    ...       ...  \n",
       "64456  False  False     False  \n",
       "64457   True   True      True  \n",
       "64458  False  False     False  \n",
       "64459  False  False     False  \n",
       "64460  False  False     False  \n",
       "\n",
       "[64306 rows x 25 columns]"
      ]
     },
     "execution_count": 49,
     "metadata": {},
     "output_type": "execute_result"
    }
   ],
   "source": [
    "languages_worked_df"
   ]
  },
  {
   "cell_type": "markdown",
   "id": "9d6a636f",
   "metadata": {
    "papermill": {
     "duration": 0.033404,
     "end_time": "2022-11-05T14:36:01.573799",
     "exception": false,
     "start_time": "2022-11-05T14:36:01.540395",
     "status": "completed"
    },
    "tags": []
   },
   "source": [
    "It appears that a total of 25 languages were included among the options. Let's aggregate these to identify the percentage of respondents who selected each language.\n"
   ]
  },
  {
   "cell_type": "code",
   "execution_count": 50,
   "id": "69a77531",
   "metadata": {
    "execution": {
     "iopub.execute_input": "2022-11-05T14:36:01.643541Z",
     "iopub.status.busy": "2022-11-05T14:36:01.643137Z",
     "iopub.status.idle": "2022-11-05T14:36:01.654031Z",
     "shell.execute_reply": "2022-11-05T14:36:01.652943Z"
    },
    "papermill": {
     "duration": 0.04807,
     "end_time": "2022-11-05T14:36:01.656144",
     "exception": false,
     "start_time": "2022-11-05T14:36:01.608074",
     "status": "completed"
    },
    "tags": []
   },
   "outputs": [
    {
     "data": {
      "text/plain": [
       "JavaScript               59.893323\n",
       "HTML/CSS                 55.801947\n",
       "SQL                      48.444935\n",
       "Python                   39.001026\n",
       "Java                     35.618760\n",
       "Bash/Shell/PowerShell    29.239884\n",
       "C#                       27.803004\n",
       "PHP                      23.130035\n",
       "TypeScript               22.461357\n",
       "C++                      21.114670\n",
       "C                        19.236152\n",
       "Go                        7.758219\n",
       "Kotlin                    6.887382\n",
       "Ruby                      6.229590\n",
       "Assembly                  5.447392\n",
       "VBA                       5.394520\n",
       "Swift                     5.226573\n",
       "R                         5.064846\n",
       "Rust                      4.498803\n",
       "Objective-C               3.603085\n",
       "Dart                      3.517557\n",
       "Scala                     3.150561\n",
       "Perl                      2.757130\n",
       "Haskell                   1.861413\n",
       "Julia                     0.782198\n",
       "dtype: float64"
      ]
     },
     "execution_count": 50,
     "metadata": {},
     "output_type": "execute_result"
    }
   ],
   "source": [
    "languages_worked_percentages = languages_worked_df.mean().sort_values(ascending=False) * 100\n",
    "languages_worked_percentages"
   ]
  },
  {
   "cell_type": "markdown",
   "id": "a839723a",
   "metadata": {
    "papermill": {
     "duration": 0.033555,
     "end_time": "2022-11-05T14:36:01.723346",
     "exception": false,
     "start_time": "2022-11-05T14:36:01.689791",
     "status": "completed"
    },
    "tags": []
   },
   "source": [
    "We can plot this information using a horizontal bar chart."
   ]
  },
  {
   "cell_type": "code",
   "execution_count": 51,
   "id": "eb26b315",
   "metadata": {
    "execution": {
     "iopub.execute_input": "2022-11-05T14:36:01.794218Z",
     "iopub.status.busy": "2022-11-05T14:36:01.793426Z",
     "iopub.status.idle": "2022-11-05T14:36:02.264439Z",
     "shell.execute_reply": "2022-11-05T14:36:02.263032Z"
    },
    "papermill": {
     "duration": 0.509927,
     "end_time": "2022-11-05T14:36:02.267742",
     "exception": false,
     "start_time": "2022-11-05T14:36:01.757815",
     "status": "completed"
    },
    "tags": []
   },
   "outputs": [
    {
     "data": {
      "image/png": "[encoded data removed]",
      "text/plain": [
       "<Figure size 864x864 with 1 Axes>"
      ]
     },
     "metadata": {
      "needs_background": "light"
     },
     "output_type": "display_data"
    }
   ],
   "source": [
    "plt.figure(figsize=(12, 12))\n",
    "sns.barplot(x=languages_worked_percentages, y=languages_worked_percentages.index)\n",
    "plt.title(\"Languages used in the past year\");\n",
    "plt.xlabel('count');"
   ]
  },
  {
   "cell_type": "markdown",
   "id": "f0b91bc6",
   "metadata": {
    "papermill": {
     "duration": 0.033528,
     "end_time": "2022-11-05T14:36:02.335433",
     "exception": false,
     "start_time": "2022-11-05T14:36:02.301905",
     "status": "completed"
    },
    "tags": []
   },
   "source": [
    "Perhaps unsurprisingly, Javascript & HTML/CSS comes out at the top as web development is one of today's most sought skills. It also happens to be one of the easiest to get started. SQL is necessary for working with relational databases, so it's no surprise that most programmers work with SQL regularly. Python seems to be the popular choice for other forms of development, beating out Java, which was the industry standard for server & application development for over two decades.\n",
    "\n",
    "**Exercises**:\n",
    "\n",
    "* What are the most common languages used by students? How does the list compare with the most common languages used by professional developers?\n",
    "* What are the most common languages among respondents who do not describe themselves as \"Developer, front-end\"?\n",
    "* What are the most common languages among respondents who work in fields related to data science?\n",
    "* What are the most common languages used by developers older than 35 years of age? \n",
    "* What are the most common languages used by developers in your home country?"
   ]
  },
  {
   "cell_type": "markdown",
   "id": "2cf5832e",
   "metadata": {
    "papermill": {
     "duration": 0.033416,
     "end_time": "2022-11-05T14:36:02.402513",
     "exception": false,
     "start_time": "2022-11-05T14:36:02.369097",
     "status": "completed"
    },
    "tags": []
   },
   "source": [
    "#### Q: Which languages are the most people interested to learn over the next year?\n",
    "\n",
    "For this, we can use the `LanguageDesireNextYear` column, with similar processing as the previous one."
   ]
  },
  {
   "cell_type": "code",
   "execution_count": 52,
   "id": "e16634c0",
   "metadata": {
    "execution": {
     "iopub.execute_input": "2022-11-05T14:36:02.472836Z",
     "iopub.status.busy": "2022-11-05T14:36:02.472016Z",
     "iopub.status.idle": "2022-11-05T14:36:04.913823Z",
     "shell.execute_reply": "2022-11-05T14:36:04.912690Z"
    },
    "papermill": {
     "duration": 2.479859,
     "end_time": "2022-11-05T14:36:04.916307",
     "exception": false,
     "start_time": "2022-11-05T14:36:02.436448",
     "status": "completed"
    },
    "tags": []
   },
   "outputs": [
    {
     "data": {
      "text/plain": [
       "Python                   41.143906\n",
       "JavaScript               40.425466\n",
       "HTML/CSS                 32.028116\n",
       "SQL                      30.799614\n",
       "TypeScript               26.451653\n",
       "C#                       21.058688\n",
       "Java                     20.464653\n",
       "Go                       19.432090\n",
       "Bash/Shell/PowerShell    18.057413\n",
       "Rust                     16.270643\n",
       "C++                      15.014151\n",
       "Kotlin                   14.760676\n",
       "PHP                      10.947657\n",
       "C                         9.359935\n",
       "Swift                     8.692812\n",
       "Dart                      7.308805\n",
       "R                         6.571704\n",
       "Ruby                      6.425528\n",
       "Scala                     5.326097\n",
       "Haskell                   4.593662\n",
       "Assembly                  3.766367\n",
       "Julia                     2.540976\n",
       "Objective-C               2.338818\n",
       "Perl                      1.761888\n",
       "VBA                       1.611047\n",
       "dtype: float64"
      ]
     },
     "execution_count": 52,
     "metadata": {},
     "output_type": "execute_result"
    }
   ],
   "source": [
    "languages_interested_df = split_multicolumn(survey_df.LanguageDesireNextYear)\n",
    "languages_interested_percentages = languages_interested_df.mean().sort_values(ascending=False) * 100\n",
    "languages_interested_percentages"
   ]
  },
  {
   "cell_type": "code",
   "execution_count": 53,
   "id": "936ced23",
   "metadata": {
    "execution": {
     "iopub.execute_input": "2022-11-05T14:36:04.987699Z",
     "iopub.status.busy": "2022-11-05T14:36:04.986651Z",
     "iopub.status.idle": "2022-11-05T14:36:05.478511Z",
     "shell.execute_reply": "2022-11-05T14:36:05.477518Z"
    },
    "papermill": {
     "duration": 0.530434,
     "end_time": "2022-11-05T14:36:05.481058",
     "exception": false,
     "start_time": "2022-11-05T14:36:04.950624",
     "status": "completed"
    },
    "tags": []
   },
   "outputs": [
    {
     "data": {
      "image/png": "[encoded data removed]",
      "text/plain": [
       "<Figure size 864x864 with 1 Axes>"
      ]
     },
     "metadata": {
      "needs_background": "light"
     },
     "output_type": "display_data"
    }
   ],
   "source": [
    "plt.figure(figsize=(12, 12))\n",
    "sns.barplot(x=languages_interested_percentages, y=languages_interested_percentages.index)\n",
    "plt.title(\"Languages people are intersted in learning over the next year\");\n",
    "plt.xlabel('count');"
   ]
  },
  {
   "cell_type": "markdown",
   "id": "448bcd50",
   "metadata": {
    "papermill": {
     "duration": 0.03442,
     "end_time": "2022-11-05T14:36:05.550494",
     "exception": false,
     "start_time": "2022-11-05T14:36:05.516074",
     "status": "completed"
    },
    "tags": []
   },
   "source": [
    "Once again, it's not surprising that Python is the language most people are interested in learning - since it is an easy-to-learn general-purpose programming language well suited for a variety of domains: application development, numerical computing, data analysis, machine learning, big data, cloud automation, web scraping, scripting, etc. We're using Python for this very analysis, so we're in good company!\n",
    "\n",
    "**Exercises**: Repeat the exercises from the previous question, replacing \"most common languages\" with \"languages people are interested in learning/using.\""
   ]
  },
  {
   "cell_type": "markdown",
   "id": "0b1b2e3d",
   "metadata": {
    "papermill": {
     "duration": 0.034613,
     "end_time": "2022-11-05T14:36:05.619641",
     "exception": false,
     "start_time": "2022-11-05T14:36:05.585028",
     "status": "completed"
    },
    "tags": []
   },
   "source": [
    "#### Q:  Which are the most loved languages, i.e., a high percentage of people who have used the language want to continue learning & using it over the next year?\n",
    "\n",
    "While this question may seem tricky at first, it's straightforward to solve using Pandas array operations. Here's what we can do:\n",
    "\n",
    "- Create a new data frame `languages_loved_df` that contains a `True` value for a language only if the corresponding values in `languages_worked_df` and `languages_interested_df` are both `True`\n",
    "- Take the column-wise sum of `languages_loved_df` and divide it by the column-wise sum of `languages_worked_df` to get the percentage of respondents who \"love\" the language\n",
    "- Sort the results in decreasing order and plot a horizontal bar graph"
   ]
  },
  {
   "cell_type": "code",
   "execution_count": 54,
   "id": "e800adad",
   "metadata": {
    "execution": {
     "iopub.execute_input": "2022-11-05T14:36:05.691584Z",
     "iopub.status.busy": "2022-11-05T14:36:05.690830Z",
     "iopub.status.idle": "2022-11-05T14:36:05.709849Z",
     "shell.execute_reply": "2022-11-05T14:36:05.708424Z"
    },
    "papermill": {
     "duration": 0.058036,
     "end_time": "2022-11-05T14:36:05.712466",
     "exception": false,
     "start_time": "2022-11-05T14:36:05.654430",
     "status": "completed"
    },
    "tags": []
   },
   "outputs": [],
   "source": [
    "languages_loved_df = languages_worked_df & languages_interested_df"
   ]
  },
  {
   "cell_type": "code",
   "execution_count": 55,
   "id": "2acf0eeb",
   "metadata": {
    "execution": {
     "iopub.execute_input": "2022-11-05T14:36:05.784243Z",
     "iopub.status.busy": "2022-11-05T14:36:05.783828Z",
     "iopub.status.idle": "2022-11-05T14:36:05.795896Z",
     "shell.execute_reply": "2022-11-05T14:36:05.794758Z"
    },
    "papermill": {
     "duration": 0.050718,
     "end_time": "2022-11-05T14:36:05.798285",
     "exception": false,
     "start_time": "2022-11-05T14:36:05.747567",
     "status": "completed"
    },
    "tags": []
   },
   "outputs": [],
   "source": [
    "languages_loved_percentages = (languages_loved_df.sum() * 100/ languages_worked_df.sum()).sort_values(ascending=False)"
   ]
  },
  {
   "cell_type": "code",
   "execution_count": 56,
   "id": "8edf3e33",
   "metadata": {
    "execution": {
     "iopub.execute_input": "2022-11-05T14:36:05.869988Z",
     "iopub.status.busy": "2022-11-05T14:36:05.869576Z",
     "iopub.status.idle": "2022-11-05T14:36:06.321447Z",
     "shell.execute_reply": "2022-11-05T14:36:06.320349Z"
    },
    "papermill": {
     "duration": 0.490471,
     "end_time": "2022-11-05T14:36:06.323843",
     "exception": false,
     "start_time": "2022-11-05T14:36:05.833372",
     "status": "completed"
    },
    "tags": []
   },
   "outputs": [
    {
     "data": {
      "image/png": "[encoded data removed]",
      "text/plain": [
       "<Figure size 864x864 with 1 Axes>"
      ]
     },
     "metadata": {
      "needs_background": "light"
     },
     "output_type": "display_data"
    }
   ],
   "source": [
    "plt.figure(figsize=(12, 12))\n",
    "sns.barplot(x=languages_loved_percentages, y=languages_loved_percentages.index)\n",
    "plt.title(\"Most loved languages\");\n",
    "plt.xlabel('count');"
   ]
  },
  {
   "cell_type": "markdown",
   "id": "9d2aa805",
   "metadata": {
    "papermill": {
     "duration": 0.035585,
     "end_time": "2022-11-05T14:36:06.395297",
     "exception": false,
     "start_time": "2022-11-05T14:36:06.359712",
     "status": "completed"
    },
    "tags": []
   },
   "source": [
    "[Rust](https://www.rust-lang.org) has been StackOverflow's most-loved language for [four years in a row](https://stackoverflow.blog/2020/01/20/what-is-rust-and-why-is-it-so-popular/). The second most-loved language is TypeScript, a popular alternative to JavaScript for web development.\n",
    "\n",
    "Python features at number 3, despite already being one of the most widely-used languages in the world. Python has a solid foundation, is easy to learn & use, has a large ecosystem of domain-specific libraries, and a massive worldwide community.\n",
    "\n",
    "**Exercises:** What are the most dreaded languages, i.e., languages which people have used in the past year but do not want to learn/use over the next year. Hint: `~languages_interested_df`."
   ]
  },
  {
   "cell_type": "markdown",
   "id": "96cd4ec5",
   "metadata": {
    "papermill": {
     "duration": 0.036048,
     "end_time": "2022-11-05T14:36:06.466913",
     "exception": false,
     "start_time": "2022-11-05T14:36:06.430865",
     "status": "completed"
    },
    "tags": []
   },
   "source": [
    "#### Q: In which countries do developers work the highest number of hours per week? Consider countries with more than 250 responses only.\n",
    "\n",
    "To answer this question, we'll need to use the `groupby` data frame method to aggregate the rows for each country. We'll also need to filter the results to only include the countries with more than 250 respondents."
   ]
  },
  {
   "cell_type": "code",
   "execution_count": 57,
   "id": "f6635319",
   "metadata": {
    "execution": {
     "iopub.execute_input": "2022-11-05T14:36:06.542634Z",
     "iopub.status.busy": "2022-11-05T14:36:06.541479Z",
     "iopub.status.idle": "2022-11-05T14:36:06.556432Z",
     "shell.execute_reply": "2022-11-05T14:36:06.555587Z"
    },
    "papermill": {
     "duration": 0.053751,
     "end_time": "2022-11-05T14:36:06.558759",
     "exception": false,
     "start_time": "2022-11-05T14:36:06.505008",
     "status": "completed"
    },
    "tags": []
   },
   "outputs": [],
   "source": [
    "countries_df = survey_df.groupby('Country')[['WorkWeekHrs']].mean().sort_values('WorkWeekHrs', ascending=False)"
   ]
  },
  {
   "cell_type": "code",
   "execution_count": 58,
   "id": "dd2670f1",
   "metadata": {
    "execution": {
     "iopub.execute_input": "2022-11-05T14:36:06.632617Z",
     "iopub.status.busy": "2022-11-05T14:36:06.631916Z",
     "iopub.status.idle": "2022-11-05T14:36:06.645852Z",
     "shell.execute_reply": "2022-11-05T14:36:06.644175Z"
    },
    "papermill": {
     "duration": 0.053477,
     "end_time": "2022-11-05T14:36:06.648210",
     "exception": false,
     "start_time": "2022-11-05T14:36:06.594733",
     "status": "completed"
    },
    "tags": []
   },
   "outputs": [],
   "source": [
    "high_response_countries_df = countries_df.loc[survey_df.Country.value_counts() > 250].head(15)"
   ]
  },
  {
   "cell_type": "code",
   "execution_count": 59,
   "id": "b98a28a7",
   "metadata": {
    "execution": {
     "iopub.execute_input": "2022-11-05T14:36:06.721506Z",
     "iopub.status.busy": "2022-11-05T14:36:06.720912Z",
     "iopub.status.idle": "2022-11-05T14:36:06.729670Z",
     "shell.execute_reply": "2022-11-05T14:36:06.728888Z"
    },
    "papermill": {
     "duration": 0.048078,
     "end_time": "2022-11-05T14:36:06.731599",
     "exception": false,
     "start_time": "2022-11-05T14:36:06.683521",
     "status": "completed"
    },
    "tags": []
   },
   "outputs": [
    {
     "data": {
      "text/html": [
       "<div>\n",
       "<style scoped>\n",
       "    .dataframe tbody tr th:only-of-type {\n",
       "        vertical-align: middle;\n",
       "    }\n",
       "\n",
       "    .dataframe tbody tr th {\n",
       "        vertical-align: top;\n",
       "    }\n",
       "\n",
       "    .dataframe thead th {\n",
       "        text-align: right;\n",
       "    }\n",
       "</style>\n",
       "<table border=\"1\" class=\"dataframe\">\n",
       "  <thead>\n",
       "    <tr style=\"text-align: right;\">\n",
       "      <th></th>\n",
       "      <th>WorkWeekHrs</th>\n",
       "    </tr>\n",
       "    <tr>\n",
       "      <th>Country</th>\n",
       "      <th></th>\n",
       "    </tr>\n",
       "  </thead>\n",
       "  <tbody>\n",
       "    <tr>\n",
       "      <th>Iran</th>\n",
       "      <td>44.337748</td>\n",
       "    </tr>\n",
       "    <tr>\n",
       "      <th>Israel</th>\n",
       "      <td>43.915094</td>\n",
       "    </tr>\n",
       "    <tr>\n",
       "      <th>China</th>\n",
       "      <td>42.150000</td>\n",
       "    </tr>\n",
       "    <tr>\n",
       "      <th>United States</th>\n",
       "      <td>41.802982</td>\n",
       "    </tr>\n",
       "    <tr>\n",
       "      <th>Greece</th>\n",
       "      <td>41.402724</td>\n",
       "    </tr>\n",
       "    <tr>\n",
       "      <th>Viet Nam</th>\n",
       "      <td>41.391667</td>\n",
       "    </tr>\n",
       "    <tr>\n",
       "      <th>South Africa</th>\n",
       "      <td>41.023460</td>\n",
       "    </tr>\n",
       "    <tr>\n",
       "      <th>Turkey</th>\n",
       "      <td>40.982143</td>\n",
       "    </tr>\n",
       "    <tr>\n",
       "      <th>Sri Lanka</th>\n",
       "      <td>40.612245</td>\n",
       "    </tr>\n",
       "    <tr>\n",
       "      <th>New Zealand</th>\n",
       "      <td>40.457551</td>\n",
       "    </tr>\n",
       "    <tr>\n",
       "      <th>Belgium</th>\n",
       "      <td>40.444444</td>\n",
       "    </tr>\n",
       "    <tr>\n",
       "      <th>Canada</th>\n",
       "      <td>40.208837</td>\n",
       "    </tr>\n",
       "    <tr>\n",
       "      <th>Hungary</th>\n",
       "      <td>40.194340</td>\n",
       "    </tr>\n",
       "    <tr>\n",
       "      <th>Bangladesh</th>\n",
       "      <td>40.097458</td>\n",
       "    </tr>\n",
       "    <tr>\n",
       "      <th>India</th>\n",
       "      <td>40.090603</td>\n",
       "    </tr>\n",
       "  </tbody>\n",
       "</table>\n",
       "</div>"
      ],
      "text/plain": [
       "               WorkWeekHrs\n",
       "Country                   \n",
       "Iran             44.337748\n",
       "Israel           43.915094\n",
       "China            42.150000\n",
       "United States    41.802982\n",
       "Greece           41.402724\n",
       "Viet Nam         41.391667\n",
       "South Africa     41.023460\n",
       "Turkey           40.982143\n",
       "Sri Lanka        40.612245\n",
       "New Zealand      40.457551\n",
       "Belgium          40.444444\n",
       "Canada           40.208837\n",
       "Hungary          40.194340\n",
       "Bangladesh       40.097458\n",
       "India            40.090603"
      ]
     },
     "execution_count": 59,
     "metadata": {},
     "output_type": "execute_result"
    }
   ],
   "source": [
    "high_response_countries_df"
   ]
  },
  {
   "cell_type": "markdown",
   "id": "42f3c035",
   "metadata": {
    "papermill": {
     "duration": 0.035672,
     "end_time": "2022-11-05T14:36:06.802894",
     "exception": false,
     "start_time": "2022-11-05T14:36:06.767222",
     "status": "completed"
    },
    "tags": []
   },
   "source": [
    "The Asian countries like Iran, China, and Israel have the highest working hours, followed by the United States. However, there isn't too much variation overall, and the average working hours seem to be around 40 hours per week.\n",
    "\n",
    "**Exercises:**\n",
    "\n",
    "* How do the average work hours compare across continents? You may find this list of [countries in each continent](https://hub.jovian.ml/wp-content/uploads/2020/09/countries.csv) useful.\n",
    "* Which role has the highest average number of hours worked per week? Which one has the lowest?\n",
    "* How do the hours worked compare between freelancers and developers working full-time?"
   ]
  },
  {
   "cell_type": "markdown",
   "id": "1fdeb3c6",
   "metadata": {
    "papermill": {
     "duration": 0.035337,
     "end_time": "2022-11-05T14:36:06.873832",
     "exception": false,
     "start_time": "2022-11-05T14:36:06.838495",
     "status": "completed"
    },
    "tags": []
   },
   "source": [
    "#### Q: How important is it to start young to build a career in programming?\n",
    "\n",
    "Let's create a scatter plot of `Age` vs. `YearsCodePro` (i.e., years of coding experience) to answer this question."
   ]
  },
  {
   "cell_type": "code",
   "execution_count": 60,
   "id": "509cf6c0",
   "metadata": {
    "execution": {
     "iopub.execute_input": "2022-11-05T14:36:06.946838Z",
     "iopub.status.busy": "2022-11-05T14:36:06.946236Z",
     "iopub.status.idle": "2022-11-05T14:36:06.951468Z",
     "shell.execute_reply": "2022-11-05T14:36:06.950722Z"
    },
    "papermill": {
     "duration": 0.044153,
     "end_time": "2022-11-05T14:36:06.953376",
     "exception": false,
     "start_time": "2022-11-05T14:36:06.909223",
     "status": "completed"
    },
    "tags": []
   },
   "outputs": [
    {
     "data": {
      "text/plain": [
       "'NOT including education, how many years have you coded professionally (as a part of your work)?'"
      ]
     },
     "execution_count": 60,
     "metadata": {},
     "output_type": "execute_result"
    }
   ],
   "source": [
    "schema.YearsCodePro"
   ]
  },
  {
   "cell_type": "code",
   "execution_count": 61,
   "id": "4bdad21b",
   "metadata": {
    "execution": {
     "iopub.execute_input": "2022-11-05T14:36:07.027081Z",
     "iopub.status.busy": "2022-11-05T14:36:07.026476Z",
     "iopub.status.idle": "2022-11-05T14:36:08.940306Z",
     "shell.execute_reply": "2022-11-05T14:36:08.939184Z"
    },
    "papermill": {
     "duration": 1.954118,
     "end_time": "2022-11-05T14:36:08.943497",
     "exception": false,
     "start_time": "2022-11-05T14:36:06.989379",
     "status": "completed"
    },
    "tags": []
   },
   "outputs": [
    {
     "data": {
      "image/png": "[encoded data removed]",
      "text/plain": [
       "<Figure size 648x360 with 1 Axes>"
      ]
     },
     "metadata": {
      "needs_background": "light"
     },
     "output_type": "display_data"
    }
   ],
   "source": [
    "sns.scatterplot(x='Age', y='YearsCodePro', hue='Hobbyist', data=survey_df)\n",
    "plt.xlabel(\"Age\")\n",
    "plt.ylabel(\"Years of professional coding experience\");"
   ]
  },
  {
   "cell_type": "markdown",
   "id": "af64e829",
   "metadata": {
    "papermill": {
     "duration": 0.038372,
     "end_time": "2022-11-05T14:36:09.020640",
     "exception": false,
     "start_time": "2022-11-05T14:36:08.982268",
     "status": "completed"
    },
    "tags": []
   },
   "source": [
    "You can see points all over the graph, which indicates that you can **start programming professionally at any age**. Many people who have been coding for several decades professionally also seem to enjoy it as a hobby.\n",
    "\n",
    "We can also view the distribution of the `Age1stCode` column to see when the respondents tried programming for the first time."
   ]
  },
  {
   "cell_type": "code",
   "execution_count": 62,
   "id": "314fb63f",
   "metadata": {
    "execution": {
     "iopub.execute_input": "2022-11-05T14:36:09.100499Z",
     "iopub.status.busy": "2022-11-05T14:36:09.100039Z",
     "iopub.status.idle": "2022-11-05T14:36:09.951960Z",
     "shell.execute_reply": "2022-11-05T14:36:09.950829Z"
    },
    "papermill": {
     "duration": 0.895015,
     "end_time": "2022-11-05T14:36:09.954411",
     "exception": false,
     "start_time": "2022-11-05T14:36:09.059396",
     "status": "completed"
    },
    "tags": []
   },
   "outputs": [
    {
     "data": {
      "image/png": "[encoded data removed]",
      "text/plain": [
       "<Figure size 648x360 with 1 Axes>"
      ]
     },
     "metadata": {
      "needs_background": "light"
     },
     "output_type": "display_data"
    }
   ],
   "source": [
    "plt.title(schema.Age1stCode)\n",
    "sns.histplot(x=survey_df.Age1stCode, bins=30, kde=True);"
   ]
  },
  {
   "cell_type": "markdown",
   "id": "4775c88f",
   "metadata": {
    "papermill": {
     "duration": 0.038201,
     "end_time": "2022-11-05T14:36:10.031268",
     "exception": false,
     "start_time": "2022-11-05T14:36:09.993067",
     "status": "completed"
    },
    "tags": []
   },
   "source": [
    "As you might expect, most people seem to have had some exposure to programming before the age of 40. However, but there are people of all ages and walks of life learning to code.\n",
    "\n",
    "**Exercises**:\n",
    "\n",
    "* How does programming experience change opinions & preferences? Repeat the entire analysis while comparing the responses of people who have more than ten years of professional programming experience vs. those who don't. Do you see any interesting trends?\n",
    "* Compare the years of professional coding experience across different genders. \n"
   ]
  },
  {
   "cell_type": "markdown",
   "id": "23172f84",
   "metadata": {
    "papermill": {
     "duration": 0.038368,
     "end_time": "2022-11-05T14:36:10.108553",
     "exception": false,
     "start_time": "2022-11-05T14:36:10.070185",
     "status": "completed"
    },
    "tags": []
   },
   "source": [
    "## Inferences and Conclusions\n",
    "\n",
    "We've drawn many inferences from the survey. Here's a summary of a few of them:\n",
    "\n",
    "- Based on the survey respondents' demographics, we can infer that the survey is somewhat representative of the overall programming community. However, it has fewer responses from programmers in non-English-speaking countries and women & non-binary genders.\n",
    "\n",
    "- The programming community is not as diverse as it can be. Although things are improving, we should make more efforts to support & encourage underrepresented communities, whether in terms of age, country, race, gender, or otherwise.\n",
    "\n",
    "\n",
    "- Although most programmers hold a college degree, a reasonably large percentage did not have computer science as their college major. Hence, a computer science degree isn't compulsory for learning to code or building a career in programming.\n",
    "\n",
    "- A significant percentage of programmers either work part-time or as freelancers, which can be a great way to break into the field, especially when you're just getting started.\n",
    "\n",
    "- Javascript & HTML/CSS are the most used programming languages in 2020, closely followed by SQL & Python.\n",
    "\n",
    "- Python is the language most people are interested in learning - since it is an easy-to-learn general-purpose programming language well suited for various domains.\n",
    "\n",
    "- Rust and TypeScript are the most \"loved\" languages in 2020, both of which have small but fast-growing communities. Python is a close third, despite already being a widely used language.\n",
    "\n",
    "- Programmers worldwide seem to be working for around 40 hours a week on average, with slight variations by country.\n",
    "\n",
    "- You can learn and start programming professionally at any age. You're likely to have a long and fulfilling career if you also enjoy programming as a hobby.\n"
   ]
  },
  {
   "cell_type": "markdown",
   "id": "6da5c25a",
   "metadata": {
    "papermill": {
     "duration": 0.038118,
     "end_time": "2022-11-05T14:36:10.186260",
     "exception": false,
     "start_time": "2022-11-05T14:36:10.148142",
     "status": "completed"
    },
    "tags": []
   },
   "source": [
    "## Exercises\n",
    "\n",
    "There's a wealth of information to be discovered using the survey, and we've barely scratched the surface. Here are some ideas for further exploration:\n",
    "\n",
    "- Repeat the analysis for different age groups & genders, and compare the results\n",
    "- Pick a different set of columns (we chose 20 out of 65) to analyze other facets of the data\n",
    "- Prepare an analysis focusing on diversity - and identify areas where underrepresented communities are at par with the majority (e.g., education) and where they aren't (e.g., salaries)\n",
    "- Compare the results of this year's survey with the previous years and identify interesting trends\n"
   ]
  },
  {
   "cell_type": "markdown",
   "id": "7e4084f4",
   "metadata": {
    "papermill": {
     "duration": 0.038721,
     "end_time": "2022-11-05T14:36:10.263299",
     "exception": false,
     "start_time": "2022-11-05T14:36:10.224578",
     "status": "completed"
    },
    "tags": []
   },
   "source": [
    "## References and Future Work\n",
    "\n",
    "Check out the following resources to learn more about the dataset and tools used in this notebook:\n",
    "\n",
    "- Stack Overflow Developer Survey: https://insights.stackoverflow.com/survey\n",
    "- Pandas user guide: https://pandas.pydata.org/docs/user_guide/index.html\n",
    "- Matplotlib user guide: https://matplotlib.org/3.3.1/users/index.html\n",
    "- Seaborn user guide & tutorial: https://seaborn.pydata.org/tutorial.html\n",
    "- `opendatasets` Python library: https://github.com/JovianML/opendatasets\n",
    "\n",
    "As a next step, you can try out a project on another dataset of your choice: https://jovian.ml/aakashns/zerotopandas-course-project-starter ."
   ]
  }
 ],
 "metadata": {
  "kernelspec": {
   "display_name": "Python 3",
   "language": "python",
   "name": "python3"
  },
  "language_info": {
   "codemirror_mode": {
    "name": "ipython",
    "version": 3
   },
   "file_extension": ".py",
   "mimetype": "text/x-python",
   "name": "python",
   "nbconvert_exporter": "python",
   "pygments_lexer": "ipython3",
   "version": "3.7.12"
  },
  "papermill": {
   "default_parameters": {},
   "duration": 47.491419,
   "end_time": "2022-11-05T14:36:11.024134",
   "environment_variables": {},
   "exception": null,
   "input_path": "__notebook__.ipynb",
   "output_path": "__notebook__.ipynb",
   "parameters": {},
   "start_time": "2022-11-05T14:35:23.532715",
   "version": "2.3.4"
  }
 },
 "nbformat": 4,
 "nbformat_minor": 5
}
