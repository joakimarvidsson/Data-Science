{
  "nbformat": 4,
  "nbformat_minor": 0,
  "metadata": {
    "colab": {
      "provenance": [],
      "collapsed_sections": []
    },
    "kernelspec": {
      "name": "python3",
      "display_name": "Python 3"
    },
    "language_info": {
      "name": "python"
    }
  },
  "cells": [
    {
      "cell_type": "markdown",
      "source": [
        "**Ineuron Full stack Data Science 2.0 Bootcamp**\n",
        "\n",
        "**Assignment-01**\n",
        "\n",
        "thabaresh.syed@gmail.com\n",
        "\n",
        "\n",
        "\n"
      ],
      "metadata": {
        "id": "2JyVNjMfBg17"
      }
    },
    {
      "cell_type": "markdown",
      "source": [
        "**1. What is indentation error? Why indentation is important? Give one simple example?**\n",
        "\n"
      ],
      "metadata": {
        "id": "uwlPo22w2WHL"
      }
    },
    {
      "cell_type": "markdown",
      "source": [
        "The indentation error can occur when the **spaces or tabs are not placed properly.** There will not be an issue if the interpreter does not find any issues with the spaces or tabs. If there is an error due to indentation, it will come in between the execution and can be a show stopper.\n",
        "\n",
        "**Example**:"
      ],
      "metadata": {
        "id": "W9JCVv5x20vc"
      }
    },
    {
      "cell_type": "code",
      "source": [
        "#wrongly indented code - Will shows error as Indention Error\n",
        "\n",
        "is_raining = True\n",
        "\n",
        "if is_raining:\n",
        "print(\"Take and umbrella\")  # here indetentation is marked correctly\n",
        "else:\n",
        "    print(\"You can go without the umbrella\")"
      ],
      "metadata": {
        "colab": {
          "base_uri": "https://localhost:8080/",
          "height": 130
        },
        "id": "S1XV8hLF3e_l",
        "outputId": "04bc001c-5ef5-4663-9d71-f2d9a0d6ed2f"
      },
      "execution_count": 4,
      "outputs": [
        {
          "output_type": "error",
          "ename": "IndentationError",
          "evalue": "ignored",
          "traceback": [
            "\u001b[0;36m  File \u001b[0;32m\"<ipython-input-4-a0a78c40375e>\"\u001b[0;36m, line \u001b[0;32m6\u001b[0m\n\u001b[0;31m    print(\"Take and umbrella\")  # here indetentation is marked correctly\u001b[0m\n\u001b[0m        ^\u001b[0m\n\u001b[0;31mIndentationError\u001b[0m\u001b[0;31m:\u001b[0m expected an indented block\n"
          ]
        }
      ]
    },
    {
      "cell_type": "markdown",
      "source": [
        "In Python, all the lines of code are arranged according to blocks, so it becomes easier for you to spot an error. For example, **if you have used the if statement in any line, the next line must definitely have an indentation.**\n",
        "\n",
        "**Fix will be:**"
      ],
      "metadata": {
        "id": "IW21jps_33gr"
      }
    },
    {
      "cell_type": "code",
      "source": [
        "# example check if it is raining today and if yes then take an umbrella\n",
        "\n",
        "\n",
        "#correct indented code\n",
        "is_raining = True\n",
        "\n",
        "if is_raining:\n",
        "    print(\"Take and umbrella\")  # here indetentation is marked correctly\n",
        "else:\n",
        "    print(\"You can go without the umbrella\")"
      ],
      "metadata": {
        "colab": {
          "base_uri": "https://localhost:8080/"
        },
        "id": "_axqmrhq3tYy",
        "outputId": "a07b96ff-e066-4458-fac8-223be210ce41"
      },
      "execution_count": 5,
      "outputs": [
        {
          "output_type": "stream",
          "name": "stdout",
          "text": [
            "Take and umbrella\n"
          ]
        }
      ]
    },
    {
      "cell_type": "markdown",
      "source": [
        "**2. Correct the following code and write the comment where you made the correction?**]\n",
        "\n",
        "  ```python\n",
        "  class_started = bool(input(\"Hey friend, is class started?: [0-False/1-True]\"))\n",
        "\n",
        "  if class_started:\n",
        "      print(\"Since class started...\")\n",
        "      print(\"Lets concentrate\")\n",
        "  else:\n",
        "      print(\"Since class is not started...\")\n",
        "      print(\"let's revise\")    \n",
        "  ```"
      ],
      "metadata": {
        "id": "zKRvhd5N5SXd"
      }
    },
    {
      "cell_type": "code",
      "source": [
        "class_started = int(input(\"Hey friend, is class started?: [0-False/1-True]\"))\n",
        "\n",
        "#In Python True and False are equivalent to 1 and 0. Use the int() method on a boolean to get its int values.\n",
        "# in python everything apart from an empty string will be treated as True only\n",
        "# So in order to manipulate input correctly (treating 0 as False and 1 as True, we need to change the input type to Int)\n",
        "\n",
        "if class_started:\n",
        "   print(\"Since class started...\")\n",
        "   print(\"Lets concentrate\")\n",
        "else:\n",
        "   print(\"Since class is not started...\")\n",
        "   print(\"let's revise\") "
      ],
      "metadata": {
        "colab": {
          "base_uri": "https://localhost:8080/"
        },
        "id": "cMBhtr1c4ahS",
        "outputId": "7819b296-708c-43ff-fbe6-9b3359702f3c"
      },
      "execution_count": 6,
      "outputs": [
        {
          "output_type": "stream",
          "name": "stdout",
          "text": [
            "Hey friend, is class started?: [0-False/1-True]1\n",
            "Since class started...\n",
            "Lets concentrate\n"
          ]
        }
      ]
    },
    {
      "cell_type": "markdown",
      "source": [
        "**3. Use if else condition to verify that dataype of `input()` method in python is always string.**"
      ],
      "metadata": {
        "id": "0XyZeocz6EgZ"
      }
    },
    {
      "cell_type": "code",
      "source": [
        "#verify data type of python\n",
        "\n",
        "a = input(\"Enter Something \")\n",
        "\n",
        "print(type(a))\n",
        "\n",
        "if type(a) == str:\n",
        "    print(\"input type is string\")\n",
        "else:\n",
        "    print(\"input type is not string\")"
      ],
      "metadata": {
        "colab": {
          "base_uri": "https://localhost:8080/"
        },
        "id": "1ax6fjzz5lG_",
        "outputId": "da718bc8-a218-4a48-b3d9-7b7684dba7c2"
      },
      "execution_count": 8,
      "outputs": [
        {
          "output_type": "stream",
          "name": "stdout",
          "text": [
            "Enter Something ineuron 2.0\n",
            "<class 'str'>\n",
            "input type is string\n"
          ]
        }
      ]
    },
    {
      "cell_type": "markdown",
      "source": [
        "**4. Take 3 variables and assign integer values to them. Find the largest variable, by only using the if and else conditions.**"
      ],
      "metadata": {
        "id": "Eiar9GwU6yol"
      }
    },
    {
      "cell_type": "code",
      "source": [
        "a = 1\n",
        "b = 2\n",
        "c = 3\n",
        "if a>b: \n",
        "  if a>c:\n",
        "    print(\"a is the largest number\", a)\n",
        "  else: \n",
        "    print(\"c is the larget bumber\", c)  \n",
        "elif b>c:\n",
        "  print(\"b is the largest number\", b)\n",
        "else:\n",
        "  print(\"c is the larget number\", c)"
      ],
      "metadata": {
        "colab": {
          "base_uri": "https://localhost:8080/"
        },
        "id": "XbsztPAH6hl_",
        "outputId": "26c193b3-1644-4734-907a-a6ff285e55f9"
      },
      "execution_count": 9,
      "outputs": [
        {
          "output_type": "stream",
          "name": "stdout",
          "text": [
            "c is the larget number 3\n"
          ]
        }
      ]
    },
    {
      "cell_type": "markdown",
      "source": [
        "**5. What would be the solution?**\n",
        "    1. True\n",
        "    2. False\n",
        "\n",
        "    ```python\n",
        "    a = 6\n",
        "    b = 10\n",
        "    print( not ( not a == 10 or not b == 10) )\n",
        "    ```"
      ],
      "metadata": {
        "id": "D5pSWA907GI1"
      }
    },
    {
      "cell_type": "markdown",
      "source": [
        "Answer is **FALSE**\n",
        "\n",
        "```\n",
        "# Output = False \n",
        "\n",
        "# EXPLAINATION : not b == 10 = False and not a == 10 = True ====> True or False ===> True ==> not(True) ==> False\n",
        "```\n",
        "\n"
      ],
      "metadata": {
        "id": "zHDMAUzc7smO"
      }
    },
    {
      "cell_type": "code",
      "source": [
        "a = 6\n",
        "b = 10\n",
        "print( not ( not a == 10 or not b == 10) )\n"
      ],
      "metadata": {
        "colab": {
          "base_uri": "https://localhost:8080/"
        },
        "id": "URMuc1Cl7AUg",
        "outputId": "71b19e5a-0a53-4dde-e44d-c6984c3499ac"
      },
      "execution_count": 10,
      "outputs": [
        {
          "output_type": "stream",
          "name": "stdout",
          "text": [
            "False\n"
          ]
        }
      ]
    },
    {
      "cell_type": "markdown",
      "source": [
        "**6. Find the answer as well as find out the reason behind the result?**"
      ],
      "metadata": {
        "id": "sh_Wjb0C8lYZ"
      }
    },
    {
      "cell_type": "code",
      "source": [
        "# case 1\n",
        "A = 5.0\n",
        "B = 10/2\n",
        "\n",
        "print(f\"value of A {A}\")\n",
        "print(f\"value of B {B}\")\n",
        "print(id(A))\n",
        "print(id(B))\n",
        "\n",
        "\n",
        "print(A is B)\n",
        "\n",
        "#A is B will try to compare A and B and if values are same it will return True else False. Here it will return False."
      ],
      "metadata": {
        "colab": {
          "base_uri": "https://localhost:8080/"
        },
        "id": "puKCXlQo7qqj",
        "outputId": "ec49de72-7bdd-4532-d2b2-af596f5c82c0"
      },
      "execution_count": 11,
      "outputs": [
        {
          "output_type": "stream",
          "name": "stdout",
          "text": [
            "value of A 5.0\n",
            "value of B 5.0\n",
            "139841747711984\n",
            "139841808990864\n",
            "False\n"
          ]
        }
      ]
    },
    {
      "cell_type": "code",
      "source": [
        "#Case 2\n",
        "\n",
        "A = 5.0\n",
        "B = int(10/2)\n",
        "\n",
        "print(f\"value of A {A}\")\n",
        "print(f\"value of B {B}\")\n",
        "print(id(A))\n",
        "print(id(B))\n",
        "\n",
        "print(A is B)\n",
        "\n",
        "#it will return false as Type of A is float and Type of B is int which are not comparable."
      ],
      "metadata": {
        "colab": {
          "base_uri": "https://localhost:8080/"
        },
        "id": "psCyY2JE87BW",
        "outputId": "3dcba056-be95-4486-cbb2-eb6ade828ca7"
      },
      "execution_count": 13,
      "outputs": [
        {
          "output_type": "stream",
          "name": "stdout",
          "text": [
            "value of A 5.0\n",
            "value of B 5\n",
            "139841747711952\n",
            "11122720\n",
            "False\n"
          ]
        }
      ]
    },
    {
      "cell_type": "code",
      "source": [
        "# Case 3\n",
        "\n",
        "A = 5.0\n",
        "B = float(10/2)\n",
        "\n",
        "print(f\"value of A {A}\")\n",
        "print(f\"value of B {B}\")\n",
        "print(id(A))\n",
        "print(id(B))\n",
        "\n",
        "print(A is B)\n",
        "\n",
        "#It will return True value as both A and B are float and have same value 5.0"
      ],
      "metadata": {
        "colab": {
          "base_uri": "https://localhost:8080/"
        },
        "id": "pDcbB3i19BzL",
        "outputId": "38e8749b-0602-4214-b875-71326435d733"
      },
      "execution_count": 14,
      "outputs": [
        {
          "output_type": "stream",
          "name": "stdout",
          "text": [
            "value of A 5.0\n",
            "value of B 5.0\n",
            "139841747711984\n",
            "139841747712048\n",
            "False\n"
          ]
        }
      ]
    },
    {
      "cell_type": "markdown",
      "source": [
        "**7. Write a program that asks the user to enter a number. You should print out a message to the user, either “That number is divisible by either 3 or 5”, or “That number is not divisible by either 3 or 5”. Be sure to consider the data type of the input you are taking in from the user. Use a single if/else block to solve this problem.**"
      ],
      "metadata": {
        "id": "J-TY5dEu9wcJ"
      }
    },
    {
      "cell_type": "code",
      "source": [
        "num = int(input(\"enter a number\"))\n",
        "\n",
        "if num %3 ==0 or num%5 ==0:\n",
        "    print(f\"number {num} is divisible by either 3 or 5\")\n",
        "else:\n",
        "    print(f\"number {num} is not divisible by either 3 or 5\")"
      ],
      "metadata": {
        "colab": {
          "base_uri": "https://localhost:8080/"
        },
        "id": "rHFv8RVW9Vgs",
        "outputId": "14390447-9cf4-4ac3-f7ac-324f3c084e8b"
      },
      "execution_count": 15,
      "outputs": [
        {
          "output_type": "stream",
          "name": "stdout",
          "text": [
            "enter a number25\n",
            "number 25 is divisible by either 3 or 5\n"
          ]
        }
      ]
    },
    {
      "cell_type": "markdown",
      "source": [
        "**8. Take user input for length and width. Then calculate the area of rectangle. Also print as per length and width whether its a square of rectangle.**\n",
        "\n"
      ],
      "metadata": {
        "id": "Dqku_vK0-euO"
      }
    },
    {
      "cell_type": "code",
      "source": [
        "l=int(input(\"Enter length \"))\n",
        "w=int(input(\"Enter width \"))\n",
        "area=l*w\n",
        "if l==w:\n",
        "  object1 = 'Square'\n",
        "else:\n",
        "  object1 = 'Rectangle'\n",
        "print(f\"Area of {object1} is {area} \")"
      ],
      "metadata": {
        "colab": {
          "base_uri": "https://localhost:8080/"
        },
        "id": "nOqQ0Lam-Pgh",
        "outputId": "fd43dd49-7754-4134-c35d-15ededd3d2c6"
      },
      "execution_count": 17,
      "outputs": [
        {
          "output_type": "stream",
          "name": "stdout",
          "text": [
            "Enter length 5\n",
            "Enter width 4\n",
            "Area of Rectangle is 20 \n"
          ]
        }
      ]
    },
    {
      "cell_type": "markdown",
      "source": [
        "**9. Take two variable radius_1 and radius_2 and calculate the area of circle_1 and circle_2. Also print which circle has large area. If area is equal then print area is equal.**"
      ],
      "metadata": {
        "id": "ZdPkSk3U_Kdk"
      }
    },
    {
      "cell_type": "code",
      "source": [
        "radius_1 = int(input(\"Enter raduis of 1st circle \"))\n",
        "radius_2 = int(input(\"Enter raduis of 2nd circle \"))\n",
        "area_1 = 3.14*radius_1*radius_1\n",
        "area_2 = 3.14*radius_2*radius_2\n",
        "if area_1 == area_2:\n",
        "  print(\"both circles are equal\")\n",
        "elif area_1>area_2:\n",
        "  print(\"1st circle is larger than 2nd circle\")\n",
        "else:\n",
        "  print(\"2nd circle is larger than 1st circle\")"
      ],
      "metadata": {
        "colab": {
          "base_uri": "https://localhost:8080/"
        },
        "id": "t31fg0Hm--3D",
        "outputId": "fb100cc3-3273-46b2-c594-0ea1be48edff"
      },
      "execution_count": 18,
      "outputs": [
        {
          "output_type": "stream",
          "name": "stdout",
          "text": [
            "Enter raduis of 1st circle 32\n",
            "Enter raduis of 2nd circle 18\n",
            "1st circle is larger than 2nd circle\n"
          ]
        }
      ]
    },
    {
      "cell_type": "markdown",
      "source": [
        "**10. Check whether a year is leap year or not. Use nested if...else to solve this problem. A leap year is exactly divisible by 4 except for century years (years ending with 00). The century year is a leap year only if it is perfectly divisible by 400.**"
      ],
      "metadata": {
        "id": "V0mR1Phn_pLa"
      }
    },
    {
      "cell_type": "code",
      "source": [
        "# To get year (integer input) from the user\n",
        "year = int(input(\"Enter a year: \"))\n",
        "\n",
        "# divided by 100 means century year (ending with 00)\n",
        "# century year divided by 400 is leap year\n",
        "if (year % 400 == 0) and (year % 100 == 0):\n",
        "    print(f\"{year} is a leap year\")\n",
        "\n",
        "# not divided by 100 means not a century year\n",
        "# year divided by 4 is a leap year\n",
        "elif (year % 4 ==0) and (year % 100 != 0):\n",
        "    print(f\"{year} is a leap year\")\n",
        "\n",
        "# if not divided by both 400 (century year) and 4 (not century year)\n",
        "# year is not leap year\n",
        "else:\n",
        "    print(f\"{year} is not a leap year\")"
      ],
      "metadata": {
        "colab": {
          "base_uri": "https://localhost:8080/"
        },
        "id": "cVcGaMR9_fV-",
        "outputId": "96174105-16db-42df-c50a-3ef9b3f2b800"
      },
      "execution_count": 19,
      "outputs": [
        {
          "output_type": "stream",
          "name": "stdout",
          "text": [
            "Enter a year: 2022\n",
            "2022 is not a leap year\n"
          ]
        }
      ]
    }
  ]
}