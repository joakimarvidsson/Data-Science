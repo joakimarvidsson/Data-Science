{
  "nbformat": 4,
  "nbformat_minor": 0,
  "metadata": {
    "colab": {
      "provenance": [],
      "collapsed_sections": []
    },
    "kernelspec": {
      "name": "python3",
      "display_name": "Python 3"
    }
  },
  "cells": [
    {
      "cell_type": "markdown",
      "metadata": {
        "id": "jO2U2xUfEDa3"
      },
      "source": [
        "##Flow of control - 2\n"
      ]
    },
    {
      "cell_type": "markdown",
      "metadata": {
        "id": "HtP09yhsEJl6"
      },
      "source": [
        "1 - Write a Python program to get the Fibonacci series between 0 to 50.\n",
        "\n",
        "Note : The Fibonacci Series is the series of numbers :\n",
        "0, 1, 1, 2, 3, 5, 8, 13, 21, ....\n",
        "\n",
        "Every next number is found by adding up the two numbers before it.\n",
        "\n",
        "Expected Output : 1 1 2 3 5 8 13 21 34."
      ]
    },
    {
      "cell_type": "code",
      "metadata": {
        "id": "j_Lv6z8qEn6z"
      },
      "source": [
        "#write your code here."
      ],
      "execution_count": null,
      "outputs": []
    },
    {
      "cell_type": "code",
      "metadata": {
        "id": "meMAwhjK5MgY",
        "colab": {
          "base_uri": "https://localhost:8080/",
          "height": 0
        },
        "outputId": "da6a859a-fed4-4221-e240-25d580b9e34c"
      },
      "source": [
        "n = int(input(\"Enter the value of 'n': \"))\n",
        "a = 0\n",
        "b = 1\n",
        "sum = 0\n",
        "count = 1\n",
        "print(\"Fibonacci Series: \", end = \" \")\n",
        "while(count <= n):\n",
        "  print(sum, end = \" \")\n",
        "  count += 1\n",
        "  a = b\n",
        "  b = sum\n",
        "  sum = a + b"
      ],
      "execution_count": 2,
      "outputs": [
        {
          "output_type": "stream",
          "name": "stdout",
          "text": [
            "Enter the value of 'n': 50\n",
            "Fibonacci Series:  0 1 1 2 3 5 8 13 21 34 55 89 144 233 377 610 987 1597 2584 4181 6765 10946 17711 28657 46368 75025 121393 196418 317811 514229 832040 1346269 2178309 3524578 5702887 9227465 14930352 24157817 39088169 63245986 102334155 165580141 267914296 433494437 701408733 1134903170 1836311903 2971215073 4807526976 7778742049 "
          ]
        }
      ]
    },
    {
      "cell_type": "code",
      "metadata": {
        "id": "xQZW9FdpEoBJ"
      },
      "source": [],
      "execution_count": null,
      "outputs": []
    },
    {
      "cell_type": "markdown",
      "metadata": {
        "id": "R_W5y6a4Eoc5"
      },
      "source": [
        "2 - Write a Python program that accepts a string and calculate the number of digits and letters. \n",
        "\n",
        "Input : Python 3.2\n",
        "\n",
        "Output :\n",
        "\n",
        "Letters 6\n",
        "\n",
        "Digits 2"
      ]
    },
    {
      "cell_type": "code",
      "metadata": {
        "id": "_8dizBdHE35u"
      },
      "source": [
        "#write your code here"
      ],
      "execution_count": null,
      "outputs": []
    },
    {
      "cell_type": "code",
      "metadata": {
        "id": "X8mONffP5Ofg",
        "colab": {
          "base_uri": "https://localhost:8080/",
          "height": 0
        },
        "outputId": "de05f8fd-539f-4c1c-fa17-f0c8057f6ef7"
      },
      "source": [
        "string = \"python 3.2\"\n",
        "  \n",
        "total_digits = 0\n",
        "total_letters = 0\n",
        "  \n",
        "\n",
        "for s in string: \n",
        "  \n",
        "    if s.isnumeric(): \n",
        "        total_digits += 1\n",
        "\n",
        "    else: \n",
        "        total_letters += 1\n",
        "  \n",
        "print(\"Total letters found :\", total_letters) \n",
        "\n",
        "print(\"Total digits found :\", total_digits) \n",
        "#write your code here."
      ],
      "execution_count": 3,
      "outputs": [
        {
          "output_type": "stream",
          "name": "stdout",
          "text": [
            "Total letters found : 8\n",
            "Total digits found : 2\n"
          ]
        }
      ]
    },
    {
      "cell_type": "code",
      "metadata": {
        "id": "HqPy9dJ1E38q"
      },
      "source": [],
      "execution_count": null,
      "outputs": []
    },
    {
      "cell_type": "markdown",
      "metadata": {
        "id": "f4cOWCVvE4hw"
      },
      "source": [
        "3 - Write a Python program to construct the following pattern, using a nested for loop.\n",
        "\n",
        "1\n",
        "\n",
        "1 1  \n",
        "\n",
        "1 1 1\n",
        "\n",
        "1 1 1 1 \n",
        "\n",
        "1 1 1 1 1 \n",
        "\n",
        "1 1 1 1\n",
        "\n",
        "1 1 1\n",
        "\n",
        "1 1\n",
        "\n",
        "1"
      ]
    },
    {
      "cell_type": "code",
      "metadata": {
        "id": "J8NHQGs-FUDF"
      },
      "source": [
        "#write your code here."
      ],
      "execution_count": null,
      "outputs": []
    },
    {
      "cell_type": "code",
      "metadata": {
        "id": "-fXIrRro5TcA",
        "colab": {
          "base_uri": "https://localhost:8080/",
          "height": 0
        },
        "outputId": "4679338f-988a-46b6-91fa-f6f29f820125"
      },
      "source": [
        "rows = 5\n",
        "for i in range(0, rows):\n",
        "    for j in range(0, i + 1):\n",
        "        print(\"1\", end=' ')\n",
        "    print(\"\\r\")\n",
        "\n",
        "for i in range(rows, 0, -1):\n",
        "    for j in range(0, i - 1):\n",
        "        print(\"1\", end=' ')\n",
        "    print(\"\\r\")"
      ],
      "execution_count": 5,
      "outputs": [
        {
          "output_type": "stream",
          "name": "stdout",
          "text": [
            "1 \r\n",
            "1 1 \r\n",
            "1 1 1 \r\n",
            "1 1 1 1 \r\n",
            "1 1 1 1 1 \r\n",
            "1 1 1 1 \r\n",
            "1 1 1 \r\n",
            "1 1 \r\n",
            "1 \r\n",
            "\r\n"
          ]
        }
      ]
    },
    {
      "cell_type": "code",
      "metadata": {
        "id": "NOW89ScGFUJJ"
      },
      "source": [],
      "execution_count": null,
      "outputs": []
    },
    {
      "cell_type": "markdown",
      "metadata": {
        "id": "CX9P0ZubFdYp"
      },
      "source": [
        "4 -  Write a Python program to construct the following pattern, using a nested for loop.\n",
        "\n",
        "1 0 1 0 1\n",
        "\n",
        "1 0 1 0 1\n",
        "\n",
        "1 0 1 0 1 \n",
        "\n",
        "1 0 1 0 1\n",
        "\n",
        "1 0 1 0 1 "
      ]
    },
    {
      "cell_type": "code",
      "metadata": {
        "id": "ucHxt1QOFzt_"
      },
      "source": [
        "#write your code here."
      ],
      "execution_count": null,
      "outputs": []
    },
    {
      "cell_type": "code",
      "metadata": {
        "id": "Pahh-j_K5UPi",
        "colab": {
          "base_uri": "https://localhost:8080/"
        },
        "outputId": "9c561b80-7c64-4590-9d94-092514ffb8d2"
      },
      "source": [
        "for i in range(1,6):\n",
        "  print(\"\")\n",
        "  for j in range(1,6):\n",
        "    if j%2==0:\n",
        "      print(\"0\" , end= \" \")\n",
        "    else:\n",
        "      print(\"1\" , end= \" \")"
      ],
      "execution_count": 6,
      "outputs": [
        {
          "output_type": "stream",
          "name": "stdout",
          "text": [
            "\n",
            "1 0 1 0 1 \n",
            "1 0 1 0 1 \n",
            "1 0 1 0 1 \n",
            "1 0 1 0 1 \n",
            "1 0 1 0 1 "
          ]
        }
      ]
    },
    {
      "cell_type": "code",
      "metadata": {
        "id": "l1_EVi5IFzz3"
      },
      "source": [],
      "execution_count": null,
      "outputs": []
    },
    {
      "cell_type": "markdown",
      "metadata": {
        "id": "tPePE1GRF0Xu"
      },
      "source": [
        "5 -  Write a Python program to construct the following pattern, using a nested for loop.\n",
        "\n",
        "1 2 2 2 2\n",
        "\n",
        "2 1 2 2 2 \n",
        "\n",
        "2 2 1 2 2 \n",
        "\n",
        "2 2 2 1 2\n",
        "\n",
        "2 2 2 2 1\n"
      ]
    },
    {
      "cell_type": "code",
      "metadata": {
        "id": "LygOywYHGbV0"
      },
      "source": [
        "#write your code here."
      ],
      "execution_count": null,
      "outputs": []
    },
    {
      "cell_type": "code",
      "metadata": {
        "id": "l8xYcNCvGbcT",
        "colab": {
          "base_uri": "https://localhost:8080/"
        },
        "outputId": "e5512725-a940-4732-bc07-2c90f5732dcc"
      },
      "source": [
        "for i in range(1,6):\n",
        "  print(\"\")\n",
        "  a = 0\n",
        "  for j in range(1,6):\n",
        "    a += 1\n",
        "    if i==a:\n",
        "      print(\"1\" , end= \" \")\n",
        "    else:\n",
        "      print(\"2\" , end= \" \")"
      ],
      "execution_count": 7,
      "outputs": [
        {
          "output_type": "stream",
          "name": "stdout",
          "text": [
            "\n",
            "1 2 2 2 2 \n",
            "2 1 2 2 2 \n",
            "2 2 1 2 2 \n",
            "2 2 2 1 2 \n",
            "2 2 2 2 1 "
          ]
        }
      ]
    },
    {
      "cell_type": "code",
      "metadata": {
        "id": "jqCn9p515VJK"
      },
      "source": [],
      "execution_count": null,
      "outputs": []
    },
    {
      "cell_type": "markdown",
      "metadata": {
        "id": "EldUtlMyGiz2"
      },
      "source": [
        "6 -  Write a Python program to construct the following pattern, using a nested for loop.\n",
        "\n",
        " \n",
        "5 4 3 2 1 \n",
        "\n",
        "5 4 3 2 1 \n",
        "\n",
        "5 4 3 2 1\n",
        "\n",
        "5 4 3 2 1 \n",
        "\n",
        "5 4 3 2 1 \n",
        "      \n"
      ]
    },
    {
      "cell_type": "code",
      "metadata": {
        "id": "lCVR6TMRHEPP"
      },
      "source": [
        "#write your code here."
      ],
      "execution_count": null,
      "outputs": []
    },
    {
      "cell_type": "code",
      "metadata": {
        "id": "Gn4JKMZFHEV4",
        "colab": {
          "base_uri": "https://localhost:8080/"
        },
        "outputId": "7bc7de39-4909-412e-b49a-3234df757e13"
      },
      "source": [
        "for i in range(1,6):\n",
        "  print(\"\")\n",
        "  for j in range(5 ,0 , -1):\n",
        "     print(j , end= \" \")"
      ],
      "execution_count": 8,
      "outputs": [
        {
          "output_type": "stream",
          "name": "stdout",
          "text": [
            "\n",
            "5 4 3 2 1 \n",
            "5 4 3 2 1 \n",
            "5 4 3 2 1 \n",
            "5 4 3 2 1 \n",
            "5 4 3 2 1 "
          ]
        }
      ]
    },
    {
      "cell_type": "code",
      "metadata": {
        "id": "cTjnYgYADJSf"
      },
      "source": [],
      "execution_count": null,
      "outputs": []
    },
    {
      "cell_type": "markdown",
      "metadata": {
        "id": "VUE3GJCyHExU"
      },
      "source": [
        "7 - Write a program print the following pattern using for loop\n",
        "\n",
        "5 4 3 2 1 \n",
        "\n",
        "4 3 2 1 \n",
        "\n",
        "3 2 1 \n",
        "\n",
        "2 1 \n",
        "\n",
        "1"
      ]
    },
    {
      "cell_type": "code",
      "metadata": {
        "id": "N5bHE5WUHNAp"
      },
      "source": [
        "#write your code here."
      ],
      "execution_count": null,
      "outputs": []
    },
    {
      "cell_type": "code",
      "metadata": {
        "id": "ZONsL4th5XOH",
        "colab": {
          "base_uri": "https://localhost:8080/"
        },
        "outputId": "3df0eee7-28b9-493e-b655-5d7d34ca2546"
      },
      "source": [
        "for i in range(1,6):\n",
        "  print(\"\")\n",
        "  for j in range(6-i ,0 , -1):\n",
        "     print(j , end= \" \")"
      ],
      "execution_count": 9,
      "outputs": [
        {
          "output_type": "stream",
          "name": "stdout",
          "text": [
            "\n",
            "5 4 3 2 1 \n",
            "4 3 2 1 \n",
            "3 2 1 \n",
            "2 1 \n",
            "1 "
          ]
        }
      ]
    },
    {
      "cell_type": "code",
      "metadata": {
        "id": "3uOT4w8yHNG8"
      },
      "source": [],
      "execution_count": null,
      "outputs": []
    },
    {
      "cell_type": "markdown",
      "metadata": {
        "id": "npvJK7rFHONC"
      },
      "source": [
        "8 - Write a program to reverse the below string using for loop.\n",
        "\n",
        "st = \"I am Thabresh\"\n"
      ]
    },
    {
      "cell_type": "code",
      "metadata": {
        "id": "4_mm3-bnHXXb"
      },
      "source": [
        "#write your code here."
      ],
      "execution_count": null,
      "outputs": []
    },
    {
      "cell_type": "code",
      "metadata": {
        "id": "S1oS7w3G5YDR",
        "colab": {
          "base_uri": "https://localhost:8080/"
        },
        "outputId": "ffccb013-700a-456c-d65c-2fa32cb924db"
      },
      "source": [
        "st = \" I am Thabresh\"\n",
        "\n",
        "n = len(st) - 1\n",
        "\n",
        "while n>=0:\n",
        "  st1 = st[n]\n",
        "  n -= 1\n",
        "  print(st1 , end= \" \")\n"
      ],
      "execution_count": 10,
      "outputs": [
        {
          "output_type": "stream",
          "name": "stdout",
          "text": [
            "h s e r b a h T   m a   I   "
          ]
        }
      ]
    },
    {
      "cell_type": "code",
      "metadata": {
        "id": "--3URHoAHXeP"
      },
      "source": [],
      "execution_count": null,
      "outputs": []
    },
    {
      "cell_type": "markdown",
      "metadata": {
        "id": "N2ud_wfCHYbf"
      },
      "source": [
        "9 - Write a program print the following pattern using for loop\n",
        "\n",
        "1 1 1 1 1 \n",
        "\n",
        "0 0 0 0 0 \n",
        "\n",
        "1 1 1 1 1 \n",
        "\n",
        "0 0 0 0 0\n",
        "\n",
        "1 1 1 1 1 \n"
      ]
    },
    {
      "cell_type": "code",
      "metadata": {
        "id": "M2nnMQdJ5dyU"
      },
      "source": [
        "#write your code here."
      ],
      "execution_count": null,
      "outputs": []
    },
    {
      "cell_type": "code",
      "metadata": {
        "id": "4BSYikYl5ZHG",
        "colab": {
          "base_uri": "https://localhost:8080/"
        },
        "outputId": "57f296f1-2cff-42a9-ebdf-ae39de82a45d"
      },
      "source": [
        "for i in range(1, 6):\n",
        "  print(\"\")\n",
        "  for j in range(1,6):\n",
        "    if i%2==0:\n",
        "      print('0' , end=\" \")\n",
        "    else:\n",
        "      print('1' , end=\" \")"
      ],
      "execution_count": 11,
      "outputs": [
        {
          "output_type": "stream",
          "name": "stdout",
          "text": [
            "\n",
            "1 1 1 1 1 \n",
            "0 0 0 0 0 \n",
            "1 1 1 1 1 \n",
            "0 0 0 0 0 \n",
            "1 1 1 1 1 "
          ]
        }
      ]
    },
    {
      "cell_type": "code",
      "metadata": {
        "id": "xPq6xym35d5S"
      },
      "source": [],
      "execution_count": null,
      "outputs": []
    },
    {
      "cell_type": "markdown",
      "metadata": {
        "id": "0BCiQbax5eZF"
      },
      "source": [
        "10 - Write a program to count similar letter to giving string.\n",
        "\n",
        "S = \" i am python programmer\"."
      ]
    },
    {
      "cell_type": "code",
      "metadata": {
        "id": "gGdCxpd55-xr"
      },
      "source": [
        "#write your code here."
      ],
      "execution_count": null,
      "outputs": []
    },
    {
      "cell_type": "code",
      "metadata": {
        "id": "sjKhEmkB5aC7",
        "colab": {
          "base_uri": "https://localhost:8080/"
        },
        "outputId": "beae3fa5-974a-4407-acc3-0854d899ed95"
      },
      "source": [
        "chars = \"abcdefghijklmnopqrstuvwxyz\"\n",
        "check_string = \"i am python programmer\"\n",
        "\n",
        "for char in chars:\n",
        "  count = check_string.count(char)\n",
        "  if count > 1:\n",
        "    print(char, count)"
      ],
      "execution_count": 12,
      "outputs": [
        {
          "output_type": "stream",
          "name": "stdout",
          "text": [
            "a 2\n",
            "m 3\n",
            "o 2\n",
            "p 2\n",
            "r 3\n"
          ]
        }
      ]
    },
    {
      "cell_type": "code",
      "metadata": {
        "id": "mnRMBzpo5-4i"
      },
      "source": [],
      "execution_count": null,
      "outputs": []
    }
  ]
}