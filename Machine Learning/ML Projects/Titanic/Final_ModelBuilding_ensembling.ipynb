{
 "cells": [
  {
   "cell_type": "code",
   "execution_count": 66,
   "metadata": {
    "collapsed": true
   },
   "outputs": [],
   "source": [
    "import warnings\n",
    "warnings.filterwarnings('ignore')\n",
    "\n",
    "# numerical libraries\n",
    "import numpy as np\n",
    "import pandas as pd\n",
    "\n",
    "# divide train and test (preproc)\n",
    "from sklearn.cross_validation import train_test_split\n",
    "\n",
    "# import different models\n",
    "from sklearn.ensemble import RandomForestClassifier\n",
    "import xgboost as xgb\n",
    "from sklearn import svm\n",
    "from sklearn.neighbors import KNeighborsClassifier\n",
    "from sklearn.linear_model import LogisticRegression\n",
    "\n",
    "# feature optimisation\n",
    "from sklearn.feature_selection import SelectFromModel\n",
    "\n",
    "# model optimisation\n",
    "from sklearn.grid_search import RandomizedSearchCV\n",
    "from sklearn.grid_search import GridSearchCV\n",
    "\n",
    "# model evaluation\n",
    "from sklearn import metrics\n",
    "from sklearn import cross_validation\n",
    "\n",
    "# standarisation of features\n",
    "from sklearn import preprocessing"
   ]
  },
  {
   "cell_type": "code",
   "execution_count": 3,
   "metadata": {
    "collapsed": false
   },
   "outputs": [
    {
     "name": "stdout",
     "output_type": "stream",
     "text": [
      "/Users/Capgemini/Dropbox/Portfolio/DataScience-Portfolio/Titanic\n"
     ]
    }
   ],
   "source": [
    "cd Dropbox/Portfolio/DataScience-Portfolio/Titanic"
   ]
  },
  {
   "cell_type": "code",
   "execution_count": 4,
   "metadata": {
    "collapsed": true
   },
   "outputs": [],
   "source": [
    "# load data and test set\n",
    "titanic = pd.read_csv('titanic_train_ready2.csv')\n",
    "\n",
    "# generate X and Y for preditions\n",
    "Y = np.ravel(titanic.Survived)  # to flatten array\n",
    "X = titanic.drop('Survived', axis = 1)"
   ]
  },
  {
   "cell_type": "code",
   "execution_count": 5,
   "metadata": {
    "collapsed": false
   },
   "outputs": [
    {
     "data": {
      "text/plain": [
       "((623, 7), (268, 7), (623,), (268,))"
      ]
     },
     "execution_count": 5,
     "metadata": {},
     "output_type": "execute_result"
    }
   ],
   "source": [
    "# separate train and test set\n",
    "X_train, X_test, Y_train, Y_test = train_test_split(X,Y, test_size=0.3, random_state=1)\n",
    "X_train.shape, X_test.shape, Y_train.shape, Y_test.shape"
   ]
  },
  {
   "cell_type": "code",
   "execution_count": 6,
   "metadata": {
    "collapsed": false
   },
   "outputs": [
    {
     "data": {
      "text/plain": [
       "0.62"
      ]
     },
     "execution_count": 6,
     "metadata": {},
     "output_type": "execute_result"
    }
   ],
   "source": [
    "# baseline accuracy (predicting that it did not survive)\n",
    "baseline = round(1-np.mean(Y), 2)\n",
    "baseline"
   ]
  },
  {
   "cell_type": "markdown",
   "metadata": {},
   "source": [
    "## Feature Scaling"
   ]
  },
  {
   "cell_type": "code",
   "execution_count": 2,
   "metadata": {
    "collapsed": true
   },
   "outputs": [],
   "source": [
    "def standarisation(train, test):\n",
    "    scaler = preprocessing.StandardScaler().fit(train)\n",
    "    train = scaler.transform(train)\n",
    "    test = scaler.transform(test)\n",
    "    return train, test"
   ]
  },
  {
   "cell_type": "code",
   "execution_count": 7,
   "metadata": {
    "collapsed": true
   },
   "outputs": [],
   "source": [
    "X_train, X_test = standarisation(X_train, X_test)"
   ]
  },
  {
   "cell_type": "markdown",
   "metadata": {},
   "source": [
    "### Random Forests"
   ]
  },
  {
   "cell_type": "code",
   "execution_count": 11,
   "metadata": {
    "collapsed": false
   },
   "outputs": [
    {
     "data": {
      "text/plain": [
       "0.76865671641791045"
      ]
     },
     "execution_count": 11,
     "metadata": {},
     "output_type": "execute_result"
    }
   ],
   "source": [
    "# Random Forests Model Std features\n",
    "rf_model = RandomForestClassifier(n_estimators = 1250, max_features = 6, criterion = 'gini', bootstrap = True,\n",
    "                                  min_samples_split = 2, min_samples_leaf = 10, max_depth = None,\n",
    "                                  random_state = 1)\n",
    "rf_model.fit(X_train, Y_train)\n",
    "pred_rf = rf_model.predict(X_test)\n",
    "metrics.accuracy_score(Y_test, pred_rf)"
   ]
  },
  {
   "cell_type": "markdown",
   "metadata": {},
   "source": [
    "### Nearest Neighbours"
   ]
  },
  {
   "cell_type": "code",
   "execution_count": 13,
   "metadata": {
    "collapsed": false
   },
   "outputs": [
    {
     "name": "stdout",
     "output_type": "stream",
     "text": [
      "1 0.705223880597\n",
      "3 0.776119402985\n",
      "5 0.783582089552\n",
      "7 0.779850746269\n",
      "9 0.779850746269\n",
      "11 0.776119402985\n",
      "13 0.768656716418\n",
      "15 0.772388059701\n",
      "17 0.768656716418\n",
      "19 0.757462686567\n"
     ]
    }
   ],
   "source": [
    "# K Nearest Neighbours\n",
    "for neighbour in range(1,20,2):\n",
    "    knn_model = KNeighborsClassifier(n_neighbors = neighbour)\n",
    "    knn_model.fit(X_train, Y_train)\n",
    "    predicted = knn_model.predict(X_test)\n",
    "    print(neighbour, metrics.accuracy_score(Y_test, predicted))"
   ]
  },
  {
   "cell_type": "code",
   "execution_count": 15,
   "metadata": {
    "collapsed": false
   },
   "outputs": [
    {
     "data": {
      "text/plain": [
       "0.78358208955223885"
      ]
     },
     "execution_count": 15,
     "metadata": {},
     "output_type": "execute_result"
    }
   ],
   "source": [
    "knn_model = KNeighborsClassifier(n_neighbors = 5)\n",
    "knn_model.fit(X_train, Y_train)\n",
    "pred_knn = knn_model.predict(X_test)\n",
    "metrics.accuracy_score(Y_test, pred_knn)"
   ]
  },
  {
   "cell_type": "markdown",
   "metadata": {},
   "source": [
    "### XGBoost"
   ]
  },
  {
   "cell_type": "code",
   "execution_count": 16,
   "metadata": {
    "collapsed": false
   },
   "outputs": [
    {
     "data": {
      "text/plain": [
       "0.77985074626865669"
      ]
     },
     "execution_count": 16,
     "metadata": {},
     "output_type": "execute_result"
    }
   ],
   "source": [
    "xgb_model = xgb.XGBClassifier()\n",
    "xgb_model.fit(X_train,Y_train)\n",
    "\n",
    "predicted = xgb_model.predict(X_test)       \n",
    "metrics.accuracy_score(Y_test, predicted)"
   ]
  },
  {
   "cell_type": "code",
   "execution_count": 17,
   "metadata": {
    "collapsed": false
   },
   "outputs": [
    {
     "name": "stderr",
     "output_type": "stream",
     "text": [
      "[Parallel(n_jobs=1)]: Done  49 tasks       | elapsed:    0.9s\n",
      "[Parallel(n_jobs=1)]: Done 199 tasks       | elapsed:    4.0s\n"
     ]
    },
    {
     "name": "stdout",
     "output_type": "stream",
     "text": [
      "Fitting 3 folds for each of 108 candidates, totalling 324 fits\n"
     ]
    },
    {
     "name": "stderr",
     "output_type": "stream",
     "text": [
      "[Parallel(n_jobs=1)]: Done 324 out of 324 | elapsed:    6.7s finished\n"
     ]
    },
    {
     "data": {
      "text/plain": [
       "0.77238805970149249"
      ]
     },
     "execution_count": 17,
     "metadata": {},
     "output_type": "execute_result"
    }
   ],
   "source": [
    "# grid search for parameter optimisation\n",
    "clf = GridSearchCV(xgb_model,\n",
    "                   {'max_depth': [2,4,6],\n",
    "                    'n_estimators': [50,100,200],\n",
    "                   'gamma' : [0,1,10], 'learning_rate' : [0.01, 0.03, 0.1, 0.3]},\n",
    "                   verbose=1)\n",
    "\n",
    "clf.fit(X_train, Y_train)\n",
    "pred_xgb = clf.predict(X_test)       \n",
    "metrics.accuracy_score(Y_test, pred_xgb)"
   ]
  },
  {
   "cell_type": "markdown",
   "metadata": {},
   "source": [
    "## SVM"
   ]
  },
  {
   "cell_type": "code",
   "execution_count": 26,
   "metadata": {
    "collapsed": false
   },
   "outputs": [
    {
     "name": "stdout",
     "output_type": "stream",
     "text": [
      "0.1 0.753731343284\n",
      "1.0 0.753731343284\n",
      "10 0.753731343284\n"
     ]
    }
   ],
   "source": [
    "# SVM regularization parameter\n",
    "for C in [.1, 1.0, 10]:\n",
    "    # SVC with a Linear Kernel  (our original example)\n",
    "    svc = svm.SVC(kernel='linear', C=C).fit(X_train, Y_train)\n",
    "    predicted = svc.predict(X_test)\n",
    "    print(C, metrics.accuracy_score(Y_test, predicted))"
   ]
  },
  {
   "cell_type": "code",
   "execution_count": 28,
   "metadata": {
    "collapsed": false
   },
   "outputs": [
    {
     "name": "stdout",
     "output_type": "stream",
     "text": [
      "0.1 1 0.753731343284\n",
      "0.1 2 0.652985074627\n",
      "0.1 3 0.716417910448\n",
      "0.1 4 0.675373134328\n",
      "0.1 5 0.667910447761\n",
      "0.1 6 0.652985074627\n",
      "1.0 1 0.753731343284\n",
      "1.0 2 0.791044776119\n",
      "1.0 3 0.776119402985\n",
      "1.0 4 0.720149253731\n",
      "1.0 5 0.694029850746\n",
      "1.0 6 0.708955223881\n",
      "10 1 0.753731343284\n",
      "10 2 0.787313432836\n",
      "10 3 0.764925373134\n",
      "10 4 0.757462686567\n",
      "10 5 0.772388059701\n",
      "10 6 0.727611940299\n"
     ]
    }
   ],
   "source": [
    "# SVM regularization parameter\n",
    "for C in [.1, 1.0, 10]:\n",
    "    for degree in range(1,7):\n",
    "        # SVC with a Linear Kernel  (our original example)\n",
    "        svc = svm.SVC(kernel='poly', degree = degree, C=C).fit(X_train, Y_train)\n",
    "        predicted = svc.predict(X_test)\n",
    "        print(C, degree, metrics.accuracy_score(Y_test, predicted))\n",
    "\n",
    "# BETS IS C = 1, DEGREE = 2"
   ]
  },
  {
   "cell_type": "code",
   "execution_count": 30,
   "metadata": {
    "collapsed": false
   },
   "outputs": [
    {
     "data": {
      "text/plain": [
       "0.79104477611940294"
      ]
     },
     "execution_count": 30,
     "metadata": {},
     "output_type": "execute_result"
    }
   ],
   "source": [
    "svc = svm.SVC(kernel='poly', degree = 2, C=1).fit(X_train, Y_train)\n",
    "pred_SVM = svc.predict(X_test)\n",
    "metrics.accuracy_score(Y_test, pred_SVM)"
   ]
  },
  {
   "cell_type": "code",
   "execution_count": 34,
   "metadata": {
    "collapsed": false
   },
   "outputs": [
    {
     "data": {
      "text/plain": [
       "0.79104477611940294"
      ]
     },
     "execution_count": 34,
     "metadata": {},
     "output_type": "execute_result"
    }
   ],
   "source": [
    "# Gaussian Radial Bassis Function\n",
    "rbf_svc = svm.SVC(kernel='rbf', gamma=0.7, C=1).fit(X_train, Y_train)\n",
    "pred_SVMrbf = svc.predict(X_test)\n",
    "metrics.accuracy_score(Y_test, pred_SVMrbf)"
   ]
  },
  {
   "cell_type": "markdown",
   "metadata": {},
   "source": [
    "### Logistic Regression"
   ]
  },
  {
   "cell_type": "code",
   "execution_count": 67,
   "metadata": {
    "collapsed": false
   },
   "outputs": [
    {
     "data": {
      "text/plain": [
       "0.79104477611940294"
      ]
     },
     "execution_count": 67,
     "metadata": {},
     "output_type": "execute_result"
    }
   ],
   "source": [
    "logReg = LogisticRegression()  \n",
    "logReg.fit(X_train, Y_train)\n",
    "\n",
    "# predict survivors on test set\n",
    "pred_logit = logReg.predict(X_test)         \n",
    "metrics.accuracy_score(Y_test, pred_logit)"
   ]
  },
  {
   "cell_type": "markdown",
   "metadata": {},
   "source": [
    "## Combination of models"
   ]
  },
  {
   "cell_type": "code",
   "execution_count": 62,
   "metadata": {
    "collapsed": false
   },
   "outputs": [],
   "source": [
    "pred1 = (pred_rf + pred_knn + pred_SVMrbf)/3\n",
    "pred1 = np.where(pred1 > 0.5,1,0)"
   ]
  },
  {
   "cell_type": "code",
   "execution_count": 63,
   "metadata": {
    "collapsed": false
   },
   "outputs": [
    {
     "data": {
      "text/plain": [
       "0.79104477611940294"
      ]
     },
     "execution_count": 63,
     "metadata": {},
     "output_type": "execute_result"
    }
   ],
   "source": [
    "metrics.accuracy_score(Y_test, pred1)"
   ]
  },
  {
   "cell_type": "code",
   "execution_count": 68,
   "metadata": {
    "collapsed": false
   },
   "outputs": [
    {
     "data": {
      "text/plain": [
       "0.79850746268656714"
      ]
     },
     "execution_count": 68,
     "metadata": {},
     "output_type": "execute_result"
    }
   ],
   "source": [
    "pred2 = (pred_logit + pred_knn + pred_SVMrbf) / 3\n",
    "pred2 = np.where(pred2 > 0.5,1,0)\n",
    "metrics.accuracy_score(Y_test, pred2)"
   ]
  },
  {
   "cell_type": "code",
   "execution_count": 69,
   "metadata": {
    "collapsed": false
   },
   "outputs": [
    {
     "data": {
      "text/plain": [
       "0.79850746268656714"
      ]
     },
     "execution_count": 69,
     "metadata": {},
     "output_type": "execute_result"
    }
   ],
   "source": [
    "pred3 = (pred_logit + pred_rf + pred_SVMrbf) / 3\n",
    "pred3 = np.where(pred3 > 0.5,1,0)\n",
    "metrics.accuracy_score(Y_test, pred3)"
   ]
  },
  {
   "cell_type": "markdown",
   "metadata": {},
   "source": [
    "## Prepare submission"
   ]
  },
  {
   "cell_type": "code",
   "execution_count": 71,
   "metadata": {
    "collapsed": false
   },
   "outputs": [],
   "source": [
    "# load data\n",
    "titanic_train = X\n",
    "titanic_test = pd.read_csv('titanic_test_ready2.csv')\n",
    "\n",
    "# standarise\n",
    "titanic_train, titanic_test = standarisation(titanic_train, titanic_test)"
   ]
  },
  {
   "cell_type": "code",
   "execution_count": 72,
   "metadata": {
    "collapsed": true
   },
   "outputs": [],
   "source": [
    "# logit\n",
    "logReg = LogisticRegression()  \n",
    "logReg.fit(titanic_train, Y)\n",
    "\n",
    "# predict survivors on test set\n",
    "pred_logit = logReg.predict(titanic_test)         "
   ]
  },
  {
   "cell_type": "code",
   "execution_count": 73,
   "metadata": {
    "collapsed": true
   },
   "outputs": [],
   "source": [
    "# Gaussian Radial Bassis Function\n",
    "rbf_svc = svm.SVC(kernel='rbf', gamma=0.7, C=1).fit(titanic_train, Y)\n",
    "pred_SVMrbf = svc.predict(titanic_test)"
   ]
  },
  {
   "cell_type": "code",
   "execution_count": 74,
   "metadata": {
    "collapsed": true
   },
   "outputs": [],
   "source": [
    "# Random Forests\n",
    "rf_model = RandomForestClassifier(n_estimators = 1250, max_features = 6, criterion = 'gini', bootstrap = True,\n",
    "                                  min_samples_split = 2, min_samples_leaf = 10, max_depth = None,\n",
    "                                  random_state = 1)\n",
    "rf_model.fit(titanic_train, Y)\n",
    "pred_rf = rf_model.predict(titanic_test)"
   ]
  },
  {
   "cell_type": "code",
   "execution_count": 75,
   "metadata": {
    "collapsed": true
   },
   "outputs": [],
   "source": [
    "# Combination of the 3 models\n",
    "pred3 = (pred_logit + pred_rf + pred_SVMrbf) / 3\n",
    "pred3 = np.where(pred3 > 0.5,1,0)"
   ]
  },
  {
   "cell_type": "code",
   "execution_count": 76,
   "metadata": {
    "collapsed": true
   },
   "outputs": [],
   "source": [
    "test_df = pd.read_csv('test.csv')\n",
    "\n",
    "submission = pd.DataFrame({\n",
    "        \"PassengerId\": test_df[\"PassengerId\"],\n",
    "        \"Survived\": pred3\n",
    "    })\n",
    "\n",
    "submission.to_csv('titanic_submission_Combined.csv', index=False)"
   ]
  },
  {
   "cell_type": "code",
   "execution_count": null,
   "metadata": {
    "collapsed": true
   },
   "outputs": [],
   "source": []
  }
 ],
 "metadata": {
  "kernelspec": {
   "display_name": "Python 3",
   "language": "python",
   "name": "python3"
  },
  "language_info": {
   "codemirror_mode": {
    "name": "ipython",
    "version": 3
   },
   "file_extension": ".py",
   "mimetype": "text/x-python",
   "name": "python",
   "nbconvert_exporter": "python",
   "pygments_lexer": "ipython3",
   "version": "3.4.4"
  }
 },
 "nbformat": 4,
 "nbformat_minor": 0
}
