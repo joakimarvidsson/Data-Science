{
  "nbformat": 4,
  "nbformat_minor": 0,
  "metadata": {
    "colab": {
      "provenance": [],
      "collapsed_sections": [],
      "include_colab_link": true
    },
    "kernelspec": {
      "name": "python3",
      "display_name": "Python 3"
    }
  },
  "cells": [
    {
      "cell_type": "markdown",
      "metadata": {
        "id": "view-in-github",
        "colab_type": "text"
      },
      "source": [
        "<a href=\"https://colab.research.google.com/github/thabresh-data-scientist/Learn-Python-with-Me/blob/main/Data_Handling_Python_2.ipynb\" target=\"_parent\"><img src=\"https://colab.research.google.com/assets/colab-badge.svg\" alt=\"Open In Colab\"/></a>"
      ]
    },
    {
      "cell_type": "markdown",
      "metadata": {
        "id": "-8VMf87_THiN"
      },
      "source": [
        "#Data Handling - Python"
      ]
    },
    {
      "cell_type": "markdown",
      "metadata": {
        "id": "A4_1Elx1SfYr"
      },
      "source": [
        "1 - Write a program to  display float number with 2 decimal places using print()\n",
        "\n",
        "e.g : Display 458.541315 as 458.54"
      ]
    },
    {
      "cell_type": "code",
      "metadata": {
        "id": "qc8pekoJThk6"
      },
      "source": [
        "#write your code here"
      ],
      "execution_count": null,
      "outputs": []
    },
    {
      "cell_type": "code",
      "metadata": {
        "id": "tyRpXXW_OZaG"
      },
      "source": [
        "n = 458.541315\n",
        "round(n,2)"
      ],
      "execution_count": null,
      "outputs": []
    },
    {
      "cell_type": "code",
      "metadata": {
        "id": "1U9uxfVp5h94"
      },
      "source": [],
      "execution_count": null,
      "outputs": []
    },
    {
      "cell_type": "markdown",
      "metadata": {
        "id": "dm2vD7RcUgnt"
      },
      "source": [
        "2. Mr Sharma has invested Rs. 27,500 in 200 shares of XYZ co. ltd and 52,500 in 250 shares of ABC co. ltd. Write a program to calculate the average investment cost per share.\n"
      ]
    },
    {
      "cell_type": "code",
      "metadata": {
        "id": "Qbkwg3JcVWxx"
      },
      "source": [
        "#write your code here."
      ],
      "execution_count": null,
      "outputs": []
    },
    {
      "cell_type": "code",
      "metadata": {
        "id": "z76oRjaNOai1"
      },
      "source": [
        "xyz_cst = 27,500\n",
        "abc_cst = 52,500\n",
        "xyz_share = 200\n",
        "abc_share = 250\n",
        "total_cst = xyz_cst + abc_cst\n",
        "total_share = xyz_share + abc_share\n",
        "cps = total_cst/total_share\n",
        "print(\"The cost per share is \",cps)"
      ],
      "execution_count": null,
      "outputs": []
    },
    {
      "cell_type": "code",
      "metadata": {
        "id": "SQUXcRnxVWuA"
      },
      "source": [],
      "execution_count": null,
      "outputs": []
    },
    {
      "cell_type": "markdown",
      "metadata": {
        "id": "SlCZ-9yHVfnN"
      },
      "source": [
        "3 - Write a program given 2 strings, s1 and s2, create a new string by appending s2 in the middle of s1.\n",
        "\n",
        "e.g : \n",
        "\n",
        "inputs  : \n",
        "s1 = \"Ault\"\n",
        "s2 = \"Kelly\" \n",
        "\n",
        "ouput : AuKellylt\n",
        "\n"
      ]
    },
    {
      "cell_type": "code",
      "metadata": {
        "id": "jlzyK9u1aGmM"
      },
      "source": [
        "#write your code here."
      ],
      "execution_count": null,
      "outputs": []
    },
    {
      "cell_type": "code",
      "metadata": {
        "id": "DK8vUhAUOcZ1"
      },
      "source": [
        "s1 = \"Adult\"\n",
        "s2 = \"Kelly\"\n",
        "m = len(s1)/2\n",
        "m = int(m)\n",
        "print(s1[:m]+s2+s1[m:])"
      ],
      "execution_count": null,
      "outputs": []
    },
    {
      "cell_type": "code",
      "metadata": {
        "id": "qfjC6upHaGgJ"
      },
      "source": [],
      "execution_count": null,
      "outputs": []
    },
    {
      "cell_type": "markdown",
      "metadata": {
        "id": "4fvTJ1tJaLu3"
      },
      "source": [
        "4 - Write a program to given two strings s1 and s2 return a new string made of the first and last character of input strings.\n",
        "\n",
        "Hint:-\n",
        "\n",
        "inputs : s1 = \"America\"\n",
        "s2 = \"Japan\"\n",
        "\n",
        "output : AJan\n"
      ]
    },
    {
      "cell_type": "code",
      "metadata": {
        "id": "4zn5FR0GneLc"
      },
      "source": [
        "s1 = \"America\"\n",
        "s2 = \"Japan\"\n",
        "print(s1[0]+s2[0]+s1[-1]+s2[-1])"
      ],
      "execution_count": null,
      "outputs": []
    },
    {
      "cell_type": "code",
      "metadata": {
        "id": "PmRzK8HGneFu"
      },
      "source": [],
      "execution_count": null,
      "outputs": []
    },
    {
      "cell_type": "code",
      "metadata": {
        "id": "zDmmNGdLaz_6"
      },
      "source": [],
      "execution_count": null,
      "outputs": []
    },
    {
      "cell_type": "markdown",
      "metadata": {
        "id": "SnOLePKda7W_"
      },
      "source": [
        "5 - Write a program to arrange string characters into lowercase letters.\n",
        "\n",
        "e.g :  \n",
        "input : str1 = PyThon\n",
        "\n",
        "output : python\n"
      ]
    },
    {
      "cell_type": "code",
      "metadata": {
        "id": "O8kDibPWdwgT"
      },
      "source": [
        "#wite your code here."
      ],
      "execution_count": null,
      "outputs": []
    },
    {
      "cell_type": "code",
      "metadata": {
        "id": "CBesBhExnoqF"
      },
      "source": [
        "str1 = \"PyThon\"\n",
        "print(str1.lower())"
      ],
      "execution_count": null,
      "outputs": []
    },
    {
      "cell_type": "code",
      "metadata": {
        "id": "1ebadyJanoj1"
      },
      "source": [],
      "execution_count": null,
      "outputs": []
    },
    {
      "cell_type": "markdown",
      "metadata": {
        "id": "BDYl4bPjd0Y6"
      },
      "source": [
        "6 - Write a Python program to display the current date and time."
      ]
    },
    {
      "cell_type": "code",
      "metadata": {
        "id": "SrjxQ33beOLs"
      },
      "source": [
        "from datetime import datetime\n"
      ],
      "execution_count": null,
      "outputs": []
    },
    {
      "cell_type": "code",
      "metadata": {
        "id": "M0S_ztROOfnB"
      },
      "source": [
        "now = datetime.now()\n",
        "print(now)"
      ],
      "execution_count": null,
      "outputs": []
    },
    {
      "cell_type": "code",
      "metadata": {
        "id": "-S-Cl07AOfcz"
      },
      "source": [],
      "execution_count": null,
      "outputs": []
    },
    {
      "cell_type": "markdown",
      "metadata": {
        "id": "vR7MnwSXeRio"
      },
      "source": [
        "7 - Write a Python program which accepts the user's first and last name and print them in reverse order with a space between them."
      ]
    },
    {
      "cell_type": "code",
      "metadata": {
        "id": "uBWUULDTeUz5"
      },
      "source": [
        "#write your code here."
      ],
      "execution_count": null,
      "outputs": []
    },
    {
      "cell_type": "code",
      "metadata": {
        "id": "ShDubmGt8HwJ"
      },
      "source": [
        "fn = input(\"Enter your first name: \")\n",
        "print(fn[::-1])"
      ],
      "execution_count": null,
      "outputs": []
    },
    {
      "cell_type": "code",
      "metadata": {
        "id": "ej7uuyv9OgjW"
      },
      "source": [],
      "execution_count": null,
      "outputs": []
    },
    {
      "cell_type": "markdown",
      "metadata": {
        "id": "9jaL-GdMebr4"
      },
      "source": [
        "8 - Write a Python program to find out square of user input.\n",
        "\n"
      ]
    },
    {
      "cell_type": "code",
      "metadata": {
        "id": "pqzu8lTvfHFN"
      },
      "source": [
        "#write your code here."
      ],
      "execution_count": null,
      "outputs": []
    },
    {
      "cell_type": "code",
      "metadata": {
        "id": "gzs8LoK2fG9t"
      },
      "source": [
        "5**2"
      ],
      "execution_count": null,
      "outputs": []
    },
    {
      "cell_type": "code",
      "metadata": {
        "id": "4NWQ7RRsOiVn"
      },
      "source": [],
      "execution_count": null,
      "outputs": []
    },
    {
      "cell_type": "markdown",
      "metadata": {
        "id": "RUFFtJqxfrJT"
      },
      "source": [
        "9 - Write a program  an int n, return True if it is within 10 of 100 or 200. Note: abs(num) computes the absolute value of a number.\n"
      ]
    },
    {
      "cell_type": "code",
      "metadata": {
        "id": "DSVymDr8iza-"
      },
      "source": [
        "#write your code here."
      ],
      "execution_count": null,
      "outputs": []
    },
    {
      "cell_type": "code",
      "metadata": {
        "id": "LoeNiWmyizYc",
        "colab": {
          "base_uri": "https://localhost:8080/"
        },
        "outputId": "ec8a98bf-dc6f-46ed-9cd5-336ddef538be"
      },
      "source": [
        "n = int(input(\"Enter the integer: \"))\n",
        "print(abs(100-n) <= 10 or abs(200 - n) <=10)\n"
      ],
      "execution_count": null,
      "outputs": [
        {
          "output_type": "stream",
          "text": [
            "200\n",
            "True\n"
          ],
          "name": "stdout"
        }
      ]
    },
    {
      "cell_type": "code",
      "metadata": {
        "id": "_16XBEy1izVD"
      },
      "source": [],
      "execution_count": null,
      "outputs": []
    },
    {
      "cell_type": "markdown",
      "metadata": {
        "id": "6Zh_68CejF_k"
      },
      "source": [
        "10 - Write a program to given a three-digit integer (i.e. an integer from 100 to 999). Find the sum of its digits and print the result.\n",
        "\n",
        "e.g : Input :\n",
        "476\n",
        "\n",
        "Output :\n",
        "17"
      ]
    },
    {
      "cell_type": "code",
      "metadata": {
        "id": "pd3hN_nikMaj"
      },
      "source": [
        "#write your code here."
      ],
      "execution_count": null,
      "outputs": []
    },
    {
      "cell_type": "code",
      "metadata": {
        "id": "aeZ_MszakMtu"
      },
      "source": [
        "n = input(\"Enter the integer: \")\n",
        "x = int(n[0]) + int(n[1]) + int(n[2])\n",
        "print(x)"
      ],
      "execution_count": null,
      "outputs": []
    },
    {
      "cell_type": "code",
      "metadata": {
        "id": "fpY9vEkzkN1o"
      },
      "source": [],
      "execution_count": null,
      "outputs": []
    }
  ]
}