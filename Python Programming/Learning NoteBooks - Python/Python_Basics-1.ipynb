{
  "nbformat": 4,
  "nbformat_minor": 0,
  "metadata": {
    "colab": {
      "provenance": [],
      "collapsed_sections": []
    },
    "kernelspec": {
      "name": "python3",
      "display_name": "Python 3"
    }
  },
  "cells": [
    {
      "cell_type": "markdown",
      "metadata": {
        "id": "owD1ZWHrmVYt"
      },
      "source": [
        "**Python practice notebook - 1**"
      ]
    },
    {
      "cell_type": "markdown",
      "metadata": {
        "id": "gtVvkrZZgwxk"
      },
      "source": [
        "Question 1 - Write a program which can take the user's name and print a greeting message along with the name."
      ]
    },
    {
      "cell_type": "code",
      "metadata": {
        "id": "Hxp1VbuGhXDA"
      },
      "source": [
        "#write your code here"
      ],
      "execution_count": null,
      "outputs": []
    },
    {
      "cell_type": "code",
      "metadata": {
        "id": "EJfnSjXKi-Fx",
        "colab": {
          "base_uri": "https://localhost:8080/"
        },
        "outputId": "05dce7a0-18ae-401c-9d3f-34c6d3d9cf46"
      },
      "source": [
        "s=input(\"Enter your name: \")\n",
        "print(\"Hello...!\",s)"
      ],
      "execution_count": null,
      "outputs": [
        {
          "output_type": "stream",
          "name": "stdout",
          "text": [
            "Enter your name: Thabresh\n",
            "Hello...! Thabresh\n"
          ]
        }
      ]
    },
    {
      "cell_type": "code",
      "metadata": {
        "id": "2kf_Qz9cGavN"
      },
      "source": [],
      "execution_count": null,
      "outputs": []
    },
    {
      "cell_type": "markdown",
      "metadata": {
        "id": "6fEZ-LDChX_F"
      },
      "source": [
        "Question 2 - Let's try to play with numbers, take two numbers as input and print their sum along with a message."
      ]
    },
    {
      "cell_type": "code",
      "metadata": {
        "id": "iJ7RVSjqhnWf"
      },
      "source": [
        "#write your code here"
      ],
      "execution_count": null,
      "outputs": []
    },
    {
      "cell_type": "code",
      "metadata": {
        "id": "d-6OlV-n-mKZ",
        "colab": {
          "base_uri": "https://localhost:8080/"
        },
        "outputId": "8c850d8c-37c0-464c-d95b-1e21428f6f2c"
      },
      "source": [
        "a=int(input(\"Enter a: \"))\n",
        "b=int(input(\"Enter b: \"))\n",
        "c= a+b\n",
        "print(\"The Sum is:\",c)\n"
      ],
      "execution_count": null,
      "outputs": [
        {
          "output_type": "stream",
          "name": "stdout",
          "text": [
            "Enter a: 1\n",
            "Enter b: 2\n",
            "The Sum is: 3\n"
          ]
        }
      ]
    },
    {
      "cell_type": "code",
      "metadata": {
        "id": "Or8lEYkrGgLc"
      },
      "source": [],
      "execution_count": null,
      "outputs": []
    },
    {
      "cell_type": "markdown",
      "metadata": {
        "id": "FNSfALLvhoML"
      },
      "source": [
        "Question 3 - Okay let's level up the numbers game, input length and breadth of a rectangle from the user and calculate it's area."
      ]
    },
    {
      "cell_type": "code",
      "metadata": {
        "id": "caZGkx10ifdw"
      },
      "source": [
        "#write your code here"
      ],
      "execution_count": null,
      "outputs": []
    },
    {
      "cell_type": "code",
      "metadata": {
        "id": "1j1iDSltifTl",
        "colab": {
          "base_uri": "https://localhost:8080/"
        },
        "outputId": "a0f057e0-630e-4dde-fdab-3ec022f4716f"
      },
      "source": [
        "l=int(input(\"Enter the length: \"))\n",
        "b=int(input(\"Enter the breadth: \"))\n",
        "a= l*b\n",
        "print(\"The Area is: \", a)"
      ],
      "execution_count": null,
      "outputs": [
        {
          "output_type": "stream",
          "name": "stdout",
          "text": [
            "Enter the length: 10\n",
            "Enter the breadth: 2\n",
            "The Area is:  20\n"
          ]
        }
      ]
    },
    {
      "cell_type": "code",
      "metadata": {
        "id": "qN0237uYGhcz"
      },
      "source": [],
      "execution_count": null,
      "outputs": []
    },
    {
      "cell_type": "markdown",
      "metadata": {
        "id": "E6ZFXaLVifzp"
      },
      "source": [
        "Question 4 - Whoa! you are becoming a pro now. Let's see if you could solve this one.<br> Input a number and print it's cube.<br>\n",
        "Quite Simple but can you write multiple solutions for this."
      ]
    },
    {
      "cell_type": "code",
      "metadata": {
        "id": "h3tIjRyxjtHP"
      },
      "source": [
        "#write your code here"
      ],
      "execution_count": null,
      "outputs": []
    },
    {
      "cell_type": "code",
      "metadata": {
        "id": "Yg4BHZAhGkag",
        "colab": {
          "base_uri": "https://localhost:8080/"
        },
        "outputId": "823c7cc5-b931-4d79-c66b-38fb4da3c457"
      },
      "source": [
        "z=int(input(\"Enter the number: \"))\n",
        "y=z**3\n",
        "print(\"The cube is\",y)"
      ],
      "execution_count": null,
      "outputs": [
        {
          "output_type": "stream",
          "name": "stdout",
          "text": [
            "Enter the number: 5\n",
            "The cube is 125\n"
          ]
        }
      ]
    },
    {
      "cell_type": "code",
      "metadata": {
        "id": "pd9qLVqMjseY"
      },
      "source": [],
      "execution_count": null,
      "outputs": []
    },
    {
      "cell_type": "markdown",
      "metadata": {
        "id": "j5R3ZjMdgpgD"
      },
      "source": [
        "Question 5 - Write a program to input a number 'n' and print it's Square and Cube.\n",
        "\n",
        "\n",
        "\n"
      ]
    },
    {
      "cell_type": "code",
      "metadata": {
        "id": "RQ0eSQgsg-UN"
      },
      "source": [
        "#write your code here"
      ],
      "execution_count": null,
      "outputs": []
    },
    {
      "cell_type": "code",
      "metadata": {
        "id": "kWmWQ0pUGmW6",
        "colab": {
          "base_uri": "https://localhost:8080/"
        },
        "outputId": "93711c2e-8a04-48b2-eb10-993b61de8bc9"
      },
      "source": [
        "z=int(input(\"Enter the number: \"))\n",
        "s=z**2\n",
        "c=z**3\n",
        "print(\"The square is\",s)\n",
        "print(\"The cube is\",c)"
      ],
      "execution_count": null,
      "outputs": [
        {
          "output_type": "stream",
          "name": "stdout",
          "text": [
            "Enter the number: 2\n",
            "The square is 4\n",
            "The cube is 8\n"
          ]
        }
      ]
    },
    {
      "cell_type": "code",
      "metadata": {
        "id": "xIHjMdc-g9xx"
      },
      "source": [],
      "execution_count": null,
      "outputs": []
    },
    {
      "cell_type": "markdown",
      "metadata": {
        "id": "QIweAYZyjtfd"
      },
      "source": [
        "Question 6 - Write a program to input values in Km and convert it into miles.<br> (1Km = 0.621371 Miles)"
      ]
    },
    {
      "cell_type": "code",
      "metadata": {
        "id": "pgtWTD6UmJM3"
      },
      "source": [
        "#write your code here"
      ],
      "execution_count": null,
      "outputs": []
    },
    {
      "cell_type": "code",
      "metadata": {
        "id": "Qs7aSZVYmI8N",
        "colab": {
          "base_uri": "https://localhost:8080/"
        },
        "outputId": "0d14e509-6c55-4170-af23-0ea8465950ca"
      },
      "source": [
        "k=float((input(\"Enter the distance in km:\")))\n",
        "m=k*0.621371\n",
        "print(\"The miles will be\",m)"
      ],
      "execution_count": null,
      "outputs": [
        {
          "output_type": "stream",
          "name": "stdout",
          "text": [
            "Enter the distance in km:2\n",
            "The miles will be 1.242742\n"
          ]
        }
      ]
    },
    {
      "cell_type": "code",
      "metadata": {
        "id": "YGE7TldpGoe0"
      },
      "source": [],
      "execution_count": null,
      "outputs": []
    },
    {
      "cell_type": "markdown",
      "metadata": {
        "id": "eH6JqjnDnDTK"
      },
      "source": [
        "Quetion 7 - Write a program to input in Quintals and convert it into Grams and Kilograms.\n"
      ]
    },
    {
      "cell_type": "code",
      "metadata": {
        "id": "QL0iif6e1fDB"
      },
      "source": [
        "#write your code here"
      ],
      "execution_count": null,
      "outputs": []
    },
    {
      "cell_type": "code",
      "metadata": {
        "id": "SQ3cL73iGqT8",
        "colab": {
          "base_uri": "https://localhost:8080/"
        },
        "outputId": "9c17c181-2c52-4548-945c-c41858151c18"
      },
      "source": [
        "q=float(input(\"Enter the weight in Quintals\"))\n",
        "k=q*100\n",
        "g=q*100000\n",
        "print(\"The weight in Kilograms will be:\",k)\n",
        "print(\"The weight in Grams will be:\",g)"
      ],
      "execution_count": null,
      "outputs": [
        {
          "output_type": "stream",
          "name": "stdout",
          "text": [
            "Enter the weight in Quintals2\n",
            "The weight in Kilograms will be: 200.0\n",
            "The weight in Grams will be: 200000.0\n"
          ]
        }
      ]
    },
    {
      "cell_type": "code",
      "metadata": {
        "id": "BW0fclQ81eod"
      },
      "source": [],
      "execution_count": null,
      "outputs": []
    },
    {
      "cell_type": "markdown",
      "metadata": {
        "id": "5GtIPfPu1ffK"
      },
      "source": [
        "Quetion 8 - Write a program to input two numbers and swape them with each other."
      ]
    },
    {
      "cell_type": "code",
      "metadata": {
        "id": "0PTaUlxd1ti-"
      },
      "source": [
        "#write your code here"
      ],
      "execution_count": null,
      "outputs": []
    },
    {
      "cell_type": "code",
      "metadata": {
        "id": "gRj_myDWGsF1",
        "colab": {
          "base_uri": "https://localhost:8080/"
        },
        "outputId": "d80db92e-aa6e-4fc0-a5e6-378f49b4aab2"
      },
      "source": [
        "a= float(input(\"The value of a:\"))\n",
        "b= float(input(\"The value of b:\"))\n",
        "a,b=b,a\n",
        "print(\"The value of a is\", a)\n",
        "print(\"The value of b is\", b)\n"
      ],
      "execution_count": null,
      "outputs": [
        {
          "output_type": "stream",
          "name": "stdout",
          "text": [
            "The value of a:1\n",
            "The value of b:2\n",
            "The value of a is 2.0\n",
            "The value of b is 1.0\n"
          ]
        }
      ]
    },
    {
      "cell_type": "code",
      "metadata": {
        "id": "CaKkRcYQ1tXG"
      },
      "source": [],
      "execution_count": null,
      "outputs": []
    },
    {
      "cell_type": "markdown",
      "metadata": {
        "id": "qQfITseA1uA-"
      },
      "source": [
        "Question 9 - Write a program to input three numbers and swap them as this:<br> First number becomes second number, second number becomes third number and third number becomes the first number "
      ]
    },
    {
      "cell_type": "code",
      "metadata": {
        "id": "uN2fZvst2PMn"
      },
      "source": [
        "#write your code here"
      ],
      "execution_count": null,
      "outputs": []
    },
    {
      "cell_type": "code",
      "metadata": {
        "id": "b6BDlSq52PAn",
        "colab": {
          "base_uri": "https://localhost:8080/"
        },
        "outputId": "0f2e8b20-3710-4afb-d0ec-d2d57b73e336"
      },
      "source": [
        "a= float(input(\"The value of a:\"))\n",
        "b= float(input(\"The value of b:\"))\n",
        "c= float(input(\"The value of c:\"))\n",
        "a,b,c=b,c,a\n",
        "print(\"The value of a is\", a)\n",
        "print(\"The value of b is\", b)\n",
        "print(\"The value of c is\", c)"
      ],
      "execution_count": null,
      "outputs": [
        {
          "output_type": "stream",
          "name": "stdout",
          "text": [
            "The value of a:1\n",
            "The value of b:2\n",
            "The value of c:3\n",
            "The value of a is 2.0\n",
            "The value of b is 3.0\n",
            "The value of c is 1.0\n"
          ]
        }
      ]
    },
    {
      "cell_type": "code",
      "metadata": {
        "id": "ajrlShxnGuez"
      },
      "source": [],
      "execution_count": null,
      "outputs": []
    },
    {
      "cell_type": "markdown",
      "metadata": {
        "id": "Nuwyjhpd2Plm"
      },
      "source": [
        "Question 10 - Write a program to inout three numbers and swap them as this:<br>\n",
        "1st number gets the value of 1st+2nd<br>\n",
        "2nd number gets the value of 1st+3rd<br>\n",
        "3rd number gets the value of 3rd+2nd<br>\n"
      ]
    },
    {
      "cell_type": "code",
      "metadata": {
        "id": "wnUkVAWtaqhY"
      },
      "source": [
        "#write your code here"
      ],
      "execution_count": null,
      "outputs": []
    },
    {
      "cell_type": "code",
      "metadata": {
        "id": "4yBd4NkqaqJM",
        "colab": {
          "base_uri": "https://localhost:8080/"
        },
        "outputId": "b45ef8b1-afb0-45bf-c314-4d959d67ba20"
      },
      "source": [
        "a= int(input(\"The value of a:\"))\n",
        "b= int(input(\"The value of b:\"))\n",
        "c= int(input(\"The value of c:\"))\n",
        "x=a+b\n",
        "y=a+c\n",
        "z=c+b\n",
        "print(\"The value of a+b is\", x)\n",
        "print(\"The value of a+c is\", y)\n",
        "print(\"The value of c+b is\", z)"
      ],
      "execution_count": null,
      "outputs": [
        {
          "output_type": "stream",
          "name": "stdout",
          "text": [
            "The value of a:1\n",
            "The value of b:2\n",
            "The value of c:3\n",
            "The value of a+b is 3\n",
            "The value of a+c is 4\n",
            "The value of c+b is 5\n"
          ]
        }
      ]
    },
    {
      "cell_type": "code",
      "metadata": {
        "id": "hKfoIKleGwoo"
      },
      "source": [],
      "execution_count": null,
      "outputs": []
    }
  ]
}