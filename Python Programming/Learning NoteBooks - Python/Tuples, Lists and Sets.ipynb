{
  "nbformat": 4,
  "nbformat_minor": 0,
  "metadata": {
    "colab": {
      "provenance": [],
      "collapsed_sections": []
    },
    "kernelspec": {
      "name": "python3",
      "display_name": "Python 3"
    },
    "language_info": {
      "name": "python"
    }
  },
  "cells": [
    {
      "cell_type": "markdown",
      "source": [
        "<h1 style=\"font-family:verdana;\"> <center>📚 List, Tuple &amp; Sets : iNeuron 📚</center> </h1>\n",
        "<p><center style=\"color:#159364; font-family:cursive;\">Thabaresh Syed,</center></p>\n",
        "<p><center style=\"color:#159364; font-family:cursive;\">thabaresh.syed@gmail.com</center></p>"
      ],
      "metadata": {
        "id": "w4HZvhEbCwTy"
      }
    },
    {
      "cell_type": "markdown",
      "source": [
        "#### 1. On amazon website we have the following available items - \n",
        "\n",
        "```python\n",
        "amazon_website = [(\"watch\", 5000), (\"phone\", 10000), (\"laptop\", 50000), (\"shirt\", 1000)]\n",
        "```\n",
        "**Take the user input N no. of times and find out the total cost to be paid?**\n",
        "\n",
        "OR\n",
        "\n",
        "**You can ask the user quntity or the count of item?**\n",
        "\n",
        "if the item is not present in the amazon website then print that item as out of stock and do add it total\n",
        "\n",
        "\n",
        "HINT: while, for loop.. indexing"
      ],
      "metadata": {
        "id": "hZcGNSR2y9zW"
      }
    },
    {
      "cell_type": "code",
      "source": [
        "# given list\n",
        "amazon_website = [(\"watch\", 5000), (\"phone\", 10000), (\"laptop\", 50000), (\"shirt\", 1000)]\n",
        "\n",
        "price=0\n",
        "items=list()\n",
        "while True:\n",
        "    item=input(\"Enter item to buy = \")\n",
        "    for i in amazon_website:\n",
        "        if item in i[0]:\n",
        "            price+=i[1]\n",
        "            items.append(item)\n",
        "            break\n",
        "    else:\n",
        "        print(f\"{item} is not in stock\")\n",
        "    condition=int(input(\"Want to buy anything press 1 to continue / press 0 to checkout = \")) \n",
        "    if condition==0:\n",
        "        break\n",
        "            \n",
        "print(f\"Purchased items are = {items}\")\n",
        "print(f\"Total price of purchased item is = {price}\")  "
      ],
      "metadata": {
        "colab": {
          "base_uri": "https://localhost:8080/"
        },
        "id": "3ixZJv45_NTo",
        "outputId": "54f95526-230f-462e-96ba-7c13c55c5d9b"
      },
      "execution_count": 2,
      "outputs": [
        {
          "output_type": "stream",
          "name": "stdout",
          "text": [
            "Enter item to buy = phone\n",
            "Want to buy anything press 1 to continue / press 0 to checkout = 1\n",
            "Enter item to buy = laptop\n",
            "Want to buy anything press 1 to continue / press 0 to checkout = 0\n",
            "Purchased items are = ['phone', 'laptop']\n",
            "Total price of purchased item is = 60000\n"
          ]
        }
      ]
    },
    {
      "cell_type": "markdown",
      "source": [
        "#### **2. What will be the output of the following code snippet?**\n",
        "\n",
        "\n",
        "```\n",
        "arr = [1, 2, 3, 4, 5, 6]\n",
        "for i in range(1, 6):\n",
        "    arr[i - 1] = arr[i]\n",
        "for i in range(0, 6): \n",
        "    print(arr[i], end = \" \")\n",
        "```"
      ],
      "metadata": {
        "id": "FQrKC2gzzsUm"
      }
    },
    {
      "cell_type": "code",
      "source": [
        "arr = [1, 2, 3, 4, 5, 6]\n",
        "for i in range(1, 6):\n",
        "    arr[i - 1] = arr[i]\n",
        "for i in range(0, 6): \n",
        "    print(arr[i], end = \" \")\n",
        "\n",
        "#All elements are shifted by one position except last one."
      ],
      "metadata": {
        "colab": {
          "base_uri": "https://localhost:8080/"
        },
        "id": "G5ApjAXLAiw9",
        "outputId": "b3a9ce09-250f-4fb3-d899-99acc3644854"
      },
      "execution_count": 4,
      "outputs": [
        {
          "output_type": "stream",
          "name": "stdout",
          "text": [
            "2 3 4 5 6 6 "
          ]
        }
      ]
    },
    {
      "cell_type": "markdown",
      "source": [
        "Answer - **2 3 4 5 6 6** In python indexing starts from 0 and the given list is [1, 2, 3, 4, 5, 6] which of lenght 6 so the indices are range from **0 to 5**, In the first for loop range is taken as (1,6) that is from second element to last element and the statement inside the loop is arr[i-1] = arr[i] which means we are assigning present value to previous index and the last element is remain same, In the second loop we are taken range from (0,6) which is from first to last element and printing them\n"
      ],
      "metadata": {
        "id": "Gy0-NsRPAlx9"
      }
    },
    {
      "cell_type": "markdown",
      "source": [
        "#### **3. Write a Python program to find the repeated items of a tuple.**"
      ],
      "metadata": {
        "id": "nL_DZJFS0ZZF"
      }
    },
    {
      "cell_type": "code",
      "source": [
        "tuple1=tuple(map(int,input().split()))\n",
        "print(\"Given tuple = \",tuple1)\n",
        "repeated=list()\n",
        "for i in tuple1:\n",
        "    if i not in repeated and tuple1.count(i)>1:\n",
        "        repeated.append(i)\n",
        "print(\"Repeated elements of tuple are = \",tuple(repeated))"
      ],
      "metadata": {
        "colab": {
          "base_uri": "https://localhost:8080/"
        },
        "id": "drM33kY3Bo9e",
        "outputId": "f53ccfd6-ce42-4caf-f93c-07c08fdc93fb"
      },
      "execution_count": 5,
      "outputs": [
        {
          "output_type": "stream",
          "name": "stdout",
          "text": [
            "3 4 1 1 1 4 5 6 6 5\n",
            "Given tuple =  (3, 4, 1, 1, 1, 4, 5, 6, 6, 5)\n",
            "Repeated elements of tuple are =  (4, 1, 5, 6)\n"
          ]
        }
      ]
    },
    {
      "cell_type": "markdown",
      "source": [
        "### **4. Replace last value of tuples in a list with 500. Try using list comprehension**\n",
        "\n",
        "Example -: \n",
        "```\n",
        "Input -:\n",
        "\n",
        "[(10, 20, 40), (40, 50, 60), (70, 80, 90)]\n",
        "\n",
        "Output -:\n",
        "[(10, 20, 500), (40, 50, 500), (70, 80, 500)]\n",
        "\n",
        "\n",
        "```\n"
      ],
      "metadata": {
        "id": "ne8WpLZZ1GSm"
      }
    },
    {
      "cell_type": "code",
      "source": [
        "tuple_list=[(10, 20, 40), (40, 50, 60), (70, 80, 90)]\n",
        "print(\"Given list of tuple : \",tuple_list)\n",
        "new_tup_list=[t[:-1] + (500,) for t in tuple_list]\n",
        "print(\"\\nNew list of tuple after replacing last value of every tuple with 500 is = \")\n",
        "print(new_tup_list)"
      ],
      "metadata": {
        "id": "YpvH9Di21z-O",
        "colab": {
          "base_uri": "https://localhost:8080/"
        },
        "outputId": "348b7b2d-824d-482f-9dbf-85bba2b396d9"
      },
      "execution_count": 6,
      "outputs": [
        {
          "output_type": "stream",
          "name": "stdout",
          "text": [
            "Given list of tuple :  [(10, 20, 40), (40, 50, 60), (70, 80, 90)]\n",
            "\n",
            "New list of tuple after replacing last value of every tuple with 500 is = \n",
            "[(10, 20, 500), (40, 50, 500), (70, 80, 500)]\n"
          ]
        }
      ]
    }
  ]
}