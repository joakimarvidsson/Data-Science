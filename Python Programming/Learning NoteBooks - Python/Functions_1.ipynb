{
  "nbformat": 4,
  "nbformat_minor": 0,
  "metadata": {
    "colab": {
      "provenance": [],
      "collapsed_sections": [],
      "include_colab_link": true
    },
    "kernelspec": {
      "name": "python3",
      "display_name": "Python 3"
    }
  },
  "cells": [
    {
      "cell_type": "markdown",
      "metadata": {
        "id": "view-in-github",
        "colab_type": "text"
      },
      "source": [
        "<a href=\"https://colab.research.google.com/github/thabresh-data-scientist/Learn-Python-with-Me/blob/main/Functions_1.ipynb\" target=\"_parent\"><img src=\"https://colab.research.google.com/assets/colab-badge.svg\" alt=\"Open In Colab\"/></a>"
      ]
    },
    {
      "cell_type": "markdown",
      "metadata": {
        "id": "m6EKSDgsKdeQ"
      },
      "source": [
        "##List Manipulation - Worksheet(5.2)"
      ]
    },
    {
      "cell_type": "markdown",
      "metadata": {
        "id": "u8IkeR1AKgUx"
      },
      "source": [
        "1 - Write a Python program to print a marged list after removing the 1st and 3th elements from first list LT.  \n",
        "\n",
        "LT =  ['Red', 'Green', 'White', 'Black', 'Pink', 'Yellow']\n",
        "\n",
        "lt = ['Pink', 'Yellow']\n",
        "\n"
      ]
    },
    {
      "cell_type": "code",
      "metadata": {
        "id": "QZciFbtohpvS"
      },
      "source": [
        "#write your code here."
      ],
      "execution_count": null,
      "outputs": []
    },
    {
      "cell_type": "code",
      "metadata": {
        "id": "KUHQ_3p0LY4m"
      },
      "source": [
        "LT = ['Red' , 'Green' , 'White' , 'Black' , \"Pink\" , \"Yellow\"]\n",
        "lt = [\"Pink\" , \"Yellow\"]\n",
        "\n",
        "LT.pop(1)\n",
        "LT.pop(3)\n",
        "\n",
        "print(LT+lt)"
      ],
      "execution_count": null,
      "outputs": []
    },
    {
      "cell_type": "code",
      "metadata": {
        "id": "ndoqFCCkLY-H"
      },
      "source": [],
      "execution_count": null,
      "outputs": []
    },
    {
      "cell_type": "markdown",
      "metadata": {
        "id": "q6I5ndI2Lam_"
      },
      "source": [
        "2 - . Write a Python program to print the numbers of a specified list after removing even numbers from it.\n",
        "\n",
        "lt = [1,2,3,4,5,6,7,8,9,10,12,12,13,15]\n"
      ]
    },
    {
      "cell_type": "code",
      "metadata": {
        "id": "6NWOWM7fLqgT"
      },
      "source": [
        "#write your code here."
      ],
      "execution_count": null,
      "outputs": []
    },
    {
      "cell_type": "code",
      "metadata": {
        "id": "Ld0-Plp8hrsZ"
      },
      "source": [
        "lt=[1,2,3,4,5,6,7,8,9,10,12,12,13,15]\n",
        "\n",
        "lt1=[]\n",
        "\n",
        "n = len(lt)\n",
        "\n",
        "for x in range(0, n):\n",
        "  if lt[x]%2==0:\n",
        "    pass\n",
        "  else:\n",
        "    lt1.append(lt[x])\n",
        "\n",
        "lt1"
      ],
      "execution_count": null,
      "outputs": []
    },
    {
      "cell_type": "code",
      "metadata": {
        "id": "SbblLfweLql-"
      },
      "source": [],
      "execution_count": null,
      "outputs": []
    },
    {
      "cell_type": "markdown",
      "metadata": {
        "id": "TtZRc2J2LrNd"
      },
      "source": [
        "3 - Write a Python program to generate all permutations of a list ."
      ]
    },
    {
      "cell_type": "code",
      "metadata": {
        "id": "UNGxudqBMD4w"
      },
      "source": [
        "#write your code here."
      ],
      "execution_count": null,
      "outputs": []
    },
    {
      "cell_type": "code",
      "metadata": {
        "id": "UuBCH_0Bhs-3"
      },
      "source": [
        "import itertools\n",
        "print(list(itertools.permutations([1,2,3])))"
      ],
      "execution_count": null,
      "outputs": []
    },
    {
      "cell_type": "code",
      "metadata": {
        "id": "u0sX7NUbMD-g"
      },
      "source": [],
      "execution_count": null,
      "outputs": []
    },
    {
      "cell_type": "markdown",
      "metadata": {
        "id": "aGIbtGtYMEaE"
      },
      "source": [
        "4 - Write a Python program to get the difference between the two lists.\n",
        "\n",
        "lt = [1,2,3,4,5,7,9]\n",
        "\n",
        "lt1 = [2,3,4,5,6,7]\n"
      ]
    },
    {
      "cell_type": "code",
      "metadata": {
        "id": "L2WosjelNY6M"
      },
      "source": [
        "#write your code here."
      ],
      "execution_count": null,
      "outputs": []
    },
    {
      "cell_type": "code",
      "metadata": {
        "id": "p-6lHup8NY_t"
      },
      "source": [
        "lt=[1,2,3,4,5,7,9]\n",
        "lt1= [2,3,4,5,6,7]\n",
        "\n",
        "\n",
        "list_difference = []\n",
        "for item in lt:\n",
        "  if item not in lt1:\n",
        "    list_difference.append(item)\n",
        "\n",
        "print(list_difference)\n"
      ],
      "execution_count": null,
      "outputs": []
    },
    {
      "cell_type": "code",
      "metadata": {
        "id": "yo-Kcib18KhA"
      },
      "source": [],
      "execution_count": null,
      "outputs": []
    },
    {
      "cell_type": "markdown",
      "metadata": {
        "id": "2ekVQ4HTNZxj"
      },
      "source": [
        "5 - Write a Python program to find the index of an item in a specified list.\n",
        "\n",
        "item = 'R'\n",
        "\n",
        "lt = ['A' , 'R' , 'S' , 'z']\n"
      ]
    },
    {
      "cell_type": "code",
      "metadata": {
        "id": "r09QhS9rNv1q"
      },
      "source": [
        "#write your code here."
      ],
      "execution_count": null,
      "outputs": []
    },
    {
      "cell_type": "code",
      "metadata": {
        "id": "i34qj0IfhwIX"
      },
      "source": [
        "lt = ['A' , 'R' , 'S' , 'Z']\n",
        "\n",
        "n=len(lt)\n",
        "\n",
        "for x in range(0 , n):\n",
        "  if 'R' in lt[x]:\n",
        "    print(x)\n",
        "    break\n",
        "  else:\n",
        "    pass\n"
      ],
      "execution_count": null,
      "outputs": []
    },
    {
      "cell_type": "code",
      "metadata": {
        "id": "wedGcPvgNv7e"
      },
      "source": [],
      "execution_count": null,
      "outputs": []
    },
    {
      "cell_type": "markdown",
      "metadata": {
        "id": "JyNEfTXnNzNf"
      },
      "source": [
        "6 - Write a Python program to append a second list into the first list.\n",
        "\n",
        "lt = [1,2,3,4,5,6]\n",
        "\n",
        "lt1 = [7,8,9,10,11]\n"
      ]
    },
    {
      "cell_type": "code",
      "metadata": {
        "id": "ZDSxj7ctOM7B"
      },
      "source": [
        "#write your code here."
      ],
      "execution_count": null,
      "outputs": []
    },
    {
      "cell_type": "code",
      "metadata": {
        "id": "Woq29vNThxWX"
      },
      "source": [
        "lt = [1,2,3,4,5,6]\n",
        "\n",
        "lt1= [7,8,9,10,10]\n",
        "\n",
        "n=len(lt)\n",
        "\n",
        "for  x in range(0 , n):\n",
        "  lt1.append(lt[x])\n",
        "\n",
        "lt1"
      ],
      "execution_count": null,
      "outputs": []
    },
    {
      "cell_type": "code",
      "metadata": {
        "id": "zBkvA56IONA-"
      },
      "source": [],
      "execution_count": null,
      "outputs": []
    },
    {
      "cell_type": "markdown",
      "metadata": {
        "id": "MqRTXKDhOOAY"
      },
      "source": [
        "7 - Write a Python program to create a list by concatenating a given list which range goes from 1 to n.\n",
        "\n",
        "lt = ['p', 'q']\n",
        "\n",
        "n = 5\n",
        "\n",
        "\n",
        " Output : ['p1', 'q1', 'p2', 'q2', 'p3', 'q3', 'p4', 'q4', 'p5', 'q5']"
      ]
    },
    {
      "cell_type": "code",
      "metadata": {
        "id": "ESZ2eE9lOrZi"
      },
      "source": [
        "#write your code here."
      ],
      "execution_count": null,
      "outputs": []
    },
    {
      "cell_type": "code",
      "metadata": {
        "id": "b2XA1REwhyUm"
      },
      "source": [
        "my_list = ['p', 'q']\n",
        "n = 5\n",
        "new_list = ['{}{}'.format(x, y) for y in range(1, n+1) for x in my_list]\n",
        "print(new_list)"
      ],
      "execution_count": null,
      "outputs": []
    },
    {
      "cell_type": "code",
      "metadata": {
        "id": "XYa1zM0GOrgf"
      },
      "source": [],
      "execution_count": null,
      "outputs": []
    },
    {
      "cell_type": "markdown",
      "metadata": {
        "id": "AM-M6P21OsHq"
      },
      "source": [
        "8 - Write a Python program to convert a list of multiple integers into a single integer. \n",
        "\n",
        "lt =  [12, 34, 56]\n",
        "\n",
        "Output: 123456"
      ]
    },
    {
      "cell_type": "code",
      "metadata": {
        "id": "_sepW7zbPJ-O"
      },
      "source": [
        "#write your code here."
      ],
      "execution_count": null,
      "outputs": []
    },
    {
      "cell_type": "code",
      "metadata": {
        "id": "0yLaS8V6hzZC"
      },
      "source": [
        "lt=[12,34,56]\n",
        "\n",
        "for i in lt: \n",
        "    print(i, end=\"\") "
      ],
      "execution_count": null,
      "outputs": []
    },
    {
      "cell_type": "code",
      "metadata": {
        "id": "jrkcKtFqPKE5"
      },
      "source": [],
      "execution_count": null,
      "outputs": []
    },
    {
      "cell_type": "markdown",
      "metadata": {
        "id": "0PrY5j8DPKwB"
      },
      "source": [
        "9 - Write a Python program to convert a string into a list."
      ]
    },
    {
      "cell_type": "code",
      "metadata": {
        "id": "xiaiFFN8Phce"
      },
      "source": [
        "#write your code here."
      ],
      "execution_count": null,
      "outputs": []
    },
    {
      "cell_type": "code",
      "metadata": {
        "id": "seniviiuh04g"
      },
      "source": [
        "s= 'Jobaaj'\n",
        "\n",
        "print(list(s))"
      ],
      "execution_count": null,
      "outputs": []
    },
    {
      "cell_type": "code",
      "metadata": {
        "id": "eXubX1xqPhix"
      },
      "source": [],
      "execution_count": null,
      "outputs": []
    },
    {
      "cell_type": "markdown",
      "metadata": {
        "id": "AGFZEEMGPiUc"
      },
      "source": [
        "10 -  Write a Python program to replace the last element in a list with another list. \n",
        "\n",
        "lt = [1, 3, 5, 7, 9, 10]\n",
        "\n",
        "lt1 =  [2, 4, 6, 8]\n",
        "\n",
        "Output: [1, 3, 5, 7, 9, 2, 4, 6, 8]"
      ]
    },
    {
      "cell_type": "code",
      "metadata": {
        "id": "ZRkGBLV8RJjt"
      },
      "source": [
        "#write your code here."
      ],
      "execution_count": null,
      "outputs": []
    },
    {
      "cell_type": "code",
      "metadata": {
        "id": "zrJRiDW1irVJ"
      },
      "source": [
        "lt = [1, 3, 5, 7, 9, 10]\n",
        "\n",
        "lt1 =  [2, 4, 6, 8]\n",
        "\n",
        "lt.pop()\n",
        "\n",
        "print(lt+lt1)"
      ],
      "execution_count": null,
      "outputs": []
    },
    {
      "cell_type": "code",
      "metadata": {
        "id": "OzY3zidGRJ9d"
      },
      "source": [],
      "execution_count": null,
      "outputs": []
    }
  ]
}