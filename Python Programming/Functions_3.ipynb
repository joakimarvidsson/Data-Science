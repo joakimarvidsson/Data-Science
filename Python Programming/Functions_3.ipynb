{
  "nbformat": 4,
  "nbformat_minor": 0,
  "metadata": {
    "colab": {
      "provenance": [],
      "collapsed_sections": []
    },
    "kernelspec": {
      "name": "python3",
      "display_name": "Python 3"
    }
  },
  "cells": [
    {
      "cell_type": "markdown",
      "metadata": {
        "id": "ZiV6qm5YFo2h"
      },
      "source": [
        "##List Manipulation - 3"
      ]
    },
    {
      "cell_type": "markdown",
      "metadata": {
        "id": "KdgnmZkIF11Q"
      },
      "source": [
        "1 - Write a program to create a empty list and append some items."
      ]
    },
    {
      "cell_type": "code",
      "metadata": {
        "id": "FVRcisGuGJd1"
      },
      "source": [
        "v #write your code here."
      ],
      "execution_count": null,
      "outputs": []
    },
    {
      "cell_type": "code",
      "metadata": {
        "id": "j0mtJWkF7ds5"
      },
      "source": [
        "lt = []\n",
        "lt.append('a')\n",
        "lt"
      ],
      "execution_count": null,
      "outputs": []
    },
    {
      "cell_type": "code",
      "metadata": {
        "id": "uKaardhPd4Iq"
      },
      "source": [],
      "execution_count": null,
      "outputs": []
    },
    {
      "cell_type": "markdown",
      "metadata": {
        "id": "FiSCd_vIGJ6t"
      },
      "source": [
        "2 - Write a Python program to sum all the items in a list.\n",
        "\n",
        "lt = [2,1,3,11,34]"
      ]
    },
    {
      "cell_type": "code",
      "metadata": {
        "id": "3e8iGoc_Haa7"
      },
      "source": [
        "#write your code here."
      ],
      "execution_count": null,
      "outputs": []
    },
    {
      "cell_type": "code",
      "metadata": {
        "id": "I2GTifkvHag6"
      },
      "source": [
        "lt = [2,1,3,11,34 ]\n",
        "n=len(lt)\n",
        "s=0\n",
        "for x in range(0 , n):\n",
        "  s=lt[x]+s\n",
        "print(s)"
      ],
      "execution_count": null,
      "outputs": []
    },
    {
      "cell_type": "code",
      "metadata": {
        "id": "pSxtnW8ud5Cp"
      },
      "source": [],
      "execution_count": null,
      "outputs": []
    },
    {
      "cell_type": "markdown",
      "metadata": {
        "id": "4PLfHGmDHbAA"
      },
      "source": [
        "3 - Write a Python program to get the largest number from a list.\n",
        "\n",
        "lt =[1,11,44,2,3,5,6,7,55]"
      ]
    },
    {
      "cell_type": "code",
      "metadata": {
        "id": "u0b0jZmUHplk"
      },
      "source": [
        "#write your code here."
      ],
      "execution_count": null,
      "outputs": []
    },
    {
      "cell_type": "code",
      "metadata": {
        "id": "JLCnus9jd7Nf"
      },
      "source": [
        "lt=[1,11,44,2,3,5,6,7,55]\n",
        "print(max(lt))"
      ],
      "execution_count": null,
      "outputs": []
    },
    {
      "cell_type": "code",
      "metadata": {
        "id": "b5d1XixGHpsK"
      },
      "source": [],
      "execution_count": null,
      "outputs": []
    },
    {
      "cell_type": "markdown",
      "metadata": {
        "id": "60CA5ucwHqM7"
      },
      "source": [
        "4 - Write a Python program to get the second smallest number from a list.\n",
        "\n",
        "lt = [1,2,7,4,11,5,9]"
      ]
    },
    {
      "cell_type": "code",
      "metadata": {
        "id": "WJGAfPDnH5hm"
      },
      "source": [
        "#write your code here."
      ],
      "execution_count": null,
      "outputs": []
    },
    {
      "cell_type": "code",
      "metadata": {
        "id": "BgjIZLRx7fLv"
      },
      "source": [],
      "execution_count": null,
      "outputs": []
    },
    {
      "cell_type": "code",
      "metadata": {
        "id": "6d9yzBbBd8D8"
      },
      "source": [],
      "execution_count": null,
      "outputs": []
    },
    {
      "cell_type": "markdown",
      "metadata": {
        "id": "lKcQhgr6H6Ge"
      },
      "source": [
        "5 - Write a Python program to get the list in an ascending order.\n",
        "\n",
        "lt = [1,2,5,7,9,3,4]"
      ]
    },
    {
      "cell_type": "code",
      "metadata": {
        "id": "ofLiwXCMIyEY"
      },
      "source": [
        "#write your code here."
      ],
      "execution_count": null,
      "outputs": []
    },
    {
      "cell_type": "code",
      "metadata": {
        "id": "9pGtM8eSeDiH"
      },
      "source": [
        "list1 = [12, 45, 2, 41, 31, 10, 8, 6, 4] \n",
        "\n",
        "largest = list1[0]  \n",
        "lowest = list1[0]  \n",
        "largest2 = None\n",
        "lowest2 = None\n",
        "for item in list1[1:]:      \n",
        "  if item > largest:  \n",
        "    largest2 = largest \n",
        "    largest = item  \n",
        "  elif largest2 == None or largest2 < item:  \n",
        "      largest2 = item  \n",
        "  if item < lowest:  \n",
        "      lowest2 = lowest \n",
        "      lowest = item  \n",
        "  elif lowest2 == None or lowest2 > item:  \n",
        "      lowest2 = item  \n",
        "              \n",
        "print(\"Second Smallest element is:\", lowest2)  "
      ],
      "execution_count": null,
      "outputs": []
    },
    {
      "cell_type": "code",
      "metadata": {
        "id": "cKQau8IiIyKh"
      },
      "source": [],
      "execution_count": null,
      "outputs": []
    },
    {
      "cell_type": "markdown",
      "metadata": {
        "id": "Gf_kSqfBIyqk"
      },
      "source": [
        "6 - Write a Python program to remove duplicates items from a list.\n",
        "\n",
        "lt = [1,2,5,4,3,1,6,7,3,43,2]\n"
      ]
    },
    {
      "cell_type": "code",
      "metadata": {
        "id": "g7DnUC06JC7-"
      },
      "source": [
        "#write your code here."
      ],
      "execution_count": null,
      "outputs": []
    },
    {
      "cell_type": "code",
      "metadata": {
        "id": "eF9dbaIHeE6m"
      },
      "source": [
        "lt = [1,2,5,4,3,1,6,7,3,43,2]\n",
        "\n",
        "final_list = []\n",
        "for num in lt:\n",
        "    if num not in final_list:\n",
        "        final_list.append(num)\n",
        "print(final_list)\n",
        "     "
      ],
      "execution_count": null,
      "outputs": []
    },
    {
      "cell_type": "code",
      "metadata": {
        "id": "qMuBsq72JDCP"
      },
      "source": [],
      "execution_count": null,
      "outputs": []
    },
    {
      "cell_type": "markdown",
      "metadata": {
        "id": "h9brnuvMJIA5"
      },
      "source": [
        "7 - Write a Python program to count similiar items from a list.\n",
        "\n",
        "lt = [1,2,5,4,3,1,6,7,3,43,2]"
      ]
    },
    {
      "cell_type": "code",
      "metadata": {
        "id": "x8VHkAgfJSpg"
      },
      "source": [
        "#write your code here."
      ],
      "execution_count": null,
      "outputs": []
    },
    {
      "cell_type": "code",
      "metadata": {
        "id": "PQgVPW85eF2Y"
      },
      "source": [
        "lt = [1,2,5,4,3,1,6,7,3,43,2]\n",
        "\n",
        "lt1=[0,1,2,3,4,5,6,7,8,9]\n",
        "\n",
        "\n",
        "for x in lt1:\n",
        "  count = lt.count(x)\n",
        "  if count > 1:\n",
        "    print(str(x), count)"
      ],
      "execution_count": null,
      "outputs": []
    },
    {
      "cell_type": "code",
      "metadata": {
        "id": "iHPltP1mJTCS"
      },
      "source": [],
      "execution_count": null,
      "outputs": []
    },
    {
      "cell_type": "markdown",
      "metadata": {
        "id": "-YF2sRmnJTeE"
      },
      "source": [
        "8 - Write a Python program to check a list is empty or not."
      ]
    },
    {
      "cell_type": "code",
      "metadata": {
        "id": "kXRvTVukJjis"
      },
      "source": [
        "#write your code here."
      ],
      "execution_count": null,
      "outputs": []
    },
    {
      "cell_type": "code",
      "metadata": {
        "id": "iVSpg2PFeI0t"
      },
      "source": [
        "lt = []\n",
        "\n",
        "if len(lt)>0:\n",
        "  print('list is not empty')\n",
        "else:\n",
        "  print('list is empty')"
      ],
      "execution_count": null,
      "outputs": []
    },
    {
      "cell_type": "code",
      "metadata": {
        "id": "yS_HphbkJjpk"
      },
      "source": [],
      "execution_count": null,
      "outputs": []
    },
    {
      "cell_type": "markdown",
      "metadata": {
        "id": "nPo12_hZJkEM"
      },
      "source": [
        "9 - Write a Python program to clone or copy a list.\n",
        "\n",
        "lt = [1,2,3,4,5,6,7,8]"
      ]
    },
    {
      "cell_type": "code",
      "metadata": {
        "id": "NhTRjsNgJvpt"
      },
      "source": [
        "#write your code here."
      ],
      "execution_count": null,
      "outputs": []
    },
    {
      "cell_type": "code",
      "metadata": {
        "id": "0wyIwdvOeLS0"
      },
      "source": [
        "lt = [1,2,3,4,5,6,7,8]\n",
        "mylist = lt.copy()\n",
        "print(mylist)"
      ],
      "execution_count": null,
      "outputs": []
    },
    {
      "cell_type": "code",
      "metadata": {
        "id": "EdzObOs7JvwR"
      },
      "source": [],
      "execution_count": null,
      "outputs": []
    },
    {
      "cell_type": "markdown",
      "metadata": {
        "id": "ziW1paCjJwX-"
      },
      "source": [
        "10 - Write a Python program that takes two lists and returns True if they have at least one common member."
      ]
    },
    {
      "cell_type": "code",
      "metadata": {
        "id": "fAbZS0uwJ8FR"
      },
      "source": [
        "#write your code here."
      ],
      "execution_count": null,
      "outputs": []
    },
    {
      "cell_type": "code",
      "metadata": {
        "id": "arc7svPReMyQ"
      },
      "source": [
        "lt=[1,2,3,4,5]\n",
        "\n",
        "lt1=[6,7,8, 1 , 2]\n",
        "\n",
        "n = len(lt)\n",
        "\n",
        "for x in range(0 , n):\n",
        "  if lt[x] in lt1:\n",
        "    print(\"yes\" , +lt[x])\n",
        "    break\n",
        "  else:\n",
        "    print(\"No\" , +lt[x])\n"
      ],
      "execution_count": null,
      "outputs": []
    },
    {
      "cell_type": "code",
      "metadata": {
        "id": "Wp2TPJ4bJ8MA"
      },
      "source": [],
      "execution_count": null,
      "outputs": []
    }
  ]
}