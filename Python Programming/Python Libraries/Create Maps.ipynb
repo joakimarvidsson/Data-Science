{
  "cells": [
    {
      "cell_type": "markdown",
      "metadata": {
        "id": "view-in-github",
        "colab_type": "text"
      },
      "source": [
        "<a href=\"https://colab.research.google.com/github/afizs/python-notes/blob/main/interesting/maplibre.ipynb\" target=\"_parent\"><img src=\"https://colab.research.google.com/assets/colab-badge.svg\" alt=\"Open In Colab\"/></a>"
      ]
    },
    {
      "cell_type": "markdown",
      "metadata": {
        "id": "HcMg7Tl8QyBB"
      },
      "source": [
        "[![image](https://studiolab.sagemaker.aws/studiolab.svg)](https://studiolab.sagemaker.aws/import/github/giswqs/mapwidget/blob/master/docs/examples/maplibre.ipynb)\n",
        "[![image](https://img.shields.io/badge/Open-Planetary%20Computer-black?style=flat&logo=microsoft)](https://pccompute.westeurope.cloudapp.azure.com/compute/hub/user-redirect/git-pull?repo=https://github.com/giswqs/mapwidget&urlpath=lab/tree/mapwidget/docs/examples/maplibre.ipynb&branch=master)\n",
        "[![image](https://colab.research.google.com/assets/colab-badge.svg)](https://colab.research.google.com/github/giswqs/mapwidget/blob/master/docs/examples/maplibre.ipynb)"
      ]
    },
    {
      "cell_type": "code",
      "execution_count": 12,
      "metadata": {
        "id": "6tvvhBkwQyBW"
      },
      "outputs": [],
      "source": [
        "!pip install mapwidget -q"
      ]
    },
    {
      "cell_type": "code",
      "execution_count": 13,
      "metadata": {
        "id": "xL3SV5UKQyBf"
      },
      "outputs": [],
      "source": [
        "import mapwidget.maplibre as mapwidget"
      ]
    },
    {
      "cell_type": "code",
      "execution_count": 14,
      "metadata": {
        "id": "zdyzrLatQyBh",
        "outputId": "77d02836-2fe9-424b-c5f1-2d61fbc9baff",
        "colab": {
          "base_uri": "https://localhost:8080/",
          "height": 629,
          "referenced_widgets": [
            "5ffeeceff2d445cab28bc7a604359146",
            "fb93a0af168840628667bb5d117fe52b"
          ]
        }
      },
      "outputs": [
        {
          "output_type": "display_data",
          "data": {
            "text/plain": [
              "Map(bounds=[0, 0, 0, 0], center=[20, 0], clicked_latlng=[None, None])"
            ],
            "application/vnd.jupyter.widget-view+json": {
              "version_major": 2,
              "version_minor": 0,
              "model_id": "5ffeeceff2d445cab28bc7a604359146"
            }
          },
          "metadata": {
            "application/vnd.jupyter.widget-view+json": {
              "colab": {
                "custom_widget_manager": {
                  "url": "https://ssl.gstatic.com/colaboratory-static/widgets/colab-cdn-widget-manager/b3e629b1971e1542/manager.min.js"
                }
              }
            }
          }
        }
      ],
      "source": [
        "m = mapwidget.Map(center=[20, 0], zoom=2, height='600px')\n",
        "m"
      ]
    }
  ],
  "metadata": {
    "kernelspec": {
      "display_name": "Python 3 (ipykernel)",
      "language": "python",
      "name": "python3"
    },
    "language_info": {
      "codemirror_mode": {
        "name": "ipython",
        "version": 3
      },
      "file_extension": ".py",
      "mimetype": "text/x-python",
      "name": "python",
      "nbconvert_exporter": "python",
      "pygments_lexer": "ipython3",
      "version": "3.10.8"
    },
    "colab": {
      "provenance": [],
      "include_colab_link": true
    },
    "widgets": {
      "application/vnd.jupyter.widget-state+json": {
        "5ffeeceff2d445cab28bc7a604359146": {
          "model_module": "anywidget",
          "model_name": "AnyModel",
          "model_module_version": "0.2.0",
          "state": {
            "_dom_classes": [],
            "_model_module": "anywidget",
            "_model_module_version": "0.2.0",
            "_model_name": "AnyModel",
            "_view_count": null,
            "_view_module": "anywidget",
            "_view_module_version": "0.2.0",
            "_view_name": "AnyView",
            "bounds": [
              -225.04721983033983,
              -83.7937344645258,
              364.3268314215692,
              75.2779787078189
            ],
            "center": [
              -24.129228648052788,
              69.63980579561598
            ],
            "clicked_latlng": [
              null,
              null
            ],
            "height": "600px",
            "layout": "IPY_MODEL_fb93a0af168840628667bb5d117fe52b",
            "width": "100%",
            "zoom": 0.5695841332821526,
            "_esm": "import maplibregl from \"https://esm.sh/maplibre-gl@2.4.0\";\n\nexport function render(view) {\n    // Header\n    let center = view.model.get(\"center\");\n    center.reverse();\n    let zoom = view.model.get(\"zoom\");\n    let width = view.model.get(\"width\");\n    let height = view.model.get(\"height\");\n\n    const div = document.createElement(\"div\");\n    div.style.width = width;\n    div.style.height = height;\n\n    // Map content\n    const map = new maplibregl.Map({\n        container: div,\n        style: \"https://demotiles.maplibre.org/style.json\", // stylesheet location\n        center: center, // starting position [lng, lat]\n        zoom: zoom, // starting zoom\n    });\n\n    map.on(\"click\", function (e) {\n        view.model.set(\"clicked_latlng\", [e.lngLat.lat, e.lngLat.lng]);\n        view.model.save_changes();\n    });\n\n    map.on(\"moveend\", function (e) {\n        view.model.set(\"center\", [map.getCenter().lat, map.getCenter().lng]);\n        let bbox = map.getBounds();\n        let bounds = [bbox._sw.lng, bbox._sw.lat, bbox._ne.lng, bbox._ne.lat];\n        view.model.set(\"bounds\", bounds);\n        view.model.save_changes();\n    });\n\n    map.on(\"zoomend\", function (e) {\n        view.model.set(\"center\", [map.getCenter().lat, map.getCenter().lng]);\n        view.model.set(\"zoom\", map.getZoom());\n        let bbox = map.getBounds();\n        let bounds = [bbox._sw.lng, bbox._sw.lat, bbox._ne.lng, bbox._ne.lat];\n        view.model.set(\"bounds\", bounds);\n        view.model.save_changes();\n    });\n\n    // view.model.on(\"change:center\", function () {\n    //     let center = view.model.get(\"center\");\n    //     center.reverse();\n    //     map.setCenter(center);\n    // });\n\n    // view.model.on(\"change:zoom\", function () {\n    //     let zoom = view.model.get(\"zoom\");\n    //     map.setZoom(zoom);\n    // });\n\n    // Footer\n    view.el.appendChild(div);\n}\n",
            "_css": "@import url(\"https://esm.sh/maplibre-gl@2.4.0?css\");\n",
            "_anywidget_id": "mapwidget.maplibre.Map"
          }
        },
        "fb93a0af168840628667bb5d117fe52b": {
          "model_module": "@jupyter-widgets/base",
          "model_name": "LayoutModel",
          "model_module_version": "1.2.0",
          "state": {
            "_model_module": "@jupyter-widgets/base",
            "_model_module_version": "1.2.0",
            "_model_name": "LayoutModel",
            "_view_count": null,
            "_view_module": "@jupyter-widgets/base",
            "_view_module_version": "1.2.0",
            "_view_name": "LayoutView",
            "align_content": null,
            "align_items": null,
            "align_self": null,
            "border": null,
            "bottom": null,
            "display": null,
            "flex": null,
            "flex_flow": null,
            "grid_area": null,
            "grid_auto_columns": null,
            "grid_auto_flow": null,
            "grid_auto_rows": null,
            "grid_column": null,
            "grid_gap": null,
            "grid_row": null,
            "grid_template_areas": null,
            "grid_template_columns": null,
            "grid_template_rows": null,
            "height": null,
            "justify_content": null,
            "justify_items": null,
            "left": null,
            "margin": null,
            "max_height": null,
            "max_width": null,
            "min_height": null,
            "min_width": null,
            "object_fit": null,
            "object_position": null,
            "order": null,
            "overflow": null,
            "overflow_x": null,
            "overflow_y": null,
            "padding": null,
            "right": null,
            "top": null,
            "visibility": null,
            "width": null
          }
        }
      }
    }
  },
  "nbformat": 4,
  "nbformat_minor": 0
}