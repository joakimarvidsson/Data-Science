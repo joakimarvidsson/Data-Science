{
 "cells": [
  {
   "cell_type": "code",
   "execution_count": 1,
   "metadata": {
    "collapsed": false
   },
   "outputs": [],
   "source": [
    "import warnings\n",
    "warnings.filterwarnings('ignore')\n",
    "\n",
    "# numerical libraries\n",
    "import numpy as np\n",
    "import pandas as pd\n",
    "\n",
    "# divide train and test (preproc)\n",
    "from sklearn.cross_validation import train_test_split\n",
    "\n",
    "# import different models\n",
    "from sklearn.linear_model import LogisticRegression\n",
    "\n",
    "# feature optimisation\n",
    "from sklearn.feature_selection import SelectFromModel\n",
    "\n",
    "# model evaluation\n",
    "from sklearn import metrics\n",
    "from sklearn.metrics import confusion_matrix\n",
    "from sklearn import cross_validation\n",
    "\n",
    "# standarisation of features\n",
    "from sklearn import preprocessing"
   ]
  },
  {
   "cell_type": "code",
   "execution_count": 2,
   "metadata": {
    "collapsed": false
   },
   "outputs": [
    {
     "name": "stdout",
     "output_type": "stream",
     "text": [
      "/Users/Capgemini/Dropbox/Portfolio/DataScience-Portfolio/Titanic\n"
     ]
    }
   ],
   "source": [
    "cd Dropbox/Portfolio/DataScience-Portfolio/Titanic"
   ]
  },
  {
   "cell_type": "code",
   "execution_count": 3,
   "metadata": {
    "collapsed": false
   },
   "outputs": [],
   "source": [
    "# load data and test set\n",
    "titanic = pd.read_csv('titanic_train_ready3.csv')\n",
    "\n",
    "# generate X and Y for preditions\n",
    "Y = np.ravel(titanic.Survived)  # to flatten array\n",
    "X = titanic.drop('Survived', axis = 1)"
   ]
  },
  {
   "cell_type": "code",
   "execution_count": 4,
   "metadata": {
    "collapsed": false
   },
   "outputs": [],
   "source": [
    "# Drop following columns as they are hihgly correlated to other columns (we know from previous analysis\n",
    "# see Titanic_LogisticRegression notebook)\n",
    "X.drop(['Mr', 'Master', 'Unknown', 'Child', 'Age_mean'], axis = 1, inplace = True)"
   ]
  },
  {
   "cell_type": "code",
   "execution_count": 5,
   "metadata": {
    "collapsed": false
   },
   "outputs": [
    {
     "data": {
      "text/plain": [
       "((623, 25), (268, 25), (623,), (268,))"
      ]
     },
     "execution_count": 5,
     "metadata": {},
     "output_type": "execute_result"
    }
   ],
   "source": [
    "# separate train and test set\n",
    "X_train, X_test, Y_train, Y_test = train_test_split(X,Y, test_size=0.3, random_state=1)\n",
    "X_train.shape, X_test.shape, Y_train.shape, Y_test.shape"
   ]
  },
  {
   "cell_type": "code",
   "execution_count": 6,
   "metadata": {
    "collapsed": false
   },
   "outputs": [
    {
     "data": {
      "text/plain": [
       "0.62"
      ]
     },
     "execution_count": 6,
     "metadata": {},
     "output_type": "execute_result"
    }
   ],
   "source": [
    "# baseline accuracy (predicting that it did not survive)\n",
    "baseline = round(1-np.mean(Y), 2)\n",
    "baseline"
   ]
  },
  {
   "cell_type": "markdown",
   "metadata": {},
   "source": [
    "### Logistic regression including all features"
   ]
  },
  {
   "cell_type": "code",
   "execution_count": 7,
   "metadata": {
    "collapsed": true
   },
   "outputs": [],
   "source": [
    "# feature scaling\n",
    "def standarisation(train, test):\n",
    "    scaler = preprocessing.StandardScaler().fit(train)\n",
    "    train = scaler.transform(train)\n",
    "    test = scaler.transform(test)\n",
    "    return train, test"
   ]
  },
  {
   "cell_type": "code",
   "execution_count": 8,
   "metadata": {
    "collapsed": true
   },
   "outputs": [],
   "source": [
    "# standarization of features\n",
    "X_train, X_test = standarisation(X_train, X_test)"
   ]
  },
  {
   "cell_type": "code",
   "execution_count": 19,
   "metadata": {
    "collapsed": false
   },
   "outputs": [
    {
     "name": "stdout",
     "output_type": "stream",
     "text": [
      "C=500.00\n",
      "score with L1 penalty: 0.8459\n",
      "score with L2 penalty: 0.8443\n",
      "\n",
      "test score with L1 penalty: 0.7985\n",
      "test score with L2 penalty: 0.7948\n",
      "\n",
      "crossval score with L1 penalty: 0.8236\n",
      "crossval score with L2 penalty: 0.8220\n",
      "\n",
      "======\n",
      "C=200.00\n",
      "score with L1 penalty: 0.8427\n",
      "score with L2 penalty: 0.8443\n",
      "\n",
      "test score with L1 penalty: 0.7910\n",
      "test score with L2 penalty: 0.7948\n",
      "\n",
      "crossval score with L1 penalty: 0.8220\n",
      "crossval score with L2 penalty: 0.8220\n",
      "\n",
      "======\n",
      "C=100.00\n",
      "score with L1 penalty: 0.8427\n",
      "score with L2 penalty: 0.8443\n",
      "\n",
      "test score with L1 penalty: 0.7948\n",
      "test score with L2 penalty: 0.7948\n",
      "\n",
      "crossval score with L1 penalty: 0.8220\n",
      "crossval score with L2 penalty: 0.8220\n",
      "\n",
      "======\n",
      "C=1.00\n",
      "score with L1 penalty: 0.8363\n",
      "score with L2 penalty: 0.8363\n",
      "\n",
      "test score with L1 penalty: 0.7910\n",
      "test score with L2 penalty: 0.7948\n",
      "\n",
      "crossval score with L1 penalty: 0.8220\n",
      "crossval score with L2 penalty: 0.8156\n",
      "\n",
      "======\n",
      "C=0.01\n",
      "score with L1 penalty: 0.6822\n",
      "score with L2 penalty: 0.7673\n",
      "\n",
      "test score with L1 penalty: 0.6194\n",
      "test score with L2 penalty: 0.7127\n",
      "\n",
      "crossval score with L1 penalty: 0.6869\n",
      "crossval score with L2 penalty: 0.7464\n",
      "\n",
      "======\n"
     ]
    }
   ],
   "source": [
    "# Set regularization parameter\n",
    "for i, C in enumerate((500, 200, 100, 1, 0.01)):\n",
    "    # turn down tolerance for short training time\n",
    "    clf_l1_LR = LogisticRegression(C=C, penalty='l1', tol=0.01)\n",
    "    clf_l2_LR = LogisticRegression(C=C, penalty='l2', tol=0.01, solver = 'newton-cg')\n",
    "    clf_l1_LR.fit(X_train, Y_train)\n",
    "    clf_l2_LR.fit(X_train, Y_train)\n",
    "\n",
    "    pred_l1 = clf_l1_LR.predict(X_test) \n",
    "    pred_l2 = clf_l2_LR.predict(X_test)\n",
    "    \n",
    "    scores_l1 = cross_validation.cross_val_score(clf_l1_LR, X_train, Y_train, cv=5)\n",
    "    scores_l2 = cross_validation.cross_val_score(clf_l2_LR, X_train, Y_train, cv=5)\n",
    "    \n",
    "    print(\"C=%.2f\" % C)\n",
    "    print(\"score with L1 penalty: %.4f\" % clf_l1_LR.score(X_train, Y_train))\n",
    "    print(\"score with L2 penalty: %.4f\" % clf_l2_LR.score(X_train, Y_train))\n",
    "    print(\"\")\n",
    "    print(\"test score with L1 penalty: %.4f\" % metrics.accuracy_score(Y_test,pred_l1))\n",
    "    print(\"test score with L2 penalty: %.4f\" % metrics.accuracy_score(Y_test,pred_l2))\n",
    "    print(\"\")\n",
    "    print(\"crossval score with L1 penalty: %.4f\" % scores_l1.mean())\n",
    "    print(\"crossval score with L2 penalty: %.4f\" % scores_l2.mean())\n",
    "    print(\"\")\n",
    "    print(\"======\")"
   ]
  },
  {
   "cell_type": "markdown",
   "metadata": {},
   "source": [
    "# Prepare submission"
   ]
  },
  {
   "cell_type": "code",
   "execution_count": 20,
   "metadata": {
    "collapsed": false
   },
   "outputs": [
    {
     "data": {
      "text/html": [
       "<div>\n",
       "<table border=\"1\" class=\"dataframe\">\n",
       "  <thead>\n",
       "    <tr style=\"text-align: right;\">\n",
       "      <th></th>\n",
       "      <th>Pclass</th>\n",
       "      <th>Sex</th>\n",
       "      <th>Age</th>\n",
       "      <th>SibSp</th>\n",
       "      <th>Parch</th>\n",
       "      <th>Fare</th>\n",
       "      <th>Age_Unknown</th>\n",
       "      <th>Minor</th>\n",
       "      <th>Alone</th>\n",
       "      <th>man_w_spouse</th>\n",
       "      <th>...</th>\n",
       "      <th>B</th>\n",
       "      <th>C.1</th>\n",
       "      <th>D</th>\n",
       "      <th>E</th>\n",
       "      <th>F</th>\n",
       "      <th>G</th>\n",
       "      <th>Miss</th>\n",
       "      <th>Mrs</th>\n",
       "      <th>Other</th>\n",
       "      <th>low_fare</th>\n",
       "    </tr>\n",
       "  </thead>\n",
       "  <tbody>\n",
       "    <tr>\n",
       "      <th>0</th>\n",
       "      <td>3</td>\n",
       "      <td>1</td>\n",
       "      <td>34.5</td>\n",
       "      <td>0</td>\n",
       "      <td>0</td>\n",
       "      <td>7.8292</td>\n",
       "      <td>0</td>\n",
       "      <td>0</td>\n",
       "      <td>1</td>\n",
       "      <td>0</td>\n",
       "      <td>...</td>\n",
       "      <td>0</td>\n",
       "      <td>0</td>\n",
       "      <td>0</td>\n",
       "      <td>0</td>\n",
       "      <td>0</td>\n",
       "      <td>0</td>\n",
       "      <td>0</td>\n",
       "      <td>0</td>\n",
       "      <td>0</td>\n",
       "      <td>1</td>\n",
       "    </tr>\n",
       "    <tr>\n",
       "      <th>1</th>\n",
       "      <td>3</td>\n",
       "      <td>0</td>\n",
       "      <td>47.0</td>\n",
       "      <td>1</td>\n",
       "      <td>0</td>\n",
       "      <td>7.0000</td>\n",
       "      <td>0</td>\n",
       "      <td>0</td>\n",
       "      <td>1</td>\n",
       "      <td>0</td>\n",
       "      <td>...</td>\n",
       "      <td>0</td>\n",
       "      <td>0</td>\n",
       "      <td>0</td>\n",
       "      <td>0</td>\n",
       "      <td>0</td>\n",
       "      <td>0</td>\n",
       "      <td>0</td>\n",
       "      <td>1</td>\n",
       "      <td>0</td>\n",
       "      <td>1</td>\n",
       "    </tr>\n",
       "    <tr>\n",
       "      <th>2</th>\n",
       "      <td>2</td>\n",
       "      <td>1</td>\n",
       "      <td>62.0</td>\n",
       "      <td>0</td>\n",
       "      <td>0</td>\n",
       "      <td>9.6875</td>\n",
       "      <td>0</td>\n",
       "      <td>0</td>\n",
       "      <td>1</td>\n",
       "      <td>0</td>\n",
       "      <td>...</td>\n",
       "      <td>0</td>\n",
       "      <td>0</td>\n",
       "      <td>0</td>\n",
       "      <td>0</td>\n",
       "      <td>0</td>\n",
       "      <td>0</td>\n",
       "      <td>0</td>\n",
       "      <td>0</td>\n",
       "      <td>0</td>\n",
       "      <td>1</td>\n",
       "    </tr>\n",
       "    <tr>\n",
       "      <th>3</th>\n",
       "      <td>3</td>\n",
       "      <td>1</td>\n",
       "      <td>27.0</td>\n",
       "      <td>0</td>\n",
       "      <td>0</td>\n",
       "      <td>8.6625</td>\n",
       "      <td>0</td>\n",
       "      <td>0</td>\n",
       "      <td>1</td>\n",
       "      <td>0</td>\n",
       "      <td>...</td>\n",
       "      <td>0</td>\n",
       "      <td>0</td>\n",
       "      <td>0</td>\n",
       "      <td>0</td>\n",
       "      <td>0</td>\n",
       "      <td>0</td>\n",
       "      <td>0</td>\n",
       "      <td>0</td>\n",
       "      <td>0</td>\n",
       "      <td>1</td>\n",
       "    </tr>\n",
       "    <tr>\n",
       "      <th>4</th>\n",
       "      <td>3</td>\n",
       "      <td>0</td>\n",
       "      <td>22.0</td>\n",
       "      <td>1</td>\n",
       "      <td>1</td>\n",
       "      <td>12.2875</td>\n",
       "      <td>0</td>\n",
       "      <td>0</td>\n",
       "      <td>1</td>\n",
       "      <td>0</td>\n",
       "      <td>...</td>\n",
       "      <td>0</td>\n",
       "      <td>0</td>\n",
       "      <td>0</td>\n",
       "      <td>0</td>\n",
       "      <td>0</td>\n",
       "      <td>0</td>\n",
       "      <td>0</td>\n",
       "      <td>1</td>\n",
       "      <td>0</td>\n",
       "      <td>1</td>\n",
       "    </tr>\n",
       "  </tbody>\n",
       "</table>\n",
       "<p>5 rows × 25 columns</p>\n",
       "</div>"
      ],
      "text/plain": [
       "   Pclass  Sex   Age  SibSp  Parch     Fare  Age_Unknown  Minor  Alone  \\\n",
       "0       3    1  34.5      0      0   7.8292            0      0      1   \n",
       "1       3    0  47.0      1      0   7.0000            0      0      1   \n",
       "2       2    1  62.0      0      0   9.6875            0      0      1   \n",
       "3       3    1  27.0      0      0   8.6625            0      0      1   \n",
       "4       3    0  22.0      1      1  12.2875            0      0      1   \n",
       "\n",
       "   man_w_spouse    ...     B  C.1  D  E  F  G  Miss  Mrs  Other  low_fare  \n",
       "0             0    ...     0    0  0  0  0  0     0    0      0         1  \n",
       "1             0    ...     0    0  0  0  0  0     0    1      0         1  \n",
       "2             0    ...     0    0  0  0  0  0     0    0      0         1  \n",
       "3             0    ...     0    0  0  0  0  0     0    0      0         1  \n",
       "4             0    ...     0    0  0  0  0  0     0    1      0         1  \n",
       "\n",
       "[5 rows x 25 columns]"
      ]
     },
     "execution_count": 20,
     "metadata": {},
     "output_type": "execute_result"
    }
   ],
   "source": [
    "titanic_test = pd.read_csv('titanic_test_ready3.csv')\n",
    "titanic_test.drop(['Mr', 'Master', 'Unknown', 'Child', 'Age_mean'], axis = 1, inplace = True)\n",
    "titanic_test.head()"
   ]
  },
  {
   "cell_type": "code",
   "execution_count": 22,
   "metadata": {
    "collapsed": false
   },
   "outputs": [
    {
     "data": {
      "text/html": [
       "<div>\n",
       "<table border=\"1\" class=\"dataframe\">\n",
       "  <thead>\n",
       "    <tr style=\"text-align: right;\">\n",
       "      <th></th>\n",
       "      <th>Pclass</th>\n",
       "      <th>Sex</th>\n",
       "      <th>Age</th>\n",
       "      <th>SibSp</th>\n",
       "      <th>Parch</th>\n",
       "      <th>Fare</th>\n",
       "      <th>Age_Unknown</th>\n",
       "      <th>Minor</th>\n",
       "      <th>Alone</th>\n",
       "      <th>man_w_spouse</th>\n",
       "      <th>...</th>\n",
       "      <th>B</th>\n",
       "      <th>C.1</th>\n",
       "      <th>D</th>\n",
       "      <th>E</th>\n",
       "      <th>F</th>\n",
       "      <th>G</th>\n",
       "      <th>Miss</th>\n",
       "      <th>Mrs</th>\n",
       "      <th>Other</th>\n",
       "      <th>low_fare</th>\n",
       "    </tr>\n",
       "  </thead>\n",
       "  <tbody>\n",
       "    <tr>\n",
       "      <th>0</th>\n",
       "      <td>3</td>\n",
       "      <td>1</td>\n",
       "      <td>22</td>\n",
       "      <td>1</td>\n",
       "      <td>0</td>\n",
       "      <td>7.2500</td>\n",
       "      <td>0</td>\n",
       "      <td>0</td>\n",
       "      <td>1</td>\n",
       "      <td>1</td>\n",
       "      <td>...</td>\n",
       "      <td>0</td>\n",
       "      <td>0</td>\n",
       "      <td>0</td>\n",
       "      <td>0</td>\n",
       "      <td>0</td>\n",
       "      <td>0</td>\n",
       "      <td>0</td>\n",
       "      <td>0</td>\n",
       "      <td>0</td>\n",
       "      <td>1</td>\n",
       "    </tr>\n",
       "    <tr>\n",
       "      <th>1</th>\n",
       "      <td>1</td>\n",
       "      <td>0</td>\n",
       "      <td>38</td>\n",
       "      <td>1</td>\n",
       "      <td>0</td>\n",
       "      <td>71.2833</td>\n",
       "      <td>0</td>\n",
       "      <td>0</td>\n",
       "      <td>1</td>\n",
       "      <td>0</td>\n",
       "      <td>...</td>\n",
       "      <td>0</td>\n",
       "      <td>1</td>\n",
       "      <td>0</td>\n",
       "      <td>0</td>\n",
       "      <td>0</td>\n",
       "      <td>0</td>\n",
       "      <td>0</td>\n",
       "      <td>1</td>\n",
       "      <td>0</td>\n",
       "      <td>0</td>\n",
       "    </tr>\n",
       "    <tr>\n",
       "      <th>2</th>\n",
       "      <td>3</td>\n",
       "      <td>0</td>\n",
       "      <td>26</td>\n",
       "      <td>0</td>\n",
       "      <td>0</td>\n",
       "      <td>7.9250</td>\n",
       "      <td>0</td>\n",
       "      <td>0</td>\n",
       "      <td>1</td>\n",
       "      <td>0</td>\n",
       "      <td>...</td>\n",
       "      <td>0</td>\n",
       "      <td>0</td>\n",
       "      <td>0</td>\n",
       "      <td>0</td>\n",
       "      <td>0</td>\n",
       "      <td>0</td>\n",
       "      <td>1</td>\n",
       "      <td>0</td>\n",
       "      <td>0</td>\n",
       "      <td>1</td>\n",
       "    </tr>\n",
       "    <tr>\n",
       "      <th>3</th>\n",
       "      <td>1</td>\n",
       "      <td>0</td>\n",
       "      <td>35</td>\n",
       "      <td>1</td>\n",
       "      <td>0</td>\n",
       "      <td>53.1000</td>\n",
       "      <td>0</td>\n",
       "      <td>0</td>\n",
       "      <td>1</td>\n",
       "      <td>0</td>\n",
       "      <td>...</td>\n",
       "      <td>0</td>\n",
       "      <td>1</td>\n",
       "      <td>0</td>\n",
       "      <td>0</td>\n",
       "      <td>0</td>\n",
       "      <td>0</td>\n",
       "      <td>0</td>\n",
       "      <td>1</td>\n",
       "      <td>0</td>\n",
       "      <td>0</td>\n",
       "    </tr>\n",
       "    <tr>\n",
       "      <th>4</th>\n",
       "      <td>3</td>\n",
       "      <td>1</td>\n",
       "      <td>35</td>\n",
       "      <td>0</td>\n",
       "      <td>0</td>\n",
       "      <td>8.0500</td>\n",
       "      <td>0</td>\n",
       "      <td>0</td>\n",
       "      <td>1</td>\n",
       "      <td>0</td>\n",
       "      <td>...</td>\n",
       "      <td>0</td>\n",
       "      <td>0</td>\n",
       "      <td>0</td>\n",
       "      <td>0</td>\n",
       "      <td>0</td>\n",
       "      <td>0</td>\n",
       "      <td>0</td>\n",
       "      <td>0</td>\n",
       "      <td>0</td>\n",
       "      <td>1</td>\n",
       "    </tr>\n",
       "  </tbody>\n",
       "</table>\n",
       "<p>5 rows × 25 columns</p>\n",
       "</div>"
      ],
      "text/plain": [
       "   Pclass  Sex  Age  SibSp  Parch     Fare  Age_Unknown  Minor  Alone  \\\n",
       "0       3    1   22      1      0   7.2500            0      0      1   \n",
       "1       1    0   38      1      0  71.2833            0      0      1   \n",
       "2       3    0   26      0      0   7.9250            0      0      1   \n",
       "3       1    0   35      1      0  53.1000            0      0      1   \n",
       "4       3    1   35      0      0   8.0500            0      0      1   \n",
       "\n",
       "   man_w_spouse    ...     B  C.1  D  E  F  G  Miss  Mrs  Other  low_fare  \n",
       "0             1    ...     0    0  0  0  0  0     0    0      0         1  \n",
       "1             0    ...     0    1  0  0  0  0     0    1      0         0  \n",
       "2             0    ...     0    0  0  0  0  0     1    0      0         1  \n",
       "3             0    ...     0    1  0  0  0  0     0    1      0         0  \n",
       "4             0    ...     0    0  0  0  0  0     0    0      0         1  \n",
       "\n",
       "[5 rows x 25 columns]"
      ]
     },
     "execution_count": 22,
     "metadata": {},
     "output_type": "execute_result"
    }
   ],
   "source": [
    "titanic_train = X\n",
    "titanic_train.head()"
   ]
  },
  {
   "cell_type": "code",
   "execution_count": 23,
   "metadata": {
    "collapsed": false
   },
   "outputs": [],
   "source": [
    "# standarise the datasets\n",
    "titanic_train, titanic_test = standarisation(titanic_train, titanic_test)"
   ]
  },
  {
   "cell_type": "code",
   "execution_count": 24,
   "metadata": {
    "collapsed": false
   },
   "outputs": [
    {
     "data": {
      "text/plain": [
       "0.81037415237392041"
      ]
     },
     "execution_count": 24,
     "metadata": {},
     "output_type": "execute_result"
    }
   ],
   "source": [
    "# Logistic Regression Model\n",
    "logReg_Final = LogisticRegression(C=500, penalty='l1', tol=0.01)\n",
    "logReg_Final.fit(titanic_train, Y)   # fit to the training set\n",
    "\n",
    "# cross validation\n",
    "scores = cross_validation.cross_val_score(logReg_Final, titanic_train, Y, cv=5)\n",
    "scores.mean()"
   ]
  },
  {
   "cell_type": "code",
   "execution_count": 25,
   "metadata": {
    "collapsed": false
   },
   "outputs": [
    {
     "data": {
      "text/plain": [
       "((891, 25), (418, 25))"
      ]
     },
     "execution_count": 25,
     "metadata": {},
     "output_type": "execute_result"
    }
   ],
   "source": [
    "titanic_train.shape, titanic_test.shape"
   ]
  },
  {
   "cell_type": "code",
   "execution_count": 26,
   "metadata": {
    "collapsed": true
   },
   "outputs": [],
   "source": [
    "predicted = logReg_Final.predict(titanic_test)"
   ]
  },
  {
   "cell_type": "code",
   "execution_count": 27,
   "metadata": {
    "collapsed": true
   },
   "outputs": [],
   "source": [
    "test_df = pd.read_csv('test.csv')\n",
    "\n",
    "submission = pd.DataFrame({\n",
    "        \"PassengerId\": test_df[\"PassengerId\"],\n",
    "        \"Survived\": predicted\n",
    "    })\n",
    "\n",
    "submission.to_csv('titanic_submission_regLogit.csv', index=False)"
   ]
  },
  {
   "cell_type": "code",
   "execution_count": null,
   "metadata": {
    "collapsed": true
   },
   "outputs": [],
   "source": []
  }
 ],
 "metadata": {
  "kernelspec": {
   "display_name": "Python 3",
   "language": "python",
   "name": "python3"
  },
  "language_info": {
   "codemirror_mode": {
    "name": "ipython",
    "version": 3
   },
   "file_extension": ".py",
   "mimetype": "text/x-python",
   "name": "python",
   "nbconvert_exporter": "python",
   "pygments_lexer": "ipython3",
   "version": "3.4.4"
  }
 },
 "nbformat": 4,
 "nbformat_minor": 0
}
