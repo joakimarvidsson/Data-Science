{
 "cells": [
  {
   "cell_type": "markdown",
   "id": "8da6f0f7",
   "metadata": {
    "papermill": {
     "duration": 0.015546,
     "end_time": "2022-10-13T00:56:52.232570",
     "exception": false,
     "start_time": "2022-10-13T00:56:52.217024",
     "status": "completed"
    },
    "tags": []
   },
   "source": [
    "<center>\n",
    "<img src=\"https://media.lrng.org/31/84/f8f366b3fa9150c167a926e2d3730047a9a3-800x400.png\" width=600>\n",
    "</center>\n",
    "<div style=\"padding:20px; \n",
    "            color:#150d0a;\n",
    "            margin:10px;\n",
    "            font-size:220%;\n",
    "            text-align:center;\n",
    "            display:fill;\n",
    "            border-radius:20px;\n",
    "            border-width: 5px;\n",
    "            border-style: solid;\n",
    "            border-color: #150d0a;\n",
    "            background-color:#eca912;\n",
    "            overflow:hidden;\n",
    "            font-weight:500\">Tips To Make Your Notebook Look Better</div>"
   ]
  },
  {
   "cell_type": "markdown",
   "id": "256eb736",
   "metadata": {
    "papermill": {
     "duration": 0.010021,
     "end_time": "2022-10-13T00:56:52.252256",
     "exception": false,
     "start_time": "2022-10-13T00:56:52.242235",
     "status": "completed"
    },
    "tags": []
   },
   "source": [
    "# 1. Add a table of contents <a class='anchor' id='top'></a>\n",
    "\n",
    "Add a \"Table of Contents\" to navigate your notebook easier. Notebooks can get pretty long. This will make the reader's life easier so he can jump around the notebook without getting lost.\n",
    "\n",
    "```html\n",
    "### <font color='289C4E'>Table of contents<font><a class='anchor' id='top'></a>\n",
    "- [Section 1](#1)\n",
    "- [Section 2](#2)\n",
    "- [Section 3](#3)\n",
    "```"
   ]
  },
  {
   "cell_type": "markdown",
   "id": "3f6ec445",
   "metadata": {
    "_cell_guid": "b1076dfc-b9ad-4769-8c92-a6c4dae69d19",
    "_uuid": "8f2839f25d086af736a60e9eeb907d3b93b6e0e5",
    "papermill": {
     "duration": 0.008157,
     "end_time": "2022-10-13T00:56:52.272208",
     "exception": false,
     "start_time": "2022-10-13T00:56:52.264051",
     "status": "completed"
    },
    "tags": []
   },
   "source": [
    "### <font color='289C4E'>Table of contents<font><a class='anchor' id='top'></a>\n",
    "1. [Add a table of contents](#table_of_contents)\n",
    "2. [Add images to make the notebook more attractive](#images)\n",
    "3. [Add headers that show cell importance](#headers)\n",
    "4. [Use pretty print to display prints](#pprint)\n",
    "5. [Use latex to display your formulas](#latex)\n",
    "6. [Change cell background colors](#background)\n",
    "7. [Use alert blocks](#alerts)\n",
    "8. [Use interactive plots](#interactive_plots)\n",
    "9. [Use CSS styling inside HTML](#css)\n",
    "10. [Place images strategically](#strategy)\n",
    "11. [Embed links to your references](#links)\n",
    "12. [Insert Youtube videos in your notebook](#youtube)\n",
    "13. [Share blocks of code in your markdowns](#code)\n",
    "14. [Embed gifs in your notebook](#gifs)\n",
    "15. [Use Jupyter themes (commmented)](#themes)\n",
    "16. [Use emojis](#emojis)"
   ]
  },
  {
   "cell_type": "markdown",
   "id": "aa0a2f91",
   "metadata": {
    "papermill": {
     "duration": 0.007879,
     "end_time": "2022-10-13T00:56:52.288647",
     "exception": false,
     "start_time": "2022-10-13T00:56:52.280768",
     "status": "completed"
    },
    "tags": []
   },
   "source": [
    "# 2. Add images to make the notebook more attractive <a class='anchor' id='images'></a> [↑](#top)\n",
    "\n",
    "You know what they say, \"A picture is worth a thousand words\", sometimes an image explains things better than your own words. Also, without images, notebooks can get a little dull. Add images to improve your notebook's appearance!\n",
    "\n",
    "```\n",
    "<center>\n",
    "<img src=\"your_image_path.png\" width=500>\n",
    "</center>\n",
    "```"
   ]
  },
  {
   "cell_type": "markdown",
   "id": "3e68267c",
   "metadata": {
    "papermill": {
     "duration": 0.009261,
     "end_time": "2022-10-13T00:56:52.306386",
     "exception": false,
     "start_time": "2022-10-13T00:56:52.297125",
     "status": "completed"
    },
    "tags": []
   },
   "source": [
    "<center>\n",
    "<img src=\"https://user-images.githubusercontent.com/145605/79639176-9ca33d80-81bc-11ea-8cde-f7ff68ee2042.png\" width=600>\n",
    "</center>"
   ]
  },
  {
   "cell_type": "markdown",
   "id": "fdc38c80",
   "metadata": {
    "papermill": {
     "duration": 0.008196,
     "end_time": "2022-10-13T00:56:52.325332",
     "exception": false,
     "start_time": "2022-10-13T00:56:52.317136",
     "status": "completed"
    },
    "tags": []
   },
   "source": [
    "# 3. Add headers that show cell importance <a class='anchor' id='headers'></a> [↑](#top)\n",
    "\n",
    "Headers can help structure the notebook and add hierarchy. Bigger headers have more impact and should be used for the most relevant sections.\n",
    "\n",
    "```html\n",
    "<h1 align=\"center\"><font color='green'>Header 1</font></h1>\n",
    "<h2 align=\"center\"> <font color='gray'>Header 2</font></h2>\n",
    "<h3 align=\"center\"> <font color='blue'>Header 3</font></h3>\n",
    "```"
   ]
  },
  {
   "cell_type": "markdown",
   "id": "20540a2e",
   "metadata": {
    "papermill": {
     "duration": 0.007937,
     "end_time": "2022-10-13T00:56:52.341725",
     "exception": false,
     "start_time": "2022-10-13T00:56:52.333788",
     "status": "completed"
    },
    "tags": []
   },
   "source": [
    "<h1 align=\"center\"><font color='green'>Header 1</font></h1>\n",
    "<h2 align=\"center\"> <font color='gray'>Header 2</font></h2>\n",
    "<h3 align=\"center\"> <font color='blue'>Header 3</font></h3>"
   ]
  },
  {
   "cell_type": "markdown",
   "id": "2cf30b19",
   "metadata": {
    "papermill": {
     "duration": 0.008046,
     "end_time": "2022-10-13T00:56:52.358088",
     "exception": false,
     "start_time": "2022-10-13T00:56:52.350042",
     "status": "completed"
    },
    "tags": []
   },
   "source": [
    "# 4. Use pretty print to display prints <a class='anchor' id='pprint'></a> [↑](#top)\n",
    "\n",
    "Use [pprint](https://docs.python.org/3/library/pprint.html) to display prints beautifully. You can use it to display your dictionaries and JSON files in a linted fashion."
   ]
  },
  {
   "cell_type": "code",
   "execution_count": 1,
   "id": "89347618",
   "metadata": {
    "execution": {
     "iopub.execute_input": "2022-10-13T00:56:52.377714Z",
     "iopub.status.busy": "2022-10-13T00:56:52.376704Z",
     "iopub.status.idle": "2022-10-13T00:56:52.391641Z",
     "shell.execute_reply": "2022-10-13T00:56:52.390402Z"
    },
    "papermill": {
     "duration": 0.028011,
     "end_time": "2022-10-13T00:56:52.394637",
     "exception": false,
     "start_time": "2022-10-13T00:56:52.366626",
     "status": "completed"
    },
    "tags": []
   },
   "outputs": [
    {
     "name": "stdout",
     "output_type": "stream",
     "text": [
      "{'key1': 'value1',\n",
      " 'key2': 'value2',\n",
      " 'key3': {'k1': 1,\n",
      "          'k2': '2',\n",
      "          'k3': 42}}\n"
     ]
    }
   ],
   "source": [
    "import pprint\n",
    "\n",
    "employee_records = {'key1': 'value1',\n",
    "                    'key2': 'value2',\n",
    "                   'key3': {'k1': 1, 'k2':'2','k3':42}}\n",
    "\n",
    "pprint.pprint(employee_records,width=1)"
   ]
  },
  {
   "cell_type": "markdown",
   "id": "6b81877b",
   "metadata": {
    "papermill": {
     "duration": 0.007874,
     "end_time": "2022-10-13T00:56:52.410788",
     "exception": false,
     "start_time": "2022-10-13T00:56:52.402914",
     "status": "completed"
    },
    "tags": []
   },
   "source": [
    "# 5. Use latex to display your formulas <a class='anchor' id='latex'></a> [↑](#top)\n",
    " \n",
    "You can use [Latex](https://www.latex-project.org/) inside markdowns to display your formulas in a much more elegant style:\n",
    "$$RMSE = \\sqrt{\\frac{\\sum_{i=1}^{N}(x_{i} - \\hat x_{i})^{2}}{N}}$$\n",
    "\n",
    "You can also display them inside execution cells:"
   ]
  },
  {
   "cell_type": "code",
   "execution_count": 2,
   "id": "8cd4f5d7",
   "metadata": {
    "execution": {
     "iopub.execute_input": "2022-10-13T00:56:52.429143Z",
     "iopub.status.busy": "2022-10-13T00:56:52.428513Z",
     "iopub.status.idle": "2022-10-13T00:56:52.438623Z",
     "shell.execute_reply": "2022-10-13T00:56:52.437501Z"
    },
    "papermill": {
     "duration": 0.022149,
     "end_time": "2022-10-13T00:56:52.441067",
     "exception": false,
     "start_time": "2022-10-13T00:56:52.418918",
     "status": "completed"
    },
    "tags": []
   },
   "outputs": [
    {
     "data": {
      "text/latex": [
       "\\begin{align}\n",
       "fraction = \\frac{2}{5} &&  integral = \\int_{a}^{b} x^2 \\,dx && sum = \\sum_{n=1}^{\\infty} 2^{-n} = 1\n",
       "\\end{align}\n"
      ],
      "text/plain": [
       "<IPython.core.display.Latex object>"
      ]
     },
     "metadata": {},
     "output_type": "display_data"
    }
   ],
   "source": [
    "%%latex\n",
    "\\begin{align}\n",
    "fraction = \\frac{2}{5} &&  integral = \\int_{a}^{b} x^2 \\,dx && sum = \\sum_{n=1}^{\\infty} 2^{-n} = 1\n",
    "\\end{align}"
   ]
  },
  {
   "cell_type": "markdown",
   "id": "f87c81f4",
   "metadata": {
    "papermill": {
     "duration": 0.007975,
     "end_time": "2022-10-13T00:56:52.457402",
     "exception": false,
     "start_time": "2022-10-13T00:56:52.449427",
     "status": "completed"
    },
    "tags": []
   },
   "source": [
    "# 6. Change cell background colors <a class='anchor' id='background'></a> [↑](#top)\n",
    "\n",
    "[Source](https://stackoverflow.com/questions/49429585/how-to-change-the-background-color-of-a-single-cell-in-a-jupyter-notebook-jupy)"
   ]
  },
  {
   "cell_type": "code",
   "execution_count": 3,
   "id": "d19a9300",
   "metadata": {
    "execution": {
     "iopub.execute_input": "2022-10-13T00:56:52.476520Z",
     "iopub.status.busy": "2022-10-13T00:56:52.475834Z",
     "iopub.status.idle": "2022-10-13T00:56:52.482722Z",
     "shell.execute_reply": "2022-10-13T00:56:52.481842Z"
    },
    "papermill": {
     "duration": 0.019144,
     "end_time": "2022-10-13T00:56:52.484829",
     "exception": false,
     "start_time": "2022-10-13T00:56:52.465685",
     "status": "completed"
    },
    "tags": []
   },
   "outputs": [
    {
     "data": {
      "text/html": [
       "<img src onerror=\"var cell = this.closest('.code_cell');var editor = cell.querySelector('.input_area');editor.style.background='#E9FDFF';this.parentNode.removeChild(this)\">"
      ],
      "text/plain": [
       "<IPython.core.display.HTML object>"
      ]
     },
     "metadata": {},
     "output_type": "display_data"
    }
   ],
   "source": [
    "from IPython.display import HTML, display\n",
    "\n",
    "def set_background(color):\n",
    "    script = (\"var cell = this.closest('.code_cell');\"\n",
    "              \"var editor = cell.querySelector('.input_area');\"\n",
    "              \"editor.style.background='{}';\" \n",
    "              \"this.parentNode.removeChild(this)\"\n",
    "             ).format(color)\n",
    "    display(HTML('<img src onerror=\"{}\">'.format(script)))\n",
    "    \n",
    "    \n",
    "set_background('#E9FDFF')"
   ]
  },
  {
   "cell_type": "markdown",
   "id": "06ec65e7",
   "metadata": {
    "papermill": {
     "duration": 0.00831,
     "end_time": "2022-10-13T00:56:52.501657",
     "exception": false,
     "start_time": "2022-10-13T00:56:52.493347",
     "status": "completed"
    },
    "tags": []
   },
   "source": [
    "# 7. Use alert blocks <a class='anchor' id='alerts'></a> [↑](#top)\n",
    "\n",
    "Alert blocks can be used for different purposes, like displaying information, show warnings or alert users."
   ]
  },
  {
   "cell_type": "markdown",
   "id": "84e89390",
   "metadata": {
    "execution": {
     "iopub.status.busy": "2022-10-11T18:14:23.194772Z",
     "iopub.status.idle": "2022-10-11T18:14:23.195356Z",
     "shell.execute_reply": "2022-10-11T18:14:23.195091Z",
     "shell.execute_reply.started": "2022-10-11T18:14:23.195064Z"
    },
    "papermill": {
     "duration": 0.008198,
     "end_time": "2022-10-13T00:56:52.518322",
     "exception": false,
     "start_time": "2022-10-13T00:56:52.510124",
     "status": "completed"
    },
    "tags": []
   },
   "source": [
    "```html\n",
    "<div class=\"alert alert-block alert-info\">\n",
    "<b>Example:</b> Blue boxes are used to display information.\n",
    "</div>\n",
    "```"
   ]
  },
  {
   "cell_type": "markdown",
   "id": "5d169103",
   "metadata": {
    "execution": {
     "iopub.execute_input": "2022-10-11T18:08:53.663592Z",
     "iopub.status.busy": "2022-10-11T18:08:53.663217Z",
     "iopub.status.idle": "2022-10-11T18:08:53.671288Z",
     "shell.execute_reply": "2022-10-11T18:08:53.669394Z",
     "shell.execute_reply.started": "2022-10-11T18:08:53.663560Z"
    },
    "papermill": {
     "duration": 0.008494,
     "end_time": "2022-10-13T00:56:52.536140",
     "exception": false,
     "start_time": "2022-10-13T00:56:52.527646",
     "status": "completed"
    },
    "tags": []
   },
   "source": [
    "<div class=\"alert alert-block alert-info\">\n",
    "<b>Example:</b> Blue boxes are used to display information.\n",
    "</div>"
   ]
  },
  {
   "cell_type": "markdown",
   "id": "863f18cd",
   "metadata": {
    "execution": {
     "iopub.execute_input": "2022-10-11T18:17:53.863252Z",
     "iopub.status.busy": "2022-10-11T18:17:53.862851Z",
     "iopub.status.idle": "2022-10-11T18:17:53.872112Z",
     "shell.execute_reply": "2022-10-11T18:17:53.870054Z",
     "shell.execute_reply.started": "2022-10-11T18:17:53.863221Z"
    },
    "papermill": {
     "duration": 0.00815,
     "end_time": "2022-10-13T00:56:52.552758",
     "exception": false,
     "start_time": "2022-10-13T00:56:52.544608",
     "status": "completed"
    },
    "tags": []
   },
   "source": [
    "```html\n",
    "<div class=\"alert alert-block alert-warning\">  \n",
    "<b>Example:</b> Yellow alert boxes are usually used for warnings  \n",
    "</div>\n",
    "```"
   ]
  },
  {
   "cell_type": "markdown",
   "id": "311b79d5",
   "metadata": {
    "execution": {
     "iopub.execute_input": "2022-10-11T18:07:57.713352Z",
     "iopub.status.busy": "2022-10-11T18:07:57.712858Z",
     "iopub.status.idle": "2022-10-11T18:07:57.720848Z",
     "shell.execute_reply": "2022-10-11T18:07:57.719687Z",
     "shell.execute_reply.started": "2022-10-11T18:07:57.713315Z"
    },
    "papermill": {
     "duration": 0.008039,
     "end_time": "2022-10-13T00:56:52.569571",
     "exception": false,
     "start_time": "2022-10-13T00:56:52.561532",
     "status": "completed"
    },
    "tags": []
   },
   "source": [
    "<div class=\"alert alert-block alert-warning\">  \n",
    "<b>Example:</b> Yellow alert boxes are usually used for warnings  \n",
    "</div>"
   ]
  },
  {
   "cell_type": "markdown",
   "id": "fc583be3",
   "metadata": {
    "papermill": {
     "duration": 0.008054,
     "end_time": "2022-10-13T00:56:52.586006",
     "exception": false,
     "start_time": "2022-10-13T00:56:52.577952",
     "status": "completed"
    },
    "tags": []
   },
   "source": [
    "```html\n",
    "<div class=\"alert alert-block alert-success\">  \n",
    "<b>Example:</b> Green boxes are used to display successful executions.   \n",
    "</div>\n",
    "```"
   ]
  },
  {
   "cell_type": "markdown",
   "id": "0ba49638",
   "metadata": {
    "papermill": {
     "duration": 0.008063,
     "end_time": "2022-10-13T00:56:52.602452",
     "exception": false,
     "start_time": "2022-10-13T00:56:52.594389",
     "status": "completed"
    },
    "tags": []
   },
   "source": [
    "<div class=\"alert alert-block alert-success\">  \n",
    "<b>Example:</b> Green boxes are used to display successful executions.   \n",
    "</div>"
   ]
  },
  {
   "cell_type": "markdown",
   "id": "a8977973",
   "metadata": {
    "papermill": {
     "duration": 0.00811,
     "end_time": "2022-10-13T00:56:52.618878",
     "exception": false,
     "start_time": "2022-10-13T00:56:52.610768",
     "status": "completed"
    },
    "tags": []
   },
   "source": [
    "```html\n",
    "<div class=\"alert alert-block alert-danger\">  \n",
    "<b>Example:</b> Red boxes usually to alert users or display errors.  \n",
    "</div>\n",
    "```"
   ]
  },
  {
   "cell_type": "markdown",
   "id": "25fd2b3b",
   "metadata": {
    "papermill": {
     "duration": 0.008019,
     "end_time": "2022-10-13T00:56:52.635172",
     "exception": false,
     "start_time": "2022-10-13T00:56:52.627153",
     "status": "completed"
    },
    "tags": []
   },
   "source": [
    "<div class=\"alert alert-block alert-danger\">  \n",
    "<b>Example:</b> Red boxes usually to alert users or display errors.  \n",
    "</div>"
   ]
  },
  {
   "cell_type": "markdown",
   "id": "36019734",
   "metadata": {
    "papermill": {
     "duration": 0.008002,
     "end_time": "2022-10-13T00:56:52.651575",
     "exception": false,
     "start_time": "2022-10-13T00:56:52.643573",
     "status": "completed"
    },
    "tags": []
   },
   "source": [
    "# 8. Use interactive plots  <a class='anchor' id='interactive_plots'></a> [↑](#top)\n",
    "\n",
    "Interactive plots are way better than static plots. [Plotly](https://plotly.com/) provides a huge set of interactive plots that can make your presentation much more appealing."
   ]
  },
  {
   "cell_type": "code",
   "execution_count": 4,
   "id": "03b44edf",
   "metadata": {
    "_kg_hide-input": true,
    "execution": {
     "iopub.execute_input": "2022-10-13T00:56:52.670071Z",
     "iopub.status.busy": "2022-10-13T00:56:52.669675Z",
     "iopub.status.idle": "2022-10-13T00:56:55.229998Z",
     "shell.execute_reply": "2022-10-13T00:56:55.228947Z"
    },
    "papermill": {
     "duration": 2.572751,
     "end_time": "2022-10-13T00:56:55.232534",
     "exception": false,
     "start_time": "2022-10-13T00:56:52.659783",
     "status": "completed"
    },
    "tags": []
   },
   "outputs": [
    {
     "data": {
      "text/html": [
       "        <script type=\"text/javascript\">\n",
       "        window.PlotlyConfig = {MathJaxConfig: 'local'};\n",
       "        if (window.MathJax && window.MathJax.Hub && window.MathJax.Hub.Config) {window.MathJax.Hub.Config({SVG: {font: \"STIX-Web\"}});}\n",
       "        if (typeof require !== 'undefined') {\n",
       "        require.undef(\"plotly\");\n",
       "        requirejs.config({\n",
       "            paths: {\n",
       "                'plotly': ['https://cdn.plot.ly/plotly-2.14.0.min']\n",
       "            }\n",
       "        });\n",
       "        require(['plotly'], function(Plotly) {\n",
       "            window._Plotly = Plotly;\n",
       "        });\n",
       "        }\n",
       "        </script>\n",
       "        "
      ]
     },
     "metadata": {},
     "output_type": "display_data"
    },
    {
     "data": {
      "text/html": [
       "<div>                            <div id=\"77e8cde3-79bd-40ef-9466-146a8fbf794f\" class=\"plotly-graph-div\" style=\"height:525px; width:100%;\"></div>            <script type=\"text/javascript\">                require([\"plotly\"], function(Plotly) {                    window.PLOTLYENV=window.PLOTLYENV || {};                                    if (document.getElementById(\"77e8cde3-79bd-40ef-9466-146a8fbf794f\")) {                    Plotly.newPlot(                        \"77e8cde3-79bd-40ef-9466-146a8fbf794f\",                        [{\"hovertemplate\":\"x=%{x}<br>y=%{y}<extra></extra>\",\"legendgroup\":\"\",\"line\":{\"color\":\"#FFFF00\",\"dash\":\"solid\"},\"marker\":{\"symbol\":\"circle\"},\"mode\":\"lines\",\"name\":\"\",\"orientation\":\"v\",\"showlegend\":false,\"x\":[0.0,0.1,0.2,0.30000000000000004,0.4,0.5,0.6000000000000001,0.7000000000000001,0.8,0.9,1.0,1.1,1.2000000000000002,1.3,1.4000000000000001,1.5,1.6,1.7000000000000002,1.8,1.9000000000000001,2.0,2.1,2.2,2.3000000000000003,2.4000000000000004,2.5,2.6,2.7,2.8000000000000003,2.9000000000000004,3.0,3.1,3.2,3.3000000000000003,3.4000000000000004,3.5,3.6,3.7,3.8000000000000003,3.9000000000000004,4.0,4.1000000000000005,4.2,4.3,4.4,4.5,4.6000000000000005,4.7,4.800000000000001,4.9,5.0,5.1000000000000005,5.2,5.300000000000001,5.4,5.5,5.6000000000000005,5.7,5.800000000000001,5.9,6.0,6.1000000000000005,6.2,6.300000000000001,6.4,6.5,6.6000000000000005,6.7,6.800000000000001,6.9,7.0,7.1000000000000005,7.2,7.300000000000001,7.4,7.5,7.6000000000000005,7.7,7.800000000000001,7.9,8.0,8.1,8.200000000000001,8.3,8.4,8.5,8.6,8.700000000000001,8.8,8.9,9.0,9.1,9.200000000000001,9.3,9.4,9.5,9.600000000000001,9.700000000000001,9.8,9.9,10.0,10.100000000000001,10.200000000000001,10.3,10.4,10.5,10.600000000000001,10.700000000000001,10.8,10.9,11.0,11.100000000000001,11.200000000000001,11.3,11.4,11.5,11.600000000000001,11.700000000000001,11.8,11.9,12.0,12.100000000000001,12.200000000000001,12.3,12.4,12.5],\"xaxis\":\"x\",\"y\":[1.0,0.9950041652780258,0.9800665778412416,0.955336489125606,0.9210609940028851,0.8775825618903728,0.8253356149096782,0.7648421872844884,0.6967067093471654,0.6216099682706644,0.5403023058681398,0.4535961214255773,0.3623577544766734,0.26749882862458735,0.16996714290024081,0.0707372016677029,-0.029199522301288815,-0.12884449429552486,-0.2272020946930871,-0.3232895668635036,-0.4161468365471424,-0.5048461045998576,-0.5885011172553458,-0.6662760212798244,-0.7373937155412458,-0.8011436155469337,-0.8568887533689473,-0.9040721420170612,-0.9422223406686583,-0.9709581651495907,-0.9899924966004454,-0.9991351502732795,-0.9982947757947531,-0.9874797699088649,-0.9667981925794609,-0.9364566872907963,-0.896758416334147,-0.848100031710408,-0.7909677119144165,-0.7259323042001399,-0.6536436208636119,-0.5748239465332685,-0.4902608213406994,-0.40079917207997545,-0.30733286997841935,-0.2107957994307797,-0.11215252693505398,-0.01238866346289056,0.08749898343944727,0.18651236942257576,0.28366218546322625,0.37797774271298107,0.4685166713003771,0.5543743361791615,0.6346928759426347,0.70866977429126,0.7755658785102502,0.8347127848391598,0.8855195169413194,0.9274784307440359,0.960170286650366,0.9832684384425847,0.9965420970232175,0.9998586363834151,0.9931849187581926,0.9765876257280235,0.9502325919585293,0.9143831482353194,0.8693974903498248,0.8157251001253568,0.7539022543433046,0.6845466664428059,0.6083513145322546,0.5260775173811045,0.43854732757439036,0.3466353178350258,0.25125984258225487,0.15337386203786435,0.05395542056264886,-0.04600212563953695,-0.14550003380861354,-0.2435441537357911,-0.33915486098383624,-0.4313768449706208,-0.5192886541166856,-0.6020119026848236,-0.6787200473200125,-0.7486466455973999,-0.811093014061656,-0.8654352092411123,-0.9111302618846769,-0.9477216021311119,-0.974843621404164,-0.9922253254526034,-0.9996930420352065,-0.9971721561963784,-0.9846878557941267,-0.9623648798313097,-0.9304262721047533,-0.8891911526253609,-0.8390715290764524,-0.7805681801691826,-0.7142656520271989,-0.6408264175949933,-0.5609842574272288,-0.4755369279959925,-0.385338190771828,-0.29128928172134383,-0.1943299064553348,-0.09542885100095065,0.004425697988050785,0.10423602686569865,0.20300486381875213,0.2997453432770149,0.3934908663478909,0.4833047587530059,0.568289629767975,0.6475963386538773,0.7204324789908387,0.7860702961410393,0.8438539587324921,0.8932061115093233,0.9336336440746379,0.9647326178866098,0.9861923022788637,0.9977982791785807],\"yaxis\":\"y\",\"type\":\"scatter\"}],                        {\"template\":{\"data\":{\"barpolar\":[{\"marker\":{\"line\":{\"color\":\"rgb(17,17,17)\",\"width\":0.5},\"pattern\":{\"fillmode\":\"overlay\",\"size\":10,\"solidity\":0.2}},\"type\":\"barpolar\"}],\"bar\":[{\"error_x\":{\"color\":\"#f2f5fa\"},\"error_y\":{\"color\":\"#f2f5fa\"},\"marker\":{\"line\":{\"color\":\"rgb(17,17,17)\",\"width\":0.5},\"pattern\":{\"fillmode\":\"overlay\",\"size\":10,\"solidity\":0.2}},\"type\":\"bar\"}],\"carpet\":[{\"aaxis\":{\"endlinecolor\":\"#A2B1C6\",\"gridcolor\":\"#506784\",\"linecolor\":\"#506784\",\"minorgridcolor\":\"#506784\",\"startlinecolor\":\"#A2B1C6\"},\"baxis\":{\"endlinecolor\":\"#A2B1C6\",\"gridcolor\":\"#506784\",\"linecolor\":\"#506784\",\"minorgridcolor\":\"#506784\",\"startlinecolor\":\"#A2B1C6\"},\"type\":\"carpet\"}],\"choropleth\":[{\"colorbar\":{\"outlinewidth\":0,\"ticks\":\"\"},\"type\":\"choropleth\"}],\"contourcarpet\":[{\"colorbar\":{\"outlinewidth\":0,\"ticks\":\"\"},\"type\":\"contourcarpet\"}],\"contour\":[{\"colorbar\":{\"outlinewidth\":0,\"ticks\":\"\"},\"colorscale\":[[0.0,\"#0d0887\"],[0.1111111111111111,\"#46039f\"],[0.2222222222222222,\"#7201a8\"],[0.3333333333333333,\"#9c179e\"],[0.4444444444444444,\"#bd3786\"],[0.5555555555555556,\"#d8576b\"],[0.6666666666666666,\"#ed7953\"],[0.7777777777777778,\"#fb9f3a\"],[0.8888888888888888,\"#fdca26\"],[1.0,\"#f0f921\"]],\"type\":\"contour\"}],\"heatmapgl\":[{\"colorbar\":{\"outlinewidth\":0,\"ticks\":\"\"},\"colorscale\":[[0.0,\"#0d0887\"],[0.1111111111111111,\"#46039f\"],[0.2222222222222222,\"#7201a8\"],[0.3333333333333333,\"#9c179e\"],[0.4444444444444444,\"#bd3786\"],[0.5555555555555556,\"#d8576b\"],[0.6666666666666666,\"#ed7953\"],[0.7777777777777778,\"#fb9f3a\"],[0.8888888888888888,\"#fdca26\"],[1.0,\"#f0f921\"]],\"type\":\"heatmapgl\"}],\"heatmap\":[{\"colorbar\":{\"outlinewidth\":0,\"ticks\":\"\"},\"colorscale\":[[0.0,\"#0d0887\"],[0.1111111111111111,\"#46039f\"],[0.2222222222222222,\"#7201a8\"],[0.3333333333333333,\"#9c179e\"],[0.4444444444444444,\"#bd3786\"],[0.5555555555555556,\"#d8576b\"],[0.6666666666666666,\"#ed7953\"],[0.7777777777777778,\"#fb9f3a\"],[0.8888888888888888,\"#fdca26\"],[1.0,\"#f0f921\"]],\"type\":\"heatmap\"}],\"histogram2dcontour\":[{\"colorbar\":{\"outlinewidth\":0,\"ticks\":\"\"},\"colorscale\":[[0.0,\"#0d0887\"],[0.1111111111111111,\"#46039f\"],[0.2222222222222222,\"#7201a8\"],[0.3333333333333333,\"#9c179e\"],[0.4444444444444444,\"#bd3786\"],[0.5555555555555556,\"#d8576b\"],[0.6666666666666666,\"#ed7953\"],[0.7777777777777778,\"#fb9f3a\"],[0.8888888888888888,\"#fdca26\"],[1.0,\"#f0f921\"]],\"type\":\"histogram2dcontour\"}],\"histogram2d\":[{\"colorbar\":{\"outlinewidth\":0,\"ticks\":\"\"},\"colorscale\":[[0.0,\"#0d0887\"],[0.1111111111111111,\"#46039f\"],[0.2222222222222222,\"#7201a8\"],[0.3333333333333333,\"#9c179e\"],[0.4444444444444444,\"#bd3786\"],[0.5555555555555556,\"#d8576b\"],[0.6666666666666666,\"#ed7953\"],[0.7777777777777778,\"#fb9f3a\"],[0.8888888888888888,\"#fdca26\"],[1.0,\"#f0f921\"]],\"type\":\"histogram2d\"}],\"histogram\":[{\"marker\":{\"pattern\":{\"fillmode\":\"overlay\",\"size\":10,\"solidity\":0.2}},\"type\":\"histogram\"}],\"mesh3d\":[{\"colorbar\":{\"outlinewidth\":0,\"ticks\":\"\"},\"type\":\"mesh3d\"}],\"parcoords\":[{\"line\":{\"colorbar\":{\"outlinewidth\":0,\"ticks\":\"\"}},\"type\":\"parcoords\"}],\"pie\":[{\"automargin\":true,\"type\":\"pie\"}],\"scatter3d\":[{\"line\":{\"colorbar\":{\"outlinewidth\":0,\"ticks\":\"\"}},\"marker\":{\"colorbar\":{\"outlinewidth\":0,\"ticks\":\"\"}},\"type\":\"scatter3d\"}],\"scattercarpet\":[{\"marker\":{\"colorbar\":{\"outlinewidth\":0,\"ticks\":\"\"}},\"type\":\"scattercarpet\"}],\"scattergeo\":[{\"marker\":{\"colorbar\":{\"outlinewidth\":0,\"ticks\":\"\"}},\"type\":\"scattergeo\"}],\"scattergl\":[{\"marker\":{\"line\":{\"color\":\"#283442\"}},\"type\":\"scattergl\"}],\"scattermapbox\":[{\"marker\":{\"colorbar\":{\"outlinewidth\":0,\"ticks\":\"\"}},\"type\":\"scattermapbox\"}],\"scatterpolargl\":[{\"marker\":{\"colorbar\":{\"outlinewidth\":0,\"ticks\":\"\"}},\"type\":\"scatterpolargl\"}],\"scatterpolar\":[{\"marker\":{\"colorbar\":{\"outlinewidth\":0,\"ticks\":\"\"}},\"type\":\"scatterpolar\"}],\"scatter\":[{\"marker\":{\"line\":{\"color\":\"#283442\"}},\"type\":\"scatter\"}],\"scatterternary\":[{\"marker\":{\"colorbar\":{\"outlinewidth\":0,\"ticks\":\"\"}},\"type\":\"scatterternary\"}],\"surface\":[{\"colorbar\":{\"outlinewidth\":0,\"ticks\":\"\"},\"colorscale\":[[0.0,\"#0d0887\"],[0.1111111111111111,\"#46039f\"],[0.2222222222222222,\"#7201a8\"],[0.3333333333333333,\"#9c179e\"],[0.4444444444444444,\"#bd3786\"],[0.5555555555555556,\"#d8576b\"],[0.6666666666666666,\"#ed7953\"],[0.7777777777777778,\"#fb9f3a\"],[0.8888888888888888,\"#fdca26\"],[1.0,\"#f0f921\"]],\"type\":\"surface\"}],\"table\":[{\"cells\":{\"fill\":{\"color\":\"#506784\"},\"line\":{\"color\":\"rgb(17,17,17)\"}},\"header\":{\"fill\":{\"color\":\"#2a3f5f\"},\"line\":{\"color\":\"rgb(17,17,17)\"}},\"type\":\"table\"}]},\"layout\":{\"annotationdefaults\":{\"arrowcolor\":\"#f2f5fa\",\"arrowhead\":0,\"arrowwidth\":1},\"autotypenumbers\":\"strict\",\"coloraxis\":{\"colorbar\":{\"outlinewidth\":0,\"ticks\":\"\"}},\"colorscale\":{\"diverging\":[[0,\"#8e0152\"],[0.1,\"#c51b7d\"],[0.2,\"#de77ae\"],[0.3,\"#f1b6da\"],[0.4,\"#fde0ef\"],[0.5,\"#f7f7f7\"],[0.6,\"#e6f5d0\"],[0.7,\"#b8e186\"],[0.8,\"#7fbc41\"],[0.9,\"#4d9221\"],[1,\"#276419\"]],\"sequential\":[[0.0,\"#0d0887\"],[0.1111111111111111,\"#46039f\"],[0.2222222222222222,\"#7201a8\"],[0.3333333333333333,\"#9c179e\"],[0.4444444444444444,\"#bd3786\"],[0.5555555555555556,\"#d8576b\"],[0.6666666666666666,\"#ed7953\"],[0.7777777777777778,\"#fb9f3a\"],[0.8888888888888888,\"#fdca26\"],[1.0,\"#f0f921\"]],\"sequentialminus\":[[0.0,\"#0d0887\"],[0.1111111111111111,\"#46039f\"],[0.2222222222222222,\"#7201a8\"],[0.3333333333333333,\"#9c179e\"],[0.4444444444444444,\"#bd3786\"],[0.5555555555555556,\"#d8576b\"],[0.6666666666666666,\"#ed7953\"],[0.7777777777777778,\"#fb9f3a\"],[0.8888888888888888,\"#fdca26\"],[1.0,\"#f0f921\"]]},\"colorway\":[\"#636efa\",\"#EF553B\",\"#00cc96\",\"#ab63fa\",\"#FFA15A\",\"#19d3f3\",\"#FF6692\",\"#B6E880\",\"#FF97FF\",\"#FECB52\"],\"font\":{\"color\":\"#f2f5fa\"},\"geo\":{\"bgcolor\":\"rgb(17,17,17)\",\"lakecolor\":\"rgb(17,17,17)\",\"landcolor\":\"rgb(17,17,17)\",\"showlakes\":true,\"showland\":true,\"subunitcolor\":\"#506784\"},\"hoverlabel\":{\"align\":\"left\"},\"hovermode\":\"closest\",\"mapbox\":{\"style\":\"dark\"},\"paper_bgcolor\":\"rgb(17,17,17)\",\"plot_bgcolor\":\"rgb(17,17,17)\",\"polar\":{\"angularaxis\":{\"gridcolor\":\"#506784\",\"linecolor\":\"#506784\",\"ticks\":\"\"},\"bgcolor\":\"rgb(17,17,17)\",\"radialaxis\":{\"gridcolor\":\"#506784\",\"linecolor\":\"#506784\",\"ticks\":\"\"}},\"scene\":{\"xaxis\":{\"backgroundcolor\":\"rgb(17,17,17)\",\"gridcolor\":\"#506784\",\"gridwidth\":2,\"linecolor\":\"#506784\",\"showbackground\":true,\"ticks\":\"\",\"zerolinecolor\":\"#C8D4E3\"},\"yaxis\":{\"backgroundcolor\":\"rgb(17,17,17)\",\"gridcolor\":\"#506784\",\"gridwidth\":2,\"linecolor\":\"#506784\",\"showbackground\":true,\"ticks\":\"\",\"zerolinecolor\":\"#C8D4E3\"},\"zaxis\":{\"backgroundcolor\":\"rgb(17,17,17)\",\"gridcolor\":\"#506784\",\"gridwidth\":2,\"linecolor\":\"#506784\",\"showbackground\":true,\"ticks\":\"\",\"zerolinecolor\":\"#C8D4E3\"}},\"shapedefaults\":{\"line\":{\"color\":\"#f2f5fa\"}},\"sliderdefaults\":{\"bgcolor\":\"#C8D4E3\",\"bordercolor\":\"rgb(17,17,17)\",\"borderwidth\":1,\"tickwidth\":0},\"ternary\":{\"aaxis\":{\"gridcolor\":\"#506784\",\"linecolor\":\"#506784\",\"ticks\":\"\"},\"baxis\":{\"gridcolor\":\"#506784\",\"linecolor\":\"#506784\",\"ticks\":\"\"},\"bgcolor\":\"rgb(17,17,17)\",\"caxis\":{\"gridcolor\":\"#506784\",\"linecolor\":\"#506784\",\"ticks\":\"\"}},\"title\":{\"x\":0.05},\"updatemenudefaults\":{\"bgcolor\":\"#506784\",\"borderwidth\":0},\"xaxis\":{\"automargin\":true,\"gridcolor\":\"#283442\",\"linecolor\":\"#506784\",\"ticks\":\"\",\"title\":{\"standoff\":15},\"zerolinecolor\":\"#283442\",\"zerolinewidth\":2},\"yaxis\":{\"automargin\":true,\"gridcolor\":\"#283442\",\"linecolor\":\"#506784\",\"ticks\":\"\",\"title\":{\"standoff\":15},\"zerolinecolor\":\"#283442\",\"zerolinewidth\":2}}},\"xaxis\":{\"anchor\":\"y\",\"domain\":[0.0,1.0],\"title\":{\"text\":\"x\"},\"color\":\"#FF9300\"},\"yaxis\":{\"anchor\":\"x\",\"domain\":[0.0,1.0],\"title\":{\"text\":\"y\"},\"color\":\"#FF9300\"},\"legend\":{\"tracegroupgap\":0},\"title\":{\"text\":\"Cosine Graph\",\"font\":{\"color\":\"#FF9300\"}}},                        {\"responsive\": true}                    ).then(function(){\n",
       "                            \n",
       "var gd = document.getElementById('77e8cde3-79bd-40ef-9466-146a8fbf794f');\n",
       "var x = new MutationObserver(function (mutations, observer) {{\n",
       "        var display = window.getComputedStyle(gd).display;\n",
       "        if (!display || display === 'none') {{\n",
       "            console.log([gd, 'removed!']);\n",
       "            Plotly.purge(gd);\n",
       "            observer.disconnect();\n",
       "        }}\n",
       "}});\n",
       "\n",
       "// Listen for the removal of the full notebook cells\n",
       "var notebookContainer = gd.closest('#notebook-container');\n",
       "if (notebookContainer) {{\n",
       "    x.observe(notebookContainer, {childList: true});\n",
       "}}\n",
       "\n",
       "// Listen for the clearing of the current output cell\n",
       "var outputEl = gd.closest('.output');\n",
       "if (outputEl) {{\n",
       "    x.observe(outputEl, {childList: true});\n",
       "}}\n",
       "\n",
       "                        })                };                });            </script>        </div>"
      ]
     },
     "metadata": {},
     "output_type": "display_data"
    }
   ],
   "source": [
    "import plotly.express as px\n",
    "import numpy as np\n",
    "import pandas as pd\n",
    "import math\n",
    "x = np.arange(0, math.pi*4, 0.1)\n",
    "y = np.cos(x)\n",
    "df = pd.DataFrame(np.transpose([x,y]), columns=[\"x\",\"y\"])\n",
    "\n",
    "fig = px.line(df, x=\"x\", y=\"y\",\n",
    "              title='Cosine Graph',\n",
    "              color_discrete_sequence=[\"#FFFF00\"], # LINE COLOR\n",
    "              template=\"plotly_dark\")\n",
    "\n",
    "## Another way:\n",
    "# fig.update_xaxes(title_font_color=\"#FF9300\") # X AXIS COLOR\n",
    "# fig.update_yaxes(title_font_color=\"#FF9300\") # Y AXIS COLOR\n",
    "\n",
    "fig.update_layout(\n",
    "    title_font_color=\"#FF9300\", # TITLE FONT COLOR\n",
    "    xaxis=dict(color=\"#FF9300\"), # X AXIS COLOR\n",
    "    yaxis=dict(color=\"#FF9300\") # Y AXIS COLOR\n",
    ")\n",
    "fig.show()"
   ]
  },
  {
   "cell_type": "markdown",
   "id": "0e2540e4",
   "metadata": {
    "papermill": {
     "duration": 0.008768,
     "end_time": "2022-10-13T00:56:55.250520",
     "exception": false,
     "start_time": "2022-10-13T00:56:55.241752",
     "status": "completed"
    },
    "tags": []
   },
   "source": [
    "You could also use [matplotlib](https://matplotlib.org/) but the `%matplotlib notebook` magic is not working in Kaggle."
   ]
  },
  {
   "cell_type": "code",
   "execution_count": 5,
   "id": "848cf706",
   "metadata": {
    "execution": {
     "iopub.execute_input": "2022-10-13T00:56:55.270252Z",
     "iopub.status.busy": "2022-10-13T00:56:55.269653Z",
     "iopub.status.idle": "2022-10-13T00:56:55.321642Z",
     "shell.execute_reply": "2022-10-13T00:56:55.320482Z"
    },
    "papermill": {
     "duration": 0.064858,
     "end_time": "2022-10-13T00:56:55.324342",
     "exception": false,
     "start_time": "2022-10-13T00:56:55.259484",
     "status": "completed"
    },
    "tags": []
   },
   "outputs": [
    {
     "data": {
      "application/javascript": [
       "/* Put everything inside the global mpl namespace */\n",
       "/* global mpl */\n",
       "window.mpl = {};\n",
       "\n",
       "mpl.get_websocket_type = function () {\n",
       "    if (typeof WebSocket !== 'undefined') {\n",
       "        return WebSocket;\n",
       "    } else if (typeof MozWebSocket !== 'undefined') {\n",
       "        return MozWebSocket;\n",
       "    } else {\n",
       "        alert(\n",
       "            'Your browser does not have WebSocket support. ' +\n",
       "                'Please try Chrome, Safari or Firefox ≥ 6. ' +\n",
       "                'Firefox 4 and 5 are also supported but you ' +\n",
       "                'have to enable WebSockets in about:config.'\n",
       "        );\n",
       "    }\n",
       "};\n",
       "\n",
       "mpl.figure = function (figure_id, websocket, ondownload, parent_element) {\n",
       "    this.id = figure_id;\n",
       "\n",
       "    this.ws = websocket;\n",
       "\n",
       "    this.supports_binary = this.ws.binaryType !== undefined;\n",
       "\n",
       "    if (!this.supports_binary) {\n",
       "        var warnings = document.getElementById('mpl-warnings');\n",
       "        if (warnings) {\n",
       "            warnings.style.display = 'block';\n",
       "            warnings.textContent =\n",
       "                'This browser does not support binary websocket messages. ' +\n",
       "                'Performance may be slow.';\n",
       "        }\n",
       "    }\n",
       "\n",
       "    this.imageObj = new Image();\n",
       "\n",
       "    this.context = undefined;\n",
       "    this.message = undefined;\n",
       "    this.canvas = undefined;\n",
       "    this.rubberband_canvas = undefined;\n",
       "    this.rubberband_context = undefined;\n",
       "    this.format_dropdown = undefined;\n",
       "\n",
       "    this.image_mode = 'full';\n",
       "\n",
       "    this.root = document.createElement('div');\n",
       "    this.root.setAttribute('style', 'display: inline-block');\n",
       "    this._root_extra_style(this.root);\n",
       "\n",
       "    parent_element.appendChild(this.root);\n",
       "\n",
       "    this._init_header(this);\n",
       "    this._init_canvas(this);\n",
       "    this._init_toolbar(this);\n",
       "\n",
       "    var fig = this;\n",
       "\n",
       "    this.waiting = false;\n",
       "\n",
       "    this.ws.onopen = function () {\n",
       "        fig.send_message('supports_binary', { value: fig.supports_binary });\n",
       "        fig.send_message('send_image_mode', {});\n",
       "        if (fig.ratio !== 1) {\n",
       "            fig.send_message('set_device_pixel_ratio', {\n",
       "                device_pixel_ratio: fig.ratio,\n",
       "            });\n",
       "        }\n",
       "        fig.send_message('refresh', {});\n",
       "    };\n",
       "\n",
       "    this.imageObj.onload = function () {\n",
       "        if (fig.image_mode === 'full') {\n",
       "            // Full images could contain transparency (where diff images\n",
       "            // almost always do), so we need to clear the canvas so that\n",
       "            // there is no ghosting.\n",
       "            fig.context.clearRect(0, 0, fig.canvas.width, fig.canvas.height);\n",
       "        }\n",
       "        fig.context.drawImage(fig.imageObj, 0, 0);\n",
       "    };\n",
       "\n",
       "    this.imageObj.onunload = function () {\n",
       "        fig.ws.close();\n",
       "    };\n",
       "\n",
       "    this.ws.onmessage = this._make_on_message_function(this);\n",
       "\n",
       "    this.ondownload = ondownload;\n",
       "};\n",
       "\n",
       "mpl.figure.prototype._init_header = function () {\n",
       "    var titlebar = document.createElement('div');\n",
       "    titlebar.classList =\n",
       "        'ui-dialog-titlebar ui-widget-header ui-corner-all ui-helper-clearfix';\n",
       "    var titletext = document.createElement('div');\n",
       "    titletext.classList = 'ui-dialog-title';\n",
       "    titletext.setAttribute(\n",
       "        'style',\n",
       "        'width: 100%; text-align: center; padding: 3px;'\n",
       "    );\n",
       "    titlebar.appendChild(titletext);\n",
       "    this.root.appendChild(titlebar);\n",
       "    this.header = titletext;\n",
       "};\n",
       "\n",
       "mpl.figure.prototype._canvas_extra_style = function (_canvas_div) {};\n",
       "\n",
       "mpl.figure.prototype._root_extra_style = function (_canvas_div) {};\n",
       "\n",
       "mpl.figure.prototype._init_canvas = function () {\n",
       "    var fig = this;\n",
       "\n",
       "    var canvas_div = (this.canvas_div = document.createElement('div'));\n",
       "    canvas_div.setAttribute(\n",
       "        'style',\n",
       "        'border: 1px solid #ddd;' +\n",
       "            'box-sizing: content-box;' +\n",
       "            'clear: both;' +\n",
       "            'min-height: 1px;' +\n",
       "            'min-width: 1px;' +\n",
       "            'outline: 0;' +\n",
       "            'overflow: hidden;' +\n",
       "            'position: relative;' +\n",
       "            'resize: both;'\n",
       "    );\n",
       "\n",
       "    function on_keyboard_event_closure(name) {\n",
       "        return function (event) {\n",
       "            return fig.key_event(event, name);\n",
       "        };\n",
       "    }\n",
       "\n",
       "    canvas_div.addEventListener(\n",
       "        'keydown',\n",
       "        on_keyboard_event_closure('key_press')\n",
       "    );\n",
       "    canvas_div.addEventListener(\n",
       "        'keyup',\n",
       "        on_keyboard_event_closure('key_release')\n",
       "    );\n",
       "\n",
       "    this._canvas_extra_style(canvas_div);\n",
       "    this.root.appendChild(canvas_div);\n",
       "\n",
       "    var canvas = (this.canvas = document.createElement('canvas'));\n",
       "    canvas.classList.add('mpl-canvas');\n",
       "    canvas.setAttribute('style', 'box-sizing: content-box;');\n",
       "\n",
       "    this.context = canvas.getContext('2d');\n",
       "\n",
       "    var backingStore =\n",
       "        this.context.backingStorePixelRatio ||\n",
       "        this.context.webkitBackingStorePixelRatio ||\n",
       "        this.context.mozBackingStorePixelRatio ||\n",
       "        this.context.msBackingStorePixelRatio ||\n",
       "        this.context.oBackingStorePixelRatio ||\n",
       "        this.context.backingStorePixelRatio ||\n",
       "        1;\n",
       "\n",
       "    this.ratio = (window.devicePixelRatio || 1) / backingStore;\n",
       "\n",
       "    var rubberband_canvas = (this.rubberband_canvas = document.createElement(\n",
       "        'canvas'\n",
       "    ));\n",
       "    rubberband_canvas.setAttribute(\n",
       "        'style',\n",
       "        'box-sizing: content-box; position: absolute; left: 0; top: 0; z-index: 1;'\n",
       "    );\n",
       "\n",
       "    // Apply a ponyfill if ResizeObserver is not implemented by browser.\n",
       "    if (this.ResizeObserver === undefined) {\n",
       "        if (window.ResizeObserver !== undefined) {\n",
       "            this.ResizeObserver = window.ResizeObserver;\n",
       "        } else {\n",
       "            var obs = _JSXTOOLS_RESIZE_OBSERVER({});\n",
       "            this.ResizeObserver = obs.ResizeObserver;\n",
       "        }\n",
       "    }\n",
       "\n",
       "    this.resizeObserverInstance = new this.ResizeObserver(function (entries) {\n",
       "        var nentries = entries.length;\n",
       "        for (var i = 0; i < nentries; i++) {\n",
       "            var entry = entries[i];\n",
       "            var width, height;\n",
       "            if (entry.contentBoxSize) {\n",
       "                if (entry.contentBoxSize instanceof Array) {\n",
       "                    // Chrome 84 implements new version of spec.\n",
       "                    width = entry.contentBoxSize[0].inlineSize;\n",
       "                    height = entry.contentBoxSize[0].blockSize;\n",
       "                } else {\n",
       "                    // Firefox implements old version of spec.\n",
       "                    width = entry.contentBoxSize.inlineSize;\n",
       "                    height = entry.contentBoxSize.blockSize;\n",
       "                }\n",
       "            } else {\n",
       "                // Chrome <84 implements even older version of spec.\n",
       "                width = entry.contentRect.width;\n",
       "                height = entry.contentRect.height;\n",
       "            }\n",
       "\n",
       "            // Keep the size of the canvas and rubber band canvas in sync with\n",
       "            // the canvas container.\n",
       "            if (entry.devicePixelContentBoxSize) {\n",
       "                // Chrome 84 implements new version of spec.\n",
       "                canvas.setAttribute(\n",
       "                    'width',\n",
       "                    entry.devicePixelContentBoxSize[0].inlineSize\n",
       "                );\n",
       "                canvas.setAttribute(\n",
       "                    'height',\n",
       "                    entry.devicePixelContentBoxSize[0].blockSize\n",
       "                );\n",
       "            } else {\n",
       "                canvas.setAttribute('width', width * fig.ratio);\n",
       "                canvas.setAttribute('height', height * fig.ratio);\n",
       "            }\n",
       "            canvas.setAttribute(\n",
       "                'style',\n",
       "                'width: ' + width + 'px; height: ' + height + 'px;'\n",
       "            );\n",
       "\n",
       "            rubberband_canvas.setAttribute('width', width);\n",
       "            rubberband_canvas.setAttribute('height', height);\n",
       "\n",
       "            // And update the size in Python. We ignore the initial 0/0 size\n",
       "            // that occurs as the element is placed into the DOM, which should\n",
       "            // otherwise not happen due to the minimum size styling.\n",
       "            if (fig.ws.readyState == 1 && width != 0 && height != 0) {\n",
       "                fig.request_resize(width, height);\n",
       "            }\n",
       "        }\n",
       "    });\n",
       "    this.resizeObserverInstance.observe(canvas_div);\n",
       "\n",
       "    function on_mouse_event_closure(name) {\n",
       "        return function (event) {\n",
       "            return fig.mouse_event(event, name);\n",
       "        };\n",
       "    }\n",
       "\n",
       "    rubberband_canvas.addEventListener(\n",
       "        'mousedown',\n",
       "        on_mouse_event_closure('button_press')\n",
       "    );\n",
       "    rubberband_canvas.addEventListener(\n",
       "        'mouseup',\n",
       "        on_mouse_event_closure('button_release')\n",
       "    );\n",
       "    rubberband_canvas.addEventListener(\n",
       "        'dblclick',\n",
       "        on_mouse_event_closure('dblclick')\n",
       "    );\n",
       "    // Throttle sequential mouse events to 1 every 20ms.\n",
       "    rubberband_canvas.addEventListener(\n",
       "        'mousemove',\n",
       "        on_mouse_event_closure('motion_notify')\n",
       "    );\n",
       "\n",
       "    rubberband_canvas.addEventListener(\n",
       "        'mouseenter',\n",
       "        on_mouse_event_closure('figure_enter')\n",
       "    );\n",
       "    rubberband_canvas.addEventListener(\n",
       "        'mouseleave',\n",
       "        on_mouse_event_closure('figure_leave')\n",
       "    );\n",
       "\n",
       "    canvas_div.addEventListener('wheel', function (event) {\n",
       "        if (event.deltaY < 0) {\n",
       "            event.step = 1;\n",
       "        } else {\n",
       "            event.step = -1;\n",
       "        }\n",
       "        on_mouse_event_closure('scroll')(event);\n",
       "    });\n",
       "\n",
       "    canvas_div.appendChild(canvas);\n",
       "    canvas_div.appendChild(rubberband_canvas);\n",
       "\n",
       "    this.rubberband_context = rubberband_canvas.getContext('2d');\n",
       "    this.rubberband_context.strokeStyle = '#000000';\n",
       "\n",
       "    this._resize_canvas = function (width, height, forward) {\n",
       "        if (forward) {\n",
       "            canvas_div.style.width = width + 'px';\n",
       "            canvas_div.style.height = height + 'px';\n",
       "        }\n",
       "    };\n",
       "\n",
       "    // Disable right mouse context menu.\n",
       "    this.rubberband_canvas.addEventListener('contextmenu', function (_e) {\n",
       "        event.preventDefault();\n",
       "        return false;\n",
       "    });\n",
       "\n",
       "    function set_focus() {\n",
       "        canvas.focus();\n",
       "        canvas_div.focus();\n",
       "    }\n",
       "\n",
       "    window.setTimeout(set_focus, 100);\n",
       "};\n",
       "\n",
       "mpl.figure.prototype._init_toolbar = function () {\n",
       "    var fig = this;\n",
       "\n",
       "    var toolbar = document.createElement('div');\n",
       "    toolbar.classList = 'mpl-toolbar';\n",
       "    this.root.appendChild(toolbar);\n",
       "\n",
       "    function on_click_closure(name) {\n",
       "        return function (_event) {\n",
       "            return fig.toolbar_button_onclick(name);\n",
       "        };\n",
       "    }\n",
       "\n",
       "    function on_mouseover_closure(tooltip) {\n",
       "        return function (event) {\n",
       "            if (!event.currentTarget.disabled) {\n",
       "                return fig.toolbar_button_onmouseover(tooltip);\n",
       "            }\n",
       "        };\n",
       "    }\n",
       "\n",
       "    fig.buttons = {};\n",
       "    var buttonGroup = document.createElement('div');\n",
       "    buttonGroup.classList = 'mpl-button-group';\n",
       "    for (var toolbar_ind in mpl.toolbar_items) {\n",
       "        var name = mpl.toolbar_items[toolbar_ind][0];\n",
       "        var tooltip = mpl.toolbar_items[toolbar_ind][1];\n",
       "        var image = mpl.toolbar_items[toolbar_ind][2];\n",
       "        var method_name = mpl.toolbar_items[toolbar_ind][3];\n",
       "\n",
       "        if (!name) {\n",
       "            /* Instead of a spacer, we start a new button group. */\n",
       "            if (buttonGroup.hasChildNodes()) {\n",
       "                toolbar.appendChild(buttonGroup);\n",
       "            }\n",
       "            buttonGroup = document.createElement('div');\n",
       "            buttonGroup.classList = 'mpl-button-group';\n",
       "            continue;\n",
       "        }\n",
       "\n",
       "        var button = (fig.buttons[name] = document.createElement('button'));\n",
       "        button.classList = 'mpl-widget';\n",
       "        button.setAttribute('role', 'button');\n",
       "        button.setAttribute('aria-disabled', 'false');\n",
       "        button.addEventListener('click', on_click_closure(method_name));\n",
       "        button.addEventListener('mouseover', on_mouseover_closure(tooltip));\n",
       "\n",
       "        var icon_img = document.createElement('img');\n",
       "        icon_img.src = '_images/' + image + '.png';\n",
       "        icon_img.srcset = '_images/' + image + '_large.png 2x';\n",
       "        icon_img.alt = tooltip;\n",
       "        button.appendChild(icon_img);\n",
       "\n",
       "        buttonGroup.appendChild(button);\n",
       "    }\n",
       "\n",
       "    if (buttonGroup.hasChildNodes()) {\n",
       "        toolbar.appendChild(buttonGroup);\n",
       "    }\n",
       "\n",
       "    var fmt_picker = document.createElement('select');\n",
       "    fmt_picker.classList = 'mpl-widget';\n",
       "    toolbar.appendChild(fmt_picker);\n",
       "    this.format_dropdown = fmt_picker;\n",
       "\n",
       "    for (var ind in mpl.extensions) {\n",
       "        var fmt = mpl.extensions[ind];\n",
       "        var option = document.createElement('option');\n",
       "        option.selected = fmt === mpl.default_extension;\n",
       "        option.innerHTML = fmt;\n",
       "        fmt_picker.appendChild(option);\n",
       "    }\n",
       "\n",
       "    var status_bar = document.createElement('span');\n",
       "    status_bar.classList = 'mpl-message';\n",
       "    toolbar.appendChild(status_bar);\n",
       "    this.message = status_bar;\n",
       "};\n",
       "\n",
       "mpl.figure.prototype.request_resize = function (x_pixels, y_pixels) {\n",
       "    // Request matplotlib to resize the figure. Matplotlib will then trigger a resize in the client,\n",
       "    // which will in turn request a refresh of the image.\n",
       "    this.send_message('resize', { width: x_pixels, height: y_pixels });\n",
       "};\n",
       "\n",
       "mpl.figure.prototype.send_message = function (type, properties) {\n",
       "    properties['type'] = type;\n",
       "    properties['figure_id'] = this.id;\n",
       "    this.ws.send(JSON.stringify(properties));\n",
       "};\n",
       "\n",
       "mpl.figure.prototype.send_draw_message = function () {\n",
       "    if (!this.waiting) {\n",
       "        this.waiting = true;\n",
       "        this.ws.send(JSON.stringify({ type: 'draw', figure_id: this.id }));\n",
       "    }\n",
       "};\n",
       "\n",
       "mpl.figure.prototype.handle_save = function (fig, _msg) {\n",
       "    var format_dropdown = fig.format_dropdown;\n",
       "    var format = format_dropdown.options[format_dropdown.selectedIndex].value;\n",
       "    fig.ondownload(fig, format);\n",
       "};\n",
       "\n",
       "mpl.figure.prototype.handle_resize = function (fig, msg) {\n",
       "    var size = msg['size'];\n",
       "    if (size[0] !== fig.canvas.width || size[1] !== fig.canvas.height) {\n",
       "        fig._resize_canvas(size[0], size[1], msg['forward']);\n",
       "        fig.send_message('refresh', {});\n",
       "    }\n",
       "};\n",
       "\n",
       "mpl.figure.prototype.handle_rubberband = function (fig, msg) {\n",
       "    var x0 = msg['x0'] / fig.ratio;\n",
       "    var y0 = (fig.canvas.height - msg['y0']) / fig.ratio;\n",
       "    var x1 = msg['x1'] / fig.ratio;\n",
       "    var y1 = (fig.canvas.height - msg['y1']) / fig.ratio;\n",
       "    x0 = Math.floor(x0) + 0.5;\n",
       "    y0 = Math.floor(y0) + 0.5;\n",
       "    x1 = Math.floor(x1) + 0.5;\n",
       "    y1 = Math.floor(y1) + 0.5;\n",
       "    var min_x = Math.min(x0, x1);\n",
       "    var min_y = Math.min(y0, y1);\n",
       "    var width = Math.abs(x1 - x0);\n",
       "    var height = Math.abs(y1 - y0);\n",
       "\n",
       "    fig.rubberband_context.clearRect(\n",
       "        0,\n",
       "        0,\n",
       "        fig.canvas.width / fig.ratio,\n",
       "        fig.canvas.height / fig.ratio\n",
       "    );\n",
       "\n",
       "    fig.rubberband_context.strokeRect(min_x, min_y, width, height);\n",
       "};\n",
       "\n",
       "mpl.figure.prototype.handle_figure_label = function (fig, msg) {\n",
       "    // Updates the figure title.\n",
       "    fig.header.textContent = msg['label'];\n",
       "};\n",
       "\n",
       "mpl.figure.prototype.handle_cursor = function (fig, msg) {\n",
       "    fig.rubberband_canvas.style.cursor = msg['cursor'];\n",
       "};\n",
       "\n",
       "mpl.figure.prototype.handle_message = function (fig, msg) {\n",
       "    fig.message.textContent = msg['message'];\n",
       "};\n",
       "\n",
       "mpl.figure.prototype.handle_draw = function (fig, _msg) {\n",
       "    // Request the server to send over a new figure.\n",
       "    fig.send_draw_message();\n",
       "};\n",
       "\n",
       "mpl.figure.prototype.handle_image_mode = function (fig, msg) {\n",
       "    fig.image_mode = msg['mode'];\n",
       "};\n",
       "\n",
       "mpl.figure.prototype.handle_history_buttons = function (fig, msg) {\n",
       "    for (var key in msg) {\n",
       "        if (!(key in fig.buttons)) {\n",
       "            continue;\n",
       "        }\n",
       "        fig.buttons[key].disabled = !msg[key];\n",
       "        fig.buttons[key].setAttribute('aria-disabled', !msg[key]);\n",
       "    }\n",
       "};\n",
       "\n",
       "mpl.figure.prototype.handle_navigate_mode = function (fig, msg) {\n",
       "    if (msg['mode'] === 'PAN') {\n",
       "        fig.buttons['Pan'].classList.add('active');\n",
       "        fig.buttons['Zoom'].classList.remove('active');\n",
       "    } else if (msg['mode'] === 'ZOOM') {\n",
       "        fig.buttons['Pan'].classList.remove('active');\n",
       "        fig.buttons['Zoom'].classList.add('active');\n",
       "    } else {\n",
       "        fig.buttons['Pan'].classList.remove('active');\n",
       "        fig.buttons['Zoom'].classList.remove('active');\n",
       "    }\n",
       "};\n",
       "\n",
       "mpl.figure.prototype.updated_canvas_event = function () {\n",
       "    // Called whenever the canvas gets updated.\n",
       "    this.send_message('ack', {});\n",
       "};\n",
       "\n",
       "// A function to construct a web socket function for onmessage handling.\n",
       "// Called in the figure constructor.\n",
       "mpl.figure.prototype._make_on_message_function = function (fig) {\n",
       "    return function socket_on_message(evt) {\n",
       "        if (evt.data instanceof Blob) {\n",
       "            var img = evt.data;\n",
       "            if (img.type !== 'image/png') {\n",
       "                /* FIXME: We get \"Resource interpreted as Image but\n",
       "                 * transferred with MIME type text/plain:\" errors on\n",
       "                 * Chrome.  But how to set the MIME type?  It doesn't seem\n",
       "                 * to be part of the websocket stream */\n",
       "                img.type = 'image/png';\n",
       "            }\n",
       "\n",
       "            /* Free the memory for the previous frames */\n",
       "            if (fig.imageObj.src) {\n",
       "                (window.URL || window.webkitURL).revokeObjectURL(\n",
       "                    fig.imageObj.src\n",
       "                );\n",
       "            }\n",
       "\n",
       "            fig.imageObj.src = (window.URL || window.webkitURL).createObjectURL(\n",
       "                img\n",
       "            );\n",
       "            fig.updated_canvas_event();\n",
       "            fig.waiting = false;\n",
       "            return;\n",
       "        } else if (\n",
       "            typeof evt.data === 'string' &&\n",
       "            evt.data.slice(0, 21) === 'data:image/png;base64'\n",
       "        ) {\n",
       "            fig.imageObj.src = evt.data;\n",
       "            fig.updated_canvas_event();\n",
       "            fig.waiting = false;\n",
       "            return;\n",
       "        }\n",
       "\n",
       "        var msg = JSON.parse(evt.data);\n",
       "        var msg_type = msg['type'];\n",
       "\n",
       "        // Call the  \"handle_{type}\" callback, which takes\n",
       "        // the figure and JSON message as its only arguments.\n",
       "        try {\n",
       "            var callback = fig['handle_' + msg_type];\n",
       "        } catch (e) {\n",
       "            console.log(\n",
       "                \"No handler for the '\" + msg_type + \"' message type: \",\n",
       "                msg\n",
       "            );\n",
       "            return;\n",
       "        }\n",
       "\n",
       "        if (callback) {\n",
       "            try {\n",
       "                // console.log(\"Handling '\" + msg_type + \"' message: \", msg);\n",
       "                callback(fig, msg);\n",
       "            } catch (e) {\n",
       "                console.log(\n",
       "                    \"Exception inside the 'handler_\" + msg_type + \"' callback:\",\n",
       "                    e,\n",
       "                    e.stack,\n",
       "                    msg\n",
       "                );\n",
       "            }\n",
       "        }\n",
       "    };\n",
       "};\n",
       "\n",
       "// from https://stackoverflow.com/questions/1114465/getting-mouse-location-in-canvas\n",
       "mpl.findpos = function (e) {\n",
       "    //this section is from http://www.quirksmode.org/js/events_properties.html\n",
       "    var targ;\n",
       "    if (!e) {\n",
       "        e = window.event;\n",
       "    }\n",
       "    if (e.target) {\n",
       "        targ = e.target;\n",
       "    } else if (e.srcElement) {\n",
       "        targ = e.srcElement;\n",
       "    }\n",
       "    if (targ.nodeType === 3) {\n",
       "        // defeat Safari bug\n",
       "        targ = targ.parentNode;\n",
       "    }\n",
       "\n",
       "    // pageX,Y are the mouse positions relative to the document\n",
       "    var boundingRect = targ.getBoundingClientRect();\n",
       "    var x = e.pageX - (boundingRect.left + document.body.scrollLeft);\n",
       "    var y = e.pageY - (boundingRect.top + document.body.scrollTop);\n",
       "\n",
       "    return { x: x, y: y };\n",
       "};\n",
       "\n",
       "/*\n",
       " * return a copy of an object with only non-object keys\n",
       " * we need this to avoid circular references\n",
       " * https://stackoverflow.com/a/24161582/3208463\n",
       " */\n",
       "function simpleKeys(original) {\n",
       "    return Object.keys(original).reduce(function (obj, key) {\n",
       "        if (typeof original[key] !== 'object') {\n",
       "            obj[key] = original[key];\n",
       "        }\n",
       "        return obj;\n",
       "    }, {});\n",
       "}\n",
       "\n",
       "mpl.figure.prototype.mouse_event = function (event, name) {\n",
       "    var canvas_pos = mpl.findpos(event);\n",
       "\n",
       "    if (name === 'button_press') {\n",
       "        this.canvas.focus();\n",
       "        this.canvas_div.focus();\n",
       "    }\n",
       "\n",
       "    var x = canvas_pos.x * this.ratio;\n",
       "    var y = canvas_pos.y * this.ratio;\n",
       "\n",
       "    this.send_message(name, {\n",
       "        x: x,\n",
       "        y: y,\n",
       "        button: event.button,\n",
       "        step: event.step,\n",
       "        guiEvent: simpleKeys(event),\n",
       "    });\n",
       "\n",
       "    /* This prevents the web browser from automatically changing to\n",
       "     * the text insertion cursor when the button is pressed.  We want\n",
       "     * to control all of the cursor setting manually through the\n",
       "     * 'cursor' event from matplotlib */\n",
       "    event.preventDefault();\n",
       "    return false;\n",
       "};\n",
       "\n",
       "mpl.figure.prototype._key_event_extra = function (_event, _name) {\n",
       "    // Handle any extra behaviour associated with a key event\n",
       "};\n",
       "\n",
       "mpl.figure.prototype.key_event = function (event, name) {\n",
       "    // Prevent repeat events\n",
       "    if (name === 'key_press') {\n",
       "        if (event.key === this._key) {\n",
       "            return;\n",
       "        } else {\n",
       "            this._key = event.key;\n",
       "        }\n",
       "    }\n",
       "    if (name === 'key_release') {\n",
       "        this._key = null;\n",
       "    }\n",
       "\n",
       "    var value = '';\n",
       "    if (event.ctrlKey && event.key !== 'Control') {\n",
       "        value += 'ctrl+';\n",
       "    }\n",
       "    else if (event.altKey && event.key !== 'Alt') {\n",
       "        value += 'alt+';\n",
       "    }\n",
       "    else if (event.shiftKey && event.key !== 'Shift') {\n",
       "        value += 'shift+';\n",
       "    }\n",
       "\n",
       "    value += 'k' + event.key;\n",
       "\n",
       "    this._key_event_extra(event, name);\n",
       "\n",
       "    this.send_message(name, { key: value, guiEvent: simpleKeys(event) });\n",
       "    return false;\n",
       "};\n",
       "\n",
       "mpl.figure.prototype.toolbar_button_onclick = function (name) {\n",
       "    if (name === 'download') {\n",
       "        this.handle_save(this, null);\n",
       "    } else {\n",
       "        this.send_message('toolbar_button', { name: name });\n",
       "    }\n",
       "};\n",
       "\n",
       "mpl.figure.prototype.toolbar_button_onmouseover = function (tooltip) {\n",
       "    this.message.textContent = tooltip;\n",
       "};\n",
       "\n",
       "///////////////// REMAINING CONTENT GENERATED BY embed_js.py /////////////////\n",
       "// prettier-ignore\n",
       "var _JSXTOOLS_RESIZE_OBSERVER=function(A){var t,i=new WeakMap,n=new WeakMap,a=new WeakMap,r=new WeakMap,o=new Set;function s(e){if(!(this instanceof s))throw new TypeError(\"Constructor requires 'new' operator\");i.set(this,e)}function h(){throw new TypeError(\"Function is not a constructor\")}function c(e,t,i,n){e=0 in arguments?Number(arguments[0]):0,t=1 in arguments?Number(arguments[1]):0,i=2 in arguments?Number(arguments[2]):0,n=3 in arguments?Number(arguments[3]):0,this.right=(this.x=this.left=e)+(this.width=i),this.bottom=(this.y=this.top=t)+(this.height=n),Object.freeze(this)}function d(){t=requestAnimationFrame(d);var s=new WeakMap,p=new Set;o.forEach((function(t){r.get(t).forEach((function(i){var r=t instanceof window.SVGElement,o=a.get(t),d=r?0:parseFloat(o.paddingTop),f=r?0:parseFloat(o.paddingRight),l=r?0:parseFloat(o.paddingBottom),u=r?0:parseFloat(o.paddingLeft),g=r?0:parseFloat(o.borderTopWidth),m=r?0:parseFloat(o.borderRightWidth),w=r?0:parseFloat(o.borderBottomWidth),b=u+f,F=d+l,v=(r?0:parseFloat(o.borderLeftWidth))+m,W=g+w,y=r?0:t.offsetHeight-W-t.clientHeight,E=r?0:t.offsetWidth-v-t.clientWidth,R=b+v,z=F+W,M=r?t.width:parseFloat(o.width)-R-E,O=r?t.height:parseFloat(o.height)-z-y;if(n.has(t)){var k=n.get(t);if(k[0]===M&&k[1]===O)return}n.set(t,[M,O]);var S=Object.create(h.prototype);S.target=t,S.contentRect=new c(u,d,M,O),s.has(i)||(s.set(i,[]),p.add(i)),s.get(i).push(S)}))})),p.forEach((function(e){i.get(e).call(e,s.get(e),e)}))}return s.prototype.observe=function(i){if(i instanceof window.Element){r.has(i)||(r.set(i,new Set),o.add(i),a.set(i,window.getComputedStyle(i)));var n=r.get(i);n.has(this)||n.add(this),cancelAnimationFrame(t),t=requestAnimationFrame(d)}},s.prototype.unobserve=function(i){if(i instanceof window.Element&&r.has(i)){var n=r.get(i);n.has(this)&&(n.delete(this),n.size||(r.delete(i),o.delete(i))),n.size||r.delete(i),o.size||cancelAnimationFrame(t)}},A.DOMRectReadOnly=c,A.ResizeObserver=s,A.ResizeObserverEntry=h,A}; // eslint-disable-line\n",
       "mpl.toolbar_items = [[\"Home\", \"Reset original view\", \"fa fa-home icon-home\", \"home\"], [\"Back\", \"Back to previous view\", \"fa fa-arrow-left icon-arrow-left\", \"back\"], [\"Forward\", \"Forward to next view\", \"fa fa-arrow-right icon-arrow-right\", \"forward\"], [\"\", \"\", \"\", \"\"], [\"Pan\", \"Left button pans, Right button zooms\\nx/y fixes axis, CTRL fixes aspect\", \"fa fa-arrows icon-move\", \"pan\"], [\"Zoom\", \"Zoom to rectangle\\nx/y fixes axis\", \"fa fa-square-o icon-check-empty\", \"zoom\"], [\"\", \"\", \"\", \"\"], [\"Download\", \"Download plot\", \"fa fa-floppy-o icon-save\", \"download\"]];\n",
       "\n",
       "mpl.extensions = [\"eps\", \"jpeg\", \"pgf\", \"pdf\", \"png\", \"ps\", \"raw\", \"svg\", \"tif\"];\n",
       "\n",
       "mpl.default_extension = \"png\";/* global mpl */\n",
       "\n",
       "var comm_websocket_adapter = function (comm) {\n",
       "    // Create a \"websocket\"-like object which calls the given IPython comm\n",
       "    // object with the appropriate methods. Currently this is a non binary\n",
       "    // socket, so there is still some room for performance tuning.\n",
       "    var ws = {};\n",
       "\n",
       "    ws.binaryType = comm.kernel.ws.binaryType;\n",
       "    ws.readyState = comm.kernel.ws.readyState;\n",
       "    function updateReadyState(_event) {\n",
       "        if (comm.kernel.ws) {\n",
       "            ws.readyState = comm.kernel.ws.readyState;\n",
       "        } else {\n",
       "            ws.readyState = 3; // Closed state.\n",
       "        }\n",
       "    }\n",
       "    comm.kernel.ws.addEventListener('open', updateReadyState);\n",
       "    comm.kernel.ws.addEventListener('close', updateReadyState);\n",
       "    comm.kernel.ws.addEventListener('error', updateReadyState);\n",
       "\n",
       "    ws.close = function () {\n",
       "        comm.close();\n",
       "    };\n",
       "    ws.send = function (m) {\n",
       "        //console.log('sending', m);\n",
       "        comm.send(m);\n",
       "    };\n",
       "    // Register the callback with on_msg.\n",
       "    comm.on_msg(function (msg) {\n",
       "        //console.log('receiving', msg['content']['data'], msg);\n",
       "        var data = msg['content']['data'];\n",
       "        if (data['blob'] !== undefined) {\n",
       "            data = {\n",
       "                data: new Blob(msg['buffers'], { type: data['blob'] }),\n",
       "            };\n",
       "        }\n",
       "        // Pass the mpl event to the overridden (by mpl) onmessage function.\n",
       "        ws.onmessage(data);\n",
       "    });\n",
       "    return ws;\n",
       "};\n",
       "\n",
       "mpl.mpl_figure_comm = function (comm, msg) {\n",
       "    // This is the function which gets called when the mpl process\n",
       "    // starts-up an IPython Comm through the \"matplotlib\" channel.\n",
       "\n",
       "    var id = msg.content.data.id;\n",
       "    // Get hold of the div created by the display call when the Comm\n",
       "    // socket was opened in Python.\n",
       "    var element = document.getElementById(id);\n",
       "    var ws_proxy = comm_websocket_adapter(comm);\n",
       "\n",
       "    function ondownload(figure, _format) {\n",
       "        window.open(figure.canvas.toDataURL());\n",
       "    }\n",
       "\n",
       "    var fig = new mpl.figure(id, ws_proxy, ondownload, element);\n",
       "\n",
       "    // Call onopen now - mpl needs it, as it is assuming we've passed it a real\n",
       "    // web socket which is closed, not our websocket->open comm proxy.\n",
       "    ws_proxy.onopen();\n",
       "\n",
       "    fig.parent_element = element;\n",
       "    fig.cell_info = mpl.find_output_cell(\"<div id='\" + id + \"'></div>\");\n",
       "    if (!fig.cell_info) {\n",
       "        console.error('Failed to find cell for figure', id, fig);\n",
       "        return;\n",
       "    }\n",
       "    fig.cell_info[0].output_area.element.on(\n",
       "        'cleared',\n",
       "        { fig: fig },\n",
       "        fig._remove_fig_handler\n",
       "    );\n",
       "};\n",
       "\n",
       "mpl.figure.prototype.handle_close = function (fig, msg) {\n",
       "    var width = fig.canvas.width / fig.ratio;\n",
       "    fig.cell_info[0].output_area.element.off(\n",
       "        'cleared',\n",
       "        fig._remove_fig_handler\n",
       "    );\n",
       "    fig.resizeObserverInstance.unobserve(fig.canvas_div);\n",
       "\n",
       "    // Update the output cell to use the data from the current canvas.\n",
       "    fig.push_to_output();\n",
       "    var dataURL = fig.canvas.toDataURL();\n",
       "    // Re-enable the keyboard manager in IPython - without this line, in FF,\n",
       "    // the notebook keyboard shortcuts fail.\n",
       "    IPython.keyboard_manager.enable();\n",
       "    fig.parent_element.innerHTML =\n",
       "        '<img src=\"' + dataURL + '\" width=\"' + width + '\">';\n",
       "    fig.close_ws(fig, msg);\n",
       "};\n",
       "\n",
       "mpl.figure.prototype.close_ws = function (fig, msg) {\n",
       "    fig.send_message('closing', msg);\n",
       "    // fig.ws.close()\n",
       "};\n",
       "\n",
       "mpl.figure.prototype.push_to_output = function (_remove_interactive) {\n",
       "    // Turn the data on the canvas into data in the output cell.\n",
       "    var width = this.canvas.width / this.ratio;\n",
       "    var dataURL = this.canvas.toDataURL();\n",
       "    this.cell_info[1]['text/html'] =\n",
       "        '<img src=\"' + dataURL + '\" width=\"' + width + '\">';\n",
       "};\n",
       "\n",
       "mpl.figure.prototype.updated_canvas_event = function () {\n",
       "    // Tell IPython that the notebook contents must change.\n",
       "    IPython.notebook.set_dirty(true);\n",
       "    this.send_message('ack', {});\n",
       "    var fig = this;\n",
       "    // Wait a second, then push the new image to the DOM so\n",
       "    // that it is saved nicely (might be nice to debounce this).\n",
       "    setTimeout(function () {\n",
       "        fig.push_to_output();\n",
       "    }, 1000);\n",
       "};\n",
       "\n",
       "mpl.figure.prototype._init_toolbar = function () {\n",
       "    var fig = this;\n",
       "\n",
       "    var toolbar = document.createElement('div');\n",
       "    toolbar.classList = 'btn-toolbar';\n",
       "    this.root.appendChild(toolbar);\n",
       "\n",
       "    function on_click_closure(name) {\n",
       "        return function (_event) {\n",
       "            return fig.toolbar_button_onclick(name);\n",
       "        };\n",
       "    }\n",
       "\n",
       "    function on_mouseover_closure(tooltip) {\n",
       "        return function (event) {\n",
       "            if (!event.currentTarget.disabled) {\n",
       "                return fig.toolbar_button_onmouseover(tooltip);\n",
       "            }\n",
       "        };\n",
       "    }\n",
       "\n",
       "    fig.buttons = {};\n",
       "    var buttonGroup = document.createElement('div');\n",
       "    buttonGroup.classList = 'btn-group';\n",
       "    var button;\n",
       "    for (var toolbar_ind in mpl.toolbar_items) {\n",
       "        var name = mpl.toolbar_items[toolbar_ind][0];\n",
       "        var tooltip = mpl.toolbar_items[toolbar_ind][1];\n",
       "        var image = mpl.toolbar_items[toolbar_ind][2];\n",
       "        var method_name = mpl.toolbar_items[toolbar_ind][3];\n",
       "\n",
       "        if (!name) {\n",
       "            /* Instead of a spacer, we start a new button group. */\n",
       "            if (buttonGroup.hasChildNodes()) {\n",
       "                toolbar.appendChild(buttonGroup);\n",
       "            }\n",
       "            buttonGroup = document.createElement('div');\n",
       "            buttonGroup.classList = 'btn-group';\n",
       "            continue;\n",
       "        }\n",
       "\n",
       "        button = fig.buttons[name] = document.createElement('button');\n",
       "        button.classList = 'btn btn-default';\n",
       "        button.href = '#';\n",
       "        button.title = name;\n",
       "        button.innerHTML = '<i class=\"fa ' + image + ' fa-lg\"></i>';\n",
       "        button.addEventListener('click', on_click_closure(method_name));\n",
       "        button.addEventListener('mouseover', on_mouseover_closure(tooltip));\n",
       "        buttonGroup.appendChild(button);\n",
       "    }\n",
       "\n",
       "    if (buttonGroup.hasChildNodes()) {\n",
       "        toolbar.appendChild(buttonGroup);\n",
       "    }\n",
       "\n",
       "    // Add the status bar.\n",
       "    var status_bar = document.createElement('span');\n",
       "    status_bar.classList = 'mpl-message pull-right';\n",
       "    toolbar.appendChild(status_bar);\n",
       "    this.message = status_bar;\n",
       "\n",
       "    // Add the close button to the window.\n",
       "    var buttongrp = document.createElement('div');\n",
       "    buttongrp.classList = 'btn-group inline pull-right';\n",
       "    button = document.createElement('button');\n",
       "    button.classList = 'btn btn-mini btn-primary';\n",
       "    button.href = '#';\n",
       "    button.title = 'Stop Interaction';\n",
       "    button.innerHTML = '<i class=\"fa fa-power-off icon-remove icon-large\"></i>';\n",
       "    button.addEventListener('click', function (_evt) {\n",
       "        fig.handle_close(fig, {});\n",
       "    });\n",
       "    button.addEventListener(\n",
       "        'mouseover',\n",
       "        on_mouseover_closure('Stop Interaction')\n",
       "    );\n",
       "    buttongrp.appendChild(button);\n",
       "    var titlebar = this.root.querySelector('.ui-dialog-titlebar');\n",
       "    titlebar.insertBefore(buttongrp, titlebar.firstChild);\n",
       "};\n",
       "\n",
       "mpl.figure.prototype._remove_fig_handler = function (event) {\n",
       "    var fig = event.data.fig;\n",
       "    if (event.target !== this) {\n",
       "        // Ignore bubbled events from children.\n",
       "        return;\n",
       "    }\n",
       "    fig.close_ws(fig, {});\n",
       "};\n",
       "\n",
       "mpl.figure.prototype._root_extra_style = function (el) {\n",
       "    el.style.boxSizing = 'content-box'; // override notebook setting of border-box.\n",
       "};\n",
       "\n",
       "mpl.figure.prototype._canvas_extra_style = function (el) {\n",
       "    // this is important to make the div 'focusable\n",
       "    el.setAttribute('tabindex', 0);\n",
       "    // reach out to IPython and tell the keyboard manager to turn it's self\n",
       "    // off when our div gets focus\n",
       "\n",
       "    // location in version 3\n",
       "    if (IPython.notebook.keyboard_manager) {\n",
       "        IPython.notebook.keyboard_manager.register_events(el);\n",
       "    } else {\n",
       "        // location in version 2\n",
       "        IPython.keyboard_manager.register_events(el);\n",
       "    }\n",
       "};\n",
       "\n",
       "mpl.figure.prototype._key_event_extra = function (event, _name) {\n",
       "    // Check for shift+enter\n",
       "    if (event.shiftKey && event.which === 13) {\n",
       "        this.canvas_div.blur();\n",
       "        // select the cell after this one\n",
       "        var index = IPython.notebook.find_cell_index(this.cell_info[0]);\n",
       "        IPython.notebook.select(index + 1);\n",
       "    }\n",
       "};\n",
       "\n",
       "mpl.figure.prototype.handle_save = function (fig, _msg) {\n",
       "    fig.ondownload(fig, null);\n",
       "};\n",
       "\n",
       "mpl.find_output_cell = function (html_output) {\n",
       "    // Return the cell and output element which can be found *uniquely* in the notebook.\n",
       "    // Note - this is a bit hacky, but it is done because the \"notebook_saving.Notebook\"\n",
       "    // IPython event is triggered only after the cells have been serialised, which for\n",
       "    // our purposes (turning an active figure into a static one), is too late.\n",
       "    var cells = IPython.notebook.get_cells();\n",
       "    var ncells = cells.length;\n",
       "    for (var i = 0; i < ncells; i++) {\n",
       "        var cell = cells[i];\n",
       "        if (cell.cell_type === 'code') {\n",
       "            for (var j = 0; j < cell.output_area.outputs.length; j++) {\n",
       "                var data = cell.output_area.outputs[j];\n",
       "                if (data.data) {\n",
       "                    // IPython >= 3 moved mimebundle to data attribute of output\n",
       "                    data = data.data;\n",
       "                }\n",
       "                if (data['text/html'] === html_output) {\n",
       "                    return [cell, data, j];\n",
       "                }\n",
       "            }\n",
       "        }\n",
       "    }\n",
       "};\n",
       "\n",
       "// Register the function which deals with the matplotlib target/channel.\n",
       "// The kernel may be null if the page has been refreshed.\n",
       "if (IPython.notebook.kernel !== null) {\n",
       "    IPython.notebook.kernel.comm_manager.register_target(\n",
       "        'matplotlib',\n",
       "        mpl.mpl_figure_comm\n",
       "    );\n",
       "}\n"
      ],
      "text/plain": [
       "<IPython.core.display.Javascript object>"
      ]
     },
     "metadata": {},
     "output_type": "display_data"
    },
    {
     "data": {
      "text/html": [
       "<div id='aa15da42-0ee6-4c6d-a9da-1bd91cfa56c5'></div>"
      ],
      "text/plain": [
       "<IPython.core.display.HTML object>"
      ]
     },
     "metadata": {},
     "output_type": "display_data"
    },
    {
     "data": {
      "text/plain": [
       "[<matplotlib.lines.Line2D at 0x7f01119e1310>]"
      ]
     },
     "execution_count": 5,
     "metadata": {},
     "output_type": "execute_result"
    }
   ],
   "source": [
    "%matplotlib notebook\n",
    "import numpy as np\n",
    "import matplotlib.pyplot as plt\n",
    "import math\n",
    "x = np.arange(0, math.pi*4, 0.1)\n",
    "y = np.cos(x)\n",
    "plt.xlabel(\"Angle in radians\")\n",
    "plt.ylabel(\"Cosine\")\n",
    "plt.title('Cosine graph')\n",
    "plt.grid(True, which='both')\n",
    "plt.plot(x,y)"
   ]
  },
  {
   "cell_type": "markdown",
   "id": "1c1db65b",
   "metadata": {
    "papermill": {
     "duration": 0.010952,
     "end_time": "2022-10-13T00:56:55.347263",
     "exception": false,
     "start_time": "2022-10-13T00:56:55.336311",
     "status": "completed"
    },
    "tags": []
   },
   "source": [
    "# 9. Use CSS styling inside HTML <a class='anchor' id='css'></a> [↑](#top)\n",
    "\n",
    "Every markdown supports HTML and thus you can customize your cells using CSS. Look around my `style` inside the next markdown to get a reference. You can research a little more about HTML and CSS to improve your markdowns."
   ]
  },
  {
   "cell_type": "markdown",
   "id": "66b97749",
   "metadata": {
    "papermill": {
     "duration": 0.010617,
     "end_time": "2022-10-13T00:56:55.368945",
     "exception": false,
     "start_time": "2022-10-13T00:56:55.358328",
     "status": "completed"
    },
    "tags": []
   },
   "source": [
    "<div style=\"padding:20px; \n",
    "            color:#36FF00;\n",
    "            margin:10px;\n",
    "            font-size:110%;\n",
    "            display:fill;\n",
    "            border-radius:10px;\n",
    "            border-style: solid;\n",
    "            border-color: #36FF00;\n",
    "            background-color:#000000;\n",
    "            overflow:hidden;\n",
    "            font-weight:500\">This cell looks like it's taken from that movie the Matrix!</div>"
   ]
  },
  {
   "cell_type": "markdown",
   "id": "80d9b3c3",
   "metadata": {
    "papermill": {
     "duration": 0.010586,
     "end_time": "2022-10-13T00:56:55.390555",
     "exception": false,
     "start_time": "2022-10-13T00:56:55.379969",
     "status": "completed"
    },
    "tags": []
   },
   "source": [
    "# 10. Place images strategically <a class='anchor' id='strategy'></a> [↑](#top)"
   ]
  },
  {
   "cell_type": "markdown",
   "id": "3d190150",
   "metadata": {
    "papermill": {
     "duration": 0.010504,
     "end_time": "2022-10-13T00:56:55.411883",
     "exception": false,
     "start_time": "2022-10-13T00:56:55.401379",
     "status": "completed"
    },
    "tags": []
   },
   "source": [
    "<p><img style=\"float:right; margin:20px; padding:20px; max-height:250px\" src=\"https://loremipsum.io/assets/images/lorem-ipsum-generator-cicero-engraving.png\"></p>\n",
    "<p style=\"text-align:justify;\">\n",
    "You can increase the notebook's aesthetics by placing images on the side of the cell: <br>\n",
    "    \n",
    "\"Sed ut perspiciatis unde omnis iste natus error sit voluptatem accusantium doloremque laudantium, totam rem aperiam, eaque ipsa quae ab illo inventore veritatis et quasi architecto beatae vitae dicta sunt explicabo. Nemo enim ipsam voluptatem quia voluptas sit aspernatur aut odit aut fugit, sed quia consequuntur magni dolores eos qui ratione voluptatem sequi nesciunt. Neque porro quisquam est, qui dolorem ipsum quia dolor sit amet, consectetur, adipisci velit, sed quia non numquam eius modi tempora incidunt ut labore et dolore magnam aliquam quaerat voluptatem. Ut enim ad minima veniam, quis nostrum exercitationem ullam corporis suscipit laboriosam, nisi ut aliquid ex ea commodi consequatur? Quis autem vel eum iure reprehenderit qui in ea voluptate velit esse quam nihil molestiae consequatur, vel illum qui dolorem eum fugiat quo voluptas nulla pariatur?\"\n",
    "</p>"
   ]
  },
  {
   "cell_type": "markdown",
   "id": "1db5f876",
   "metadata": {
    "papermill": {
     "duration": 0.01057,
     "end_time": "2022-10-13T00:56:55.433450",
     "exception": false,
     "start_time": "2022-10-13T00:56:55.422880",
     "status": "completed"
    },
    "tags": []
   },
   "source": [
    "# 11. Embed links to your references <a class='anchor' id='links'></a> [↑](#top)\n",
    "\n",
    "Whenever you need to make a reference you can embed a hyperlink inside your notebook cells like [this one](https://www.youtube.com/watch?v=dQw4w9WgXcQ):\n",
    "```\n",
    "[your link](www.link_to_your_website.com)\n",
    "```"
   ]
  },
  {
   "cell_type": "markdown",
   "id": "f4238f72",
   "metadata": {
    "papermill": {
     "duration": 0.010772,
     "end_time": "2022-10-13T00:56:55.455615",
     "exception": false,
     "start_time": "2022-10-13T00:56:55.444843",
     "status": "completed"
    },
    "tags": []
   },
   "source": [
    "# 12. Insert Youtube videos in your notebook <a class='anchor' id='youtube'></a> [↑](#top)\n",
    "\n",
    "You can even embed Youtube videos inside your Jupyter notebook. Just grab the unique identifier of the video. It is the series of letters and numbers next to `v=`:\n",
    "```\n",
    "https://www.youtube.com/watch?v=jNQXAC9IVRw\n",
    "```"
   ]
  },
  {
   "cell_type": "code",
   "execution_count": 6,
   "id": "60c9e00b",
   "metadata": {
    "execution": {
     "iopub.execute_input": "2022-10-13T00:56:55.479937Z",
     "iopub.status.busy": "2022-10-13T00:56:55.479530Z",
     "iopub.status.idle": "2022-10-13T00:56:55.523866Z",
     "shell.execute_reply": "2022-10-13T00:56:55.522791Z"
    },
    "papermill": {
     "duration": 0.059389,
     "end_time": "2022-10-13T00:56:55.525993",
     "exception": false,
     "start_time": "2022-10-13T00:56:55.466604",
     "status": "completed"
    },
    "tags": []
   },
   "outputs": [
    {
     "data": {
      "image/jpeg": "[encoded data removed]",
      "text/html": [
       "\n",
       "        <iframe\n",
       "            width=\"800\"\n",
       "            height=\"300\"\n",
       "            src=\"https://www.youtube.com/embed/jNQXAC9IVRw\"\n",
       "            frameborder=\"0\"\n",
       "            allowfullscreen\n",
       "            \n",
       "        ></iframe>\n",
       "        "
      ],
      "text/plain": [
       "<IPython.lib.display.YouTubeVideo at 0x7f0135647510>"
      ]
     },
     "execution_count": 6,
     "metadata": {},
     "output_type": "execute_result"
    }
   ],
   "source": [
    "from IPython.display import YouTubeVideo\n",
    "\n",
    "YouTubeVideo('jNQXAC9IVRw', width=800, height=300)"
   ]
  },
  {
   "cell_type": "markdown",
   "id": "adfed4ee",
   "metadata": {
    "papermill": {
     "duration": 0.010941,
     "end_time": "2022-10-13T00:56:55.548513",
     "exception": false,
     "start_time": "2022-10-13T00:56:55.537572",
     "status": "completed"
    },
    "tags": []
   },
   "source": [
    "# 13. Share blocks of code in your markdowns <a class='anchor' id='code'></a> [↑](#top)\n",
    "\n",
    "You can share blocks of code in the markdowns by using the backticks. Also, add the keyword `python` to print it in color."
   ]
  },
  {
   "cell_type": "markdown",
   "id": "75eb57d4",
   "metadata": {
    "papermill": {
     "duration": 0.010928,
     "end_time": "2022-10-13T00:56:55.570686",
     "exception": false,
     "start_time": "2022-10-13T00:56:55.559758",
     "status": "completed"
    },
    "tags": []
   },
   "source": [
    "```python\n",
    "def my_function(x):\n",
    "    square = x*x\n",
    "    print(f\"x squared is: {square}\")\n",
    "    return square\n",
    "```"
   ]
  },
  {
   "cell_type": "markdown",
   "id": "38fd3d28",
   "metadata": {
    "papermill": {
     "duration": 0.010746,
     "end_time": "2022-10-13T00:56:55.592634",
     "exception": false,
     "start_time": "2022-10-13T00:56:55.581888",
     "status": "completed"
    },
    "tags": []
   },
   "source": [
    "# 14. Embed gifs in your notebook <a class='anchor' id='gifs'></a> [↑](#top)\n",
    "\n",
    "Gifs work just like images. Paste that gif url inside the `<image>` tag to display it! "
   ]
  },
  {
   "cell_type": "markdown",
   "id": "ff6050ad",
   "metadata": {
    "papermill": {
     "duration": 0.010719,
     "end_time": "2022-10-13T00:56:55.614525",
     "exception": false,
     "start_time": "2022-10-13T00:56:55.603806",
     "status": "completed"
    },
    "tags": []
   },
   "source": [
    "<center>\n",
    "<img src=\"https://media0.giphy.com/media/xTk9ZE94CfWTe2fzMI/giphy.gif?cid=790b761178cfaf4c9228f8bf08ef264f23e0d4cc35224f35&rid=giphy.gif&ct=g\" width=300>\n",
    "</center>"
   ]
  },
  {
   "cell_type": "markdown",
   "id": "33b5ce1e",
   "metadata": {
    "papermill": {
     "duration": 0.010979,
     "end_time": "2022-10-13T00:56:55.636605",
     "exception": false,
     "start_time": "2022-10-13T00:56:55.625626",
     "status": "completed"
    },
    "tags": []
   },
   "source": [
    "# 15. Use Jupyter themes (commmented) <a class='anchor' id='themes'></a> [↑](#top)\n",
    "\n",
    "The library `jupyterthemes` can make your notebook thematic. Some themes offered are: `onedork`,`grade3`,`oceans16`,`chesterish`,`monokai`,`solarizedl`,`solarizedd`.\n",
    "\n",
    "Uncomment to run:"
   ]
  },
  {
   "cell_type": "code",
   "execution_count": 7,
   "id": "31f109a2",
   "metadata": {
    "_kg_hide-output": true,
    "execution": {
     "iopub.execute_input": "2022-10-13T00:56:55.661344Z",
     "iopub.status.busy": "2022-10-13T00:56:55.660212Z",
     "iopub.status.idle": "2022-10-13T00:56:55.665893Z",
     "shell.execute_reply": "2022-10-13T00:56:55.665114Z"
    },
    "papermill": {
     "duration": 0.020171,
     "end_time": "2022-10-13T00:56:55.667965",
     "exception": false,
     "start_time": "2022-10-13T00:56:55.647794",
     "status": "completed"
    },
    "scrolled": true,
    "tags": []
   },
   "outputs": [],
   "source": [
    "# !pip install jupyterthemes\n",
    "# from jupyterthemes import get_themes\n",
    "# import jupyterthemes as jt\n",
    "# from jupyterthemes.stylefx import set_nb_theme\n",
    "# set_nb_theme('monokai')"
   ]
  },
  {
   "cell_type": "markdown",
   "id": "bb7aded3",
   "metadata": {
    "papermill": {
     "duration": 0.010941,
     "end_time": "2022-10-13T00:56:55.690359",
     "exception": false,
     "start_time": "2022-10-13T00:56:55.679418",
     "status": "completed"
    },
    "tags": []
   },
   "source": [
    "### Reset theme:"
   ]
  },
  {
   "cell_type": "code",
   "execution_count": 8,
   "id": "d845f170",
   "metadata": {
    "execution": {
     "iopub.execute_input": "2022-10-13T00:56:55.715256Z",
     "iopub.status.busy": "2022-10-13T00:56:55.714626Z",
     "iopub.status.idle": "2022-10-13T00:56:55.719861Z",
     "shell.execute_reply": "2022-10-13T00:56:55.718889Z"
    },
    "papermill": {
     "duration": 0.020254,
     "end_time": "2022-10-13T00:56:55.722028",
     "exception": false,
     "start_time": "2022-10-13T00:56:55.701774",
     "status": "completed"
    },
    "tags": []
   },
   "outputs": [],
   "source": [
    "# !pip install jupyterthemes\n",
    "# from jupyterthemes import get_themes\n",
    "# import jupyterthemes as jt\n",
    "# from jupyterthemes.stylefx import set_nb_theme\n",
    "# # You can reset it running:\n",
    "# !jt -r"
   ]
  },
  {
   "cell_type": "markdown",
   "id": "a60ca590",
   "metadata": {
    "papermill": {
     "duration": 0.010978,
     "end_time": "2022-10-13T00:56:55.744429",
     "exception": false,
     "start_time": "2022-10-13T00:56:55.733451",
     "status": "completed"
    },
    "tags": []
   },
   "source": [
    "# 16. Use emojis <a class='anchor' id='emojis'></a> [↑](#top)\n",
    "\n",
    "Emojis are fun to use. Some Kagglers use them to decorate different sections of the notebook, like:\n",
    "- Importing libraries 📚\n",
    "- Load data 💾 \n",
    "- Setting configurations ⚙️\n",
    "- Pre-processing ⚒️\n",
    "- Data visualization 📊\n",
    "- Training a model 🚂\n",
    "- And more!"
   ]
  },
  {
   "cell_type": "markdown",
   "id": "5d41d696",
   "metadata": {
    "papermill": {
     "duration": 0.011658,
     "end_time": "2022-10-13T00:56:55.767502",
     "exception": false,
     "start_time": "2022-10-13T00:56:55.755844",
     "status": "completed"
    },
    "tags": []
   },
   "source": [
    "# Have any suggestions? \n",
    "# Please leave your thoughts and ideas in the comments!"
   ]
  }
 ],
 "metadata": {
  "kernelspec": {
   "display_name": "Python 3",
   "language": "python",
   "name": "python3"
  },
  "language_info": {
   "codemirror_mode": {
    "name": "ipython",
    "version": 3
   },
   "file_extension": ".py",
   "mimetype": "text/x-python",
   "name": "python",
   "nbconvert_exporter": "python",
   "pygments_lexer": "ipython3",
   "version": "3.7.12"
  },
  "papermill": {
   "default_parameters": {},
   "duration": 13.411865,
   "end_time": "2022-10-13T00:56:56.601481",
   "environment_variables": {},
   "exception": null,
   "input_path": "__notebook__.ipynb",
   "output_path": "__notebook__.ipynb",
   "parameters": {},
   "start_time": "2022-10-13T00:56:43.189616",
   "version": "2.3.4"
  }
 },
 "nbformat": 4,
 "nbformat_minor": 5
}
